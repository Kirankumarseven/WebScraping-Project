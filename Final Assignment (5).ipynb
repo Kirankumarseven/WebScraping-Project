{
 "cells": [
  {
   "cell_type": "markdown",
   "metadata": {},
   "source": [
    "<p style=\"text-align:center\">\n",
    "    <a href=\"https://skills.network/?utm_medium=Exinfluencer&utm_source=Exinfluencer&utm_content=000026UJ&utm_term=10006555&utm_id=NA-SkillsNetwork-Channel-SkillsNetworkCoursesIBMDeveloperSkillsNetworkPY0220ENSkillsNetwork900-2022-01-01\" target=\"_blank\">\n",
    "    <img src=\"https://cf-courses-data.s3.us.cloud-object-storage.appdomain.cloud/assets/logos/SN_web_lightmode.png\" width=\"200\" alt=\"Skills Network Logo\">\n",
    "    </a>\n",
    "</p>\n"
   ]
  },
  {
   "cell_type": "markdown",
   "metadata": {},
   "source": [
    "<h1>Extracting and Visualizing Stock Data</h1>\n",
    "<h2>Description</h2>\n"
   ]
  },
  {
   "cell_type": "markdown",
   "metadata": {},
   "source": [
    "Extracting essential data from a dataset and displaying it is a necessary part of data science; therefore individuals can make correct decisions based on the data. In this assignment, you will extract some stock data, you will then display this data in a graph.\n"
   ]
  },
  {
   "cell_type": "markdown",
   "metadata": {},
   "source": [
    "<h2>Table of Contents</h2>\n",
    "<div class=\"alert alert-block alert-info\" style=\"margin-top: 20px\">\n",
    "    <ul>\n",
    "        <li>Define a Function that Makes a Graph</li>\n",
    "        <li>Question 1: Use yfinance to Extract Stock Data</li>\n",
    "        <li>Question 2: Use Webscraping to Extract Tesla Revenue Data</li>\n",
    "        <li>Question 3: Use yfinance to Extract Stock Data</li>\n",
    "        <li>Question 4: Use Webscraping to Extract GME Revenue Data</li>\n",
    "        <li>Question 5: Plot Tesla Stock Graph</li>\n",
    "        <li>Question 6: Plot GameStop Stock Graph</li>\n",
    "    </ul>\n",
    "<p>\n",
    "    Estimated Time Needed: <strong>30 min</strong></p>\n",
    "</div>\n",
    "\n",
    "<hr>\n"
   ]
  },
  {
   "cell_type": "markdown",
   "metadata": {},
   "source": [
    "***Note***:- If you are working Locally using anaconda, please uncomment the following code and execute it.\n",
    "Use the version as per your python version.\n"
   ]
  },
  {
   "cell_type": "code",
   "execution_count": 2,
   "metadata": {},
   "outputs": [
    {
     "name": "stdout",
     "output_type": "stream",
     "text": [
      "Collecting yfinance\n",
      "  Downloading yfinance-0.2.50-py2.py3-none-any.whl.metadata (5.5 kB)\n",
      "Collecting pandas>=1.3.0 (from yfinance)\n",
      "  Downloading pandas-2.2.3-cp311-cp311-manylinux_2_17_x86_64.manylinux2014_x86_64.whl.metadata (89 kB)\n",
      "\u001b[2K     \u001b[90m━━━━━━━━━━━━━━━━━━━━━━━━━━━━━━━━━━━━━━━━\u001b[0m \u001b[32m89.9/89.9 kB\u001b[0m \u001b[31m9.4 MB/s\u001b[0m eta \u001b[36m0:00:00\u001b[0m\n",
      "\u001b[?25hCollecting numpy>=1.16.5 (from yfinance)\n",
      "  Downloading numpy-2.1.3-cp311-cp311-manylinux_2_17_x86_64.manylinux2014_x86_64.whl.metadata (62 kB)\n",
      "\u001b[2K     \u001b[90m━━━━━━━━━━━━━━━━━━━━━━━━━━━━━━━━━━━━━━━━\u001b[0m \u001b[32m62.0/62.0 kB\u001b[0m \u001b[31m8.6 MB/s\u001b[0m eta \u001b[36m0:00:00\u001b[0m\n",
      "\u001b[?25hRequirement already satisfied: requests>=2.31 in /opt/conda/lib/python3.11/site-packages (from yfinance) (2.31.0)\n",
      "Collecting multitasking>=0.0.7 (from yfinance)\n",
      "  Downloading multitasking-0.0.11-py3-none-any.whl.metadata (5.5 kB)\n",
      "Collecting lxml>=4.9.1 (from yfinance)\n",
      "  Downloading lxml-5.3.0-cp311-cp311-manylinux_2_28_x86_64.whl.metadata (3.8 kB)\n",
      "Requirement already satisfied: platformdirs>=2.0.0 in /opt/conda/lib/python3.11/site-packages (from yfinance) (4.2.1)\n",
      "Requirement already satisfied: pytz>=2022.5 in /opt/conda/lib/python3.11/site-packages (from yfinance) (2024.1)\n",
      "Collecting frozendict>=2.3.4 (from yfinance)\n",
      "  Downloading frozendict-2.4.6-py311-none-any.whl.metadata (23 kB)\n",
      "Collecting peewee>=3.16.2 (from yfinance)\n",
      "  Downloading peewee-3.17.8.tar.gz (948 kB)\n",
      "\u001b[2K     \u001b[90m━━━━━━━━━━━━━━━━━━━━━━━━━━━━━━━━━━━━━━\u001b[0m \u001b[32m948.2/948.2 kB\u001b[0m \u001b[31m63.6 MB/s\u001b[0m eta \u001b[36m0:00:00\u001b[0m\n",
      "\u001b[?25h  Installing build dependencies ... \u001b[?25ldone\n",
      "\u001b[?25h  Getting requirements to build wheel ... \u001b[?25ldone\n",
      "\u001b[?25h  Preparing metadata (pyproject.toml) ... \u001b[?25ldone\n",
      "\u001b[?25hRequirement already satisfied: beautifulsoup4>=4.11.1 in /opt/conda/lib/python3.11/site-packages (from yfinance) (4.12.3)\n",
      "Collecting html5lib>=1.1 (from yfinance)\n",
      "  Downloading html5lib-1.1-py2.py3-none-any.whl.metadata (16 kB)\n",
      "Requirement already satisfied: soupsieve>1.2 in /opt/conda/lib/python3.11/site-packages (from beautifulsoup4>=4.11.1->yfinance) (2.5)\n",
      "Requirement already satisfied: six>=1.9 in /opt/conda/lib/python3.11/site-packages (from html5lib>=1.1->yfinance) (1.16.0)\n",
      "Requirement already satisfied: webencodings in /opt/conda/lib/python3.11/site-packages (from html5lib>=1.1->yfinance) (0.5.1)\n",
      "Requirement already satisfied: python-dateutil>=2.8.2 in /opt/conda/lib/python3.11/site-packages (from pandas>=1.3.0->yfinance) (2.9.0)\n",
      "Collecting tzdata>=2022.7 (from pandas>=1.3.0->yfinance)\n",
      "  Downloading tzdata-2024.2-py2.py3-none-any.whl.metadata (1.4 kB)\n",
      "Requirement already satisfied: charset-normalizer<4,>=2 in /opt/conda/lib/python3.11/site-packages (from requests>=2.31->yfinance) (3.3.2)\n",
      "Requirement already satisfied: idna<4,>=2.5 in /opt/conda/lib/python3.11/site-packages (from requests>=2.31->yfinance) (3.7)\n",
      "Requirement already satisfied: urllib3<3,>=1.21.1 in /opt/conda/lib/python3.11/site-packages (from requests>=2.31->yfinance) (2.2.1)\n",
      "Requirement already satisfied: certifi>=2017.4.17 in /opt/conda/lib/python3.11/site-packages (from requests>=2.31->yfinance) (2024.8.30)\n",
      "Downloading yfinance-0.2.50-py2.py3-none-any.whl (102 kB)\n",
      "\u001b[2K   \u001b[90m━━━━━━━━━━━━━━━━━━━━━━━━━━━━━━━━━━━━━━━━\u001b[0m \u001b[32m102.2/102.2 kB\u001b[0m \u001b[31m16.2 MB/s\u001b[0m eta \u001b[36m0:00:00\u001b[0m\n",
      "\u001b[?25hDownloading frozendict-2.4.6-py311-none-any.whl (16 kB)\n",
      "Downloading html5lib-1.1-py2.py3-none-any.whl (112 kB)\n",
      "\u001b[2K   \u001b[90m━━━━━━━━━━━━━━━━━━━━━━━━━━━━━━━━━━━━━━━━\u001b[0m \u001b[32m112.2/112.2 kB\u001b[0m \u001b[31m18.7 MB/s\u001b[0m eta \u001b[36m0:00:00\u001b[0m\n",
      "\u001b[?25hDownloading lxml-5.3.0-cp311-cp311-manylinux_2_28_x86_64.whl (5.0 MB)\n",
      "\u001b[2K   \u001b[90m━━━━━━━━━━━━━━━━━━━━━━━━━━━━━━━━━━━━━━━━\u001b[0m \u001b[32m5.0/5.0 MB\u001b[0m \u001b[31m83.9 MB/s\u001b[0m eta \u001b[36m0:00:00\u001b[0m:00:01\u001b[0m\n",
      "\u001b[?25hDownloading multitasking-0.0.11-py3-none-any.whl (8.5 kB)\n",
      "Downloading numpy-2.1.3-cp311-cp311-manylinux_2_17_x86_64.manylinux2014_x86_64.whl (16.3 MB)\n",
      "\u001b[2K   \u001b[90m━━━━━━━━━━━━━━━━━━━━━━━━━━━━━━━━━━━━━━━━\u001b[0m \u001b[32m16.3/16.3 MB\u001b[0m \u001b[31m88.8 MB/s\u001b[0m eta \u001b[36m0:00:00\u001b[0m:00:01\u001b[0m00:01\u001b[0m\n",
      "\u001b[?25hDownloading pandas-2.2.3-cp311-cp311-manylinux_2_17_x86_64.manylinux2014_x86_64.whl (13.1 MB)\n",
      "\u001b[2K   \u001b[90m━━━━━━━━━━━━━━━━━━━━━━━━━━━━━━━━━━━━━━━━\u001b[0m \u001b[32m13.1/13.1 MB\u001b[0m \u001b[31m73.4 MB/s\u001b[0m eta \u001b[36m0:00:00\u001b[0m:00:01\u001b[0m0:01\u001b[0m\n",
      "\u001b[?25hDownloading tzdata-2024.2-py2.py3-none-any.whl (346 kB)\n",
      "\u001b[2K   \u001b[90m━━━━━━━━━━━━━━━━━━━━━━━━━━━━━━━━━━━━━━━━\u001b[0m \u001b[32m346.6/346.6 kB\u001b[0m \u001b[31m30.6 MB/s\u001b[0m eta \u001b[36m0:00:00\u001b[0m\n",
      "\u001b[?25hBuilding wheels for collected packages: peewee\n",
      "  Building wheel for peewee (pyproject.toml) ... \u001b[?25ldone\n",
      "\u001b[?25h  Created wheel for peewee: filename=peewee-3.17.8-py3-none-any.whl size=138964 sha256=97dbab07bb01bdb34b7482a4dafbb3ac2d62dd7a7a7714e1008cbf4384c8f4d4\n",
      "  Stored in directory: /home/jupyterlab/.cache/pip/wheels/ff/6c/15/506e25bc390de450a7fa53c155cd9b0fbd13ad3e84a9abc183\n",
      "Successfully built peewee\n",
      "Installing collected packages: peewee, multitasking, tzdata, numpy, lxml, html5lib, frozendict, pandas, yfinance\n",
      "Successfully installed frozendict-2.4.6 html5lib-1.1 lxml-5.3.0 multitasking-0.0.11 numpy-2.1.3 pandas-2.2.3 peewee-3.17.8 tzdata-2024.2 yfinance-0.2.50\n",
      "Collecting bs4\n",
      "  Downloading bs4-0.0.2-py2.py3-none-any.whl.metadata (411 bytes)\n",
      "Requirement already satisfied: beautifulsoup4 in /opt/conda/lib/python3.11/site-packages (from bs4) (4.12.3)\n",
      "Requirement already satisfied: soupsieve>1.2 in /opt/conda/lib/python3.11/site-packages (from beautifulsoup4->bs4) (2.5)\n",
      "Downloading bs4-0.0.2-py2.py3-none-any.whl (1.2 kB)\n",
      "Installing collected packages: bs4\n",
      "Successfully installed bs4-0.0.2\n",
      "Requirement already satisfied: nbformat in /opt/conda/lib/python3.11/site-packages (5.10.4)\n",
      "Requirement already satisfied: fastjsonschema>=2.15 in /opt/conda/lib/python3.11/site-packages (from nbformat) (2.19.1)\n",
      "Requirement already satisfied: jsonschema>=2.6 in /opt/conda/lib/python3.11/site-packages (from nbformat) (4.22.0)\n",
      "Requirement already satisfied: jupyter-core!=5.0.*,>=4.12 in /opt/conda/lib/python3.11/site-packages (from nbformat) (5.7.2)\n",
      "Requirement already satisfied: traitlets>=5.1 in /opt/conda/lib/python3.11/site-packages (from nbformat) (5.14.3)\n",
      "Requirement already satisfied: attrs>=22.2.0 in /opt/conda/lib/python3.11/site-packages (from jsonschema>=2.6->nbformat) (23.2.0)\n",
      "Requirement already satisfied: jsonschema-specifications>=2023.03.6 in /opt/conda/lib/python3.11/site-packages (from jsonschema>=2.6->nbformat) (2023.12.1)\n",
      "Requirement already satisfied: referencing>=0.28.4 in /opt/conda/lib/python3.11/site-packages (from jsonschema>=2.6->nbformat) (0.35.1)\n",
      "Requirement already satisfied: rpds-py>=0.7.1 in /opt/conda/lib/python3.11/site-packages (from jsonschema>=2.6->nbformat) (0.18.0)\n",
      "Requirement already satisfied: platformdirs>=2.5 in /opt/conda/lib/python3.11/site-packages (from jupyter-core!=5.0.*,>=4.12->nbformat) (4.2.1)\n"
     ]
    }
   ],
   "source": [
    "!pip install yfinance\n",
    "!pip install bs4\n",
    "!pip install nbformat"
   ]
  },
  {
   "cell_type": "code",
   "execution_count": 3,
   "metadata": {},
   "outputs": [],
   "source": [
    "import yfinance as yf\n",
    "import pandas as pd\n",
    "import requests\n",
    "from bs4 import BeautifulSoup\n",
    "import plotly.graph_objects as go\n",
    "from plotly.subplots import make_subplots"
   ]
  },
  {
   "cell_type": "markdown",
   "metadata": {},
   "source": [
    "In Python, you can ignore warnings using the warnings module. You can use the filterwarnings function to filter or ignore specific warning messages or categories.\n"
   ]
  },
  {
   "cell_type": "code",
   "execution_count": 4,
   "metadata": {},
   "outputs": [],
   "source": [
    "import warnings\n",
    "# Ignore all warnings\n",
    "warnings.filterwarnings(\"ignore\", category=FutureWarning)"
   ]
  },
  {
   "cell_type": "markdown",
   "metadata": {},
   "source": [
    "## Define Graphing Function\n"
   ]
  },
  {
   "cell_type": "markdown",
   "metadata": {},
   "source": [
    "In this section, we define the function `make_graph`. **You don't have to know how the function works, you should only care about the inputs. It takes a dataframe with stock data (dataframe must contain Date and Close columns), a dataframe with revenue data (dataframe must contain Date and Revenue columns), and the name of the stock.**\n"
   ]
  },
  {
   "cell_type": "code",
   "execution_count": 5,
   "metadata": {},
   "outputs": [],
   "source": [
    "def make_graph(stock_data, revenue_data, stock):\n",
    "    fig = make_subplots(rows=2, cols=1, shared_xaxes=True, subplot_titles=(\"Historical Share Price\", \"Historical Revenue\"), vertical_spacing = .3)\n",
    "    stock_data_specific = stock_data[stock_data.Date <= '2021-06-14']\n",
    "    revenue_data_specific = revenue_data[revenue_data.Date <= '2021-04-30']\n",
    "    fig.add_trace(go.Scatter(x=pd.to_datetime(stock_data_specific.Date, infer_datetime_format=True), y=stock_data_specific.Close.astype(\"float\"), name=\"Share Price\"), row=1, col=1)\n",
    "    fig.add_trace(go.Scatter(x=pd.to_datetime(revenue_data_specific.Date, infer_datetime_format=True), y=revenue_data_specific.Revenue.astype(\"float\"), name=\"Revenue\"), row=2, col=1)\n",
    "    fig.update_xaxes(title_text=\"Date\", row=1, col=1)\n",
    "    fig.update_xaxes(title_text=\"Date\", row=2, col=1)\n",
    "    fig.update_yaxes(title_text=\"Price ($US)\", row=1, col=1)\n",
    "    fig.update_yaxes(title_text=\"Revenue ($US Millions)\", row=2, col=1)\n",
    "    fig.update_layout(showlegend=False,\n",
    "    height=900,\n",
    "    title=stock,\n",
    "    xaxis_rangeslider_visible=True)\n",
    "    fig.show()"
   ]
  },
  {
   "cell_type": "markdown",
   "metadata": {},
   "source": [
    "Use the make_graph function that we’ve already defined. You’ll need to invoke it in questions 5 and 6 to display the graphs and create the dashboard. \n",
    "> **Note: You don’t need to redefine the function for plotting graphs anywhere else in this notebook; just use the existing function.**\n"
   ]
  },
  {
   "cell_type": "markdown",
   "metadata": {},
   "source": [
    "## Question 1: Use yfinance to Extract Stock Data\n"
   ]
  },
  {
   "cell_type": "markdown",
   "metadata": {},
   "source": [
    "Using the `Ticker` function enter the ticker symbol of the stock we want to extract data on to create a ticker object. The stock is Tesla and its ticker symbol is `TSLA`.\n"
   ]
  },
  {
   "cell_type": "code",
   "execution_count": 11,
   "metadata": {},
   "outputs": [],
   "source": [
    "import yfinance as yf\n",
    "tesla_data = yf.Ticker(\"TSLA\")\n"
   ]
  },
  {
   "cell_type": "markdown",
   "metadata": {},
   "source": [
    "Using the ticker object and the function `history` extract stock information and save it in a dataframe named `tesla_data`. Set the `period` parameter to ` \"max\" ` so we get information for the maximum amount of time.\n"
   ]
  },
  {
   "cell_type": "code",
   "execution_count": 12,
   "metadata": {},
   "outputs": [
    {
     "data": {
      "text/html": [
       "<div>\n",
       "<style scoped>\n",
       "    .dataframe tbody tr th:only-of-type {\n",
       "        vertical-align: middle;\n",
       "    }\n",
       "\n",
       "    .dataframe tbody tr th {\n",
       "        vertical-align: top;\n",
       "    }\n",
       "\n",
       "    .dataframe thead th {\n",
       "        text-align: right;\n",
       "    }\n",
       "</style>\n",
       "<table border=\"1\" class=\"dataframe\">\n",
       "  <thead>\n",
       "    <tr style=\"text-align: right;\">\n",
       "      <th></th>\n",
       "      <th>Open</th>\n",
       "      <th>High</th>\n",
       "      <th>Low</th>\n",
       "      <th>Close</th>\n",
       "      <th>Volume</th>\n",
       "      <th>Dividends</th>\n",
       "      <th>Stock Splits</th>\n",
       "    </tr>\n",
       "    <tr>\n",
       "      <th>Date</th>\n",
       "      <th></th>\n",
       "      <th></th>\n",
       "      <th></th>\n",
       "      <th></th>\n",
       "      <th></th>\n",
       "      <th></th>\n",
       "      <th></th>\n",
       "    </tr>\n",
       "  </thead>\n",
       "  <tbody>\n",
       "    <tr>\n",
       "      <th>2010-06-29 00:00:00-04:00</th>\n",
       "      <td>1.266667</td>\n",
       "      <td>1.666667</td>\n",
       "      <td>1.169333</td>\n",
       "      <td>1.592667</td>\n",
       "      <td>281494500</td>\n",
       "      <td>0.0</td>\n",
       "      <td>0.0</td>\n",
       "    </tr>\n",
       "    <tr>\n",
       "      <th>2010-06-30 00:00:00-04:00</th>\n",
       "      <td>1.719333</td>\n",
       "      <td>2.028000</td>\n",
       "      <td>1.553333</td>\n",
       "      <td>1.588667</td>\n",
       "      <td>257806500</td>\n",
       "      <td>0.0</td>\n",
       "      <td>0.0</td>\n",
       "    </tr>\n",
       "    <tr>\n",
       "      <th>2010-07-01 00:00:00-04:00</th>\n",
       "      <td>1.666667</td>\n",
       "      <td>1.728000</td>\n",
       "      <td>1.351333</td>\n",
       "      <td>1.464000</td>\n",
       "      <td>123282000</td>\n",
       "      <td>0.0</td>\n",
       "      <td>0.0</td>\n",
       "    </tr>\n",
       "    <tr>\n",
       "      <th>2010-07-02 00:00:00-04:00</th>\n",
       "      <td>1.533333</td>\n",
       "      <td>1.540000</td>\n",
       "      <td>1.247333</td>\n",
       "      <td>1.280000</td>\n",
       "      <td>77097000</td>\n",
       "      <td>0.0</td>\n",
       "      <td>0.0</td>\n",
       "    </tr>\n",
       "    <tr>\n",
       "      <th>2010-07-06 00:00:00-04:00</th>\n",
       "      <td>1.333333</td>\n",
       "      <td>1.333333</td>\n",
       "      <td>1.055333</td>\n",
       "      <td>1.074000</td>\n",
       "      <td>103003500</td>\n",
       "      <td>0.0</td>\n",
       "      <td>0.0</td>\n",
       "    </tr>\n",
       "  </tbody>\n",
       "</table>\n",
       "</div>"
      ],
      "text/plain": [
       "                               Open      High       Low     Close     Volume  \\\n",
       "Date                                                                           \n",
       "2010-06-29 00:00:00-04:00  1.266667  1.666667  1.169333  1.592667  281494500   \n",
       "2010-06-30 00:00:00-04:00  1.719333  2.028000  1.553333  1.588667  257806500   \n",
       "2010-07-01 00:00:00-04:00  1.666667  1.728000  1.351333  1.464000  123282000   \n",
       "2010-07-02 00:00:00-04:00  1.533333  1.540000  1.247333  1.280000   77097000   \n",
       "2010-07-06 00:00:00-04:00  1.333333  1.333333  1.055333  1.074000  103003500   \n",
       "\n",
       "                           Dividends  Stock Splits  \n",
       "Date                                                \n",
       "2010-06-29 00:00:00-04:00        0.0           0.0  \n",
       "2010-06-30 00:00:00-04:00        0.0           0.0  \n",
       "2010-07-01 00:00:00-04:00        0.0           0.0  \n",
       "2010-07-02 00:00:00-04:00        0.0           0.0  \n",
       "2010-07-06 00:00:00-04:00        0.0           0.0  "
      ]
     },
     "execution_count": 12,
     "metadata": {},
     "output_type": "execute_result"
    }
   ],
   "source": [
    "tesla = tsla.history(period=\"max\")\n",
    "import pandas as pd\n",
    "pd.DataFrame(tesla)\n",
    "tesla.head()"
   ]
  },
  {
   "cell_type": "markdown",
   "metadata": {},
   "source": [
    "**Reset the index** using the `reset_index(inplace=True)` function on the tesla_data DataFrame and display the first five rows of the `tesla_data` dataframe using the `head` function. Take a screenshot of the results and code from the beginning of Question 1 to the results below.\n"
   ]
  },
  {
   "cell_type": "code",
   "execution_count": 73,
   "metadata": {},
   "outputs": [
    {
     "data": {
      "text/html": [
       "<div>\n",
       "<style scoped>\n",
       "    .dataframe tbody tr th:only-of-type {\n",
       "        vertical-align: middle;\n",
       "    }\n",
       "\n",
       "    .dataframe tbody tr th {\n",
       "        vertical-align: top;\n",
       "    }\n",
       "\n",
       "    .dataframe thead th {\n",
       "        text-align: right;\n",
       "    }\n",
       "</style>\n",
       "<table border=\"1\" class=\"dataframe\">\n",
       "  <thead>\n",
       "    <tr style=\"text-align: right;\">\n",
       "      <th></th>\n",
       "      <th>level_0</th>\n",
       "      <th>index</th>\n",
       "      <th>Date</th>\n",
       "      <th>Open</th>\n",
       "      <th>High</th>\n",
       "      <th>Low</th>\n",
       "      <th>Close</th>\n",
       "      <th>Volume</th>\n",
       "      <th>Dividends</th>\n",
       "      <th>Stock Splits</th>\n",
       "    </tr>\n",
       "  </thead>\n",
       "  <tbody>\n",
       "    <tr>\n",
       "      <th>3624</th>\n",
       "      <td>3624</td>\n",
       "      <td>3624</td>\n",
       "      <td>2024-11-20 00:00:00-05:00</td>\n",
       "      <td>345.000000</td>\n",
       "      <td>346.600006</td>\n",
       "      <td>334.299988</td>\n",
       "      <td>342.029999</td>\n",
       "      <td>66340700</td>\n",
       "      <td>0.0</td>\n",
       "      <td>0.0</td>\n",
       "    </tr>\n",
       "    <tr>\n",
       "      <th>3625</th>\n",
       "      <td>3625</td>\n",
       "      <td>3625</td>\n",
       "      <td>2024-11-21 00:00:00-05:00</td>\n",
       "      <td>343.809998</td>\n",
       "      <td>347.989990</td>\n",
       "      <td>335.279999</td>\n",
       "      <td>339.640015</td>\n",
       "      <td>58011700</td>\n",
       "      <td>0.0</td>\n",
       "      <td>0.0</td>\n",
       "    </tr>\n",
       "    <tr>\n",
       "      <th>3626</th>\n",
       "      <td>3626</td>\n",
       "      <td>3626</td>\n",
       "      <td>2024-11-22 00:00:00-05:00</td>\n",
       "      <td>341.089996</td>\n",
       "      <td>361.529999</td>\n",
       "      <td>337.700012</td>\n",
       "      <td>352.559998</td>\n",
       "      <td>89140700</td>\n",
       "      <td>0.0</td>\n",
       "      <td>0.0</td>\n",
       "    </tr>\n",
       "    <tr>\n",
       "      <th>3627</th>\n",
       "      <td>3627</td>\n",
       "      <td>3627</td>\n",
       "      <td>2024-11-25 00:00:00-05:00</td>\n",
       "      <td>360.140015</td>\n",
       "      <td>361.929993</td>\n",
       "      <td>338.200012</td>\n",
       "      <td>338.589996</td>\n",
       "      <td>95890900</td>\n",
       "      <td>0.0</td>\n",
       "      <td>0.0</td>\n",
       "    </tr>\n",
       "    <tr>\n",
       "      <th>3628</th>\n",
       "      <td>3628</td>\n",
       "      <td>3628</td>\n",
       "      <td>2024-11-26 00:00:00-05:00</td>\n",
       "      <td>341.000000</td>\n",
       "      <td>346.959991</td>\n",
       "      <td>335.660004</td>\n",
       "      <td>338.230011</td>\n",
       "      <td>62089200</td>\n",
       "      <td>0.0</td>\n",
       "      <td>0.0</td>\n",
       "    </tr>\n",
       "  </tbody>\n",
       "</table>\n",
       "</div>"
      ],
      "text/plain": [
       "      level_0  index                      Date        Open        High  \\\n",
       "3624     3624   3624 2024-11-20 00:00:00-05:00  345.000000  346.600006   \n",
       "3625     3625   3625 2024-11-21 00:00:00-05:00  343.809998  347.989990   \n",
       "3626     3626   3626 2024-11-22 00:00:00-05:00  341.089996  361.529999   \n",
       "3627     3627   3627 2024-11-25 00:00:00-05:00  360.140015  361.929993   \n",
       "3628     3628   3628 2024-11-26 00:00:00-05:00  341.000000  346.959991   \n",
       "\n",
       "             Low       Close    Volume  Dividends  Stock Splits  \n",
       "3624  334.299988  342.029999  66340700        0.0           0.0  \n",
       "3625  335.279999  339.640015  58011700        0.0           0.0  \n",
       "3626  337.700012  352.559998  89140700        0.0           0.0  \n",
       "3627  338.200012  338.589996  95890900        0.0           0.0  \n",
       "3628  335.660004  338.230011  62089200        0.0           0.0  "
      ]
     },
     "execution_count": 73,
     "metadata": {},
     "output_type": "execute_result"
    }
   ],
   "source": [
    "tesla.reset_index(inplace=True)\n",
    "tesla.tail()"
   ]
  },
  {
   "cell_type": "markdown",
   "metadata": {},
   "source": [
    "## Question 2: Use Webscraping to Extract Tesla Revenue Data\n"
   ]
  },
  {
   "cell_type": "markdown",
   "metadata": {},
   "source": [
    "Use the `requests` library to download the webpage https://cf-courses-data.s3.us.cloud-object-storage.appdomain.cloud/IBMDeveloperSkillsNetwork-PY0220EN-SkillsNetwork/labs/project/revenue.htm Save the text of the response as a variable named `html_data`.\n"
   ]
  },
  {
   "cell_type": "code",
   "execution_count": 24,
   "metadata": {},
   "outputs": [
    {
     "data": {
      "text/plain": [
       "'\\n<!DOCTYPE html>\\n<!--[if lt IE 7]>      <html class=\"no-js lt-ie9 lt-ie8 lt-ie7\"> <![endif]-->\\n<!--[if IE 7]>         <html class=\"no-js lt-ie9 lt-ie8\"> <![endif]-->\\n<!--[if IE 8]>         <html class=\"no-js lt-ie9\"> <![endif]-->\\n<!--[if gt IE 8]><!--> <html class=\"no-js\"> <!--<![endif]-->\\n    <head>\\n        <meta charset=\"utf-8\">\\n        <meta http-equiv=\"X-UA-Compatible\" content=\"IE=edge,chrome=1\">\\n\\t\\t<link rel=\"canonical\" href=\"https://www.macrotrends.net/stocks/charts/TSLA/tesla/revenue\" />\\n\\t\\t<title>Tesla Revenue 2010-2022 | TSLA | MacroTrends</title>\\n\\t\\t<meta name=\"description\" content=\"Tesla annual/quarterly revenue history and growth rate from 2010 to 2022. Revenue can be defined as the amount of money a company receives from its customers in exchange for the sales of goods or services.  Revenue is the top line item on an income statement from which all costs and expenses are subtracted to arrive at net income.    \\n\\t\\t\\t\\t\\n\\t\\t\\t\\t&lt;ul style=\\'margin-top:10px;\\'&gt;\\n\\t\\t\\t\\t&lt;li&gt;Tesla revenue for the quarter ending September 30, 2022 was &lt;strong&gt;$21.454B&lt;/strong&gt;, a &lt;strong&gt;55.95% increase&lt;/strong&gt; year-over-year.&lt;/li&gt;\\n\\t\\t\\t\\t&lt;li&gt;Tesla revenue for the twelve months ending September 30, 2022 was &lt;strong&gt;$74.863B&lt;/strong&gt;, a &lt;strong&gt;59.8% increase&lt;/strong&gt; year-over-year.&lt;/li&gt;\\n\\t\\t\\t\\t&lt;li&gt;Tesla annual revenue for 2021 was &lt;strong&gt;$53.823B&lt;/strong&gt;, a &lt;strong&gt;70.67% increase&lt;/strong&gt; from 2020.&lt;/li&gt;\\n\\t\\t\\t\\t&lt;li&gt;Tesla annual revenue for 2020 was &lt;strong&gt;$31.536B&lt;/strong&gt;, a &lt;strong&gt;28.31% increase&lt;/strong&gt; from 2019.&lt;/li&gt;\\n\\t\\t\\t\\t&lt;li&gt;Tesla annual revenue for 2019 was &lt;strong&gt;$24.578B&lt;/strong&gt;, a &lt;strong&gt;14.52% increase&lt;/strong&gt; from 2018.&lt;/li&gt;\\n\\t\\t\\t\\t&lt;/ul&gt;\" />\\n\\t\\t<meta name=\"robots\" content=\"\" />\\n\\t\\t\\t\\t\\n\\t\\t<link rel=\"shortcut icon\" href=\"/assets/images/icons/FAVICON/macro-trends_favicon.ico\" type=\"image/x-icon\">\\n\\n\\t\\t<meta name=\"msvalidate.01\" content=\"1228954C688F5907894001CD8E5E624B\" />\\n\\t\\t<meta name=\"google-site-verification\" content=\"6MnD_3iDtAP1ZyoGK1YMyVIVck4r5Ws80I9xD3ue4_A\" />\\n\\n\\t\\t<!-- Load in Roboto Font -->\\n\\t\\t<link rel=\\'stylesheet\\' href=\\'https://fonts.googleapis.com/css?family=Roboto:400,600,700\\'>\\n\\n\\t\\t<!-- Bootstrap -->\\n\\t\\t<link rel=\"stylesheet\" href=\"//maxcdn.bootstrapcdn.com/bootstrap/3.3.7/css/bootstrap.min.css\"> <!--for Bootstrap CDN version-->\\n\\t\\t<link rel=\"stylesheet\" href=\"//maxcdn.bootstrapcdn.com/bootstrap/3.3.7/css/bootstrap-theme.min.css\">\\n\\n\\t\\t<!-- Font Awesome -->\\n\\t\\t<link rel=\"stylesheet\" href=\"//stackpath.bootstrapcdn.com/font-awesome/4.7.0/css/font-awesome.min.css\"> <!--for Font Awesome CDN version-->\\n    \\t\\t\\n\\t\\t<!-- Jquery, Bootstrap and Menu Javascript -->\\t\\n\\t\\t<script src=\"//code.jquery.com/jquery-1.12.4.min.js\" integrity=\"sha256-ZosEbRLbNQzLpnKIkEdrPv7lOy9C27hHQ+Xp8a4MxAQ=\" crossorigin=\"anonymous\"></script>\\n\\t\\t<script src=\"//maxcdn.bootstrapcdn.com/bootstrap/3.3.7/js/bootstrap.min.js\"></script>\\n\\t\\t\\t\\t\\n\\t\\t<!-- Modernizr for cross-browser support -->\\t\\t\\n\\t\\t<script type=\"text/javascript\" src=\"/assets/javascript/modernizr-2.6.2-respond-1.1.0.min.js\"></script>\\n\\n\\t\\t<!-- Latest compiled and minified CSS -->\\n\\t\\t<link rel=\"stylesheet\" href=\"//www.fuelcdn.com/fuelux/3.13.0/css/fuelux.min.css\">\\n\\n\\t\\t<!-- Latest compiled and minified JavaScript -->\\n\\t\\t<script src=\"//www.fuelcdn.com/fuelux/3.13.0/js/fuelux.min.js\"></script>\\n\\t\\t\\n\\t\\t\\n\\t\\t <!-- Twitter Card data -->\\n\\t\\t  <meta name=\"twitter:card\" content=\"summary_large_image\">\\n\\t\\t  <meta name=\"twitter:site\" content=\"@tmacrotrends\">\\n\\t\\t  <meta name=\"twitter:title\" content=\"Tesla Revenue 2010-2022 | TSLA\">\\n\\t\\t  <meta name=\"twitter:description\" content=\"Tesla annual/quarterly revenue history and growth rate from 2010 to 2022. Revenue can be defined as the amount of money a company receives from its customers in exchange for the sales of goods or services.  Revenue is the top line item on an income statement from which all costs and expenses are subtracted to arrive at net income.    \\n\\t\\t\\t\\t\\n\\t\\t\\t\\t<ul style=\\'margin-top:10px;\\'>\\n\\t\\t\\t\\t<li>Tesla revenue for the quarter ending September 30, 2022 was <strong>$21.454B</strong>, a <strong>55.95% increase</strong> year-over-year.</li>\\n\\t\\t\\t\\t<li>Tesla revenue for the twelve months ending September 30, 2022 was <strong>$74.863B</strong>, a <strong>59.8% increase</strong> year-over-year.</li>\\n\\t\\t\\t\\t<li>Tesla annual revenue for 2021 was <strong>$53.823B</strong>, a <strong>70.67% increase</strong> from 2020.</li>\\n\\t\\t\\t\\t<li>Tesla annual revenue for 2020 was <strong>$31.536B</strong>, a <strong>28.31% increase</strong> from 2019.</li>\\n\\t\\t\\t\\t<li>Tesla annual revenue for 2019 was <strong>$24.578B</strong>, a <strong>14.52% increase</strong> from 2018.</li>\\n\\t\\t\\t\\t</ul>\">\\n\\n\\t\\t  <!-- Open Graph data -->\\n\\t\\t  <meta property=\"og:url\" content=\"https://www.macrotrends.net/stocks/charts/TSLA/tesla/revenue\" />  \\n\\t\\t  <meta property=\"og:title\" content=\"Tesla Revenue 2010-2022 | TSLA\" />\\n\\t\\t  <meta property=\"og:description\" content=\"Tesla annual/quarterly revenue history and growth rate from 2010 to 2022. Revenue can be defined as the amount of money a company receives from its customers in exchange for the sales of goods or services.  Revenue is the top line item on an income statement from which all costs and expenses are subtracted to arrive at net income.    \\n\\t\\t\\t\\t\\n\\t\\t\\t\\t<ul style=\\'margin-top:10px;\\'>\\n\\t\\t\\t\\t<li>Tesla revenue for the quarter ending September 30, 2022 was <strong>$21.454B</strong>, a <strong>55.95% increase</strong> year-over-year.</li>\\n\\t\\t\\t\\t<li>Tesla revenue for the twelve months ending September 30, 2022 was <strong>$74.863B</strong>, a <strong>59.8% increase</strong> year-over-year.</li>\\n\\t\\t\\t\\t<li>Tesla annual revenue for 2021 was <strong>$53.823B</strong>, a <strong>70.67% increase</strong> from 2020.</li>\\n\\t\\t\\t\\t<li>Tesla annual revenue for 2020 was <strong>$31.536B</strong>, a <strong>28.31% increase</strong> from 2019.</li>\\n\\t\\t\\t\\t<li>Tesla annual revenue for 2019 was <strong>$24.578B</strong>, a <strong>14.52% increase</strong> from 2018.</li>\\n\\t\\t\\t\\t</ul>\" />\\n\\n\\t\\t<!-- JQXGRID STYLES AND JAVASCRIPT -->\\n\\t\\t<link rel=\"stylesheet\" href=\"/assets/php/jqfiles/jqwidgets/styles/jqx.base.css\" type=\"text/css\" />\\n\\t\\t<link rel=\"stylesheet\" href=\"/assets/php/jqfiles/jqwidgets/styles/jqx.bootstrap.css\" type=\"text/css\" />\\n\\n\\t\\t<!-- LOAD THESE SCRIPTS EARLY SO THE TICKER INPUT FIELD IS STYLED INSTANTLY -->\\n\\t\\t<script type=\"text/javascript\" src=\"/assets/php/jqfiles/jqwidgets/jqxcore.js\"></script>\\n\\t\\t<script type=\"text/javascript\" src=\"/assets/php/jqfiles/jqwidgets/jqxdata.js\"></script> \\n\\t\\t<script type=\"text/javascript\" src=\"/assets/php/jqfiles/jqwidgets/jqxinput.js\"></script> \\n\\n\\t\\t<!-- Styling for search box -->\\t\\n\\t\\t<link rel=\"stylesheet\" type=\"text/css\" href=\"/assets/php/jquery-typeahead/jquery.typeahead_pages.css\">\\n\\n\\t\\t<!-- Search box javascript -->\\n\\t\\t<script src=\"/assets/php/jquery-typeahead/jquery.typeahead.min.js\"></script>\\n\\t\\t\\n\\n\\t\\t<link href=\"//cdnjs.cloudflare.com/ajax/libs/select2/4.0.3/css/select2.min.css\" rel=\"stylesheet\" />\\n\\t\\t<script src=\"//cdnjs.cloudflare.com/ajax/libs/select2/4.0.3/js/select2.min.js\"></script>\\n\\t\\n\\t<!-- ToolTips -->\\t\\n\\t\\t<script src=\"/assets/php/tipped-4.6.1/js/tipped/tipped.js\"></script>\\n\\t\\t<link rel=\"stylesheet\" href=\"/assets/php/tipped-4.6.1/css/tipped/tipped.css\">\\n\\t\\t\\n\\t\\t\\t\\n\\t\\t<!-- START IC AD INSERT -->\\n\\t\\t\\n    <script>InvestingChannelQueue = window.InvestingChannelQueue || [];</script>\\n\\n\\t<script async src=\"https://u5.investingchannel.com/static/uat.js\"></script>\\n\\n    <script type=\"text/javascript\">\\n    \\n        //Push Run command with the API-Key, so that UAT will start processing publishers request.\\n        InvestingChannelQueue.push(function() {\\n            ic_page = InvestingChannel.UAT.Run(\"df17ac1e-cc7f-11e8-82a5-0abbb61c4a6a\");        \\n        });\\n\\t\\t\\n\\t\\tvar tickerValue = \\'TSLA\\';\\t\\t\\t\\n        var oopDivTag;\\n\\t\\tvar subLeaderboardTag;\\n\\t\\tvar rightSidebarTag1;\\n\\t\\tvar rightSidebarTag2;\\n\\t\\tvar searchButtonTag;\\n\\t\\tvar partner_center_tag;\\n\\t\\tvar videoTag;\\n\\t\\tvar ic_3x7_1;\\n \\t\\t//var IC_D_300x250_BCC;\\n\\t\\t//var IC_D_3x7_BCC;\\n   \\n        //To define new tags/out of page tags.\\n        InvestingChannelQueue.push(function() {\\n\\t\\t\\t\\n\\t\\t\\tic_page.setKval({\\'t\\': tickerValue});\\n\\t\\t\\t\\n            //videoTag = ic_page.defineNativeTag(\"Macrotrends/fundamentalanalysis\",\"3x6, 728x90, Fluid\",\"IC_D_3x6\",35);\\n\\t\\t\\t\\n            oopDivTag = ic_page.defineOutOfPageTag(\"Macrotrends/fundamentalanalysis\",\"oopDivTag_1\");\\n\\t\\t\\toopDivTag.setKval({\"adslot\":\"IC_OOP_1\"});\\n            \\n\\t\\t\\t\\n\\t\\t\\tLeaderboardTag = ic_page.defineTag(\"Macrotrends/fundamentalanalysis\",\"970x250,728x90,970x90,fluid\", \"IC_D_970x250_1\");\\n\\t\\t\\tLeaderboardTag.setKval({\"adslot\":\"IC_D_970x250_1\"});\\n\\n\\n\\t\\t\\tsubLeaderboardTag = ic_page.defineTag(\"Macrotrends/fundamentalanalysis\",\"728x90\",\"ic_728x90_1\");\\n\\t\\t\\tsubLeaderboardTag.setKval({\"adslot\":\"IC_728x90_1\"});\\n\\t\\t\\t\\n\\t\\t\\t\\n\\t\\t\\trightSidebarTag1 = ic_page.defineTag(\"Macrotrends/fundamentalanalysis\",\"300x250,Fluid\",\"ic_300x250_1\");\\n\\t\\t\\trightSidebarTag1.setKval({\"adslot\":\"IC_300x250_1\"});\\n\\t\\t\\t\\n\\t\\t\\t\\n\\t\\t\\trightSidebarTag2 = ic_page.defineTag(\"Macrotrends/fundamentalanalysis\",\"300x600,300x250,160x600,300x1050,Fluid\",\"ic_300x600_1\");\\n\\t\\t\\trightSidebarTag2.setKval({\"adslot\":\"IC_300x600_1\"});\\n\\t\\t\\t\\n\\t\\t\\t\\n\\t\\t\\tsearchButtonTag = ic_page.defineTag(\"Macrotrends/fundamentalanalysis\",\"88x31\",\"ic_88x31_1\");\\n\\t\\t\\tsearchButtonTag.setKval({\"pc\":\"pc\",\"adslot\":\"IC_88x31\"});\\n\\t\\t\\t\\n\\t\\t\\tpartner_center_tag = ic_page.defineTag(\"macrotrends/fundamentalanalysis\",\"728x214, 728x90\",\"IC_728x214_1\");\\n\\t\\t\\tpartner_center_tag.setKval({\"pc\":\"pc\",\"adslot\":\"d_728x90_2\"});\\n\\n\\t\\t\\tic_3x7_1 = ic_page.defineNativeTag(\"macrotrends/fundamentalanalysis\",\"3x7,728x90,Fluid\",\"IC_3x7_1\", 35);\\n\\t\\t\\t\\n\\t\\t\\t//IC_D_300x250_BCC = ic_page.defineTag(adCategory,\"300x250,Fluid\",\"IC_D_300x250_BCC\");\\n\\t\\t\\t//IC_D_300x250_BCC.setKval({\"adslot\":\"IC_D_300x250_BCC\"});\\n\\n\\t\\t\\t//IC_D_3x7_BCC = ic_page.defineTag(adCategory,\"3x7, Fluid\",\"IC_D_3x7_BCC\");\\n\\t\\t\\t//IC_D_3x7_BCC.setKval({\"adslot\":\"IC_D_3x7_BCC\"});\\n\\t\\t\\t\\n\\n        });\\n    \\n        //To render tags.\\n\\t\\t\\tInvestingChannelQueue.push(function() {\\n            ic_page.renderTags();\\n        });\\n        \\n    </script>\\n\\n\\t\\t<!-- END IC AD INSERT -->\\n\\t\\t\\n\\n\\t\\t<!-- Global site tag (gtag.js) - Google Analytics -->\\n\\t\\t<script async src=\"https://www.googletagmanager.com/gtag/js?id=UA-62099500-1\"></script>\\n\\t\\t<script>\\n\\t\\t  window.dataLayer = window.dataLayer || [];\\n\\t\\t  function gtag(){dataLayer.push(arguments);}\\n\\t\\t  gtag(\\'js\\', new Date());\\n\\n\\t\\t  gtag(\\'config\\', \\'UA-62099500-1\\');\\n\\t\\t</script>\\n\\t\\t\\n\\t\\t<!-- Google tag (gtag.js) -->\\n\\t\\t<script async src=\"https://www.googletagmanager.com/gtag/js?id=G-3KL0LYERBH\"></script>\\n\\t\\t<script>\\n\\t\\t  window.dataLayer = window.dataLayer || [];\\n\\t\\t  function gtag(){dataLayer.push(arguments);}\\n\\t\\t  gtag(\\'js\\', new Date());\\n\\n\\t\\t  gtag(\\'config\\', \\'G-3KL0LYERBH\\');\\n\\t\\t</script>\\t\\n\\n\\n\\t\\t<!--<script>\\n\\t\\t\\t(function(i,s,o,g,r,a,m){i[\\'GoogleAnalyticsObject\\']=r;i[r]=i[r]||function(){\\n\\t\\t\\t(i[r].q=i[r].q||[]).push(arguments)},i[r].l=1*new Date();a=s.createElement(o),\\n\\t\\t\\tm=s.getElementsByTagName(o)[0];a.async=1;a.src=g;m.parentNode.insertBefore(a,m)\\n\\t\\t\\t})(window,document,\\'script\\',\\'//www.google-analytics.com/analytics.js\\',\\'ga\\');\\n\\n\\t\\t\\tga(\\'create\\', \\'UA-62099500-1\\', \\'auto\\');\\n\\t\\t\\tga(\\'send\\', \\'pageview\\');\\n\\t\\t\\t\\n\\t\\t\\t\\n\\t\\t\\t\\n\\t\\t   \\n\\t\\t\\t//Send one event to GA at 30 seconds to control bounce rate\\n\\t\\t\\tsetTimeout(\"ga(\\'send\\',\\'event\\',\\'Engaged User\\',\\'30 Second Engagement\\')\",30000); \\n\\n\\n\\t\\t  //This code sends events to ga every 30 seconds when the window is in focus\\n\\t\\t\\tvar count = 0;\\n\\t\\t\\tvar myInterval;\\n\\t\\t\\t\\t\\t\\n\\t\\t\\t// Active\\n\\t\\t\\twindow.addEventListener(\\'load\\', startTimer);\\n\\t\\t\\twindow.addEventListener(\\'focus\\', startTimer);\\n\\n\\t\\t\\t// Inactive\\n\\t\\t\\twindow.addEventListener(\\'blur\\', stopTimer);\\n\\n\\t\\t\\tfunction timerHandler() {\\n\\t\\t\\t\\tcount++;\\n\\t\\t\\t\\t\\n\\t\\t\\t\\tif(count % 60 == 0 && count <= 1800) {\\n\\t\\t\\t\\t\\t\\n\\t\\t\\t\\t\\tvar interval = (count/60);\\n\\t\\t\\t\\t\\tinterval = interval.toFixed(0);\\n\\t\\t\\t\\t\\t\\n\\t\\t\\t\\t\\tvar action = interval + \" Minute Engagement\";\\n\\t\\t\\t\\t\\t\\n\\t\\t\\t\\t\\tga(\\'send\\',\\'event\\',\\'Engaged User\\',action);\\n\\n\\t\\t\\t\\t\\t\\n\\t\\t\\t\\t}\\n\\t\\t\\t\\n\\t\\t\\t}\\n\\n\\t\\t\\t// Start timer\\n\\t\\t\\tfunction startTimer() {\\n\\t\\t\\tmyInterval = window.setInterval(timerHandler, 1000);\\n\\t\\t\\t}\\n\\n\\t\\t\\t// Stop timer\\n\\t\\t\\tfunction stopTimer() {\\n\\t\\t\\twindow.clearInterval(myInterval);\\n\\t\\t\\t}\\n\\t\\t\\t\\n\\t\\t\\t\\n\\n\\t\\t</script>-->\\n\\t\\t\\n<style> \\n\\n#style-1::-webkit-scrollbar-track\\n{\\n\\t-webkit-box-shadow: inset 0 0 6px rgba(0,0,0,0.3);\\n\\tborder-radius: 3px;\\n\\tbackground-color: #F5F5F5;\\n}\\n\\n#style-1::-webkit-scrollbar\\n{\\n\\twidth: 18px;\\n\\tbackground-color: #F5F5F5;\\n}\\n\\n#style-1::-webkit-scrollbar-thumb\\n{\\n\\tborder-radius: 3px;\\n\\t-webkit-box-shadow: inset 0 0 6px rgba(0,0,0,.3);\\n\\tbackground-color: #5B9BD5;\\n}\\n\\nhtml {\\n\\twidth:100%;\\n\\tposition: relative;\\n\\tmin-height: 100%;\\n}\\n\\nbody {\\n\\t\\n\\twidth:100%;\\n\\n\\t/* Margin bottom by footer height */\\n\\t  margin-bottom: 80px;\\n\\t  color: #444;\\n\\t  background-color:#fff;\\n\\t  font-family: \\'Roboto\\', sans-serif;\\n\\t  font-size:14px;\\n}\\n\\n\\n\\n\\n\\n.header_content_container {\\n\\t\\n\\tmin-width: 1280px;\\n\\tpadding: 0px;\\n}\\n\\n.main_content_container {\\n\\t\\n\\tmin-width: 1280px;\\n\\tmax-width: 1280px;\\n\\tpadding: 0px 30px 100px 30px;\\n\\t\\n}\\n\\n.sub_main_content_container {\\n\\t\\n\\t\\n}\\n\\n\\n\\n#main_content {\\n\\t\\n\\tpadding:0px 20px 0px 0px;\\n\\twidth:826px;\\n    float:left;\\n\\t\\n}\\n\\n#right_sidebar {\\n\\t\\n  width: 300px;\\n  float:left;\\n  height:3200px;\\n\\t\\n}\\n\\n#sticky_ad_left {\\n\\t\\n  position: -webkit-sticky;\\n  position: sticky;\\n  top: 30px;\\n\\t\\n\\t\\n}\\n\\n#sticky_ad_right {\\n\\t\\n  position: -webkit-sticky;\\n  position: sticky;\\n  top: 30px;\\n\\t\\n\\t\\n}\\n\\n\\n\\n\\n\\n.footer {\\n  position: absolute;\\n  bottom: 0;\\n  width: 100%;\\n  /* Set the fixed height of the footer here */\\n  height: 100px;\\n  margin-top: 10px;\\t\\n  padding: 30px 20px 20px 20px;\\n  color:#fff !important;\\n  background-color:#444;\\n  text-align: center;\\n  font-size:16px;\\n}\\n\\n.footer a {\\n  color:#fff !important;\\n}\\n\\n.ticker_search_box {\\n\\t\\n\\tbackground-color:#F5F5F5;\\n\\tborder: 1px solid #E0E0E0;\\n\\tborder-bottom:none;\\n\\tpadding:10px 30px 10px 10px;\\n\\tmargin:0px 0px 0px 0px;\\n\\ttext-align:center;\\n\\t\\n}\\n\\n.related_tickers {\\n\\t\\n\\twidth:100%;\\n\\tbackground-color:#F5F5F5;\\n\\tborder: 1px solid #E0E0E0;\\n\\tborder-top: 0px;\\n\\tpadding:3px 30px 3px 10px;\\n\\tmargin:0px 0px 0px 0px;\\n\\ttext-align:center;\\n\\t\\n}\\n\\n.statement_type_select {\\n\\n\\twidth:100%;\\n\\theight:28px;\\n\\t\\n}\\n\\n.frequency_select {\\n\\n\\twidth:100%;\\n\\theight:28px;\\n\\tfont-weight:600;\\n\\t\\n}\\n\\n\\n.select2 {\\n\\t\\n\\ttext-align:left;\\n\\tfont-weight:600;\\n\\t\\n\\t}\\n\\t\\n#jqxInput {\\n\\n\\t\\twidth:100%;\\n\\t\\theight:28px;\\n\\t\\t\\n}\\n\\n\\n\\n.header__parent_container {\\n\\n\\twidth:100%;\\n\\theight:50px;\\n\\tpadding:15px 0px 10px -20px; \\n\\tmargin:0px 0px 0px 0px;\\n\\tbackground-color:#444;\\n\\n}\\n\\n.header_container {\\n\\n\\twidth:100%;\\n\\theight:50px;\\n\\tpadding:15px 0px 10px -20px; \\n\\tmargin:0px 0px 0px 0px;\\n\\tbackground-color:#444;\\n\\n}\\n\\n.header_logo {\\n\\t\\n\\tpadding-top:10px;\\n\\tmargin-left:50px;\\n\\t\\n}\\n\\n.menu_parent_container {\\n\\t\\n\\twidth:100%;\\n\\theight:34px;\\n\\tfont-size:16px;\\n\\tpadding:15px 0px 10px -20px; \\n\\tmargin:0px 0px 0px 0px;\\n\\tbackground-color:#0089de;\\n}\\n\\n.menu_container {\\n\\t\\n\\twidth:1280px;\\n\\theight:34px;\\n\\tfont-size:16px;\\n\\tpadding:11px 0px 0px -20px; \\n\\tmargin: 0 auto;\\n\\tbackground-color:#0089de;\\n\\tz-index:1000;\\n}\\n\\n.menu_item {\\n\\n\\theight:34px;\\n\\tfloat:left;\\n\\tfont-size:14px;\\n\\tfont-weight:bold;\\n\\tcolor:#fff;\\n\\ttext-align:center;\\n\\tpadding:7px 16px 0px 16px;\\t\\n\\n}\\n\\n.menu_item:hover\\n{\\n\\tbackground-color:#32a0e4;\\n\\tcursor: pointer;\\n}\\n\\n.menu_item a\\n{\\n\\tcolor:#fff;\\n\\tcursor: pointer;\\n}\\n\\n.menu_item a:hover\\n{\\n\\ttext-decoration:none;\\n\\tcursor: pointer;\\n}\\n\\n.leaderboard_ad {\\n\\n\\tmargin-top:20px;\\n\\tmargin-bottom:20px;\\n\\ttext-align:center;\\n\\tmin-height:100px;\\n\\n}\\n\\n#filter_result_count {\\n\\t\\n\\twidth:100%;\\n\\ttext-align:center;\\n\\tfont-size:24px;\\n\\tfont-weight:bold;\\n\\tpadding:10px 15px;\\n\\tbackground-color:#efefef;\\n\\tborder: 1px solid #dfdfdf;\\n\\tmargin:20px;\\n\\t\\n}\\n\\n\\nselect {\\n  color: #444;\\n  background-color: #FFF;\\n  border: 1px solid #AAA;\\n  border-radius: 4px;\\n  box-sizing: border-box;\\n  cursor: pointer;\\n  display: block;\\n  height:40px;\\n  line-height: 40px;\\n}\\n\\n.historical_data_table  {\\n    table-layout: fixed;\\n\\tmargin:20px;\\n}\\n\\n.historical_data_table tbody tr td {\\n\\t\\n\\tpadding:6px;\\n\\tvertical-align: middle !important;\\n\\n}\\n\\n\\n.descriptors {\\n\\t\\n\\ttext-align:center;\\n\\tfont-size:14px;\\n\\tpadding:15px;\\n\\t\\n}\\n\\n.td_metric_name {\\n\\t\\n\\twidth:110px;\\n\\tpadding-top:17px;\\n\\t\\n}\\n\\n.metric_link {\\n\\t\\n\\tfont-size:14px;\\n\\tfont-weight:bold;\\n\\n}\\n\\n.help_icon {\\n\\t\\n\\twidth:15px;\\n\\theight:18px; \\n\\tpadding-bottom:3px;\\n\\t\\n}\\n\\n.td_min_value {\\n\\t\\n\\twidth:75px;\\n\\ttext-align:center;\\n\\tfont-size:13px;\\n\\t\\n}\\n\\n.td_max_value {\\n\\t\\n\\twidth:75px;\\n\\ttext-align:center;\\n\\tfont-size:13px;\\n\\t\\n}\\n\\n#myCombobox .form-control {\\n\\t\\n\\tbackground-color: #99d5ff;\\n\\n\\t\\n}\\n\\n.dropdown-toggle {\\n\\t\\n\\theight:24px;\\n\\tpadding-top:0px;\\n\\tpadding-left:7px;\\n\\twidth:24px;\\n\\t\\n}\\n\\n.dropdown-menu-right {\\n\\t\\n\\tmin-width:75px;\\n\\tfont-size:13px;\\n\\t\\n}\\n\\n.form-control {\\n\\t\\n\\tfont-size:12px;\\t\\n\\tpadding:5px 10px;\\n\\theight:24px;\\n\\n\\t\\n}\\n\\n#myPills1 {\\n\\t\\n\\tmargin:0px 15px 10px 0px;\\n\\t\\n}\\n\\n#jqxgrid {\\n\\t\\n\\tborder-radius:0px;\\n\\t\\n}\\n\\n.jqx-widget-header {\\n\\t\\n    font-family: \\'Roboto\\', sans-serif;\\n\\tfont-size:13px;\\t\\n\\t\\n}\\n\\n.jqx-item {\\n\\t\\n    font-family: \\'Roboto\\', sans-serif;\\n\\tfont-size: 13px;\\n\\t\\n}\\n\\n.jqx-widget-content {\\n\\t\\n\\tborder-color: #E0E0E0;\\n\\t\\n}\\n\\n#jqxgrid .jqx-grid-cell {\\n\\t\\n\\tborder-color: #E0E0E0;\\n\\t\\n}\\n\\n#jqxgrid .jqx-grid-cell-pinned {\\n\\t\\n\\tborder-color: #E0E0E0;\\n\\tbackground-color: #F5F5F5;\\n\\t\\n}\\n\\n#jqxgrid .jqx-grid-column-header {\\n\\t\\n\\tborder-color: #E0E0E0;\\n\\tbackground-color: #F5F5F5;\\n\\t\\n}\\n\\n.clear_zero {\\n\\n\\theight:0px;\\n\\n}\\n\\n\\n\\n/* Styles for Popup Charts */\\n\\n.tpd-size-large {\\n\\t\\n\\tmargin:0px;\\t\\n\\tpadding: 0px;\\n}\\n\\n.popup_window_wrapper {\\n\\t\\n\\tmargin:15px;\\n\\t\\n}\\n\\n.popup_stock_name {\\n\\n\\tfont-size:16px;\\n\\tfont-weight:bold;\\n\\tmargin:5px;\\n\\n}\\n\\n.popup_stock_attributes {\\n\\n\\tfont-size:13px;\\n\\tfont-weight:bold;\\n\\tmargin:5px;\\n\\n}\\n\\n.popup_stock_description {\\n\\n\\tfont-size:12px;\\n\\tmargin:5px;\\n\\n}\\n\\n.jqx-input {\\n\\t\\n\\tfont-size:14px;\\n\\t\\n} \\n\\n.jqx-menu-item {\\n\\t\\n\\tfont-size:14px;\\n\\t\\n}\\n\\n.jqx-input {\\n\\t\\n\\tpadding:5px 10px;\\n\\t\\n}\\n\\n.nav-tabs {\\n    border: 1px solid #E0E0E0;\\n\\tbackground-color:#F5F5F5;\\n\\tpadding: 3px 5px 0px 5px;\\n\\tmargin: 0px 0px 10px 0px;\\n}\\n\\n.nav-tabs>li>a {\\n\\tfont-size:13px;\\n\\tpadding:7px 11px;\\n\\tfont-weight:600;\\n    margin-right: 0px;\\n    line-height: 1.42857143;\\n    border: 0px;\\n    border-radius: 0px 0px 0 0;\\n\\tbackground-color:#F5F5F5;\\n\\n}\\n\\n.nav-tabs>li>a .active {\\n    margin-right: 0px;\\n    line-height: 1.42857143;\\n    border: 1px solid #E0E0E0;\\n    border-radius: 0px 0px 0 0;\\n\\tbackground-color:#F5F5F5;\\n\\n}\\n\\n.nav-tabs>li>a:hover { \\n    background-color: #F5F5F5;\\n\\ttext-decoration: underline;\\n\\n}\\n\\n.donate_buttons {\\n\\n\\tmargin-left:20px;\\n\\t\\n\\t}\\n\\n.modal-body {\\n\\n\\tmargin:10px 40px 20px 40px;\\n\\ttext-align:left;\\n\\tfont-size:18px;\\n\\n}\\n\\n.modal-body li {\\n\\n\\tmargin-top:20px;\\n\\tfont-size:14px;\\n\\n}\\n\\n\\n.modal_title {\\n\\n\\n\\ttext-align:center;\\n\\tmargin-bottom:30px;\\n\\n}\\n\\n.modal-body th{\\n\\n\\tmargin-left:10px;\\n\\tfont-size:14px;\\n}\\n\\n.modal-body td {\\n\\n\\tcolor: #337ab7;\\n\\tmargin-left:10px;\\n\\tfont-size:14px;\\n}\\n\\n.modal_button {\\n\\n\\tmargin-top:50px;\\n\\ttext-align:center;\\n\\tfont-size:16px;\\n\\n}\\t\\n\\n\\n</style>\\t\\n\\n\\n</head>\\n\\t<body class=\"fuelux\">\\n        <!--[if lt IE 7]>\\n            <p class=\"browsehappy\">You are using an <strong>outdated</strong> browser. Please <a href=\"https://browsehappy.com/\">upgrade your browser</a> to improve your experience.</p>\\n        <![endif]-->\\n\\n<div class=\"header_content_container container-fluid\">\\n\\n\\n<div class=\"header_parent_container\">\\n\\n<div class=\"header_container\">\\n\\n\\t<div class=\"header_logo col-xs-2\">\\n\\t\\t<a class=\"logo\" href=\"https://www.macrotrends.net\" title=\"MacroTrends Home Page\"><img src=\"/assets/images/logo_bright1.png\"/></a>\\n\\t</div>\\n\\n\\n\\t  <div class=\"col-xs-1 pull-right\" style=\"padding-top:8px; margin-right:10px; margin-left:0px; padding-left:0px;\">\\n\\t  \\t \\t\\t\\t\\t\\t\\n\\t\\t<div id=\"ic_88x31_1\">\\n\\n\\t\\t\\t\\t\\t\\n\\t\\t</div> \\n\\t  \\n\\t  </div>\\n\\t  \\n\\n\\t  <div class=\"col-xs-5 pull-right\" style=\"padding-top:8px;\">\\n       <form>\\n        <div class=\"typeahead__container\">\\n            <div class=\"typeahead__field\">\\n\\n            <span class=\"typeahead__query\">\\n                <input class=\"js-typeahead\"\\n                       name=\"q\"\\n                       type=\"search\"\\n\\t\\t\\t\\t\\t   placeholder=\"Search over 200,000 charts...\"\\n                       autofocus\\n                       autocomplete=\"off\">\\n            </span>\\n            <span class=\"typeahead__button\">\\n                <button type=\"submit\">\\n                    <span class=\"typeahead__search-icon\"></span>\\n                </button>\\n            </span>\\n\\n            </div>\\n        </div>\\n    </form>\\n\\t\\t\\n\\t  </div>\\n\\t  \\n\\t  </div>\\n\\n\\n\\n</div>\\n\\n<div class=\"menu_parent_container\">\\n\\n<div class=\"menu_container\">\\n\\t\\t\\n\\t<a href=\"/stocks/stock-screener\"><div class=\"menu_item\">Stock Screener</div></a>\\n\\t<a href=\"/stocks/research\"><div class=\"menu_item\">Stock Research</div></a>\\n\\t<a href=\"/charts/stock-indexes\"><div class=\"menu_item\">Market Indexes</div></a>\\n\\t<a href=\"/charts/precious-metals\"><div class=\"menu_item\">Precious Metals</div></a>\\n\\t<a href=\"/charts/energy\"><div class=\"menu_item\">Energy</div></a>\\n\\t<a href=\"/charts/commodities\"><div class=\"menu_item\">Commodities</div></a>\\n\\t<a href=\"/charts/exchange-rates\"><div class=\"menu_item\">Exchange Rates</div></a>\\n\\t<a href=\"/charts/interest-rates\"><div class=\"menu_item\">Interest Rates</div></a>\\n\\t<a href=\"/charts/economy\"><div class=\"menu_item\">Economy</div></a>\\n\\t<a href=\"/countries/topic-overview\"><div class=\"menu_item\">Global Metrics</div></a>\\n\\n\\t\\t\\n</div>\\n\\n</div>\\n\\n</div>\\n\\n<div id=\"main_content_container\" class=\"main_content_container container-fluid\">\\n\\n\\n\\t<div id=\"ic_leaderboard\" class=\"adx_top_ad col-xs-12\" style=\"margin: 20px 20px 30px 20px; min-height:265px; text-align:center;\">\\n\\t\\n\\t\\t<div id=\"IC_D_970x250_1\"></div>\\n\\n\\t\\t<!--Smartad # 4058: Macrotrends - 970x250 Image - Placement 2-->\\n\\t\\t<!--<iframe id=\"dianomi_leaderboard\" WIDTH=\"970\" HEIGHT=\"250\" SCROLLING=\"NO\" src=\"//www.dianomi.com/smartads.epl?id=4058\"  style=\"height: 250px; border: none; overflow: hidden;\"></iframe>-->\\n\\t\\t\\t\\t \\t\\t\\n\\t</div>\\n\\t\\t\\t\\n\\t\\t\\t<div style=\"margin:20px 20px 20px 5px;\">\\n\\t\\t\\t\\n\\t\\t\\t\\t<h2 style=\"margin-left:0px; font-weight:600; color:#444;\">Tesla Revenue 2010-2022 | TSLA</h2>\\n\\t\\t\\t\\n\\t\\t\\t</div>\\n\\t\\t\\t\\n\\t\\t\\t\\n\\t<div class=\"sub_main_content_container\">\\n\\t\\t\\n\\n\\n\\t\\t\\n\\n\\t\\t\\t<div id=\"main_content\">\\n\\t\\t\\t\\n\\t\\t\\t\\n\\t\\t\\t\\n<div class=\"navigation_tabs\" style=\"margin-bottom:20px;\">\\n\\t\\t\\t\\n\\t<ul class=\"nav nav-tabs\" id=\"myTabs\" style=\"font-size:15px;\">\\n\\n\\t\\t\\n\\t\\t\\t\\n\\t\\t\\t\\n\\t\\t\\t\\t<li><a href=\"https://www.macrotrends.net/stocks/charts/TSLA/tesla/stock-price-history\">Prices</a></li>\\n\\n\\t\\t\\t\\n\\t\\t\\n\\t\\t\\t\\n\\t\\t\\t\\n\\t\\t\\t\\t<li><a href=\"https://www.macrotrends.net/stocks/charts/TSLA/tesla/financial-statements\">Financials</a></li>\\n\\n\\t\\t\\t\\n\\t\\t\\n\\t\\t\\t\\n\\t\\t\\t\\n\\t\\t\\t\\t<li class=\"active\"><a href=\"https://www.macrotrends.net/stocks/charts/TSLA/tesla/revenue\">Revenue & Profit</a></li>\\n\\n\\t\\t\\t\\n\\t\\t\\n\\t\\t\\t\\n\\t\\t\\t\\n\\t\\t\\t\\t<li><a href=\"https://www.macrotrends.net/stocks/charts/TSLA/tesla/total-assets\">Assets & Liabilities</a></li>\\n\\n\\t\\t\\t\\n\\t\\t\\n\\t\\t\\t\\n\\t\\t\\t\\n\\t\\t\\t\\t<li><a href=\"https://www.macrotrends.net/stocks/charts/TSLA/tesla/profit-margins\">Margins</a></li>\\n\\n\\t\\t\\t\\n\\t\\t\\n\\t\\t\\t\\n\\t\\t\\t\\n\\t\\t\\t\\t<li><a href=\"https://www.macrotrends.net/stocks/charts/TSLA/tesla/pe-ratio\">Price Ratios</a></li>\\n\\n\\t\\t\\t\\n\\t\\t\\n\\t\\t\\t\\n\\t\\t\\t\\n\\t\\t\\t\\t<li><a href=\"https://www.macrotrends.net/stocks/charts/TSLA/tesla/current-ratio\">Other Ratios</a></li>\\n\\n\\t\\t\\t\\n\\t\\t\\n\\t\\t\\t\\n\\t\\t\\t\\n\\t\\t\\t\\t<li><a href=\"https://www.macrotrends.net/stocks/charts/TSLA/tesla/dividend-yield-history\">Other Metrics</a></li>\\n\\n\\t\\t\\t\\n\\t\\t\\n\\t</ul>\\n\\n\\n\\t<ul class=\"nav nav-tabs\" id=\"myTabs\" style=\"font-size:15px;\">\\n\\n\\t\\t\\n\\t\\t\\t\\n\\t\\t\\t\\n\\t\\t\\t\\t<li class=\"active\"><a href=\"https://www.macrotrends.net/stocks/charts/TSLA/tesla/revenue\">Revenue</a></li>\\n\\n\\n\\t\\t\\t\\t\\t\\t\\n\\t\\t\\n\\t\\t\\t\\n\\t\\t\\t\\t\\t\\t\\n\\t\\t\\t\\t<li><a href=\"https://www.macrotrends.net/stocks/charts/TSLA/tesla/gross-profit\">Gross Profit</a></li>\\t\\t\\t\\n\\n\\t\\t\\t\\t\\t\\t\\n\\t\\t\\n\\t\\t\\t\\n\\t\\t\\t\\t\\t\\t\\n\\t\\t\\t\\t<li><a href=\"https://www.macrotrends.net/stocks/charts/TSLA/tesla/operating-income\">Operating Income</a></li>\\t\\t\\t\\n\\n\\t\\t\\t\\t\\t\\t\\n\\t\\t\\n\\t\\t\\t\\n\\t\\t\\t\\t\\t\\t\\n\\t\\t\\t\\t<li><a href=\"https://www.macrotrends.net/stocks/charts/TSLA/tesla/ebitda\">EBITDA</a></li>\\t\\t\\t\\n\\n\\t\\t\\t\\t\\t\\t\\n\\t\\t\\n\\t\\t\\t\\n\\t\\t\\t\\t\\t\\t\\n\\t\\t\\t\\t<li><a href=\"https://www.macrotrends.net/stocks/charts/TSLA/tesla/net-income\">Net Income</a></li>\\t\\t\\t\\n\\n\\t\\t\\t\\t\\t\\t\\n\\t\\t\\n\\t\\t\\t\\n\\t\\t\\t\\t\\t\\t\\n\\t\\t\\t\\t<li><a href=\"https://www.macrotrends.net/stocks/charts/TSLA/tesla/eps-earnings-per-share-diluted\">EPS</a></li>\\t\\t\\t\\n\\n\\t\\t\\t\\t\\t\\t\\n\\t\\t\\n\\t\\t\\t\\n\\t\\t\\t\\t\\t\\t\\n\\t\\t\\t\\t<li><a href=\"https://www.macrotrends.net/stocks/charts/TSLA/tesla/shares-outstanding\">Shares Outstanding</a></li>\\t\\t\\t\\n\\n\\t\\t\\t\\t\\t\\t\\n\\t\\t\\n\\n\\t</ul>\\n\\t\\n\\t\\t\\t\\n</div>\\n\\n\\n\\n\\n\\t\\t\\t\\n\\n\\t\\t\\n\\n\\t\\t\\t<div style=\"background-color:#fff; margin: 0px 0px 20px 0px; padding:20px 30px; border:1px solid #dfdfdf;\">\\n\\t\\t\\t\\n\\t\\t\\t\\t<span style=\"color:#444; line-height: 1.8;\">Tesla annual/quarterly revenue history and growth rate from 2010 to 2022. Revenue can be defined as the amount of money a company receives from its customers in exchange for the sales of goods or services.  Revenue is the top line item on an income statement from which all costs and expenses are subtracted to arrive at net income.    \\n\\t\\t\\t\\t\\n\\t\\t\\t\\t<ul style=\\'margin-top:10px;\\'>\\n\\t\\t\\t\\t<li>Tesla revenue for the quarter ending September 30, 2022 was <strong>$21.454B</strong>, a <strong>55.95% increase</strong> year-over-year.</li>\\n\\t\\t\\t\\t<li>Tesla revenue for the twelve months ending September 30, 2022 was <strong>$74.863B</strong>, a <strong>59.8% increase</strong> year-over-year.</li>\\n\\t\\t\\t\\t<li>Tesla annual revenue for 2021 was <strong>$53.823B</strong>, a <strong>70.67% increase</strong> from 2020.</li>\\n\\t\\t\\t\\t<li>Tesla annual revenue for 2020 was <strong>$31.536B</strong>, a <strong>28.31% increase</strong> from 2019.</li>\\n\\t\\t\\t\\t<li>Tesla annual revenue for 2019 was <strong>$24.578B</strong>, a <strong>14.52% increase</strong> from 2018.</li>\\n\\t\\t\\t\\t</ul></span>\\n\\t\\t\\t\\n\\t\\t\\t</div>\\n\\n\\t\\t\\n\\t\\t\\t\\n\\t\\t\\t<div style=\"background-color:#fff; margin: 30px 0px 30px 0px; text-align:center; min-height:90px;\">\\n\\n\\n\\t\\t\\t\\t<div id=\"ic_728x90_1\" style=\"margin:10px 20px;\">\\n\\n\\n\\t\\t\\t\\t</div>\\n\\t\\t\\t\\n\\t\\t\\t</div>\\t\\t\\n\\t\\t\\t\\n\\t\\t\\t\\n\\n\\t\\t\\t<div class=\"ticker_search_box\" style=\"text-align:center;\">\\t\\t\\t\\n\\n\\t\\t<div style=\"width:400px; margin-left:20px; border-bottom:none;\">\\n\\t\\t\\n\\t\\t\\n\\n\\t\\t\\n        <script type=\"text/javascript\">\\n            $(document).ready(function () {\\n\\t\\t\\t\\t                \\n\\t\\t\\t\\t\\tvar url = \"https://www.macrotrends.net/assets/php/ticker_search_list.php\";\\n\\t\\t\\t\\t\\n                // prepare the data\\n                var source =\\n                {\\n                    datatype: \"json\",\\n                    datafields: [\\n                        { name: \\'n\\' },\\n\\t\\t\\t\\t\\t\\t{ name: \\'s\\'}\\n                    ],\\n                    url: url\\n                };\\n                var dataAdapter = new $.jqx.dataAdapter(source);\\n                // Create a jqxInput\\n                $(\"#jqxInput\").jqxInput({ source: dataAdapter, minLength: 1, placeHolder: \"Search for ticker or company name...\", items: 20, searchMode: \\'containsignorecase\\', displayMember: \"n\", valueMember: \"s\", width: \\'100%\\', height: 22, theme: \\'bootstrap\\'});\\n                $(\"#jqxInput\").on(\\'select\\', function (event) {\\n                    if (event.args) {\\n                        var item = event.args.item;\\n\\t\\t\\t\\t\\t\\t\\n\\t\\t\\t\\t\\t\\t//Have to split the ticker and slug back out since jqxinput only seems to allow one data value\\n\\t\\t\\t\\t\\t\\tvar itemArray = item.value.split(\"\\\\/\"); \\n\\t\\t\\t\\t\\t\\tvar ticker = itemArray[0];\\n\\t\\t\\t\\t\\t\\tvar slug = itemArray[1];\\n                        if (item) {\\n\\t\\t\\t\\t\\t\\t\\t\\n\\t\\t\\t\\t\\t\\t\\t\\t\\t\\t\\t\\t\\t\\t\\n\\t\\t\\t\\t\\t\\t\\t\\twindow.location = \"https://www.macrotrends.net/stocks/charts/\" + ticker + \"/\" + slug + \"/revenue\";\\n\\t\\t\\t\\t\\t\\t\\t\\n\\t\\t\\t\\t\\t\\t\\t                        }\\n                    }\\n                });\\n            });\\n        </script>\\n        <input id=\"jqxInput\" autocomplete=\"off\"/>\\n\\n\\t\\t</div>\\n\\t\\t\\t\\t\\n\\t\\t<div style=\"width:280px; margin-top: -32px; margin-left:80px; border-bottom:none; float:right;\">\\n\\t\\t\\n\\t\\t\\n<button id=\"compareStocks\" style=\"margin-right:15px;\" class=\"chart_buttons btn btn-success btn-sm\"><span class=\"glyphicon glyphicon-stats\"></span>&nbsp;&nbsp;<strong>Compare TSLA With Other Stocks</strong></button>&nbsp;&nbsp;\\n\\n</div>\\t\\n\\t\\t\\n\\t\\t</div>\\n\\t\\t\\n\\t\\t<div style=\"height:690px; background-color:#fff; border:1px solid #dfdfdf;\">\\n\\t\\t\\n<iframe id=\"chart_iframe\" title=\"Interactive chart: Tesla Revenue 2010-2022 | TSLA\" valign=\"middle\" margin=\"0px\" width=\"800\" height=\"680\" marginheight=0 marginwidth=0 frameborder=0 vspace=0 hspace=0 scrolling=NO  src=\"https://www.macrotrends.net/assets/php/fundamental_iframe.php?t=TSLA&type=revenue&statement=income-statement&freq=Q\"></iframe>\\t\\n\\t\\n\\t\\t\\n\\t\\t</div>\\n\\t\\t\\n\\t\\t\\n\\n\\t\\t\\t<div id=\"ic_video_ad\" style=\"height:317px; margin:30px;\">\\n\\t\\t\\t\\n\\t\\t\\t\\n\\t\\t\\t\\t<div id=\"IC_D_3x6\"></div>\\n\\t\\t\\t\\t\\t\\t\\n\\t\\t\\t\\n\\t\\t\\t</div>\\n\\n\\t\\t\\t\\n\\n\\t\\t\\t<div style=\"background-color:#fff; margin: 30px 0px; padding:10px 30px; border:1px solid #dfdfdf;\">\\n\\t\\t\\n\\t\\t\\n\\t\\t\\t<iframe id=\"dianomi_below_chart\" valign=\"middle\" width=\"100%\" height=\"300\" marginheight=0 marginwidth=0 frameborder=0 vspace=0 hspace=0 scrolling=NO  src=\"//www.dianomi.com/smartads.epl?id=4057\"></iframe>\\n\\n\\t\\t\\t<!--<div id=\"IC_D_3x7_BCC\"></div>-->\\n\\t\\t\\t\\n\\t\\t\\n\\t\\t</div>\\t\\t\\n\\n\\t\\t\\t\\n \\n\\t\\t\\t\\n\\t\\t\\t<div id=\"style-1\" style=\"background-color:#fff; height:510px; overflow:auto; margin: 30px 0px 30px 0px; padding:0px 30px 20px 0px; border:1px solid #dfdfdf;\">\\n\\t\\t\\t\\n\\t\\t\\t  \\t<div class=\"col-xs-6\">\\n\\t\\t\\t\\n\\t\\t\\t\\t<table class=\"historical_data_table table\">\\n\\t\\t\\t\\t<thead>\\n\\t\\t\\t\\t  <tr>\\n\\t\\t\\t\\t\\t<th colspan=2 style=\"text-align:center\">Tesla Annual Revenue<br /><span style=\"font-size:14px;\">(Millions of US $)</span></th>\\n\\t\\t\\t\\t  </tr>\\n\\t\\t\\t\\t</thead>\\t\\t\\t\\t\\t\\n\\t\\t\\t\\t<tbody>\\n\\t\\t\\t\\t\\t\\t\\t\\t\\n\\t\\t\\t\\t\\t\\t\\t\\t\\t\\t\\t\\t\\n\\t\\t\\t\\t<tr>\\n\\t\\t\\t\\t\\t<td style=\"text-align:center\">2021</td>\\n\\t\\t\\t\\t\\n\\t\\t\\t\\t\\n\\t\\t\\t\\t\\n\\t\\t\\t\\t\\t\\t\\t\\t\\t\\t<td style=\"text-align:center\">$53,823</td>\\n\\t\\t\\t\\t\\n\\t\\t\\t\\t\\t\\t\\t\\t\\n\\t\\t\\t\\t</tr>\\n\\t\\t\\t\\t  \\n\\t\\t\\t\\t\\t\\t\\t\\t\\t\\t\\t\\t\\n\\t\\t\\t\\t<tr>\\n\\t\\t\\t\\t\\t<td style=\"text-align:center\">2020</td>\\n\\t\\t\\t\\t\\n\\t\\t\\t\\t\\n\\t\\t\\t\\t\\n\\t\\t\\t\\t\\t\\t\\t\\t\\t\\t<td style=\"text-align:center\">$31,536</td>\\n\\t\\t\\t\\t\\n\\t\\t\\t\\t\\t\\t\\t\\t\\n\\t\\t\\t\\t</tr>\\n\\t\\t\\t\\t  \\n\\t\\t\\t\\t\\t\\t\\t\\t\\t\\t\\t\\t\\n\\t\\t\\t\\t<tr>\\n\\t\\t\\t\\t\\t<td style=\"text-align:center\">2019</td>\\n\\t\\t\\t\\t\\n\\t\\t\\t\\t\\n\\t\\t\\t\\t\\n\\t\\t\\t\\t\\t\\t\\t\\t\\t\\t<td style=\"text-align:center\">$24,578</td>\\n\\t\\t\\t\\t\\n\\t\\t\\t\\t\\t\\t\\t\\t\\n\\t\\t\\t\\t</tr>\\n\\t\\t\\t\\t  \\n\\t\\t\\t\\t\\t\\t\\t\\t\\t\\t\\t\\t\\n\\t\\t\\t\\t<tr>\\n\\t\\t\\t\\t\\t<td style=\"text-align:center\">2018</td>\\n\\t\\t\\t\\t\\n\\t\\t\\t\\t\\n\\t\\t\\t\\t\\n\\t\\t\\t\\t\\t\\t\\t\\t\\t\\t<td style=\"text-align:center\">$21,461</td>\\n\\t\\t\\t\\t\\n\\t\\t\\t\\t\\t\\t\\t\\t\\n\\t\\t\\t\\t</tr>\\n\\t\\t\\t\\t  \\n\\t\\t\\t\\t\\t\\t\\t\\t\\t\\t\\t\\t\\n\\t\\t\\t\\t<tr>\\n\\t\\t\\t\\t\\t<td style=\"text-align:center\">2017</td>\\n\\t\\t\\t\\t\\n\\t\\t\\t\\t\\n\\t\\t\\t\\t\\n\\t\\t\\t\\t\\t\\t\\t\\t\\t\\t<td style=\"text-align:center\">$11,759</td>\\n\\t\\t\\t\\t\\n\\t\\t\\t\\t\\t\\t\\t\\t\\n\\t\\t\\t\\t</tr>\\n\\t\\t\\t\\t  \\n\\t\\t\\t\\t\\t\\t\\t\\t\\t\\t\\t\\t\\n\\t\\t\\t\\t<tr>\\n\\t\\t\\t\\t\\t<td style=\"text-align:center\">2016</td>\\n\\t\\t\\t\\t\\n\\t\\t\\t\\t\\n\\t\\t\\t\\t\\n\\t\\t\\t\\t\\t\\t\\t\\t\\t\\t<td style=\"text-align:center\">$7,000</td>\\n\\t\\t\\t\\t\\n\\t\\t\\t\\t\\t\\t\\t\\t\\n\\t\\t\\t\\t</tr>\\n\\t\\t\\t\\t  \\n\\t\\t\\t\\t\\t\\t\\t\\t\\t\\t\\t\\t\\n\\t\\t\\t\\t<tr>\\n\\t\\t\\t\\t\\t<td style=\"text-align:center\">2015</td>\\n\\t\\t\\t\\t\\n\\t\\t\\t\\t\\n\\t\\t\\t\\t\\n\\t\\t\\t\\t\\t\\t\\t\\t\\t\\t<td style=\"text-align:center\">$4,046</td>\\n\\t\\t\\t\\t\\n\\t\\t\\t\\t\\t\\t\\t\\t\\n\\t\\t\\t\\t</tr>\\n\\t\\t\\t\\t  \\n\\t\\t\\t\\t\\t\\t\\t\\t\\t\\t\\t\\t\\n\\t\\t\\t\\t<tr>\\n\\t\\t\\t\\t\\t<td style=\"text-align:center\">2014</td>\\n\\t\\t\\t\\t\\n\\t\\t\\t\\t\\n\\t\\t\\t\\t\\n\\t\\t\\t\\t\\t\\t\\t\\t\\t\\t<td style=\"text-align:center\">$3,198</td>\\n\\t\\t\\t\\t\\n\\t\\t\\t\\t\\t\\t\\t\\t\\n\\t\\t\\t\\t</tr>\\n\\t\\t\\t\\t  \\n\\t\\t\\t\\t\\t\\t\\t\\t\\t\\t\\t\\t\\n\\t\\t\\t\\t<tr>\\n\\t\\t\\t\\t\\t<td style=\"text-align:center\">2013</td>\\n\\t\\t\\t\\t\\n\\t\\t\\t\\t\\n\\t\\t\\t\\t\\n\\t\\t\\t\\t\\t\\t\\t\\t\\t\\t<td style=\"text-align:center\">$2,013</td>\\n\\t\\t\\t\\t\\n\\t\\t\\t\\t\\t\\t\\t\\t\\n\\t\\t\\t\\t</tr>\\n\\t\\t\\t\\t  \\n\\t\\t\\t\\t\\t\\t\\t\\t\\t\\t\\t\\t\\n\\t\\t\\t\\t<tr>\\n\\t\\t\\t\\t\\t<td style=\"text-align:center\">2012</td>\\n\\t\\t\\t\\t\\n\\t\\t\\t\\t\\n\\t\\t\\t\\t\\n\\t\\t\\t\\t\\t\\t\\t\\t\\t\\t<td style=\"text-align:center\">$413</td>\\n\\t\\t\\t\\t\\n\\t\\t\\t\\t\\t\\t\\t\\t\\n\\t\\t\\t\\t</tr>\\n\\t\\t\\t\\t  \\n\\t\\t\\t\\t\\t\\t\\t\\t\\t\\t\\t\\t\\n\\t\\t\\t\\t<tr>\\n\\t\\t\\t\\t\\t<td style=\"text-align:center\">2011</td>\\n\\t\\t\\t\\t\\n\\t\\t\\t\\t\\n\\t\\t\\t\\t\\n\\t\\t\\t\\t\\t\\t\\t\\t\\t\\t<td style=\"text-align:center\">$204</td>\\n\\t\\t\\t\\t\\n\\t\\t\\t\\t\\t\\t\\t\\t\\n\\t\\t\\t\\t</tr>\\n\\t\\t\\t\\t  \\n\\t\\t\\t\\t\\t\\t\\t\\t\\t\\t\\t\\t\\n\\t\\t\\t\\t<tr>\\n\\t\\t\\t\\t\\t<td style=\"text-align:center\">2010</td>\\n\\t\\t\\t\\t\\n\\t\\t\\t\\t\\n\\t\\t\\t\\t\\n\\t\\t\\t\\t\\t\\t\\t\\t\\t\\t<td style=\"text-align:center\">$117</td>\\n\\t\\t\\t\\t\\n\\t\\t\\t\\t\\t\\t\\t\\t\\n\\t\\t\\t\\t</tr>\\n\\t\\t\\t\\t  \\n\\t\\t\\t\\t\\t\\t\\t\\t\\t\\t\\t\\t\\n\\t\\t\\t\\t<tr>\\n\\t\\t\\t\\t\\t<td style=\"text-align:center\">2009</td>\\n\\t\\t\\t\\t\\n\\t\\t\\t\\t\\n\\t\\t\\t\\t\\n\\t\\t\\t\\t\\t\\t\\t\\t\\t\\t<td style=\"text-align:center\">$112</td>\\n\\t\\t\\t\\t\\n\\t\\t\\t\\t\\t\\t\\t\\t\\n\\t\\t\\t\\t</tr>\\n\\t\\t\\t\\t  \\n\\t\\t\\t\\t  \\n\\t\\t\\t\\t</tbody>\\n\\t\\t\\t  </table>\\n\\t\\t\\t  \\n\\t\\t\\t  </div>\\n\\n\\t\\t\\t  <div class=\"col-xs-6\">\\n\\t\\t\\t\\n\\t\\t\\t\\t<table class=\"historical_data_table table\">\\n\\t\\t\\t\\t<thead>\\n\\t\\t\\t\\t  <tr>\\n\\t\\t\\t\\t\\t<th colspan=2 style=\"text-align:center\">Tesla Quarterly Revenue<br /><span style=\"font-size:14px;\">(Millions of US $)</span></th>\\n\\t\\t\\t\\t  </tr>\\n\\t\\t\\t\\t</thead>\\t\\t\\t\\t\\n\\t\\t\\t\\t<tbody>\\n\\t\\t\\t\\t\\n\\t\\t\\t\\t\\t\\t\\t\\t\\t\\t\\t\\t\\n\\t\\t\\t\\t<tr>\\n\\t\\t\\t\\t\\t<td style=\"text-align:center\">2022-09-30</td>\\n\\t\\t\\t\\t\\n\\t\\t\\t\\t\\n\\t\\t\\t\\t\\n\\t\\t\\t\\t\\t\\t\\t\\t\\t\\t\\n\\t\\t\\t\\t\\t\\t\\t\\t\\t\\t\\n\\t\\t\\t\\t\\t\\t<td style=\"text-align:center\">$21,454</td>\\n\\t\\t\\t\\t\\t\\t\\n\\t\\t\\t\\t\\t\\t\\t\\t\\t\\n\\t\\t\\t\\t\\t\\t\\t\\t\\n\\t\\t\\t\\t  </tr>\\n\\t\\t\\t\\t  \\n\\t\\t\\t\\t\\t\\t\\t\\t\\t\\t\\t\\t\\n\\t\\t\\t\\t<tr>\\n\\t\\t\\t\\t\\t<td style=\"text-align:center\">2022-06-30</td>\\n\\t\\t\\t\\t\\n\\t\\t\\t\\t\\n\\t\\t\\t\\t\\n\\t\\t\\t\\t\\t\\t\\t\\t\\t\\t\\n\\t\\t\\t\\t\\t\\t\\t\\t\\t\\t\\n\\t\\t\\t\\t\\t\\t<td style=\"text-align:center\">$16,934</td>\\n\\t\\t\\t\\t\\t\\t\\n\\t\\t\\t\\t\\t\\t\\t\\t\\t\\n\\t\\t\\t\\t\\t\\t\\t\\t\\n\\t\\t\\t\\t  </tr>\\n\\t\\t\\t\\t  \\n\\t\\t\\t\\t\\t\\t\\t\\t\\t\\t\\t\\t\\n\\t\\t\\t\\t<tr>\\n\\t\\t\\t\\t\\t<td style=\"text-align:center\">2022-03-31</td>\\n\\t\\t\\t\\t\\n\\t\\t\\t\\t\\n\\t\\t\\t\\t\\n\\t\\t\\t\\t\\t\\t\\t\\t\\t\\t\\n\\t\\t\\t\\t\\t\\t\\t\\t\\t\\t\\n\\t\\t\\t\\t\\t\\t<td style=\"text-align:center\">$18,756</td>\\n\\t\\t\\t\\t\\t\\t\\n\\t\\t\\t\\t\\t\\t\\t\\t\\t\\n\\t\\t\\t\\t\\t\\t\\t\\t\\n\\t\\t\\t\\t  </tr>\\n\\t\\t\\t\\t  \\n\\t\\t\\t\\t\\t\\t\\t\\t\\t\\t\\t\\t\\n\\t\\t\\t\\t<tr>\\n\\t\\t\\t\\t\\t<td style=\"text-align:center\">2021-12-31</td>\\n\\t\\t\\t\\t\\n\\t\\t\\t\\t\\n\\t\\t\\t\\t\\n\\t\\t\\t\\t\\t\\t\\t\\t\\t\\t\\n\\t\\t\\t\\t\\t\\t\\t\\t\\t\\t\\n\\t\\t\\t\\t\\t\\t<td style=\"text-align:center\">$17,719</td>\\n\\t\\t\\t\\t\\t\\t\\n\\t\\t\\t\\t\\t\\t\\t\\t\\t\\n\\t\\t\\t\\t\\t\\t\\t\\t\\n\\t\\t\\t\\t  </tr>\\n\\t\\t\\t\\t  \\n\\t\\t\\t\\t\\t\\t\\t\\t\\t\\t\\t\\t\\n\\t\\t\\t\\t<tr>\\n\\t\\t\\t\\t\\t<td style=\"text-align:center\">2021-09-30</td>\\n\\t\\t\\t\\t\\n\\t\\t\\t\\t\\n\\t\\t\\t\\t\\n\\t\\t\\t\\t\\t\\t\\t\\t\\t\\t\\n\\t\\t\\t\\t\\t\\t\\t\\t\\t\\t\\n\\t\\t\\t\\t\\t\\t<td style=\"text-align:center\">$13,757</td>\\n\\t\\t\\t\\t\\t\\t\\n\\t\\t\\t\\t\\t\\t\\t\\t\\t\\n\\t\\t\\t\\t\\t\\t\\t\\t\\n\\t\\t\\t\\t  </tr>\\n\\t\\t\\t\\t  \\n\\t\\t\\t\\t\\t\\t\\t\\t\\t\\t\\t\\t\\n\\t\\t\\t\\t<tr>\\n\\t\\t\\t\\t\\t<td style=\"text-align:center\">2021-06-30</td>\\n\\t\\t\\t\\t\\n\\t\\t\\t\\t\\n\\t\\t\\t\\t\\n\\t\\t\\t\\t\\t\\t\\t\\t\\t\\t\\n\\t\\t\\t\\t\\t\\t\\t\\t\\t\\t\\n\\t\\t\\t\\t\\t\\t<td style=\"text-align:center\">$11,958</td>\\n\\t\\t\\t\\t\\t\\t\\n\\t\\t\\t\\t\\t\\t\\t\\t\\t\\n\\t\\t\\t\\t\\t\\t\\t\\t\\n\\t\\t\\t\\t  </tr>\\n\\t\\t\\t\\t  \\n\\t\\t\\t\\t\\t\\t\\t\\t\\t\\t\\t\\t\\n\\t\\t\\t\\t<tr>\\n\\t\\t\\t\\t\\t<td style=\"text-align:center\">2021-03-31</td>\\n\\t\\t\\t\\t\\n\\t\\t\\t\\t\\n\\t\\t\\t\\t\\n\\t\\t\\t\\t\\t\\t\\t\\t\\t\\t\\n\\t\\t\\t\\t\\t\\t\\t\\t\\t\\t\\n\\t\\t\\t\\t\\t\\t<td style=\"text-align:center\">$10,389</td>\\n\\t\\t\\t\\t\\t\\t\\n\\t\\t\\t\\t\\t\\t\\t\\t\\t\\n\\t\\t\\t\\t\\t\\t\\t\\t\\n\\t\\t\\t\\t  </tr>\\n\\t\\t\\t\\t  \\n\\t\\t\\t\\t\\t\\t\\t\\t\\t\\t\\t\\t\\n\\t\\t\\t\\t<tr>\\n\\t\\t\\t\\t\\t<td style=\"text-align:center\">2020-12-31</td>\\n\\t\\t\\t\\t\\n\\t\\t\\t\\t\\n\\t\\t\\t\\t\\n\\t\\t\\t\\t\\t\\t\\t\\t\\t\\t\\n\\t\\t\\t\\t\\t\\t\\t\\t\\t\\t\\n\\t\\t\\t\\t\\t\\t<td style=\"text-align:center\">$10,744</td>\\n\\t\\t\\t\\t\\t\\t\\n\\t\\t\\t\\t\\t\\t\\t\\t\\t\\n\\t\\t\\t\\t\\t\\t\\t\\t\\n\\t\\t\\t\\t  </tr>\\n\\t\\t\\t\\t  \\n\\t\\t\\t\\t\\t\\t\\t\\t\\t\\t\\t\\t\\n\\t\\t\\t\\t<tr>\\n\\t\\t\\t\\t\\t<td style=\"text-align:center\">2020-09-30</td>\\n\\t\\t\\t\\t\\n\\t\\t\\t\\t\\n\\t\\t\\t\\t\\n\\t\\t\\t\\t\\t\\t\\t\\t\\t\\t\\n\\t\\t\\t\\t\\t\\t\\t\\t\\t\\t\\n\\t\\t\\t\\t\\t\\t<td style=\"text-align:center\">$8,771</td>\\n\\t\\t\\t\\t\\t\\t\\n\\t\\t\\t\\t\\t\\t\\t\\t\\t\\n\\t\\t\\t\\t\\t\\t\\t\\t\\n\\t\\t\\t\\t  </tr>\\n\\t\\t\\t\\t  \\n\\t\\t\\t\\t\\t\\t\\t\\t\\t\\t\\t\\t\\n\\t\\t\\t\\t<tr>\\n\\t\\t\\t\\t\\t<td style=\"text-align:center\">2020-06-30</td>\\n\\t\\t\\t\\t\\n\\t\\t\\t\\t\\n\\t\\t\\t\\t\\n\\t\\t\\t\\t\\t\\t\\t\\t\\t\\t\\n\\t\\t\\t\\t\\t\\t\\t\\t\\t\\t\\n\\t\\t\\t\\t\\t\\t<td style=\"text-align:center\">$6,036</td>\\n\\t\\t\\t\\t\\t\\t\\n\\t\\t\\t\\t\\t\\t\\t\\t\\t\\n\\t\\t\\t\\t\\t\\t\\t\\t\\n\\t\\t\\t\\t  </tr>\\n\\t\\t\\t\\t  \\n\\t\\t\\t\\t\\t\\t\\t\\t\\t\\t\\t\\t\\n\\t\\t\\t\\t<tr>\\n\\t\\t\\t\\t\\t<td style=\"text-align:center\">2020-03-31</td>\\n\\t\\t\\t\\t\\n\\t\\t\\t\\t\\n\\t\\t\\t\\t\\n\\t\\t\\t\\t\\t\\t\\t\\t\\t\\t\\n\\t\\t\\t\\t\\t\\t\\t\\t\\t\\t\\n\\t\\t\\t\\t\\t\\t<td style=\"text-align:center\">$5,985</td>\\n\\t\\t\\t\\t\\t\\t\\n\\t\\t\\t\\t\\t\\t\\t\\t\\t\\n\\t\\t\\t\\t\\t\\t\\t\\t\\n\\t\\t\\t\\t  </tr>\\n\\t\\t\\t\\t  \\n\\t\\t\\t\\t\\t\\t\\t\\t\\t\\t\\t\\t\\n\\t\\t\\t\\t<tr>\\n\\t\\t\\t\\t\\t<td style=\"text-align:center\">2019-12-31</td>\\n\\t\\t\\t\\t\\n\\t\\t\\t\\t\\n\\t\\t\\t\\t\\n\\t\\t\\t\\t\\t\\t\\t\\t\\t\\t\\n\\t\\t\\t\\t\\t\\t\\t\\t\\t\\t\\n\\t\\t\\t\\t\\t\\t<td style=\"text-align:center\">$7,384</td>\\n\\t\\t\\t\\t\\t\\t\\n\\t\\t\\t\\t\\t\\t\\t\\t\\t\\n\\t\\t\\t\\t\\t\\t\\t\\t\\n\\t\\t\\t\\t  </tr>\\n\\t\\t\\t\\t  \\n\\t\\t\\t\\t\\t\\t\\t\\t\\t\\t\\t\\t\\n\\t\\t\\t\\t<tr>\\n\\t\\t\\t\\t\\t<td style=\"text-align:center\">2019-09-30</td>\\n\\t\\t\\t\\t\\n\\t\\t\\t\\t\\n\\t\\t\\t\\t\\n\\t\\t\\t\\t\\t\\t\\t\\t\\t\\t\\n\\t\\t\\t\\t\\t\\t\\t\\t\\t\\t\\n\\t\\t\\t\\t\\t\\t<td style=\"text-align:center\">$6,303</td>\\n\\t\\t\\t\\t\\t\\t\\n\\t\\t\\t\\t\\t\\t\\t\\t\\t\\n\\t\\t\\t\\t\\t\\t\\t\\t\\n\\t\\t\\t\\t  </tr>\\n\\t\\t\\t\\t  \\n\\t\\t\\t\\t\\t\\t\\t\\t\\t\\t\\t\\t\\n\\t\\t\\t\\t<tr>\\n\\t\\t\\t\\t\\t<td style=\"text-align:center\">2019-06-30</td>\\n\\t\\t\\t\\t\\n\\t\\t\\t\\t\\n\\t\\t\\t\\t\\n\\t\\t\\t\\t\\t\\t\\t\\t\\t\\t\\n\\t\\t\\t\\t\\t\\t\\t\\t\\t\\t\\n\\t\\t\\t\\t\\t\\t<td style=\"text-align:center\">$6,350</td>\\n\\t\\t\\t\\t\\t\\t\\n\\t\\t\\t\\t\\t\\t\\t\\t\\t\\n\\t\\t\\t\\t\\t\\t\\t\\t\\n\\t\\t\\t\\t  </tr>\\n\\t\\t\\t\\t  \\n\\t\\t\\t\\t\\t\\t\\t\\t\\t\\t\\t\\t\\n\\t\\t\\t\\t<tr>\\n\\t\\t\\t\\t\\t<td style=\"text-align:center\">2019-03-31</td>\\n\\t\\t\\t\\t\\n\\t\\t\\t\\t\\n\\t\\t\\t\\t\\n\\t\\t\\t\\t\\t\\t\\t\\t\\t\\t\\n\\t\\t\\t\\t\\t\\t\\t\\t\\t\\t\\n\\t\\t\\t\\t\\t\\t<td style=\"text-align:center\">$4,541</td>\\n\\t\\t\\t\\t\\t\\t\\n\\t\\t\\t\\t\\t\\t\\t\\t\\t\\n\\t\\t\\t\\t\\t\\t\\t\\t\\n\\t\\t\\t\\t  </tr>\\n\\t\\t\\t\\t  \\n\\t\\t\\t\\t\\t\\t\\t\\t\\t\\t\\t\\t\\n\\t\\t\\t\\t<tr>\\n\\t\\t\\t\\t\\t<td style=\"text-align:center\">2018-12-31</td>\\n\\t\\t\\t\\t\\n\\t\\t\\t\\t\\n\\t\\t\\t\\t\\n\\t\\t\\t\\t\\t\\t\\t\\t\\t\\t\\n\\t\\t\\t\\t\\t\\t\\t\\t\\t\\t\\n\\t\\t\\t\\t\\t\\t<td style=\"text-align:center\">$7,226</td>\\n\\t\\t\\t\\t\\t\\t\\n\\t\\t\\t\\t\\t\\t\\t\\t\\t\\n\\t\\t\\t\\t\\t\\t\\t\\t\\n\\t\\t\\t\\t  </tr>\\n\\t\\t\\t\\t  \\n\\t\\t\\t\\t\\t\\t\\t\\t\\t\\t\\t\\t\\n\\t\\t\\t\\t<tr>\\n\\t\\t\\t\\t\\t<td style=\"text-align:center\">2018-09-30</td>\\n\\t\\t\\t\\t\\n\\t\\t\\t\\t\\n\\t\\t\\t\\t\\n\\t\\t\\t\\t\\t\\t\\t\\t\\t\\t\\n\\t\\t\\t\\t\\t\\t\\t\\t\\t\\t\\n\\t\\t\\t\\t\\t\\t<td style=\"text-align:center\">$6,824</td>\\n\\t\\t\\t\\t\\t\\t\\n\\t\\t\\t\\t\\t\\t\\t\\t\\t\\n\\t\\t\\t\\t\\t\\t\\t\\t\\n\\t\\t\\t\\t  </tr>\\n\\t\\t\\t\\t  \\n\\t\\t\\t\\t\\t\\t\\t\\t\\t\\t\\t\\t\\n\\t\\t\\t\\t<tr>\\n\\t\\t\\t\\t\\t<td style=\"text-align:center\">2018-06-30</td>\\n\\t\\t\\t\\t\\n\\t\\t\\t\\t\\n\\t\\t\\t\\t\\n\\t\\t\\t\\t\\t\\t\\t\\t\\t\\t\\n\\t\\t\\t\\t\\t\\t\\t\\t\\t\\t\\n\\t\\t\\t\\t\\t\\t<td style=\"text-align:center\">$4,002</td>\\n\\t\\t\\t\\t\\t\\t\\n\\t\\t\\t\\t\\t\\t\\t\\t\\t\\n\\t\\t\\t\\t\\t\\t\\t\\t\\n\\t\\t\\t\\t  </tr>\\n\\t\\t\\t\\t  \\n\\t\\t\\t\\t\\t\\t\\t\\t\\t\\t\\t\\t\\n\\t\\t\\t\\t<tr>\\n\\t\\t\\t\\t\\t<td style=\"text-align:center\">2018-03-31</td>\\n\\t\\t\\t\\t\\n\\t\\t\\t\\t\\n\\t\\t\\t\\t\\n\\t\\t\\t\\t\\t\\t\\t\\t\\t\\t\\n\\t\\t\\t\\t\\t\\t\\t\\t\\t\\t\\n\\t\\t\\t\\t\\t\\t<td style=\"text-align:center\">$3,409</td>\\n\\t\\t\\t\\t\\t\\t\\n\\t\\t\\t\\t\\t\\t\\t\\t\\t\\n\\t\\t\\t\\t\\t\\t\\t\\t\\n\\t\\t\\t\\t  </tr>\\n\\t\\t\\t\\t  \\n\\t\\t\\t\\t\\t\\t\\t\\t\\t\\t\\t\\t\\n\\t\\t\\t\\t<tr>\\n\\t\\t\\t\\t\\t<td style=\"text-align:center\">2017-12-31</td>\\n\\t\\t\\t\\t\\n\\t\\t\\t\\t\\n\\t\\t\\t\\t\\n\\t\\t\\t\\t\\t\\t\\t\\t\\t\\t\\n\\t\\t\\t\\t\\t\\t\\t\\t\\t\\t\\n\\t\\t\\t\\t\\t\\t<td style=\"text-align:center\">$3,288</td>\\n\\t\\t\\t\\t\\t\\t\\n\\t\\t\\t\\t\\t\\t\\t\\t\\t\\n\\t\\t\\t\\t\\t\\t\\t\\t\\n\\t\\t\\t\\t  </tr>\\n\\t\\t\\t\\t  \\n\\t\\t\\t\\t\\t\\t\\t\\t\\t\\t\\t\\t\\n\\t\\t\\t\\t<tr>\\n\\t\\t\\t\\t\\t<td style=\"text-align:center\">2017-09-30</td>\\n\\t\\t\\t\\t\\n\\t\\t\\t\\t\\n\\t\\t\\t\\t\\n\\t\\t\\t\\t\\t\\t\\t\\t\\t\\t\\n\\t\\t\\t\\t\\t\\t\\t\\t\\t\\t\\n\\t\\t\\t\\t\\t\\t<td style=\"text-align:center\">$2,985</td>\\n\\t\\t\\t\\t\\t\\t\\n\\t\\t\\t\\t\\t\\t\\t\\t\\t\\n\\t\\t\\t\\t\\t\\t\\t\\t\\n\\t\\t\\t\\t  </tr>\\n\\t\\t\\t\\t  \\n\\t\\t\\t\\t\\t\\t\\t\\t\\t\\t\\t\\t\\n\\t\\t\\t\\t<tr>\\n\\t\\t\\t\\t\\t<td style=\"text-align:center\">2017-06-30</td>\\n\\t\\t\\t\\t\\n\\t\\t\\t\\t\\n\\t\\t\\t\\t\\n\\t\\t\\t\\t\\t\\t\\t\\t\\t\\t\\n\\t\\t\\t\\t\\t\\t\\t\\t\\t\\t\\n\\t\\t\\t\\t\\t\\t<td style=\"text-align:center\">$2,790</td>\\n\\t\\t\\t\\t\\t\\t\\n\\t\\t\\t\\t\\t\\t\\t\\t\\t\\n\\t\\t\\t\\t\\t\\t\\t\\t\\n\\t\\t\\t\\t  </tr>\\n\\t\\t\\t\\t  \\n\\t\\t\\t\\t\\t\\t\\t\\t\\t\\t\\t\\t\\n\\t\\t\\t\\t<tr>\\n\\t\\t\\t\\t\\t<td style=\"text-align:center\">2017-03-31</td>\\n\\t\\t\\t\\t\\n\\t\\t\\t\\t\\n\\t\\t\\t\\t\\n\\t\\t\\t\\t\\t\\t\\t\\t\\t\\t\\n\\t\\t\\t\\t\\t\\t\\t\\t\\t\\t\\n\\t\\t\\t\\t\\t\\t<td style=\"text-align:center\">$2,696</td>\\n\\t\\t\\t\\t\\t\\t\\n\\t\\t\\t\\t\\t\\t\\t\\t\\t\\n\\t\\t\\t\\t\\t\\t\\t\\t\\n\\t\\t\\t\\t  </tr>\\n\\t\\t\\t\\t  \\n\\t\\t\\t\\t\\t\\t\\t\\t\\t\\t\\t\\t\\n\\t\\t\\t\\t<tr>\\n\\t\\t\\t\\t\\t<td style=\"text-align:center\">2016-12-31</td>\\n\\t\\t\\t\\t\\n\\t\\t\\t\\t\\n\\t\\t\\t\\t\\n\\t\\t\\t\\t\\t\\t\\t\\t\\t\\t\\n\\t\\t\\t\\t\\t\\t\\t\\t\\t\\t\\n\\t\\t\\t\\t\\t\\t<td style=\"text-align:center\">$2,285</td>\\n\\t\\t\\t\\t\\t\\t\\n\\t\\t\\t\\t\\t\\t\\t\\t\\t\\n\\t\\t\\t\\t\\t\\t\\t\\t\\n\\t\\t\\t\\t  </tr>\\n\\t\\t\\t\\t  \\n\\t\\t\\t\\t\\t\\t\\t\\t\\t\\t\\t\\t\\n\\t\\t\\t\\t<tr>\\n\\t\\t\\t\\t\\t<td style=\"text-align:center\">2016-09-30</td>\\n\\t\\t\\t\\t\\n\\t\\t\\t\\t\\n\\t\\t\\t\\t\\n\\t\\t\\t\\t\\t\\t\\t\\t\\t\\t\\n\\t\\t\\t\\t\\t\\t\\t\\t\\t\\t\\n\\t\\t\\t\\t\\t\\t<td style=\"text-align:center\">$2,298</td>\\n\\t\\t\\t\\t\\t\\t\\n\\t\\t\\t\\t\\t\\t\\t\\t\\t\\n\\t\\t\\t\\t\\t\\t\\t\\t\\n\\t\\t\\t\\t  </tr>\\n\\t\\t\\t\\t  \\n\\t\\t\\t\\t\\t\\t\\t\\t\\t\\t\\t\\t\\n\\t\\t\\t\\t<tr>\\n\\t\\t\\t\\t\\t<td style=\"text-align:center\">2016-06-30</td>\\n\\t\\t\\t\\t\\n\\t\\t\\t\\t\\n\\t\\t\\t\\t\\n\\t\\t\\t\\t\\t\\t\\t\\t\\t\\t\\n\\t\\t\\t\\t\\t\\t\\t\\t\\t\\t\\n\\t\\t\\t\\t\\t\\t<td style=\"text-align:center\">$1,270</td>\\n\\t\\t\\t\\t\\t\\t\\n\\t\\t\\t\\t\\t\\t\\t\\t\\t\\n\\t\\t\\t\\t\\t\\t\\t\\t\\n\\t\\t\\t\\t  </tr>\\n\\t\\t\\t\\t  \\n\\t\\t\\t\\t\\t\\t\\t\\t\\t\\t\\t\\t\\n\\t\\t\\t\\t<tr>\\n\\t\\t\\t\\t\\t<td style=\"text-align:center\">2016-03-31</td>\\n\\t\\t\\t\\t\\n\\t\\t\\t\\t\\n\\t\\t\\t\\t\\n\\t\\t\\t\\t\\t\\t\\t\\t\\t\\t\\n\\t\\t\\t\\t\\t\\t\\t\\t\\t\\t\\n\\t\\t\\t\\t\\t\\t<td style=\"text-align:center\">$1,147</td>\\n\\t\\t\\t\\t\\t\\t\\n\\t\\t\\t\\t\\t\\t\\t\\t\\t\\n\\t\\t\\t\\t\\t\\t\\t\\t\\n\\t\\t\\t\\t  </tr>\\n\\t\\t\\t\\t  \\n\\t\\t\\t\\t\\t\\t\\t\\t\\t\\t\\t\\t\\n\\t\\t\\t\\t<tr>\\n\\t\\t\\t\\t\\t<td style=\"text-align:center\">2015-12-31</td>\\n\\t\\t\\t\\t\\n\\t\\t\\t\\t\\n\\t\\t\\t\\t\\n\\t\\t\\t\\t\\t\\t\\t\\t\\t\\t\\n\\t\\t\\t\\t\\t\\t\\t\\t\\t\\t\\n\\t\\t\\t\\t\\t\\t<td style=\"text-align:center\">$1,214</td>\\n\\t\\t\\t\\t\\t\\t\\n\\t\\t\\t\\t\\t\\t\\t\\t\\t\\n\\t\\t\\t\\t\\t\\t\\t\\t\\n\\t\\t\\t\\t  </tr>\\n\\t\\t\\t\\t  \\n\\t\\t\\t\\t\\t\\t\\t\\t\\t\\t\\t\\t\\n\\t\\t\\t\\t<tr>\\n\\t\\t\\t\\t\\t<td style=\"text-align:center\">2015-09-30</td>\\n\\t\\t\\t\\t\\n\\t\\t\\t\\t\\n\\t\\t\\t\\t\\n\\t\\t\\t\\t\\t\\t\\t\\t\\t\\t\\n\\t\\t\\t\\t\\t\\t\\t\\t\\t\\t\\n\\t\\t\\t\\t\\t\\t<td style=\"text-align:center\">$937</td>\\n\\t\\t\\t\\t\\t\\t\\n\\t\\t\\t\\t\\t\\t\\t\\t\\t\\n\\t\\t\\t\\t\\t\\t\\t\\t\\n\\t\\t\\t\\t  </tr>\\n\\t\\t\\t\\t  \\n\\t\\t\\t\\t\\t\\t\\t\\t\\t\\t\\t\\t\\n\\t\\t\\t\\t<tr>\\n\\t\\t\\t\\t\\t<td style=\"text-align:center\">2015-06-30</td>\\n\\t\\t\\t\\t\\n\\t\\t\\t\\t\\n\\t\\t\\t\\t\\n\\t\\t\\t\\t\\t\\t\\t\\t\\t\\t\\n\\t\\t\\t\\t\\t\\t\\t\\t\\t\\t\\n\\t\\t\\t\\t\\t\\t<td style=\"text-align:center\">$955</td>\\n\\t\\t\\t\\t\\t\\t\\n\\t\\t\\t\\t\\t\\t\\t\\t\\t\\n\\t\\t\\t\\t\\t\\t\\t\\t\\n\\t\\t\\t\\t  </tr>\\n\\t\\t\\t\\t  \\n\\t\\t\\t\\t\\t\\t\\t\\t\\t\\t\\t\\t\\n\\t\\t\\t\\t<tr>\\n\\t\\t\\t\\t\\t<td style=\"text-align:center\">2015-03-31</td>\\n\\t\\t\\t\\t\\n\\t\\t\\t\\t\\n\\t\\t\\t\\t\\n\\t\\t\\t\\t\\t\\t\\t\\t\\t\\t\\n\\t\\t\\t\\t\\t\\t\\t\\t\\t\\t\\n\\t\\t\\t\\t\\t\\t<td style=\"text-align:center\">$940</td>\\n\\t\\t\\t\\t\\t\\t\\n\\t\\t\\t\\t\\t\\t\\t\\t\\t\\n\\t\\t\\t\\t\\t\\t\\t\\t\\n\\t\\t\\t\\t  </tr>\\n\\t\\t\\t\\t  \\n\\t\\t\\t\\t\\t\\t\\t\\t\\t\\t\\t\\t\\n\\t\\t\\t\\t<tr>\\n\\t\\t\\t\\t\\t<td style=\"text-align:center\">2014-12-31</td>\\n\\t\\t\\t\\t\\n\\t\\t\\t\\t\\n\\t\\t\\t\\t\\n\\t\\t\\t\\t\\t\\t\\t\\t\\t\\t\\n\\t\\t\\t\\t\\t\\t\\t\\t\\t\\t\\n\\t\\t\\t\\t\\t\\t<td style=\"text-align:center\">$957</td>\\n\\t\\t\\t\\t\\t\\t\\n\\t\\t\\t\\t\\t\\t\\t\\t\\t\\n\\t\\t\\t\\t\\t\\t\\t\\t\\n\\t\\t\\t\\t  </tr>\\n\\t\\t\\t\\t  \\n\\t\\t\\t\\t\\t\\t\\t\\t\\t\\t\\t\\t\\n\\t\\t\\t\\t<tr>\\n\\t\\t\\t\\t\\t<td style=\"text-align:center\">2014-09-30</td>\\n\\t\\t\\t\\t\\n\\t\\t\\t\\t\\n\\t\\t\\t\\t\\n\\t\\t\\t\\t\\t\\t\\t\\t\\t\\t\\n\\t\\t\\t\\t\\t\\t\\t\\t\\t\\t\\n\\t\\t\\t\\t\\t\\t<td style=\"text-align:center\">$852</td>\\n\\t\\t\\t\\t\\t\\t\\n\\t\\t\\t\\t\\t\\t\\t\\t\\t\\n\\t\\t\\t\\t\\t\\t\\t\\t\\n\\t\\t\\t\\t  </tr>\\n\\t\\t\\t\\t  \\n\\t\\t\\t\\t\\t\\t\\t\\t\\t\\t\\t\\t\\n\\t\\t\\t\\t<tr>\\n\\t\\t\\t\\t\\t<td style=\"text-align:center\">2014-06-30</td>\\n\\t\\t\\t\\t\\n\\t\\t\\t\\t\\n\\t\\t\\t\\t\\n\\t\\t\\t\\t\\t\\t\\t\\t\\t\\t\\n\\t\\t\\t\\t\\t\\t\\t\\t\\t\\t\\n\\t\\t\\t\\t\\t\\t<td style=\"text-align:center\">$769</td>\\n\\t\\t\\t\\t\\t\\t\\n\\t\\t\\t\\t\\t\\t\\t\\t\\t\\n\\t\\t\\t\\t\\t\\t\\t\\t\\n\\t\\t\\t\\t  </tr>\\n\\t\\t\\t\\t  \\n\\t\\t\\t\\t\\t\\t\\t\\t\\t\\t\\t\\t\\n\\t\\t\\t\\t<tr>\\n\\t\\t\\t\\t\\t<td style=\"text-align:center\">2014-03-31</td>\\n\\t\\t\\t\\t\\n\\t\\t\\t\\t\\n\\t\\t\\t\\t\\n\\t\\t\\t\\t\\t\\t\\t\\t\\t\\t\\n\\t\\t\\t\\t\\t\\t\\t\\t\\t\\t\\n\\t\\t\\t\\t\\t\\t<td style=\"text-align:center\">$621</td>\\n\\t\\t\\t\\t\\t\\t\\n\\t\\t\\t\\t\\t\\t\\t\\t\\t\\n\\t\\t\\t\\t\\t\\t\\t\\t\\n\\t\\t\\t\\t  </tr>\\n\\t\\t\\t\\t  \\n\\t\\t\\t\\t\\t\\t\\t\\t\\t\\t\\t\\t\\n\\t\\t\\t\\t<tr>\\n\\t\\t\\t\\t\\t<td style=\"text-align:center\">2013-12-31</td>\\n\\t\\t\\t\\t\\n\\t\\t\\t\\t\\n\\t\\t\\t\\t\\n\\t\\t\\t\\t\\t\\t\\t\\t\\t\\t\\n\\t\\t\\t\\t\\t\\t\\t\\t\\t\\t\\n\\t\\t\\t\\t\\t\\t<td style=\"text-align:center\">$615</td>\\n\\t\\t\\t\\t\\t\\t\\n\\t\\t\\t\\t\\t\\t\\t\\t\\t\\n\\t\\t\\t\\t\\t\\t\\t\\t\\n\\t\\t\\t\\t  </tr>\\n\\t\\t\\t\\t  \\n\\t\\t\\t\\t\\t\\t\\t\\t\\t\\t\\t\\t\\n\\t\\t\\t\\t<tr>\\n\\t\\t\\t\\t\\t<td style=\"text-align:center\">2013-09-30</td>\\n\\t\\t\\t\\t\\n\\t\\t\\t\\t\\n\\t\\t\\t\\t\\n\\t\\t\\t\\t\\t\\t\\t\\t\\t\\t\\n\\t\\t\\t\\t\\t\\t\\t\\t\\t\\t\\n\\t\\t\\t\\t\\t\\t<td style=\"text-align:center\">$431</td>\\n\\t\\t\\t\\t\\t\\t\\n\\t\\t\\t\\t\\t\\t\\t\\t\\t\\n\\t\\t\\t\\t\\t\\t\\t\\t\\n\\t\\t\\t\\t  </tr>\\n\\t\\t\\t\\t  \\n\\t\\t\\t\\t\\t\\t\\t\\t\\t\\t\\t\\t\\n\\t\\t\\t\\t<tr>\\n\\t\\t\\t\\t\\t<td style=\"text-align:center\">2013-06-30</td>\\n\\t\\t\\t\\t\\n\\t\\t\\t\\t\\n\\t\\t\\t\\t\\n\\t\\t\\t\\t\\t\\t\\t\\t\\t\\t\\n\\t\\t\\t\\t\\t\\t\\t\\t\\t\\t\\n\\t\\t\\t\\t\\t\\t<td style=\"text-align:center\">$405</td>\\n\\t\\t\\t\\t\\t\\t\\n\\t\\t\\t\\t\\t\\t\\t\\t\\t\\n\\t\\t\\t\\t\\t\\t\\t\\t\\n\\t\\t\\t\\t  </tr>\\n\\t\\t\\t\\t  \\n\\t\\t\\t\\t\\t\\t\\t\\t\\t\\t\\t\\t\\n\\t\\t\\t\\t<tr>\\n\\t\\t\\t\\t\\t<td style=\"text-align:center\">2013-03-31</td>\\n\\t\\t\\t\\t\\n\\t\\t\\t\\t\\n\\t\\t\\t\\t\\n\\t\\t\\t\\t\\t\\t\\t\\t\\t\\t\\n\\t\\t\\t\\t\\t\\t\\t\\t\\t\\t\\n\\t\\t\\t\\t\\t\\t<td style=\"text-align:center\">$562</td>\\n\\t\\t\\t\\t\\t\\t\\n\\t\\t\\t\\t\\t\\t\\t\\t\\t\\n\\t\\t\\t\\t\\t\\t\\t\\t\\n\\t\\t\\t\\t  </tr>\\n\\t\\t\\t\\t  \\n\\t\\t\\t\\t\\t\\t\\t\\t\\t\\t\\t\\t\\n\\t\\t\\t\\t<tr>\\n\\t\\t\\t\\t\\t<td style=\"text-align:center\">2012-12-31</td>\\n\\t\\t\\t\\t\\n\\t\\t\\t\\t\\n\\t\\t\\t\\t\\n\\t\\t\\t\\t\\t\\t\\t\\t\\t\\t\\n\\t\\t\\t\\t\\t\\t\\t\\t\\t\\t\\n\\t\\t\\t\\t\\t\\t<td style=\"text-align:center\">$306</td>\\n\\t\\t\\t\\t\\t\\t\\n\\t\\t\\t\\t\\t\\t\\t\\t\\t\\n\\t\\t\\t\\t\\t\\t\\t\\t\\n\\t\\t\\t\\t  </tr>\\n\\t\\t\\t\\t  \\n\\t\\t\\t\\t\\t\\t\\t\\t\\t\\t\\t\\t\\n\\t\\t\\t\\t<tr>\\n\\t\\t\\t\\t\\t<td style=\"text-align:center\">2012-09-30</td>\\n\\t\\t\\t\\t\\n\\t\\t\\t\\t\\n\\t\\t\\t\\t\\n\\t\\t\\t\\t\\t\\t\\t\\t\\t\\t\\n\\t\\t\\t\\t\\t\\t\\t\\t\\t\\t\\n\\t\\t\\t\\t\\t\\t<td style=\"text-align:center\">$50</td>\\n\\t\\t\\t\\t\\t\\t\\n\\t\\t\\t\\t\\t\\t\\t\\t\\t\\n\\t\\t\\t\\t\\t\\t\\t\\t\\n\\t\\t\\t\\t  </tr>\\n\\t\\t\\t\\t  \\n\\t\\t\\t\\t\\t\\t\\t\\t\\t\\t\\t\\t\\n\\t\\t\\t\\t<tr>\\n\\t\\t\\t\\t\\t<td style=\"text-align:center\">2012-06-30</td>\\n\\t\\t\\t\\t\\n\\t\\t\\t\\t\\n\\t\\t\\t\\t\\n\\t\\t\\t\\t\\t\\t\\t\\t\\t\\t\\n\\t\\t\\t\\t\\t\\t\\t\\t\\t\\t\\n\\t\\t\\t\\t\\t\\t<td style=\"text-align:center\">$27</td>\\n\\t\\t\\t\\t\\t\\t\\n\\t\\t\\t\\t\\t\\t\\t\\t\\t\\n\\t\\t\\t\\t\\t\\t\\t\\t\\n\\t\\t\\t\\t  </tr>\\n\\t\\t\\t\\t  \\n\\t\\t\\t\\t\\t\\t\\t\\t\\t\\t\\t\\t\\n\\t\\t\\t\\t<tr>\\n\\t\\t\\t\\t\\t<td style=\"text-align:center\">2012-03-31</td>\\n\\t\\t\\t\\t\\n\\t\\t\\t\\t\\n\\t\\t\\t\\t\\n\\t\\t\\t\\t\\t\\t\\t\\t\\t\\t\\n\\t\\t\\t\\t\\t\\t\\t\\t\\t\\t\\n\\t\\t\\t\\t\\t\\t<td style=\"text-align:center\">$30</td>\\n\\t\\t\\t\\t\\t\\t\\n\\t\\t\\t\\t\\t\\t\\t\\t\\t\\n\\t\\t\\t\\t\\t\\t\\t\\t\\n\\t\\t\\t\\t  </tr>\\n\\t\\t\\t\\t  \\n\\t\\t\\t\\t\\t\\t\\t\\t\\t\\t\\t\\t\\n\\t\\t\\t\\t<tr>\\n\\t\\t\\t\\t\\t<td style=\"text-align:center\">2011-12-31</td>\\n\\t\\t\\t\\t\\n\\t\\t\\t\\t\\n\\t\\t\\t\\t\\n\\t\\t\\t\\t\\t\\t\\t\\t\\t\\t\\n\\t\\t\\t\\t\\t\\t\\t\\t\\t\\t\\n\\t\\t\\t\\t\\t\\t<td style=\"text-align:center\">$39</td>\\n\\t\\t\\t\\t\\t\\t\\n\\t\\t\\t\\t\\t\\t\\t\\t\\t\\n\\t\\t\\t\\t\\t\\t\\t\\t\\n\\t\\t\\t\\t  </tr>\\n\\t\\t\\t\\t  \\n\\t\\t\\t\\t\\t\\t\\t\\t\\t\\t\\t\\t\\n\\t\\t\\t\\t<tr>\\n\\t\\t\\t\\t\\t<td style=\"text-align:center\">2011-09-30</td>\\n\\t\\t\\t\\t\\n\\t\\t\\t\\t\\n\\t\\t\\t\\t\\n\\t\\t\\t\\t\\t\\t\\t\\t\\t\\t\\n\\t\\t\\t\\t\\t\\t\\t\\t\\t\\t\\n\\t\\t\\t\\t\\t\\t<td style=\"text-align:center\">$58</td>\\n\\t\\t\\t\\t\\t\\t\\n\\t\\t\\t\\t\\t\\t\\t\\t\\t\\n\\t\\t\\t\\t\\t\\t\\t\\t\\n\\t\\t\\t\\t  </tr>\\n\\t\\t\\t\\t  \\n\\t\\t\\t\\t\\t\\t\\t\\t\\t\\t\\t\\t\\n\\t\\t\\t\\t<tr>\\n\\t\\t\\t\\t\\t<td style=\"text-align:center\">2011-06-30</td>\\n\\t\\t\\t\\t\\n\\t\\t\\t\\t\\n\\t\\t\\t\\t\\n\\t\\t\\t\\t\\t\\t\\t\\t\\t\\t\\n\\t\\t\\t\\t\\t\\t\\t\\t\\t\\t\\n\\t\\t\\t\\t\\t\\t<td style=\"text-align:center\">$58</td>\\n\\t\\t\\t\\t\\t\\t\\n\\t\\t\\t\\t\\t\\t\\t\\t\\t\\n\\t\\t\\t\\t\\t\\t\\t\\t\\n\\t\\t\\t\\t  </tr>\\n\\t\\t\\t\\t  \\n\\t\\t\\t\\t\\t\\t\\t\\t\\t\\t\\t\\t\\n\\t\\t\\t\\t<tr>\\n\\t\\t\\t\\t\\t<td style=\"text-align:center\">2011-03-31</td>\\n\\t\\t\\t\\t\\n\\t\\t\\t\\t\\n\\t\\t\\t\\t\\n\\t\\t\\t\\t\\t\\t\\t\\t\\t\\t\\n\\t\\t\\t\\t\\t\\t\\t\\t\\t\\t\\n\\t\\t\\t\\t\\t\\t<td style=\"text-align:center\">$49</td>\\n\\t\\t\\t\\t\\t\\t\\n\\t\\t\\t\\t\\t\\t\\t\\t\\t\\n\\t\\t\\t\\t\\t\\t\\t\\t\\n\\t\\t\\t\\t  </tr>\\n\\t\\t\\t\\t  \\n\\t\\t\\t\\t\\t\\t\\t\\t\\t\\t\\t\\t\\n\\t\\t\\t\\t<tr>\\n\\t\\t\\t\\t\\t<td style=\"text-align:center\">2010-12-31</td>\\n\\t\\t\\t\\t\\n\\t\\t\\t\\t\\n\\t\\t\\t\\t\\n\\t\\t\\t\\t\\t\\t\\t\\t\\t\\t\\n\\t\\t\\t\\t\\t\\t\\t\\t\\t\\t\\n\\t\\t\\t\\t\\t\\t<td style=\"text-align:center\">$36</td>\\n\\t\\t\\t\\t\\t\\t\\n\\t\\t\\t\\t\\t\\t\\t\\t\\t\\n\\t\\t\\t\\t\\t\\t\\t\\t\\n\\t\\t\\t\\t  </tr>\\n\\t\\t\\t\\t  \\n\\t\\t\\t\\t\\t\\t\\t\\t\\t\\t\\t\\t\\n\\t\\t\\t\\t<tr>\\n\\t\\t\\t\\t\\t<td style=\"text-align:center\">2010-09-30</td>\\n\\t\\t\\t\\t\\n\\t\\t\\t\\t\\n\\t\\t\\t\\t\\n\\t\\t\\t\\t\\t\\t\\t\\t\\t\\t\\n\\t\\t\\t\\t\\t\\t\\t\\t\\t\\t\\n\\t\\t\\t\\t\\t\\t<td style=\"text-align:center\">$31</td>\\n\\t\\t\\t\\t\\t\\t\\n\\t\\t\\t\\t\\t\\t\\t\\t\\t\\n\\t\\t\\t\\t\\t\\t\\t\\t\\n\\t\\t\\t\\t  </tr>\\n\\t\\t\\t\\t  \\n\\t\\t\\t\\t\\t\\t\\t\\t\\t\\t\\t\\t\\n\\t\\t\\t\\t<tr>\\n\\t\\t\\t\\t\\t<td style=\"text-align:center\">2010-06-30</td>\\n\\t\\t\\t\\t\\n\\t\\t\\t\\t\\n\\t\\t\\t\\t\\n\\t\\t\\t\\t\\t\\t\\t\\t\\t\\t\\n\\t\\t\\t\\t\\t\\t\\t\\t\\t\\t\\n\\t\\t\\t\\t\\t\\t<td style=\"text-align:center\">$28</td>\\n\\t\\t\\t\\t\\t\\t\\n\\t\\t\\t\\t\\t\\t\\t\\t\\t\\n\\t\\t\\t\\t\\t\\t\\t\\t\\n\\t\\t\\t\\t  </tr>\\n\\t\\t\\t\\t  \\n\\t\\t\\t\\t\\t\\t\\t\\t\\t\\t\\t\\t\\n\\t\\t\\t\\t<tr>\\n\\t\\t\\t\\t\\t<td style=\"text-align:center\">2010-03-31</td>\\n\\t\\t\\t\\t\\n\\t\\t\\t\\t\\n\\t\\t\\t\\t\\n\\t\\t\\t\\t\\t\\t\\t\\t\\t\\t\\n\\t\\t\\t\\t\\t\\t\\t\\t\\t\\t\\n\\t\\t\\t\\t\\t\\t<td style=\"text-align:center\">$21</td>\\n\\t\\t\\t\\t\\t\\t\\n\\t\\t\\t\\t\\t\\t\\t\\t\\t\\n\\t\\t\\t\\t\\t\\t\\t\\t\\n\\t\\t\\t\\t  </tr>\\n\\t\\t\\t\\t  \\n\\t\\t\\t\\t\\t\\t\\t\\t\\t\\t\\t\\t\\n\\t\\t\\t\\t<tr>\\n\\t\\t\\t\\t\\t<td style=\"text-align:center\">2009-12-31</td>\\n\\t\\t\\t\\t\\n\\t\\t\\t\\t\\n\\t\\t\\t\\t\\n\\t\\t\\t\\t\\t\\t\\t\\t\\t\\t\\n\\t\\t\\t\\t\\t\\n\\t\\t\\t\\t\\t\\t<td style=\"text-align:center\"></td>\\t\\t\\t\\t\\t\\n\\t\\t\\t\\t\\t\\n\\t\\t\\t\\t\\t\\t\\t\\t\\t\\n\\t\\t\\t\\t\\t\\t\\t\\t\\n\\t\\t\\t\\t  </tr>\\n\\t\\t\\t\\t  \\n\\t\\t\\t\\t\\t\\t\\t\\t\\t\\t\\t\\t\\n\\t\\t\\t\\t<tr>\\n\\t\\t\\t\\t\\t<td style=\"text-align:center\">2009-09-30</td>\\n\\t\\t\\t\\t\\n\\t\\t\\t\\t\\n\\t\\t\\t\\t\\n\\t\\t\\t\\t\\t\\t\\t\\t\\t\\t\\n\\t\\t\\t\\t\\t\\t\\t\\t\\t\\t\\n\\t\\t\\t\\t\\t\\t<td style=\"text-align:center\">$46</td>\\n\\t\\t\\t\\t\\t\\t\\n\\t\\t\\t\\t\\t\\t\\t\\t\\t\\n\\t\\t\\t\\t\\t\\t\\t\\t\\n\\t\\t\\t\\t  </tr>\\n\\t\\t\\t\\t  \\n\\t\\t\\t\\t\\t\\t\\t\\t\\t\\t\\t\\t\\n\\t\\t\\t\\t<tr>\\n\\t\\t\\t\\t\\t<td style=\"text-align:center\">2009-06-30</td>\\n\\t\\t\\t\\t\\n\\t\\t\\t\\t\\n\\t\\t\\t\\t\\n\\t\\t\\t\\t\\t\\t\\t\\t\\t\\t\\n\\t\\t\\t\\t\\t\\t\\t\\t\\t\\t\\n\\t\\t\\t\\t\\t\\t<td style=\"text-align:center\">$27</td>\\n\\t\\t\\t\\t\\t\\t\\n\\t\\t\\t\\t\\t\\t\\t\\t\\t\\n\\t\\t\\t\\t\\t\\t\\t\\t\\n\\t\\t\\t\\t  </tr>\\n\\t\\t\\t\\t  \\n\\t\\t\\t\\t  \\n\\t\\t\\t\\t</tbody>\\n\\t\\t\\t  </table>\\n\\t\\t\\t  \\n\\t\\t\\t  </div>\\n\\t\\t\\t  \\n\\n\\t\\t\\t\\n</div>\\t\\t\\t\\n\\t\\t\\t\\n\\t\\t\\t\\n\\t\\t\\n\\t\\t<div style=\"background-color:#fff; margin: 0px 0px 20px 0px; padding:5px 50px 5px 10px; border:1px solid #dfdfdf;\">\\n\\n\\t\\t\\t  <table class=\"historical_data_table table\">\\n\\t\\t\\t\\t<thead>\\n\\t\\t\\t\\t  <tr>\\n\\t\\t\\t\\t\\t<th style=\"text-align:center\">Sector</th>\\n\\t\\t\\t\\t\\t<th style=\"text-align:center\">Industry</th>\\n\\t\\t\\t\\t\\t<th style=\"text-align:center\">Market Cap</th>\\n\\t\\t\\t\\t\\t<th style=\"text-align:center\">Revenue</th>\\n\\t\\t\\t\\t  </tr>\\n\\t\\t\\t\\t</thead>\\n\\t\\t\\t\\t<tbody>\\n\\t\\t\\t\\t  <tr>\\n\\t\\t\\t\\t\\t<td style=\"text-align:center\"><a href=\\'https://www.macrotrends.net/stocks/sector/5/auto-tires-trucks\\'>Auto/Tires/Trucks</a></td>\\n\\t\\t\\t\\t\\t<td style=\"text-align:center\"><a href=\\'https://www.macrotrends.net/stocks/industry/7/\\'>Auto Manufacturers - Domestic</a></td>\\n\\t\\t\\t\\t\\t<td style=\"text-align:center\">$549.575B</td>\\n\\t\\t\\t\\t\\t<td style=\"text-align:center\">$53.823B</td>\\n\\t\\t\\t\\t  </tr>\\n\\t\\t\\t\\t  <tr>\\n\\t\\t\\t\\t\\t  <td colspan=\"4\" style=\"padding:15px;\">\\n\\t\\t\\t\\t\\t\\t<span>Tesla is the market leader in battery-powered electric car sales in the United States, with roughly 70% market share. The company\\'s flagship Model 3 is the best-selling EV model in the United States. Tesla, which has managed to garner the reputation of a gold standard over the years, is now a far bigger entity that what it started off since its IPO in 2010, with its market cap crossing $1 trillion for the first time in October 2021.? The EV king\\'s market capitalization is more than the combined value of legacy automakers including Toyota, Volkswagen, Daimler, General Motors and Ford.Over the years, Tesla has shifted from developing niche products for affluent buyers to making more affordable EVs for the masses. The firm\\'s three-pronged business model approach of direct sales, servicing, and charging its EVs sets it apart from other carmakers. Tesla, which is touted as the clean energy revolutionary automaker, is much more than just a car manufacturer.</span>\\n\\t\\t\\t\\t\\t  </td>\\n\\t\\t\\t\\t  </tr>\\n\\t\\t\\t\\t</tbody>\\n\\t\\t\\t  </table>\\t\\t\\t\\n\\t\\t\\t</div>\\t\\n\\t\\n\\t\\t\\n\\t\\t<div style=\"background-color:#fff; margin: 20px 0px 30px 0px; padding:5px 50px 5px 10px; border:1px solid #dfdfdf;\">\\n\\t\\t\\t\\n\\n\\t\\t\\t\\t<table class=\"historical_data_table table\">\\n\\t\\t\\t\\t<thead>\\n\\t\\t\\t\\t  <tr>\\n\\t\\t\\t\\t\\t<th style=\"text-align:center; width:40%;\">Stock Name</th>\\n\\t\\t\\t\\t\\t<th style=\"text-align:center; width:20%;\">Country</th>\\n\\t\\t\\t\\t\\t<th style=\"text-align:center; width:20%;\">Market Cap</th>\\n\\t\\t\\t\\t\\t<th style=\"text-align:center; width:20%;\">PE Ratio</th>\\n\\t\\t\\t\\t  </tr>\\n\\t\\t\\t\\t</thead>\\n\\t\\t\\t\\t<tbody>\\t\\t\\t\\n\\n\\t\\t\\t\\t\\t\\t\\n\\t\\t\\t\\t\\t\\t\\n\\t\\t\\t\\t<tr>\\n\\t\\t\\t\\t\\t<td style=\"text-align:left\"><a href=\\'/stocks/charts/GM/general-motors/revenue\\'>General Motors (GM)</a></td>\\n\\t\\t\\t\\t\\t<td style=\"text-align:center\">United States</td>\\n\\t\\t\\t\\t\\t<td style=\"text-align:center\">$53.930B</td>\\n\\t\\t\\t\\t\\t<td style=\"text-align:center\">5.56</td>\\n\\t\\t\\t\\t </tr>\\n\\n\\t\\t\\t\\t\\t\\t\\n\\t\\t\\t\\t\\t\\t\\n\\t\\t\\t\\t<tr>\\n\\t\\t\\t\\t\\t<td style=\"text-align:left\"><a href=\\'/stocks/charts/F/ford-motor/revenue\\'>Ford Motor (F)</a></td>\\n\\t\\t\\t\\t\\t<td style=\"text-align:center\">United States</td>\\n\\t\\t\\t\\t\\t<td style=\"text-align:center\">$52.668B</td>\\n\\t\\t\\t\\t\\t<td style=\"text-align:center\">8.09</td>\\n\\t\\t\\t\\t </tr>\\n\\n\\t\\t\\t\\t\\t\\t\\n\\t\\t\\t\\t\\t\\t\\n\\t\\t\\t\\t<tr>\\n\\t\\t\\t\\t\\t<td style=\"text-align:left\"><a href=\\'/stocks/charts/HOG/harley-davidson/revenue\\'>Harley-Davidson (HOG)</a></td>\\n\\t\\t\\t\\t\\t<td style=\"text-align:center\">United States</td>\\n\\t\\t\\t\\t\\t<td style=\"text-align:center\">$6.762B</td>\\n\\t\\t\\t\\t\\t<td style=\"text-align:center\">9.56</td>\\n\\t\\t\\t\\t </tr>\\n\\n\\t\\t\\t\\t\\t\\t\\n\\t\\t\\t\\t\\t\\t\\n\\t\\t\\t\\t<tr>\\n\\t\\t\\t\\t\\t<td style=\"text-align:left\"><a href=\\'/stocks/charts/PII/polaris/revenue\\'>Polaris (PII)</a></td>\\n\\t\\t\\t\\t\\t<td style=\"text-align:center\">United States</td>\\n\\t\\t\\t\\t\\t<td style=\"text-align:center\">$6.267B</td>\\n\\t\\t\\t\\t\\t<td style=\"text-align:center\">11.86</td>\\n\\t\\t\\t\\t </tr>\\n\\n\\t\\t\\t\\t\\t\\t\\n\\t\\t\\t\\t\\t\\t\\n\\t\\t\\t\\t<tr>\\n\\t\\t\\t\\t\\t<td style=\"text-align:left\"><a href=\\'/stocks/charts/IAA/iaa/revenue\\'>IAA (IAA)</a></td>\\n\\t\\t\\t\\t\\t<td style=\"text-align:center\">United States</td>\\n\\t\\t\\t\\t\\t<td style=\"text-align:center\">$5.134B</td>\\n\\t\\t\\t\\t\\t<td style=\"text-align:center\">16.40</td>\\n\\t\\t\\t\\t </tr>\\n\\n\\t\\t\\t\\t\\t\\t\\n\\t\\t\\t\\t\\t\\t\\n\\t\\t\\t\\t<tr>\\n\\t\\t\\t\\t\\t<td style=\"text-align:left\"><a href=\\'/stocks/charts/FSR/fisker/revenue\\'>Fisker (FSR)</a></td>\\n\\t\\t\\t\\t\\t<td style=\"text-align:center\">United States</td>\\n\\t\\t\\t\\t\\t<td style=\"text-align:center\">$2.261B</td>\\n\\t\\t\\t\\t\\t<td style=\"text-align:center\">0.00</td>\\n\\t\\t\\t\\t </tr>\\n\\n\\t\\t\\t\\t\\t\\t\\n\\t\\t\\t\\t\\t\\t\\n\\t\\t\\t\\t<tr>\\n\\t\\t\\t\\t\\t<td style=\"text-align:left\"><a href=\\'/stocks/charts/LEV/lion-electric/revenue\\'>Lion Electric (LEV)</a></td>\\n\\t\\t\\t\\t\\t<td style=\"text-align:center\">Canada</td>\\n\\t\\t\\t\\t\\t<td style=\"text-align:center\">$0.551B</td>\\n\\t\\t\\t\\t\\t<td style=\"text-align:center\">0.00</td>\\n\\t\\t\\t\\t </tr>\\n\\n\\t\\t\\t\\t\\t\\t\\n\\t\\t\\t\\t\\t\\t\\n\\t\\t\\t\\t<tr>\\n\\t\\t\\t\\t\\t<td style=\"text-align:left\"><a href=\\'/stocks/charts/VLTA/volta/revenue\\'>Volta (VLTA)</a></td>\\n\\t\\t\\t\\t\\t<td style=\"text-align:center\">United States</td>\\n\\t\\t\\t\\t\\t<td style=\"text-align:center\">$0.071B</td>\\n\\t\\t\\t\\t\\t<td style=\"text-align:center\">0.00</td>\\n\\t\\t\\t\\t </tr>\\n\\n\\t\\t\\t\\t\\t\\t\\n\\t\\t\\t\\t\\t\\t\\n\\t\\t\\t\\t<tr>\\n\\t\\t\\t\\t\\t<td style=\"text-align:left\"><a href=\\'/stocks/charts/BRDS/bird-global/revenue\\'>Bird Global (BRDS)</a></td>\\n\\t\\t\\t\\t\\t<td style=\"text-align:center\">United States</td>\\n\\t\\t\\t\\t\\t<td style=\"text-align:center\">$0.054B</td>\\n\\t\\t\\t\\t\\t<td style=\"text-align:center\">0.00</td>\\n\\t\\t\\t\\t </tr>\\n\\n\\t\\t\\t\\t\\t\\t\\n\\t\\t\\t\\t\\t\\t\\n\\t\\t\\t\\t<tr>\\n\\t\\t\\t\\t\\t<td style=\"text-align:left\"><a href=\\'/stocks/charts/ZEV/lightning-emotors/revenue\\'>Lightning EMotors (ZEV)</a></td>\\n\\t\\t\\t\\t\\t<td style=\"text-align:center\">United States</td>\\n\\t\\t\\t\\t\\t<td style=\"text-align:center\">$0.043B</td>\\n\\t\\t\\t\\t\\t<td style=\"text-align:center\">0.00</td>\\n\\t\\t\\t\\t </tr>\\n\\n\\t\\t\\t\\t\\t\\t\\n\\t\\t\\t\\t</tbody>\\n\\t\\t\\t  </table>\\t\\t\\t\\n\\t\\t\\t\\n\\t\\t\\t</div>\\n\\t\\t\\t\\n\\t\\t\\t\\n\\t\\t\\t<div>\\n\\t\\t\\t\\n\\t\\t\\t<!-- Partner Center Ad Unit -->\\n\\t\\t\\t<div id=\"IC_728x214_1\" style=\"width:728px; height:214px; margin-left:30px;\">\\n\\t\\t\\t\\n\\t\\t\\t\\n\\t\\t\\t</div>\\n\\t\\t\\t\\n\\t\\t\\t\\n\\t\\t\\t</div>\\n\\t\\t\\t\\n\\t\\t\\t\\n\\n\\t\\t\\t</div>\\n\\t\\t\\t\\n\\n\\t\\t\\t<div id=\"right_sidebar\"\">\\n\\n\\t\\t\\t\\t<!--<a href=\"/stocks/stock-screener\" style=\"text-decoration:none; color: #fff; \">\\n\\t\\t\\t\\t\\t<div style=\"margin:0px; padding: 20px; width:300px; background-color: #01579b; min-height:150px; text-align:center;\">\\n\\n\\t\\t\\t\\t\\t\\t<h2 style=\"font-weight:600;\">Try our new<br />stock screener!</h2></a>\\n\\n\\t\\t\\t\\t\\t</div>\\n\\t\\t\\t\\t</a>-->\\n\\n\\t\\t\\t\\t<!--<div style=\"margin-top:0px; min-height:250px;\">\\n\\n\\t\\t\\t\\t\\t<script src=\\'//ads.investingchannel.com/adtags/Macrotrends/fundamentalanalysis/300x600.js?zhpos=300_2&multi_size=false\\' type=\\'text/javascript\\' charset=\\'utf-8\\'></script>\\n\\n\\t\\t\\t\\t</div>-->\\n\\t\\t\\t\\t\\n\\t\\t\\t\\t\\t\\t\\t\\n\\t\\t\\t\\t\\n\\t\\t\\t\\t\\n\\t\\t\\t\\t\\n\\t\\t\\t\\t\\n\\t\\t\\t\\t<div style=\"margin-top:0px; min-height:250px;\">\\n\\n\\t\\t\\t\\t\\t<div id=\"ic_300x250_1\">\\n\\n\\t\\t\\t\\t\\t\\n\\t\\t\\t\\t\\t</div>\\n\\t\\t\\t\\t\\t\\n\\t\\t\\t\\t</div>\\n\\t\\t\\t\\t\\n\\t\\t\\t\\t<div id=\"sticky_ad_right\" style=\"margin-top:30px; height:1000px;\">\\n\\t\\t\\t\\t\\n\\t\\t\\t\\t\\t<script type=\"text/javascript\" id=\"dianomi_context_script\" src=\"https://www.dianomi.com/js/contextfeed.js\"></script>\\n\\t\\t\\t\\t\\t<div class=\"dianomi_context\" data-dianomi-context-id=\"743\"></div>\\n\\n\\t\\t\\t\\t\\t<!-- <div id=\"IC_D_300x250_BCC\"></div>-->\\n\\n\\t\\t\\t\\t\\t<!--Smartad # 2981: Macrotrends - 300x670 Right Rail-->\\n\\t\\t\\t\\t\\t<iframe id=\"dianomi_sidebar\" width=\"300\" height=\"670\" scrolling=\"NO\" src=\"//www.dianomi.com/smartads.epl?id=4059\"  style=\"width: 300px; border: none; overflow: hidden;\"></iframe>\\n\\t\\t\\t\\t\\t\\n\\t\\t\\t\\t\\t<div id=\"IC_D_300x250_BCC\"></div>\\n\\n\\n\\t\\t\\t\\t</div>\\t\\t\\t\\n\\n\\t\\n\\t\\t\\t\\t\\n\\n\\t\\t\\t\\t\\n\\t\\t\\t</div>\\n\\t\\t\\t\\n\\t\\t\\t\\n\\t\\t\\t\\n\\t\\t\\t\\t\\t\\t\\n\\t\\t</div>\\n\\t\\t</div>\\n\\t\\t\\n\\n<!--This is the div for the IC OOP ad-->\\n<div id=\"oopDivTag_1\" style=\"width:1px;height:1px;\"></div>\\n\\t\\t\\n\\n<footer class=\"footer\">\\n\\n\\t\\t<span>&copy; 2010-2022 Macrotrends LLC</span>&nbsp;&nbsp;|&nbsp;&nbsp;\\n\\t\\t  <a href=\"/terms\">Terms of Service</a>\\n\\t\\t  &nbsp;&nbsp;|&nbsp;&nbsp;\\n\\t\\t  <a href=\"/privacy\">Privacy Policy</a>&nbsp;&nbsp;|&nbsp;&nbsp;\\n\\t\\t  <a href=\"ma&#105;lt&#111;&#58;%&#54;&#57;n%66&#111;&#64;%6D&#97;c%72&#111;&#116;rends&#37;2&#69;&#110;%65t\">Contact Us</a>&nbsp;&nbsp;|&nbsp;&nbsp;\\n\\t\\t  <a href=\"/ccpa\">Do Not Sell My Personal Information</a>\\n\\t\\t  <br />\\n\\t\\t  <span>Fundamental data from </span><a target=\"_blank\" rel=\"nofollow\" href=\"https://www.zacksdata.com\">Zacks Investment Research, Inc.</a>\\n\\n\\n</footer>\\n\\n<div class=\"modal\" id=\"smallWidthModal1\" tabindex=\"-1\" role=\"dialog\" aria-labelledby=\"exampleModalLabel\" aria-hidden=\"true\">\\n  <div class=\"modal-dialog modal-lg\">\\n    <div class=\"modal-content\">\\n      <div class=\"modal-body\">\\n\\t  \\t  \\n\\t\\t<div class=\"modal_title\"><h2><strong>We Need Your Support!</strong></h2></div>\\n\\n\\t\\t<p>Backlinks from other websites are the lifeblood of our site and a primary source of new traffic.<p>\\n\\t\\t\\n<p>If you use our chart images on your site or blog, we ask that you provide attribution via a \"dofollow\" link back to this page.  We have provided a few examples below that you can copy and paste to your site:</p>\\n\\n<br />\\n\\n<table class=\"table\">\\n<thead>\\n<tr>\\n<th>Link Preview</th>\\n<th>HTML Code (Click to Copy)</th>\\n</tr>\\n</thead>\\n<tbody>\\n<tr>\\n<td><a>Tesla Revenue 2010-2022 | TSLA</a></td>\\n<td><input type=\"text\" class=\"modal_link\" size=\"60\" value=\"<a href=\\'https://www.macrotrends.net/stocks/charts/TSLA/tesla/revenue\\'>Tesla Revenue 2010-2022 | TSLA</a>\"></td>\\n</tr>\\n<tr>\\n<td><a>Macrotrends</a></td>\\n<td><input type=\"text\" class=\"modal_link\" size=\"60\" value=\"<a href=\\'https://www.macrotrends.net/stocks/charts/TSLA/tesla/revenue\\'>Macrotrends</a>\"></td>\\n</tr>\\n<tr>\\n<td><a>Source</a></td>\\n<td><input type=\"text\" class=\"modal_link\" size=\"60\" value=\"<a href=\\'https://www.macrotrends.net/stocks/charts/TSLA/tesla/revenue\\'>Source</a>\"></td>\\n</tr>\\n\\n\\n\\n</tbody>\\n</table>\\n\\n<br />\\n\\n<p style=\"text-align:center\">Your image export is now complete.  Please check your download folder. </p>\\n\\n      </div>\\n      <div class=\"modal-footer\">\\n        <button type=\"button\" class=\"btn btn-primary\" data-dismiss=\"modal\">Close Window</button>\\n      </div>\\n    </div>\\n  </div>\\n</div>\\n\\n\\n<div class=\"modal\" id=\"smallWidthModal2\" tabindex=\"-1\" role=\"dialog\" aria-labelledby=\"exampleModalLabel\" aria-hidden=\"true\">\\n  <div class=\"modal-dialog modal-lg\">\\n    <div class=\"modal-content\">\\n      <div class=\"modal-body\">\\n\\t  \\t  \\n\\t\\t<div class=\"modal_title\"><h2><strong>We Need Your Support!</strong></h2></div>\\n\\n\\t\\t<p>Backlinks from other websites are the lifeblood of our site and a primary source of new traffic.<p>\\n\\t\\t\\n<p>If you use our datasets on your site or blog, we ask that you provide attribution via a \"dofollow\" link back to this page.  We have provided a few examples below that you can copy and paste to your site:</p>\\n\\n<br />\\n\\n<table class=\"table\">\\n<thead>\\n<tr>\\n<th>Link Preview</th>\\n<th>HTML Code (Click to Copy)</th>\\n</tr>\\n</thead>\\n<tbody>\\n<tr>\\n<td><a>Tesla Revenue 2010-2022 | TSLA</a></td>\\n<td><input type=\"text\" class=\"modal_link\" size=\"50\" value=\"<a href=\\'https://www.macrotrends.net/stocks/charts/TSLA/tesla/revenue\\'>Tesla Revenue 2010-2022 | TSLA</a>\"></td>\\n</tr>\\n<tr>\\n<td><a>Macrotrends</a></td>\\n<td><input type=\"text\" class=\"modal_link\" size=\"50\" value=\"<a href=\\'https://www.macrotrends.net/stocks/charts/TSLA/tesla/revenue\\'>Macrotrends</a>\"></td>\\n</tr>\\n<tr>\\n<td><a>Source</a></td>\\n<td><input type=\"text\" class=\"modal_link\" size=\"50\" value=\"<a href=\\'https://www.macrotrends.net/stocks/charts/TSLA/tesla/revenue\\'>Source</a>\"></td>\\n</tr>\\n\\n\\n\\n</tbody>\\n</table>\\n\\n<br />\\n\\n<p style=\"text-align:center\">Your data export is now complete.  Please check your download folder. </p>\\n\\n      </div>\\n      <div class=\"modal-footer\">\\n        <button type=\"button\" class=\"btn btn-primary\" data-dismiss=\"modal\">Close Window</button>\\n      </div>\\n    </div>\\n  </div>\\n</div>\\t\\n\\n\\n<script type=\"text/javascript\">\\n\\t$.typeahead({\\n\\t\\tinput: \\'.js-typeahead\\',\\n\\t\\tminLength: 1,\\n\\t\\tfilter: false,  //Disables typahead filter to just show everything in the results from the database\\n\\t\\tdebug: false,\\n\\t\\thighlight: true,\\n\\t\\tmaxItem: 10,\\n\\t\\tdynamic: true,\\n\\t\\tdelay: 200,\\n\\t\\tsearchOnFocus: true,\\n\\t\\tbackdrop: {\\n\\t\\t\\t\"background-color\": \"#fff\"\\n\\t\\t},\\n\\t\\thref: \"{{url}}\",\\n\\t\\temptyTemplate: \"no result for {{query}}\",\\n\\t\\tdisplay: [\"name\"],\\n\\t\\tsource: {\\n\\t\\t\\tusers: {\\n\\t\\t\\t\\tajax: {\\n\\t\\t\\t\\t\\turl: \\'/assets/php/all_pages_query.php\\',\\n\\t\\t\\t\\t\\tdata: {\\n\\t\\t\\t\\t\\t\\tq: \\'{{query}}\\'\\n\\t\\t\\t\\t\\t}\\n\\t\\t\\t\\t}\\n\\t\\t\\t}\\n\\t\\t}\\n\\t});\\n</script>\\n\\n<script>\\n\\n\\t// /*! js-cookie v3.0.0-rc.1 | MIT */\\n\\t// !function(e,t){\"object\"==typeof exports&&\"undefined\"!=typeof module?module.exports=t():\"function\"==typeof define&&define.amd?define(t):(e=e||self,function(){var n=e.Cookies,r=e.Cookies=t();r.noConflict=function(){return e.Cookies=n,r}}())}(this,function(){\"use strict\";function e(e){for(var t=1;t<arguments.length;t++){var n=arguments[t];for(var r in n)e[r]=n[r]}return e}var t={read:function(e){return e.replace(/(%[\\\\dA-F]{2})+/gi,decodeURIComponent)},write:function(e){return encodeURIComponent(e).replace(/%(2[346BF]|3[AC-F]|40|5[BDE]|60|7[BCD])/g,decodeURIComponent)}};return function n(r,o){function i(t,n,i){if(\"undefined\"!=typeof document){\"number\"==typeof(i=e({},o,i)).expires&&(i.expires=new Date(Date.now()+864e5*i.expires)),i.expires&&(i.expires=i.expires.toUTCString()),t=encodeURIComponent(t).replace(/%(2[346B]|5E|60|7C)/g,decodeURIComponent).replace(/[()]/g,escape),n=r.write(n,t);var c=\"\";for(var u in i)i[u]&&(c+=\"; \"+u,!0!==i[u]&&(c+=\"=\"+i[u].split(\";\")[0]));return document.cookie=t+\"=\"+n+c}}return Object.create({set:i,get:function(e){if(\"undefined\"!=typeof document&&(!arguments.length||e)){for(var n=document.cookie?document.cookie.split(\"; \"):[],o={},i=0;i<n.length;i++){var c=n[i].split(\"=\"),u=c.slice(1).join(\"=\");\\'\"\\'===u[0]&&(u=u.slice(1,-1));try{var f=t.read(c[0]);if(o[f]=r.read(u,f),e===f)break}catch(e){}}return e?o[e]:o}},remove:function(t,n){i(t,\"\",e({},n,{expires:-1}))},withAttributes:function(t){return n(this.converter,e({},this.attributes,t))},withConverter:function(t){return n(e({},this.converter,t),this.attributes)}},{attributes:{value:Object.freeze(o)},converter:{value:Object.freeze(r)}})}(t,{path:\"/\"})});\\n\\n\\t\\t\\t\\n\\t// // Cookie Settings\\n\\t// var maxCookieValue = 4, initCookie = 1, expirationDays = 1;\\n\\t// var cookieName = \"session_pageviews\";\\n\\t// var getCookie = Cookies.get(cookieName);\\n\\n\\t// // Under the Hood\\n\\t// if (getCookie == null) {\\n\\t\\t// Cookies.set(cookieName, initCookie, { expires: expirationDays });\\n\\t\\t// console.log(\\'Cookie set to value 1\\');\\n\\t\\t// $( \"#ic_video_ad\" ).append( \"<div id=\\\\\"IC_D_3x6\\\\\" style=\\\\\"margin:30px;\\\\\"></div>\" );\\n\\t// } else {\\n\\t\\t// if (getCookie >= initCookie && getCookie < maxCookieValue) {\\n\\t\\t\\t// getCookie++;\\n\\t\\t\\t// Cookies.set(cookieName, getCookie, { expires: expirationDays });\\n\\t\\t\\t// console.log(\\'Cookie incremented. New value is \\' + getCookie);\\n\\t\\t\\t// $( \"#ic_video_ad\" ).append( \"<div id=\\\\\"IC_D_3x6\\\\\" style=\\\\\"margin:30px;\\\\\"></div>\" );\\n\\t\\t// }\\n\\t\\t// else if (getCookie >= maxCookieValue && getCookie < 7) {\\n\\t\\t\\t// getCookie++;\\n\\t\\t\\t// Cookies.set(cookieName, getCookie, { expires: expirationDays });\\n\\t\\t\\t// console.log(\\'Cookie max allowed value reached. No video ads showing. New value is \\' + getCookie);\\n\\t\\t\\t// //Cookies.remove(cookieName);\\n\\t\\t\\t// // if cookie is equal with the number you\\'ve set, then do something\\n\\t\\t\\t// // hide an element, delete the cookie etc...\\n\\t\\t// }\\n\\t\\t// else if (getCookie >= 7) {\\n\\t\\t\\t// Cookies.remove(cookieName);\\n\\t\\t\\t// // if cookie is equal with the number you\\'ve set, then do something\\n\\t\\t\\t// // hide an element, delete the cookie etc...\\n\\t\\t// }\\t\\n\\t// }\\n\\n</script>\\t\\t\\t\\t\\t\\n\\n\\n<script>\\n\\n\\n\\n\\n\\t\\t\\n\\n$(document).ready(function() {\\n\\t\\n\\tvar user_data = \\'171.76.81.154\\';\\tvar country_code = \\'United States\\';\\n\\t$.post(\\'https://www.macrotrends.net/assets/php/user_frequency_tracking.php\\', {user_ip: user_data, user_country: country_code}); \\n\\n\\t// Selects all of the text in the chart export window when clicked\\n\\t$(\".modal_link\").focus(function() {\\n\\t\\tvar $this = $(this);\\n\\t\\t$this.select();\\n\\n\\t\\t// Work around Chrome\\'s little problem\\n\\t\\t$this.mouseup(function() {\\n\\t\\t\\t// Prevent further mouseup intervention\\n\\t\\t\\t$this.unbind(\"mouseup\");\\n\\t\\t\\treturn false;\\n\\t\\t});\\n\\t});\\t\\n\\t\\n\\t\\n\\t$(\\'[data-toggle=\"tooltip\"]\\').tooltip();\\n\\t\\n    $(\\'.statement_type_select\\').select2({\\n\\t\\n\\ttheme: \"classic\",\\n\\tminimumResultsForSearch: 20\\n\\t\\n\\t});\\n\\n    $(\\'.frequency_select\\').select2({\\n\\t\\n\\ttheme: \"classic\",\\n\\tminimumResultsForSearch: 20\\n\\t\\n\\t});\\n\\t\\n\\t\\n});\\n\\n$( \"#compareStocks\" ).click(function() {\\n\\t\\n\\t\\n\\twindow.location.href = \\'/stocks/stock-comparison?s=revenue&axis=single&comp=TSLA\\';\\n\\t\\n\\t\\n});\\n\\n$( \"#chartExport\" ).click(function() {\\n\\t\\n\\t\\twindow.$(\\'#smallWidthModal1\\').modal();\\n\\n\\t\\t//Turn off scroll bar for image export\\n\\t\\tchart.chartScrollbarSettings.enabled = false;\\n\\t\\tchart.validateNow(); \\n\\t\\t\\n\\t\\t\\n\\t\\tchart.export.capture({},function() {\\n\\t\\t\\tthis.toPNG({},function(data) {\\n\\t\\t\\t\\t// Download the image to the browser\\n\\t\\t\\t\\tthis.download( data, \"image/png\", \"TSLA-revenue-2022-12-09-macrotrends.png\" );\\n\\t\\t\\t\\t\\n\\t\\t\\t\\t});\\n\\n\\t\\t//Turn scroll bar back on again\\n\\t\\tchart.chartScrollbarSettings.enabled = true;\\n\\t\\tchart.validateNow(); \\n\\t\\t\\t\\t\\n\\t});\\n\\n});\\n\\n$( \".statement_type_select\" ).change(function() {\\n  \\n  window.location.href = \\'https://testing.macrotrends.net/assets/php/income_statement_testing.php?t=ZEV&type=\\' + this.value + \\'&freq=Q\\';\\n\\n});\\n\\n$( \".frequency_select\" ).change(function() {\\n  \\n  window.location.href = \\'/assets/php/new_chart_page.php?t=ZEV&type=revenue&freq=\\' + this.value;\\n\\n});\\n\\n</script>\\n\\n<!--<div class=\"modal\" id=\"contribute_modal\" tabindex=\"-1\" role=\"dialog\" aria-labelledby=\"exampleModalLabel\" aria-hidden=\"false\">\\n  <div class=\"modal-dialog modal-lg\">\\n    <div class=\"modal-content\">\\n      <div class=\"modal-body\" style=\"margin:20px 40px 20px 40px; text-align:left;font-size:18px;\">\\n\\t  \\t  \\n\\n\\n<div class=\"row\">\\n\\n<div class=\"col-xs-6\">\\n\\n<script src=\"https://donorbox.org/widget.js\" paypalExpress=\"true\"></script><iframe src=\"https://donorbox.org/embed/macrotrends-donations?hide_donation_meter=true\" height=\"685px\" width=\"100%\" style=\"max-width:500px; min-width:310px; max-height:none!important\" seamless=\"seamless\" name=\"donorbox\" frameborder=\"0\" scrolling=\"no\" allowpaymentrequest></iframe>\\n\\n</div>\\n\\n<div class=\"col-xs-6\">\\n\\n\\t\\t<div class=\"modal_title\"><h1><strong>We Need Your Support!</strong></h1></div>\\n\\n\\t\\t<p><strong>Macrotrends has been subscription-free since 2010 and we want to keep it that way.</strong></p>\\n\\n<p>Our goal has always been to serve as an easily accessible, high quality source of investment research for both professionals and amateurs alike.</p>\\n\\n<p>Any amount that you can contribute will help ensure we can keep the site completely free for many years to come.</p>\\n\\n<p style=\"margin-top:20px;\">Regards,</p>\\n<p>The Macrotrends Team</p>\\n\\n</div>\\n\\n</div>\\n\\n</div>\\n\\n      <div class=\"modal-footer\" style=\"text-align:center;\">\\n        <button type=\"button\" class=\"btn btn-success\" data-dismiss=\"modal\">Maybe Next Time...</button>\\n      </div>\\n    </div>\\n  </div>\\n</div>\\t\\n\\n\\n<script src=\"/ads.js\" type=\"text/javascript\"></script>\\n\\n<script>\\n\\n$(document).ready(function() {\\n\\t\\n\\tvar botPattern = \"(googlebot\\\\/|Googlebot-Mobile|Googlebot-Image|Google favicon|Mediapartners-Google|bingbot|slurp|java|wget|curl|Commons-HttpClient|Python-urllib|libwww|httpunit|nutch|phpcrawl|msnbot|jyxobot|FAST-WebCrawler|FAST Enterprise Crawler|biglotron|teoma|convera|seekbot|gigablast|exabot|ngbot|ia_archiver|GingerCrawler|webmon |httrack|webcrawler|grub.org|UsineNouvelleCrawler|antibot|netresearchserver|speedy|fluffy|bibnum.bnf|findlink|msrbot|panscient|yacybot|AISearchBot|IOI|ips-agent|tagoobot|MJ12bot|dotbot|woriobot|yanga|buzzbot|mlbot|yandexbot|purebot|Linguee Bot|Voyager|CyberPatrol|voilabot|baiduspider|citeseerxbot|spbot|twengabot|postrank|turnitinbot|scribdbot|page2rss|sitebot|linkdex|Adidxbot|blekkobot|ezooms|dotbot|Mail.RU_Bot|discobot|heritrix|findthatfile|europarchive.org|NerdByNature.Bot|sistrix crawler|ahrefsbot|Aboundex|domaincrawler|wbsearchbot|summify|ccbot|edisterbot|seznambot|ec2linkfinder|gslfbot|aihitbot|intelium_bot|facebookexternalhit|yeti|RetrevoPageAnalyzer|lb-spider|sogou|lssbot|careerbot|wotbox|wocbot|ichiro|DuckDuckBot|lssrocketcrawler|drupact|webcompanycrawler|acoonbot|openindexspider|gnam gnam spider|web-archive-net.com.bot|backlinkcrawler|coccoc|integromedb|content crawler spider|toplistbot|seokicks-robot|it2media-domain-crawler|ip-web-crawler.com|siteexplorer.info|elisabot|proximic|changedetection|blexbot|arabot|WeSEE:Search|niki-bot|CrystalSemanticsBot|rogerbot|360Spider|psbot|InterfaxScanBot|Lipperhey SEO Service|CC Metadata Scaper|g00g1e.net|GrapeshotCrawler|urlappendbot|brainobot|fr-crawler|binlar|SimpleCrawler|Livelapbot|Twitterbot|cXensebot|smtbot|bnf.fr_bot|A6-Indexer|ADmantX|Facebot|Twitterbot|OrangeBot|memorybot|AdvBot|MegaIndex|SemanticScholarBot|ltx71|nerdybot|xovibot|BUbiNG|Qwantify|archive.org_bot|Applebot|TweetmemeBot|crawler4j|findxbot|SemrushBot|yoozBot|lipperhey|y!j-asr|Domain Re-Animator Bot|AddThis)\";\\n\\n\\tvar re = new RegExp(botPattern, \\'i\\');\\n\\n\\tif (re.test(navigator.userAgent)) {\\n\\t\\t\\n\\t} else {\\n\\t\\t\\n\\t\\t//Check to see whether they are running an ad blocker\\n\\t\\tif(document.getElementById(\\'12mORwMnaEkJXlxz\\')){\\n\\t\\t  var ad_blocker = \\'N\\';\\n\\t\\t} else {\\n\\t\\t  var ad_blocker = \\'Y\\';\\n\\t\\t}\\n\\n\\t\\t$.post(\\'https://api.ipstack.com/check?access_key=14fe63e83d5cfefa0b3d4cec498479ba&output=json&fields=ip,continent_name,country_name,region_name,city\\', \\n\\t\\tfunction(ip_data){\\n\\t\\t\\t\\n\\t\\t\\t$.post(\\'https://www.macrotrends.net/assets/php/page_view_tracking.php\\', {ip: ip_data.ip,continent: ip_data.continent_name, country: ip_data.country_name, state: ip_data.region_name, city: ip_data.city, screen_width: screen.width, ads: ad_blocker, page_type: \\'stock\\'}, \\n\\t\\t\\t\\tfunction(data){\\n\\t\\t\\t\\t\\t/*\\t\\t\\t\\t\\t\\n\\t\\t\\t\\t\\tif(data % 20 === 0) {\\n\\t\\t\\t\\t\\t\\t\\n\\t\\t\\t\\t\\t\\t//$(\\'#contribute_modal\\').modal();\\n\\t\\t\\t\\t\\t\\t\\n\\t\\t\\t\\t\\t}\\n\\t\\t\\t\\t\\t*/\\n\\t\\t\\t\\t});\\n\\t\\t\\n\\t\\t});\\n\\n\\n\\t}\\n\\t\\n\\n});\\n\\n\\n$.post(\\'https://api.ipstack.com/check?access_key=14fe63e83d5cfefa0b3d4cec498479ba&output=json&fields=ip,continent_name,country_name,region_name,city\\', \\nfunction(ip_data){\\n\\t\\n\\t$(\".contribute_user_id\").val(ip_data.ip);\\n\\t\\n});\\n\\n$( \".donate_buttons\" ).click(function() {\\n  \\n\\tvar payment = $(this).attr(\"value\");\\n\\n\\t$.post(\\'https://api.ipstack.com/check?access_key=14fe63e83d5cfefa0b3d4cec498479ba&output=json&fields=ip,continent_name,country_name,region_name,city\\', \\n\\t\\tfunction(ip_data){\\n\\t\\t\\t\\t\\t\\n\\t\\t$.post(\\'https://www.macrotrends.net/assets/php/page_view_tracking.php\\', {ip: ip_data.ip, paid: payment}); \\n\\t\\n\\t});\\n\\t\\t \\n});\\n\\n</script>\\n\\n-->\\t\\n\\n<script type=\"text/javascript\">\\nvar clicky_site_ids = clicky_site_ids || [];\\nclicky_site_ids.push(100827248);\\n(function() {\\n  var s = document.createElement(\\'script\\');\\n  s.type = \\'text/javascript\\';\\n  s.async = true;\\n  s.src = \\'//static.getclicky.com/js\\';\\n  ( document.getElementsByTagName(\\'head\\')[0] || document.getElementsByTagName(\\'body\\')[0] ).appendChild( s );\\n})();\\n</script>\\n<noscript><p><img alt=\"Clicky\" width=\"1\" height=\"1\" src=\"//in.getclicky.com/100827248ns.gif\" /></p></noscript>\\n\\n\\n\\n<!-- This site is converting visitors into subscribers and customers with OptinMonster - https://optinmonster.com -->\\n<!-- <script type=\"text/javascript\" src=\"https://a.omappapi.com/app/js/api.min.js\" data-account=\"6392\" data-user=\"15772\" async></script> -->\\n<!-- / OptinMonster -->\\n\\n\\n</body>\\n\\n</html>\\n\\n\\t\\n'"
      ]
     },
     "execution_count": 24,
     "metadata": {},
     "output_type": "execute_result"
    }
   ],
   "source": [
    "url = ' https://cf-courses-data.s3.us.cloud-object-storage.appdomain.cloud/IBMDeveloperSkillsNetwork-PY0220EN-SkillsNetwork/labs/project/revenue.htm'\n",
    "\n",
    "data = requests.get(url).text\n",
    "data"
   ]
  },
  {
   "cell_type": "markdown",
   "metadata": {},
   "source": [
    "Parse the html data using `beautiful_soup` using parser i.e `html5lib` or `html.parser`.\n"
   ]
  },
  {
   "cell_type": "code",
   "execution_count": 25,
   "metadata": {},
   "outputs": [],
   "source": [
    "soup = BeautifulSoup(data, \"html\")\n"
   ]
  },
  {
   "cell_type": "markdown",
   "metadata": {},
   "source": [
    "Using `BeautifulSoup` or the `read_html` function extract the table with `Tesla Revenue` and store it into a dataframe named `tesla_revenue`. The dataframe should have columns `Date` and `Revenue`.\n"
   ]
  },
  {
   "cell_type": "markdown",
   "metadata": {},
   "source": [
    "<details><summary>Step-by-step instructions</summary>\n",
    "\n",
    "```\n",
    "\n",
    "Here are the step-by-step instructions:\n",
    "\n",
    "1. Create an Empty DataFrame\n",
    "2. Find the Relevant Table\n",
    "3. Check for the Tesla Quarterly Revenue Table\n",
    "4. Iterate Through Rows in the Table Body\n",
    "5. Extract Data from Columns\n",
    "6. Append Data to the DataFrame\n",
    "\n",
    "```\n",
    "</details>\n"
   ]
  },
  {
   "cell_type": "markdown",
   "metadata": {},
   "source": [
    "<details><summary>Click here if you need help locating the table</summary>\n",
    "\n",
    "```\n",
    "    \n",
    "Below is the code to isolate the table, you will now need to loop through the rows and columns like in the previous lab\n",
    "    \n",
    "soup.find_all(\"tbody\")[1]\n",
    "    \n",
    "If you want to use the read_html function the table is located at index 1\n",
    "\n",
    "We are focusing on quarterly revenue in the lab.\n",
    "```\n",
    "\n",
    "</details>\n"
   ]
  },
  {
   "cell_type": "code",
   "execution_count": 28,
   "metadata": {},
   "outputs": [
    {
     "name": "stdout",
     "output_type": "stream",
     "text": [
      "          Date  Revenue\n",
      "0   2022-09-30  $21,454\n",
      "1   2022-06-30  $16,934\n",
      "2   2022-03-31  $18,756\n",
      "3   2021-12-31  $17,719\n",
      "4   2021-09-30  $13,757\n",
      "5   2021-06-30  $11,958\n",
      "6   2021-03-31  $10,389\n",
      "7   2020-12-31  $10,744\n",
      "8   2020-09-30   $8,771\n",
      "9   2020-06-30   $6,036\n",
      "10  2020-03-31   $5,985\n",
      "11  2019-12-31   $7,384\n",
      "12  2019-09-30   $6,303\n",
      "13  2019-06-30   $6,350\n",
      "14  2019-03-31   $4,541\n",
      "15  2018-12-31   $7,226\n",
      "16  2018-09-30   $6,824\n",
      "17  2018-06-30   $4,002\n",
      "18  2018-03-31   $3,409\n",
      "19  2017-12-31   $3,288\n",
      "20  2017-09-30   $2,985\n",
      "21  2017-06-30   $2,790\n",
      "22  2017-03-31   $2,696\n",
      "23  2016-12-31   $2,285\n",
      "24  2016-09-30   $2,298\n",
      "25  2016-06-30   $1,270\n",
      "26  2016-03-31   $1,147\n",
      "27  2015-12-31   $1,214\n",
      "28  2015-09-30     $937\n",
      "29  2015-06-30     $955\n",
      "30  2015-03-31     $940\n",
      "31  2014-12-31     $957\n",
      "32  2014-09-30     $852\n",
      "33  2014-06-30     $769\n",
      "34  2014-03-31     $621\n",
      "35  2013-12-31     $615\n",
      "36  2013-09-30     $431\n",
      "37  2013-06-30     $405\n",
      "38  2013-03-31     $562\n",
      "39  2012-12-31     $306\n",
      "40  2012-09-30      $50\n",
      "41  2012-06-30      $27\n",
      "42  2012-03-31      $30\n",
      "43  2011-12-31      $39\n",
      "44  2011-09-30      $58\n",
      "45  2011-06-30      $58\n",
      "46  2011-03-31      $49\n",
      "47  2010-12-31      $36\n",
      "48  2010-09-30      $31\n",
      "49  2010-06-30      $28\n",
      "50  2010-03-31      $21\n",
      "51  2009-12-31         \n",
      "52  2009-09-30      $46\n",
      "53  2009-06-30      $27\n"
     ]
    }
   ],
   "source": [
    "tesla_revenue = pd.DataFrame(columns=[\"Date\", \"Revenue\"])\n",
    "\n",
    "for row in soup.find_all(\"tbody\")[1].find_all(\"tr\"):\n",
    "    col = row.find_all(\"td\")\n",
    "    date = col[0].text.strip()\n",
    "    revenue = col[1].text.strip()\n",
    "\n",
    "    new_row = pd.DataFrame({\"Date\": [date], \"Revenue\": [revenue]})\n",
    "    tesla_revenue = pd.concat([tesla_revenue, new_row], ignore_index=True)\n",
    "\n",
    "print(tesla_revenue)\n"
   ]
  },
  {
   "cell_type": "markdown",
   "metadata": {},
   "source": [
    "Execute the following line to remove the comma and dollar sign from the `Revenue` column. \n"
   ]
  },
  {
   "cell_type": "code",
   "execution_count": 29,
   "metadata": {},
   "outputs": [
    {
     "name": "stdout",
     "output_type": "stream",
     "text": [
      "          Date  Revenue\n",
      "0   2022-09-30  $21,454\n",
      "1   2022-06-30  $16,934\n",
      "2   2022-03-31  $18,756\n",
      "3   2021-12-31  $17,719\n",
      "4   2021-09-30  $13,757\n",
      "5   2021-06-30  $11,958\n",
      "6   2021-03-31  $10,389\n",
      "7   2020-12-31  $10,744\n",
      "8   2020-09-30   $8,771\n",
      "9   2020-06-30   $6,036\n",
      "10  2020-03-31   $5,985\n",
      "11  2019-12-31   $7,384\n",
      "12  2019-09-30   $6,303\n",
      "13  2019-06-30   $6,350\n",
      "14  2019-03-31   $4,541\n",
      "15  2018-12-31   $7,226\n",
      "16  2018-09-30   $6,824\n",
      "17  2018-06-30   $4,002\n",
      "18  2018-03-31   $3,409\n",
      "19  2017-12-31   $3,288\n",
      "20  2017-09-30   $2,985\n",
      "21  2017-06-30   $2,790\n",
      "22  2017-03-31   $2,696\n",
      "23  2016-12-31   $2,285\n",
      "24  2016-09-30   $2,298\n",
      "25  2016-06-30   $1,270\n",
      "26  2016-03-31   $1,147\n",
      "27  2015-12-31   $1,214\n",
      "28  2015-09-30     $937\n",
      "29  2015-06-30     $955\n",
      "30  2015-03-31     $940\n",
      "31  2014-12-31     $957\n",
      "32  2014-09-30     $852\n",
      "33  2014-06-30     $769\n",
      "34  2014-03-31     $621\n",
      "35  2013-12-31     $615\n",
      "36  2013-09-30     $431\n",
      "37  2013-06-30     $405\n",
      "38  2013-03-31     $562\n",
      "39  2012-12-31     $306\n",
      "40  2012-09-30      $50\n",
      "41  2012-06-30      $27\n",
      "42  2012-03-31      $30\n",
      "43  2011-12-31      $39\n",
      "44  2011-09-30      $58\n",
      "45  2011-06-30      $58\n",
      "46  2011-03-31      $49\n",
      "47  2010-12-31      $36\n",
      "48  2010-09-30      $31\n",
      "49  2010-06-30      $28\n",
      "50  2010-03-31      $21\n",
      "51  2009-12-31         \n",
      "52  2009-09-30      $46\n",
      "53  2009-06-30      $27\n"
     ]
    }
   ],
   "source": [
    "tesla_revenue[\"Revenue\"] = tesla_revenue['Revenue'].str.replace(',|\\$',\"\")\n",
    "print(tesla_revenue)"
   ]
  },
  {
   "cell_type": "markdown",
   "metadata": {},
   "source": [
    "Execute the following lines to remove an null or empty strings in the Revenue column.\n"
   ]
  },
  {
   "cell_type": "code",
   "execution_count": 30,
   "metadata": {},
   "outputs": [],
   "source": [
    "tesla_revenue.dropna(inplace=True)\n",
    "\n",
    "tesla_revenue = tesla_revenue[tesla_revenue['Revenue'] != \"\"]"
   ]
  },
  {
   "cell_type": "markdown",
   "metadata": {},
   "source": [
    "Display the last 5 row of the `tesla_revenue` dataframe using the `tail` function. Take a screenshot of the results.\n"
   ]
  },
  {
   "cell_type": "code",
   "execution_count": 31,
   "metadata": {},
   "outputs": [
    {
     "data": {
      "text/html": [
       "<div>\n",
       "<style scoped>\n",
       "    .dataframe tbody tr th:only-of-type {\n",
       "        vertical-align: middle;\n",
       "    }\n",
       "\n",
       "    .dataframe tbody tr th {\n",
       "        vertical-align: top;\n",
       "    }\n",
       "\n",
       "    .dataframe thead th {\n",
       "        text-align: right;\n",
       "    }\n",
       "</style>\n",
       "<table border=\"1\" class=\"dataframe\">\n",
       "  <thead>\n",
       "    <tr style=\"text-align: right;\">\n",
       "      <th></th>\n",
       "      <th>Date</th>\n",
       "      <th>Revenue</th>\n",
       "    </tr>\n",
       "  </thead>\n",
       "  <tbody>\n",
       "    <tr>\n",
       "      <th>48</th>\n",
       "      <td>2010-09-30</td>\n",
       "      <td>$31</td>\n",
       "    </tr>\n",
       "    <tr>\n",
       "      <th>49</th>\n",
       "      <td>2010-06-30</td>\n",
       "      <td>$28</td>\n",
       "    </tr>\n",
       "    <tr>\n",
       "      <th>50</th>\n",
       "      <td>2010-03-31</td>\n",
       "      <td>$21</td>\n",
       "    </tr>\n",
       "    <tr>\n",
       "      <th>52</th>\n",
       "      <td>2009-09-30</td>\n",
       "      <td>$46</td>\n",
       "    </tr>\n",
       "    <tr>\n",
       "      <th>53</th>\n",
       "      <td>2009-06-30</td>\n",
       "      <td>$27</td>\n",
       "    </tr>\n",
       "  </tbody>\n",
       "</table>\n",
       "</div>"
      ],
      "text/plain": [
       "          Date Revenue\n",
       "48  2010-09-30     $31\n",
       "49  2010-06-30     $28\n",
       "50  2010-03-31     $21\n",
       "52  2009-09-30     $46\n",
       "53  2009-06-30     $27"
      ]
     },
     "execution_count": 31,
     "metadata": {},
     "output_type": "execute_result"
    }
   ],
   "source": [
    "tesla_revenue.tail()"
   ]
  },
  {
   "cell_type": "markdown",
   "metadata": {},
   "source": [
    "## Question 3: Use yfinance to Extract Stock Data\n"
   ]
  },
  {
   "cell_type": "markdown",
   "metadata": {},
   "source": [
    "Using the `Ticker` function enter the ticker symbol of the stock we want to extract data on to create a ticker object. The stock is GameStop and its ticker symbol is `GME`.\n"
   ]
  },
  {
   "cell_type": "code",
   "execution_count": 32,
   "metadata": {},
   "outputs": [
    {
     "name": "stdout",
     "output_type": "stream",
     "text": [
      "                               Open      High       Low     Close    Volume  \\\n",
      "Date                                                                          \n",
      "2002-02-13 00:00:00-05:00  1.620128  1.693350  1.603296  1.691666  76216000   \n",
      "2002-02-14 00:00:00-05:00  1.712707  1.716074  1.670626  1.683250  11021600   \n",
      "2002-02-15 00:00:00-05:00  1.683251  1.687459  1.658002  1.674834   8389600   \n",
      "2002-02-19 00:00:00-05:00  1.666418  1.666418  1.578047  1.607504   7410400   \n",
      "2002-02-20 00:00:00-05:00  1.615921  1.662210  1.603296  1.662210   6892800   \n",
      "\n",
      "                           Dividends  Stock Splits  \n",
      "Date                                                \n",
      "2002-02-13 00:00:00-05:00        0.0           0.0  \n",
      "2002-02-14 00:00:00-05:00        0.0           0.0  \n",
      "2002-02-15 00:00:00-05:00        0.0           0.0  \n",
      "2002-02-19 00:00:00-05:00        0.0           0.0  \n",
      "2002-02-20 00:00:00-05:00        0.0           0.0  \n"
     ]
    }
   ],
   "source": [
    "\n",
    "gme_ticker = yf.Ticker(\"GME\")\n",
    "\n",
    "# Retrieve stock data using the history function with a 'max' period\n",
    "gme_data = gme_ticker.history(period=\"max\")\n",
    "\n",
    "# Display the first few rows of the data\n",
    "print(gme_data.head())"
   ]
  },
  {
   "cell_type": "markdown",
   "metadata": {},
   "source": [
    "Using the ticker object and the function `history` extract stock information and save it in a dataframe named `gme_data`. Set the `period` parameter to ` \"max\" ` so we get information for the maximum amount of time.\n"
   ]
  },
  {
   "cell_type": "code",
   "execution_count": 136,
   "metadata": {},
   "outputs": [],
   "source": [
    "# gme_stock = gme_data.history(period= 'max')\n",
    "# "
   ]
  },
  {
   "cell_type": "markdown",
   "metadata": {},
   "source": [
    "**Reset the index** using the `reset_index(inplace=True)` function on the gme_data DataFrame and display the first five rows of the `gme_data` dataframe using the `head` function. Take a screenshot of the results and code from the beginning of Question 3 to the results below.\n"
   ]
  },
  {
   "cell_type": "code",
   "execution_count": 36,
   "metadata": {},
   "outputs": [
    {
     "data": {
      "text/html": [
       "<div>\n",
       "<style scoped>\n",
       "    .dataframe tbody tr th:only-of-type {\n",
       "        vertical-align: middle;\n",
       "    }\n",
       "\n",
       "    .dataframe tbody tr th {\n",
       "        vertical-align: top;\n",
       "    }\n",
       "\n",
       "    .dataframe thead th {\n",
       "        text-align: right;\n",
       "    }\n",
       "</style>\n",
       "<table border=\"1\" class=\"dataframe\">\n",
       "  <thead>\n",
       "    <tr style=\"text-align: right;\">\n",
       "      <th></th>\n",
       "      <th>level_0</th>\n",
       "      <th>index</th>\n",
       "      <th>Date</th>\n",
       "      <th>Open</th>\n",
       "      <th>High</th>\n",
       "      <th>Low</th>\n",
       "      <th>Close</th>\n",
       "      <th>Volume</th>\n",
       "      <th>Dividends</th>\n",
       "      <th>Stock Splits</th>\n",
       "    </tr>\n",
       "  </thead>\n",
       "  <tbody>\n",
       "    <tr>\n",
       "      <th>0</th>\n",
       "      <td>0</td>\n",
       "      <td>0</td>\n",
       "      <td>2002-02-13 00:00:00-05:00</td>\n",
       "      <td>1.620128</td>\n",
       "      <td>1.693350</td>\n",
       "      <td>1.603296</td>\n",
       "      <td>1.691666</td>\n",
       "      <td>76216000</td>\n",
       "      <td>0.0</td>\n",
       "      <td>0.0</td>\n",
       "    </tr>\n",
       "    <tr>\n",
       "      <th>1</th>\n",
       "      <td>1</td>\n",
       "      <td>1</td>\n",
       "      <td>2002-02-14 00:00:00-05:00</td>\n",
       "      <td>1.712707</td>\n",
       "      <td>1.716074</td>\n",
       "      <td>1.670626</td>\n",
       "      <td>1.683250</td>\n",
       "      <td>11021600</td>\n",
       "      <td>0.0</td>\n",
       "      <td>0.0</td>\n",
       "    </tr>\n",
       "    <tr>\n",
       "      <th>2</th>\n",
       "      <td>2</td>\n",
       "      <td>2</td>\n",
       "      <td>2002-02-15 00:00:00-05:00</td>\n",
       "      <td>1.683251</td>\n",
       "      <td>1.687459</td>\n",
       "      <td>1.658002</td>\n",
       "      <td>1.674834</td>\n",
       "      <td>8389600</td>\n",
       "      <td>0.0</td>\n",
       "      <td>0.0</td>\n",
       "    </tr>\n",
       "    <tr>\n",
       "      <th>3</th>\n",
       "      <td>3</td>\n",
       "      <td>3</td>\n",
       "      <td>2002-02-19 00:00:00-05:00</td>\n",
       "      <td>1.666418</td>\n",
       "      <td>1.666418</td>\n",
       "      <td>1.578047</td>\n",
       "      <td>1.607504</td>\n",
       "      <td>7410400</td>\n",
       "      <td>0.0</td>\n",
       "      <td>0.0</td>\n",
       "    </tr>\n",
       "    <tr>\n",
       "      <th>4</th>\n",
       "      <td>4</td>\n",
       "      <td>4</td>\n",
       "      <td>2002-02-20 00:00:00-05:00</td>\n",
       "      <td>1.615921</td>\n",
       "      <td>1.662210</td>\n",
       "      <td>1.603296</td>\n",
       "      <td>1.662210</td>\n",
       "      <td>6892800</td>\n",
       "      <td>0.0</td>\n",
       "      <td>0.0</td>\n",
       "    </tr>\n",
       "  </tbody>\n",
       "</table>\n",
       "</div>"
      ],
      "text/plain": [
       "   level_0  index                      Date      Open      High       Low  \\\n",
       "0        0      0 2002-02-13 00:00:00-05:00  1.620128  1.693350  1.603296   \n",
       "1        1      1 2002-02-14 00:00:00-05:00  1.712707  1.716074  1.670626   \n",
       "2        2      2 2002-02-15 00:00:00-05:00  1.683251  1.687459  1.658002   \n",
       "3        3      3 2002-02-19 00:00:00-05:00  1.666418  1.666418  1.578047   \n",
       "4        4      4 2002-02-20 00:00:00-05:00  1.615921  1.662210  1.603296   \n",
       "\n",
       "      Close    Volume  Dividends  Stock Splits  \n",
       "0  1.691666  76216000        0.0           0.0  \n",
       "1  1.683250  11021600        0.0           0.0  \n",
       "2  1.674834   8389600        0.0           0.0  \n",
       "3  1.607504   7410400        0.0           0.0  \n",
       "4  1.662210   6892800        0.0           0.0  "
      ]
     },
     "execution_count": 36,
     "metadata": {},
     "output_type": "execute_result"
    }
   ],
   "source": [
    "gme_data.reset_index(inplace= True)\n",
    "gme_data.head()"
   ]
  },
  {
   "cell_type": "markdown",
   "metadata": {},
   "source": [
    "## Question 4: Use Webscraping to Extract GME Revenue Data\n"
   ]
  },
  {
   "cell_type": "markdown",
   "metadata": {},
   "source": [
    "Use the `requests` library to download the webpage https://cf-courses-data.s3.us.cloud-object-storage.appdomain.cloud/IBMDeveloperSkillsNetwork-PY0220EN-SkillsNetwork/labs/project/stock.html. Save the text of the response as a variable named `html_data_2`.\n"
   ]
  },
  {
   "cell_type": "code",
   "execution_count": 37,
   "metadata": {},
   "outputs": [
    {
     "data": {
      "text/plain": [
       "'<!DOCTYPE html>\\n<!-- saved from url=(0105)https://web.archive.org/web/20200814131437/https://www.macrotrends.net/stocks/charts/GME/gamestop/revenue -->\\n<html class=\" js flexbox canvas canvastext webgl no-touch geolocation postmessage websqldatabase indexeddb hashchange history draganddrop websockets rgba hsla multiplebgs backgroundsize borderimage borderradius boxshadow textshadow opacity cssanimations csscolumns cssgradients cssreflections csstransforms csstransforms3d csstransitions fontface generatedcontent video audio localstorage sessionstorage webworkers no-applicationcache svg inlinesvg smil svgclippaths\" style=\"\"><!--<![endif]--><head><meta http-equiv=\"Content-Type\" content=\"text/html; charset=UTF-8\"><script type=\"text/javascript\" async=\"\" src=\"./GameStop Revenue 2006-2020 _ GME _ MacroTrends_files/analytics.js.download\"></script><script async=\"\" type=\"text/javascript\" src=\"./GameStop Revenue 2006-2020 _ GME _ MacroTrends_files/gpt.js.download\"></script><script async=\"\" src=\"./GameStop Revenue 2006-2020 _ GME _ MacroTrends_files/analytics.js(1).download\"></script><script async=\"\" src=\"./GameStop Revenue 2006-2020 _ GME _ MacroTrends_files/analytics.js(1).download\"></script><script src=\"./GameStop Revenue 2006-2020 _ GME _ MacroTrends_files/analytics.js(2).download\" type=\"text/javascript\"></script>\\n<script type=\"text/javascript\">window.addEventListener(\\'DOMContentLoaded\\',function(){var v=archive_analytics.values;v.service=\\'wb\\';v.server_name=\\'wwwb-app201.us.archive.org\\';v.server_ms=286;archive_analytics.send_pageview({});});</script>\\n<script type=\"text/javascript\" src=\"./GameStop Revenue 2006-2020 _ GME _ MacroTrends_files/bundle-playback.js.download\" charset=\"utf-8\"></script>\\n<script type=\"text/javascript\" src=\"./GameStop Revenue 2006-2020 _ GME _ MacroTrends_files/wombat.js.download\" charset=\"utf-8\"></script>\\n<script type=\"text/javascript\">\\n  __wm.init(\"https://web.archive.org/web\");\\n  __wm.wombat(\"https://www.macrotrends.net/stocks/charts/GME/gamestop/revenue\",\"20200814131437\",\"https://web.archive.org/\",\"web\",\"/_static/\",\\n\\t      \"1597410877\");\\n</script>\\n<link rel=\"stylesheet\" type=\"text/css\" href=\"./GameStop Revenue 2006-2020 _ GME _ MacroTrends_files/banner-styles.css\">\\n<link rel=\"stylesheet\" type=\"text/css\" href=\"./GameStop Revenue 2006-2020 _ GME _ MacroTrends_files/iconochive.css\">\\n<!-- End Wayback Rewrite JS Include -->\\n\\n        \\n        <meta http-equiv=\"X-UA-Compatible\" content=\"IE=edge,chrome=1\">\\n\\t\\t<link rel=\"canonical\" href=\"https://web.archive.org/web/20200814131437/https://www.macrotrends.net/stocks/charts/GME/gamestop/revenue\">\\n\\t\\t<title>GameStop Revenue 2006-2020 | GME | MacroTrends</title>\\n\\t\\t<meta name=\"description\" content=\"GameStop revenue from 2006 to 2020. Revenue can be defined as the amount of money a company receives from its customers in exchange for the sales of goods or services.  Revenue is the top line item on an income statement from which all costs and expenses are subtracted to arrive at net income.\">\\n\\t\\t<meta name=\"robots\" content=\"\">\\n\\t\\t\\t\\t\\n\\t\\t<link rel=\"shortcut icon\" href=\"https://web.archive.org/web/20200814131437im_/https://www.macrotrends.net/assets/images/icons/FAVICON/macro-trends_favicon.ico\" type=\"image/x-icon\">\\n\\n\\t\\t<meta name=\"msvalidate.01\" content=\"1228954C688F5907894001CD8E5E624B\">\\n\\t\\t<meta name=\"google-site-verification\" content=\"6MnD_3iDtAP1ZyoGK1YMyVIVck4r5Ws80I9xD3ue4_A\">\\n\\n\\t\\t<!-- Load in Roboto Font -->\\n\\t\\t<link rel=\"stylesheet\" href=\"./GameStop Revenue 2006-2020 _ GME _ MacroTrends_files/css\">\\n\\n\\t\\t<!-- Bootstrap -->\\n\\t\\t<link rel=\"stylesheet\" href=\"./GameStop Revenue 2006-2020 _ GME _ MacroTrends_files/bootstrap.min.css\"> <!--for Bootstrap CDN version-->\\n\\t\\t<link rel=\"stylesheet\" href=\"./GameStop Revenue 2006-2020 _ GME _ MacroTrends_files/bootstrap-theme.min.css\">\\n\\n\\t\\t<!-- Font Awesome -->\\n\\t\\t<link rel=\"stylesheet\" href=\"./GameStop Revenue 2006-2020 _ GME _ MacroTrends_files/font-awesome.min.css\"> <!--for Font Awesome CDN version-->\\n    \\t\\t\\n\\t\\t<!-- Jquery, Bootstrap and Menu Javascript -->\\t\\n\\t\\t<script src=\"./GameStop Revenue 2006-2020 _ GME _ MacroTrends_files/jquery-1.12.4.min.js.download\" integrity=\"\" crossorigin=\"anonymous\"></script>\\n\\t\\t<script src=\"./GameStop Revenue 2006-2020 _ GME _ MacroTrends_files/bootstrap.min.js.download\"></script>\\n\\t\\t\\t\\t\\n\\t\\t<!-- Modernizr for cross-browser support -->\\t\\t\\n\\t\\t<script type=\"text/javascript\" src=\"./GameStop Revenue 2006-2020 _ GME _ MacroTrends_files/modernizr-2.6.2-respond-1.1.0.min.js.download\"></script>\\n\\n\\t\\t<!-- Latest compiled and minified CSS -->\\n\\t\\t<link rel=\"stylesheet\" href=\"./GameStop Revenue 2006-2020 _ GME _ MacroTrends_files/fuelux.min.css\">\\n\\n\\t\\t<!-- Latest compiled and minified JavaScript -->\\n\\t\\t<script src=\"./GameStop Revenue 2006-2020 _ GME _ MacroTrends_files/fuelux.min.js.download\"></script>\\n\\t\\t\\n\\t\\t\\n\\t\\t <!-- Twitter Card data -->\\n\\t\\t  <meta name=\"twitter:card\" content=\"summary_large_image\">\\n\\t\\t  <meta name=\"twitter:site\" content=\"@tmacrotrends\">\\n\\t\\t  <meta name=\"twitter:title\" content=\"GameStop Revenue 2006-2020 | GME\">\\n\\t\\t  <meta name=\"twitter:description\" content=\"GameStop revenue from 2006 to 2020. Revenue can be defined as the amount of money a company receives from its customers in exchange for the sales of goods or services.  Revenue is the top line item on an income statement from which all costs and expenses are subtracted to arrive at net income.\">\\n\\n\\t\\t  <!-- Open Graph data -->\\n\\t\\t  <meta property=\"og:url\" content=\"https://web.archive.org/web/20200814131437/https://www.macrotrends.net/stocks/charts/GME/gamestop/revenue\">  \\n\\t\\t  <meta property=\"og:title\" content=\"GameStop Revenue 2006-2020 | GME\">\\n\\t\\t  <meta property=\"og:description\" content=\"GameStop revenue from 2006 to 2020. Revenue can be defined as the amount of money a company receives from its customers in exchange for the sales of goods or services.  Revenue is the top line item on an income statement from which all costs and expenses are subtracted to arrive at net income.\">\\n\\n\\t\\t<!-- JQXGRID STYLES AND JAVASCRIPT -->\\n\\t\\t<link rel=\"stylesheet\" href=\"./GameStop Revenue 2006-2020 _ GME _ MacroTrends_files/jqx.base.css\" type=\"text/css\">\\n\\t\\t<link rel=\"stylesheet\" href=\"./GameStop Revenue 2006-2020 _ GME _ MacroTrends_files/jqx.bootstrap.css\" type=\"text/css\">\\n\\n\\t\\t<!-- LOAD THESE SCRIPTS EARLY SO THE TICKER INPUT FIELD IS STYLED INSTANTLY -->\\n\\t\\t<script type=\"text/javascript\" src=\"./GameStop Revenue 2006-2020 _ GME _ MacroTrends_files/jqxcore.js.download\"></script>\\n\\t\\t<script type=\"text/javascript\" src=\"./GameStop Revenue 2006-2020 _ GME _ MacroTrends_files/jqxdata.js.download\"></script> \\n\\t\\t<script type=\"text/javascript\" src=\"./GameStop Revenue 2006-2020 _ GME _ MacroTrends_files/jqxinput.js.download\"></script> \\n\\n\\t\\t<!-- Styling for search box -->\\t\\n\\t\\t<link rel=\"stylesheet\" type=\"text/css\" href=\"./GameStop Revenue 2006-2020 _ GME _ MacroTrends_files/jquery.typeahead_pages.css\">\\n\\n\\t\\t<!-- Search box javascript -->\\n\\t\\t<script src=\"./GameStop Revenue 2006-2020 _ GME _ MacroTrends_files/jquery.typeahead.min.js.download\"></script>\\n\\t\\t\\n\\n\\t\\t<link href=\"./GameStop Revenue 2006-2020 _ GME _ MacroTrends_files/select2.min.css\" rel=\"stylesheet\">\\n\\t\\t<script src=\"./GameStop Revenue 2006-2020 _ GME _ MacroTrends_files/select2.min.js.download\"></script>\\n\\t\\n\\t<!-- ToolTips -->\\t\\n\\t\\t<script src=\"./GameStop Revenue 2006-2020 _ GME _ MacroTrends_files/tipped.js.download\"></script>\\n\\t\\t<link rel=\"stylesheet\" href=\"./GameStop Revenue 2006-2020 _ GME _ MacroTrends_files/tipped.css\">\\n\\t\\t\\n\\t\\t\\t\\n\\t\\t<script async=\"\" src=\"./GameStop Revenue 2006-2020 _ GME _ MacroTrends_files/uat.js.download\"></script>\\n\\t\\t<script type=\"text/javascript\">\\n\\t\\t\\tInvestingChannelQueue = window.InvestingChannelQueue || [];\\n\\t\\t\\tvar ic_page;\\n\\t\\t\\tInvestingChannelQueue.push(function() {ic_page = InvestingChannel.UAT.Run(\"df17ac1e-cc7f-11e8-82a5-0abbb61c4a6a\");});\\n\\t\\t</script>\\t\\n\\n\\t\\t<!-- Global site tag (gtag.js) - Google Analytics -->\\n\\t\\t<script async=\"\" src=\"./GameStop Revenue 2006-2020 _ GME _ MacroTrends_files/js\"></script>\\n\\t\\t<script>\\n\\t\\t  window.dataLayer = window.dataLayer || [];\\n\\t\\t  function gtag(){dataLayer.push(arguments);}\\n\\t\\t  gtag(\\'js\\', new Date());\\n\\n\\t\\t  gtag(\\'config\\', \\'UA-62099500-1\\');\\n\\t\\t</script>\\t\\t\\n\\n\\n \\t\\t<!-- Amcharts Files -->\\t\\t\\n\\t\\t<script src=\"./GameStop Revenue 2006-2020 _ GME _ MacroTrends_files/amcharts.js.download\" type=\"text/javascript\"></script>\\n        <script src=\"./GameStop Revenue 2006-2020 _ GME _ MacroTrends_files/serial.js.download\" type=\"text/javascript\"></script>\\n        <script src=\"./GameStop Revenue 2006-2020 _ GME _ MacroTrends_files/light.js.download\" type=\"text/javascript\"></script>\\n        <script src=\"./GameStop Revenue 2006-2020 _ GME _ MacroTrends_files/amstock.js.download\" type=\"text/javascript\"></script>  \\n\\t\\t<script type=\"text/javascript\" src=\"./GameStop Revenue 2006-2020 _ GME _ MacroTrends_files/export.min.js.download\"></script>\\n\\t\\t<script type=\"text/javascript\" src=\"./GameStop Revenue 2006-2020 _ GME _ MacroTrends_files/fabric.min.js.download\"></script>\\n\\t\\t<script type=\"text/javascript\" src=\"./GameStop Revenue 2006-2020 _ GME _ MacroTrends_files/FileSaver.js.download\"></script>\\n\\t\\t<link rel=\"stylesheet\" href=\"./GameStop Revenue 2006-2020 _ GME _ MacroTrends_files/export.css\" type=\"text/css\" media=\"all\">\\t\\t\\n\\n\\n\\t\\t<!--<script>\\n\\t\\t\\t(function(i,s,o,g,r,a,m){i[\\'GoogleAnalyticsObject\\']=r;i[r]=i[r]||function(){\\n\\t\\t\\t(i[r].q=i[r].q||[]).push(arguments)},i[r].l=1*new Date();a=s.createElement(o),\\n\\t\\t\\tm=s.getElementsByTagName(o)[0];a.async=1;a.src=g;m.parentNode.insertBefore(a,m)\\n\\t\\t\\t})(window,document,\\'script\\',\\'//www.google-analytics.com/analytics.js\\',\\'ga\\');\\n\\n\\t\\t\\tga(\\'create\\', \\'UA-62099500-1\\', \\'auto\\');\\n\\t\\t\\tga(\\'send\\', \\'pageview\\');\\n\\t\\t\\t\\n\\t\\t\\t\\n\\t\\t\\t\\n\\t\\t   \\n\\t\\t\\t//Send one event to GA at 30 seconds to control bounce rate\\n\\t\\t\\tsetTimeout(\"ga(\\'send\\',\\'event\\',\\'Engaged User\\',\\'30 Second Engagement\\')\",30000); \\n\\n\\n\\t\\t  //This code sends events to ga every 30 seconds when the window is in focus\\n\\t\\t\\tvar count = 0;\\n\\t\\t\\tvar myInterval;\\n\\t\\t\\t\\t\\t\\n\\t\\t\\t// Active\\n\\t\\t\\twindow.addEventListener(\\'load\\', startTimer);\\n\\t\\t\\twindow.addEventListener(\\'focus\\', startTimer);\\n\\n\\t\\t\\t// Inactive\\n\\t\\t\\twindow.addEventListener(\\'blur\\', stopTimer);\\n\\n\\t\\t\\tfunction timerHandler() {\\n\\t\\t\\t\\tcount++;\\n\\t\\t\\t\\t\\n\\t\\t\\t\\tif(count % 60 == 0 && count <= 1800) {\\n\\t\\t\\t\\t\\t\\n\\t\\t\\t\\t\\tvar interval = (count/60);\\n\\t\\t\\t\\t\\tinterval = interval.toFixed(0);\\n\\t\\t\\t\\t\\t\\n\\t\\t\\t\\t\\tvar action = interval + \" Minute Engagement\";\\n\\t\\t\\t\\t\\t\\n\\t\\t\\t\\t\\tga(\\'send\\',\\'event\\',\\'Engaged User\\',action);\\n\\n\\t\\t\\t\\t\\t\\n\\t\\t\\t\\t}\\n\\t\\t\\t\\n\\t\\t\\t}\\n\\n\\t\\t\\t// Start timer\\n\\t\\t\\tfunction startTimer() {\\n\\t\\t\\tmyInterval = window.setInterval(timerHandler, 1000);\\n\\t\\t\\t}\\n\\n\\t\\t\\t// Stop timer\\n\\t\\t\\tfunction stopTimer() {\\n\\t\\t\\twindow.clearInterval(myInterval);\\n\\t\\t\\t}\\n\\t\\t\\t\\n\\t\\t\\t\\n\\n\\t\\t</script>-->\\n\\t\\t\\n<style> \\n\\n#style-1::-webkit-scrollbar-track\\n{\\n\\t-webkit-box-shadow: inset 0 0 6px rgba(0,0,0,0.3);\\n\\tborder-radius: 3px;\\n\\tbackground-color: #F5F5F5;\\n}\\n\\n#style-1::-webkit-scrollbar\\n{\\n\\twidth: 18px;\\n\\tbackground-color: #F5F5F5;\\n}\\n\\n#style-1::-webkit-scrollbar-thumb\\n{\\n\\tborder-radius: 3px;\\n\\t-webkit-box-shadow: inset 0 0 6px rgba(0,0,0,.3);\\n\\tbackground-color: #5B9BD5;\\n}\\n\\nhtml {\\n\\twidth:100%;\\n\\tposition: relative;\\n\\tmin-height: 100%;\\n}\\n\\nbody {\\n\\t\\n\\twidth:100%;\\n\\n\\t/* Margin bottom by footer height */\\n\\t  margin-bottom: 80px;\\n\\t  color: #444;\\n\\t  background-color:#fff;\\n\\t  font-family: \\'Roboto\\', sans-serif;\\n\\t  font-size:14px;\\n}\\n\\n\\n\\n\\n\\n.header_content_container {\\n\\t\\n\\tmin-width: 1250px;\\n\\tpadding: 0px;\\n}\\n\\n.main_content_container {\\n\\t\\n\\tmin-width: 1366px;\\n\\tmax-width: 1366px;\\n\\tpadding: 0px 30px 100px 30px;\\n\\t\\n}\\n\\n.sub_main_content_container {\\n\\t\\n\\t\\n}\\n\\n#left_sidebar {\\n\\t\\n  width: 180px;\\n  float:left;\\n  height:3080px;\\n\\t\\n}\\n\\n#main_content {\\n\\t\\n\\tpadding:0px 20px 0px 0px;\\n\\twidth:826px;\\n    float:left;\\n\\t\\n}\\n\\n#right_sidebar {\\n\\t\\n  width: 300px;\\n  float:left;\\n  height:3080px;\\n\\t\\n}\\n\\n#sticky_ad_left {\\n\\t\\n  position: -webkit-sticky;\\n  position: sticky;\\n  top: 30px;\\n\\t\\n\\t\\n}\\n\\n#sticky_ad_right {\\n\\t\\n  position: -webkit-sticky;\\n  position: sticky;\\n  top: 30px;\\n\\t\\n\\t\\n}\\n\\n\\n\\n\\n\\n.footer {\\n  position: absolute;\\n  bottom: 0;\\n  width: 100%;\\n  /* Set the fixed height of the footer here */\\n  height: 100px;\\n  margin-top: 10px;\\t\\n  padding: 30px 20px 20px 20px;\\n  color:#fff !important;\\n  background-color:#444;\\n  text-align: center;\\n  font-size:16px;\\n}\\n\\n.footer a {\\n  color:#fff !important;\\n}\\n\\n.ticker_search_box {\\n\\t\\n\\tbackground-color:#F5F5F5;\\n\\tborder: 1px solid #E0E0E0;\\n\\tborder-bottom:none;\\n\\tpadding:10px 30px 10px 10px;\\n\\tmargin:0px 0px 0px 0px;\\n\\ttext-align:center;\\n\\t\\n}\\n\\n.related_tickers {\\n\\t\\n\\twidth:100%;\\n\\tbackground-color:#F5F5F5;\\n\\tborder: 1px solid #E0E0E0;\\n\\tborder-top: 0px;\\n\\tpadding:3px 30px 3px 10px;\\n\\tmargin:0px 0px 0px 0px;\\n\\ttext-align:center;\\n\\t\\n}\\n\\n.statement_type_select {\\n\\n\\twidth:100%;\\n\\theight:28px;\\n\\t\\n}\\n\\n.frequency_select {\\n\\n\\twidth:100%;\\n\\theight:28px;\\n\\tfont-weight:600;\\n\\t\\n}\\n\\n\\n.select2 {\\n\\t\\n\\ttext-align:left;\\n\\tfont-weight:600;\\n\\t\\n\\t}\\n\\t\\n#jqxInput {\\n\\n\\t\\twidth:100%;\\n\\t\\theight:28px;\\n\\t\\t\\n}\\n\\n\\n\\n.header__parent_container {\\n\\n\\twidth:100%;\\n\\theight:50px;\\n\\tpadding:15px 0px 10px -20px; \\n\\tmargin:0px 0px 0px 0px;\\n\\tbackground-color:#444;\\n\\n}\\n\\n.header_container {\\n\\n\\twidth:100%;\\n\\theight:50px;\\n\\tpadding:15px 0px 10px -20px; \\n\\tmargin:0px 0px 0px 0px;\\n\\tbackground-color:#444;\\n\\n}\\n\\n.header_logo {\\n\\t\\n\\tpadding-top:10px;\\n\\tmargin-left:50px;\\n\\t\\n}\\n\\n.menu_parent_container {\\n\\t\\n\\twidth:100%;\\n\\theight:34px;\\n\\tfont-size:16px;\\n\\tpadding:15px 0px 10px -20px; \\n\\tmargin:0px 0px 0px 0px;\\n\\tbackground-color:#0089de;\\n}\\n\\n.menu_container {\\n\\t\\n\\twidth:1280px;\\n\\theight:34px;\\n\\tfont-size:16px;\\n\\tpadding:11px 0px 0px -20px; \\n\\tmargin: 0 auto;\\n\\tbackground-color:#0089de;\\n\\tz-index:1000;\\n}\\n\\n.menu_item {\\n\\n\\theight:34px;\\n\\tfloat:left;\\n\\tfont-size:14px;\\n\\tfont-weight:bold;\\n\\tcolor:#fff;\\n\\ttext-align:center;\\n\\tpadding:7px 16px 0px 16px;\\t\\n\\n}\\n\\n.menu_item:hover\\n{\\n\\tbackground-color:#32a0e4;\\n\\tcursor: pointer;\\n}\\n\\n.menu_item a\\n{\\n\\tcolor:#fff;\\n\\tcursor: pointer;\\n}\\n\\n.menu_item a:hover\\n{\\n\\ttext-decoration:none;\\n\\tcursor: pointer;\\n}\\n\\n.leaderboard_ad {\\n\\n\\tmargin-top:20px;\\n\\tmargin-bottom:20px;\\n\\ttext-align:center;\\n\\tmin-height:100px;\\n\\n}\\n\\n#filter_result_count {\\n\\t\\n\\twidth:100%;\\n\\ttext-align:center;\\n\\tfont-size:24px;\\n\\tfont-weight:bold;\\n\\tpadding:10px 15px;\\n\\tbackground-color:#efefef;\\n\\tborder: 1px solid #dfdfdf;\\n\\tmargin:20px;\\n\\t\\n}\\n\\n\\nselect {\\n  color: #444;\\n  background-color: #FFF;\\n  border: 1px solid #AAA;\\n  border-radius: 4px;\\n  box-sizing: border-box;\\n  cursor: pointer;\\n  display: block;\\n  height:40px;\\n  line-height: 40px;\\n}\\n\\n.historical_data_table  {\\n    table-layout: fixed;\\n\\tmargin:20px;\\n}\\n\\n.historical_data_table tbody tr td {\\n\\t\\n\\tpadding:6px;\\n\\tvertical-align: middle !important;\\n\\n}\\n\\n\\n.descriptors {\\n\\t\\n\\ttext-align:center;\\n\\tfont-size:14px;\\n\\tpadding:15px;\\n\\t\\n}\\n\\n.td_metric_name {\\n\\t\\n\\twidth:110px;\\n\\tpadding-top:17px;\\n\\t\\n}\\n\\n.metric_link {\\n\\t\\n\\tfont-size:14px;\\n\\tfont-weight:bold;\\n\\n}\\n\\n.help_icon {\\n\\t\\n\\twidth:15px;\\n\\theight:18px; \\n\\tpadding-bottom:3px;\\n\\t\\n}\\n\\n.td_min_value {\\n\\t\\n\\twidth:75px;\\n\\ttext-align:center;\\n\\tfont-size:13px;\\n\\t\\n}\\n\\n.td_max_value {\\n\\t\\n\\twidth:75px;\\n\\ttext-align:center;\\n\\tfont-size:13px;\\n\\t\\n}\\n\\n#myCombobox .form-control {\\n\\t\\n\\tbackground-color: #99d5ff;\\n\\n\\t\\n}\\n\\n.dropdown-toggle {\\n\\t\\n\\theight:24px;\\n\\tpadding-top:0px;\\n\\tpadding-left:7px;\\n\\twidth:24px;\\n\\t\\n}\\n\\n.dropdown-menu-right {\\n\\t\\n\\tmin-width:75px;\\n\\tfont-size:13px;\\n\\t\\n}\\n\\n.form-control {\\n\\t\\n\\tfont-size:12px;\\t\\n\\tpadding:5px 10px;\\n\\theight:24px;\\n\\n\\t\\n}\\n\\n#myPills1 {\\n\\t\\n\\tmargin:0px 15px 10px 0px;\\n\\t\\n}\\n\\n#jqxgrid {\\n\\t\\n\\tborder-radius:0px;\\n\\t\\n}\\n\\n.jqx-widget-header {\\n\\t\\n    font-family: \\'Roboto\\', sans-serif;\\n\\tfont-size:13px;\\t\\n\\t\\n}\\n\\n.jqx-item {\\n\\t\\n    font-family: \\'Roboto\\', sans-serif;\\n\\tfont-size: 13px;\\n\\t\\n}\\n\\n.jqx-widget-content {\\n\\t\\n\\tborder-color: #E0E0E0;\\n\\t\\n}\\n\\n#jqxgrid .jqx-grid-cell {\\n\\t\\n\\tborder-color: #E0E0E0;\\n\\t\\n}\\n\\n#jqxgrid .jqx-grid-cell-pinned {\\n\\t\\n\\tborder-color: #E0E0E0;\\n\\tbackground-color: #F5F5F5;\\n\\t\\n}\\n\\n#jqxgrid .jqx-grid-column-header {\\n\\t\\n\\tborder-color: #E0E0E0;\\n\\tbackground-color: #F5F5F5;\\n\\t\\n}\\n\\n.clear_zero {\\n\\n\\theight:0px;\\n\\n}\\n\\n\\n\\n/* Styles for Popup Charts */\\n\\n.tpd-size-large {\\n\\t\\n\\tmargin:0px;\\t\\n\\tpadding: 0px;\\n}\\n\\n.popup_window_wrapper {\\n\\t\\n\\tmargin:15px;\\n\\t\\n}\\n\\n.popup_stock_name {\\n\\n\\tfont-size:16px;\\n\\tfont-weight:bold;\\n\\tmargin:5px;\\n\\n}\\n\\n.popup_stock_attributes {\\n\\n\\tfont-size:13px;\\n\\tfont-weight:bold;\\n\\tmargin:5px;\\n\\n}\\n\\n.popup_stock_description {\\n\\n\\tfont-size:12px;\\n\\tmargin:5px;\\n\\n}\\n\\n.jqx-input {\\n\\t\\n\\tfont-size:14px;\\n\\t\\n} \\n\\n.jqx-menu-item {\\n\\t\\n\\tfont-size:14px;\\n\\t\\n}\\n\\n.jqx-input {\\n\\t\\n\\tpadding:5px 10px;\\n\\t\\n}\\n\\n.nav-tabs {\\n    border: 1px solid #E0E0E0;\\n\\tbackground-color:#F5F5F5;\\n\\tpadding: 3px 5px 0px 5px;\\n\\tmargin: 0px 0px 10px 0px;\\n}\\n\\n.nav-tabs>li>a {\\n\\tfont-size:13px;\\n\\tpadding:7px 12px;\\n\\tfont-weight:600;\\n    margin-right: 0px;\\n    line-height: 1.42857143;\\n    border: 0px;\\n    border-radius: 0px 0px 0 0;\\n\\tbackground-color:#F5F5F5;\\n\\n}\\n\\n.nav-tabs>li>a .active {\\n    margin-right: 0px;\\n    line-height: 1.42857143;\\n    border: 1px solid #E0E0E0;\\n    border-radius: 0px 0px 0 0;\\n\\tbackground-color:#F5F5F5;\\n\\n}\\n\\n.nav-tabs>li>a:hover { \\n    background-color: #F5F5F5;\\n\\ttext-decoration: underline;\\n\\n}\\n\\n.donate_buttons {\\n\\n\\tmargin-left:20px;\\n\\t\\n\\t}\\n\\n.modal-body {\\n\\n\\tmargin:10px 40px 20px 40px;\\n\\ttext-align:left;\\n\\tfont-size:18px;\\n\\n}\\n\\n.modal-body li {\\n\\n\\tmargin-top:20px;\\n\\tfont-size:14px;\\n\\n}\\n\\n\\n.modal_title {\\n\\n\\n\\ttext-align:center;\\n\\tmargin-bottom:30px;\\n\\n}\\n\\n.modal-body th{\\n\\n\\tmargin-left:10px;\\n\\tfont-size:14px;\\n}\\n\\n.modal-body td {\\n\\n\\tcolor: #337ab7;\\n\\tmargin-left:10px;\\n\\tfont-size:14px;\\n}\\n\\n.modal_button {\\n\\n\\tmargin-top:50px;\\n\\ttext-align:center;\\n\\tfont-size:16px;\\n\\n}\\t\\n\\n\\n</style>\\t\\n\\n\\n<script type=\"text/javascript\" async=\"\" src=\"./GameStop Revenue 2006-2020 _ GME _ MacroTrends_files/js(1)\"></script><style type=\"text/css\">@-webkit-keyframes bounce{0%,20%,50%,80%,to{-webkit-transform:translateY(0);transform:translateY(0)}40%{-webkit-transform:translateY(-30px);transform:translateY(-30px)}60%{-webkit-transform:translateY(-15px);transform:translateY(-15px)}}@keyframes bounce{0%,20%,50%,80%,to{-webkit-transform:translateY(0);transform:translateY(0)}40%{-webkit-transform:translateY(-30px);transform:translateY(-30px)}60%{-webkit-transform:translateY(-15px);transform:translateY(-15px)}}.om-animation-bounce{-webkit-animation-duration:1s;animation-duration:1s;-webkit-animation-fill-mode:both;animation-fill-mode:both;-webkit-animation-name:bounce;animation-name:bounce}@-webkit-keyframes bounceIn{0%{opacity:0;-webkit-transform:scale(.3);transform:scale(.3)}50%{opacity:1;-webkit-transform:scale(1.05);transform:scale(1.05)}70%{-webkit-transform:scale(.9);transform:scale(.9)}to{opacity:1;-webkit-transform:scale(1);transform:scale(1)}}@keyframes bounceIn{0%{opacity:0;-webkit-transform:scale(.3);transform:scale(.3)}50%{opacity:1;-webkit-transform:scale(1.05);transform:scale(1.05)}70%{-webkit-transform:scale(.9);transform:scale(.9)}to{opacity:1;-webkit-transform:scale(1);transform:scale(1)}}.om-animation-bounce-in{-webkit-animation-duration:1s;animation-duration:1s;-webkit-animation-name:bounceIn;animation-name:bounceIn}@-webkit-keyframes bounceInDown{0%{opacity:0;-webkit-transform:translateY(-2000px);transform:translateY(-2000px)}60%{opacity:1;-webkit-transform:translateY(30px);transform:translateY(30px)}80%{-webkit-transform:translateY(-10px);transform:translateY(-10px)}to{-webkit-transform:translateY(0);transform:translateY(0)}}@keyframes bounceInDown{0%{opacity:0;-webkit-transform:translateY(-2000px);transform:translateY(-2000px)}60%{opacity:1;-webkit-transform:translateY(30px);transform:translateY(30px)}80%{-webkit-transform:translateY(-10px);transform:translateY(-10px)}to{-webkit-transform:translateY(0);transform:translateY(0)}}.om-animation-bounce-in-down{-webkit-animation-duration:1s;animation-duration:1s;-webkit-animation-name:bounceInDown;animation-name:bounceInDown}@-webkit-keyframes bounceInLeft{0%{opacity:0;-webkit-transform:translateX(-2000px);transform:translateX(-2000px)}60%{opacity:1;-webkit-transform:translateX(30px);transform:translateX(30px)}80%{-webkit-transform:translateX(-10px);transform:translateX(-10px)}to{-webkit-transform:translateX(0);transform:translateX(0)}}@keyframes bounceInLeft{0%{opacity:0;-webkit-transform:translateX(-2000px);transform:translateX(-2000px)}60%{opacity:1;-webkit-transform:translateX(30px);transform:translateX(30px)}80%{-webkit-transform:translateX(-10px);transform:translateX(-10px)}to{-webkit-transform:translateX(0);transform:translateX(0)}}.om-animation-bounce-in-left{-webkit-animation-duration:1s;animation-duration:1s;-webkit-animation-name:bounceInLeft;animation-name:bounceInLeft}@-webkit-keyframes bounceInRight{0%{opacity:0;-webkit-transform:translateX(2000px);transform:translateX(2000px)}60%{opacity:1;-webkit-transform:translateX(-30px);transform:translateX(-30px)}80%{-webkit-transform:translateX(10px);transform:translateX(10px)}to{-webkit-transform:translateX(0);transform:translateX(0)}}@keyframes bounceInRight{0%{opacity:0;-webkit-transform:translateX(2000px);transform:translateX(2000px)}60%{opacity:1;-webkit-transform:translateX(-30px);transform:translateX(-30px)}80%{-webkit-transform:translateX(10px);transform:translateX(10px)}to{-webkit-transform:translateX(0);transform:translateX(0)}}.om-animation-bounce-in-right{-webkit-animation-duration:1s;animation-duration:1s;-webkit-animation-name:bounceInRight;animation-name:bounceInRight}@-webkit-keyframes bounceInUp{0%{opacity:0;-webkit-transform:translateY(2000px);transform:translateY(2000px)}60%{opacity:1;-webkit-transform:translateY(-30px);transform:translateY(-30px)}80%{-webkit-transform:translateY(10px);transform:translateY(10px)}to{-webkit-transform:translateY(0);transform:translateY(0)}}@keyframes bounceInUp{0%{opacity:0;-webkit-transform:translateY(2000px);transform:translateY(2000px)}60%{opacity:1;-webkit-transform:translateY(-30px);transform:translateY(-30px)}80%{-webkit-transform:translateY(10px);transform:translateY(10px)}to{-webkit-transform:translateY(0);transform:translateY(0)}}.om-animation-bounce-in-up{-webkit-animation-duration:1s;animation-duration:1s;-webkit-animation-name:bounceInUp;animation-name:bounceInUp}@-webkit-keyframes flash{0%,50%,to{opacity:1}25%,75%{opacity:0}}@keyframes flash{0%,50%,to{opacity:1}25%,75%{opacity:0}}.om-animation-flash{-webkit-animation-duration:1s;animation-duration:1s;-webkit-animation-fill-mode:both;animation-fill-mode:both;-webkit-animation-name:flash;animation-name:flash}@-webkit-keyframes flip{0%{-webkit-transform:perspective(800px) translateZ(0) rotateY(0) scale(1);transform:perspective(800px) translateZ(0) rotateY(0) scale(1);-webkit-animation-timing-function:ease-out;animation-timing-function:ease-out}40%{-webkit-transform:perspective(800px) translateZ(150px) rotateY(170deg) scale(1);transform:perspective(800px) translateZ(150px) rotateY(170deg) scale(1);-webkit-animation-timing-function:ease-out;animation-timing-function:ease-out}50%{-webkit-transform:perspective(800px) translateZ(150px) rotateY(190deg) scale(1);transform:perspective(800px) translateZ(150px) rotateY(190deg) scale(1);-webkit-animation-timing-function:ease-in;animation-timing-function:ease-in}80%{-webkit-transform:perspective(800px) translateZ(0) rotateY(1turn) scale(.95);transform:perspective(800px) translateZ(0) rotateY(1turn) scale(.95);-webkit-animation-timing-function:ease-in;animation-timing-function:ease-in}to{-webkit-transform:perspective(800px) translateZ(0) rotateY(1turn) scale(1);transform:perspective(800px) translateZ(0) rotateY(1turn) scale(1);-webkit-animation-timing-function:ease-in;animation-timing-function:ease-in}}@keyframes flip{0%{-webkit-transform:perspective(800px) translateZ(0) rotateY(0) scale(1);transform:perspective(800px) translateZ(0) rotateY(0) scale(1);-webkit-animation-timing-function:ease-out;animation-timing-function:ease-out}40%{-webkit-transform:perspective(800px) translateZ(150px) rotateY(170deg) scale(1);transform:perspective(800px) translateZ(150px) rotateY(170deg) scale(1);-webkit-animation-timing-function:ease-out;animation-timing-function:ease-out}50%{-webkit-transform:perspective(800px) translateZ(150px) rotateY(190deg) scale(1);transform:perspective(800px) translateZ(150px) rotateY(190deg) scale(1);-webkit-animation-timing-function:ease-in;animation-timing-function:ease-in}80%{-webkit-transform:perspective(800px) translateZ(0) rotateY(1turn) scale(.95);transform:perspective(800px) translateZ(0) rotateY(1turn) scale(.95);-webkit-animation-timing-function:ease-in;animation-timing-function:ease-in}to{-webkit-transform:perspective(800px) translateZ(0) rotateY(1turn) scale(1);transform:perspective(800px) translateZ(0) rotateY(1turn) scale(1);-webkit-animation-timing-function:ease-in;animation-timing-function:ease-in}}.om-animation-flip{-webkit-animation-duration:1s;animation-duration:1s;-webkit-backface-visibility:visible;backface-visibility:visible;-webkit-animation-name:flip;animation-name:flip}@-webkit-keyframes flipInX{0%{-webkit-transform:perspective(800px) rotateX(90deg);transform:perspective(800px) rotateX(90deg);opacity:0}40%{-webkit-transform:perspective(800px) rotateX(-10deg);transform:perspective(800px) rotateX(-10deg)}70%{-webkit-transform:perspective(800px) rotateX(10deg);transform:perspective(800px) rotateX(10deg)}to{-webkit-transform:perspective(800px) rotateX(0deg);transform:perspective(800px) rotateX(0deg);opacity:1}}@keyframes flipInX{0%{-webkit-transform:perspective(800px) rotateX(90deg);transform:perspective(800px) rotateX(90deg);opacity:0}40%{-webkit-transform:perspective(800px) rotateX(-10deg);transform:perspective(800px) rotateX(-10deg)}70%{-webkit-transform:perspective(800px) rotateX(10deg);transform:perspective(800px) rotateX(10deg)}to{-webkit-transform:perspective(800px) rotateX(0deg);transform:perspective(800px) rotateX(0deg);opacity:1}}.om-animation-flip-down{-webkit-animation-duration:1s;animation-duration:1s;-webkit-backface-visibility:visible;backface-visibility:visible;-webkit-animation-name:flipInX;animation-name:flipInX}@-webkit-keyframes flipInY{0%{-webkit-transform:perspective(800px) rotateY(90deg);transform:perspective(800px) rotateY(90deg);opacity:0}40%{-webkit-transform:perspective(800px) rotateY(-10deg);transform:perspective(800px) rotateY(-10deg)}70%{-webkit-transform:perspective(800px) rotateY(10deg);transform:perspective(800px) rotateY(10deg)}to{-webkit-transform:perspective(800px) rotateY(0deg);transform:perspective(800px) rotateY(0deg);opacity:1}}@keyframes flipInY{0%{-webkit-transform:perspective(800px) rotateY(90deg);transform:perspective(800px) rotateY(90deg);opacity:0}40%{-webkit-transform:perspective(800px) rotateY(-10deg);transform:perspective(800px) rotateY(-10deg)}70%{-webkit-transform:perspective(800px) rotateY(10deg);transform:perspective(800px) rotateY(10deg)}to{-webkit-transform:perspective(800px) rotateY(0deg);transform:perspective(800px) rotateY(0deg);opacity:1}}.om-animation-flip-side{-webkit-animation-duration:1s;animation-duration:1s;-webkit-backface-visibility:visible;backface-visibility:visible;-webkit-animation-name:flipInY;animation-name:flipInY}@-webkit-keyframes lightSpeedIn{0%{-webkit-transform:translateX(100%) skewX(-30deg);transform:translateX(100%) skewX(-30deg);opacity:0}60%{-webkit-transform:translateX(-20%) skewX(30deg);transform:translateX(-20%) skewX(30deg);opacity:1}80%{-webkit-transform:translateX(0) skewX(-15deg);transform:translateX(0) skewX(-15deg);opacity:1}to{-webkit-transform:translateX(0) skewX(0deg);transform:translateX(0) skewX(0deg);opacity:1}}@keyframes lightSpeedIn{0%{-webkit-transform:translateX(100%) skewX(-30deg);transform:translateX(100%) skewX(-30deg);opacity:0}60%{-webkit-transform:translateX(-20%) skewX(30deg);transform:translateX(-20%) skewX(30deg);opacity:1}80%{-webkit-transform:translateX(0) skewX(-15deg);transform:translateX(0) skewX(-15deg);opacity:1}to{-webkit-transform:translateX(0) skewX(0deg);transform:translateX(0) skewX(0deg);opacity:1}}.om-animation-light-speed{-webkit-animation-duration:1s;animation-duration:1s;-webkit-animation-name:lightSpeedIn;animation-name:lightSpeedIn;-webkit-animation-timing-function:ease-out;animation-timing-function:ease-out}@-webkit-keyframes pulse{0%{-webkit-transform:scale(1);transform:scale(1)}50%{-webkit-transform:scale(1.1);transform:scale(1.1)}to{-webkit-transform:scale(1);transform:scale(1)}}@keyframes pulse{0%{-webkit-transform:scale(1);transform:scale(1)}50%{-webkit-transform:scale(1.1);transform:scale(1.1)}to{-webkit-transform:scale(1);transform:scale(1)}}.om-animation-pulse{-webkit-animation-duration:1s;animation-duration:1s;-webkit-animation-fill-mode:both;animation-fill-mode:both;-webkit-animation-name:pulse;animation-name:pulse}@-webkit-keyframes rollIn{0%{opacity:0;-webkit-transform:translateX(-100%) rotate(-120deg);transform:translateX(-100%) rotate(-120deg)}to{opacity:1;-webkit-transform:translateX(0) rotate(0deg);transform:translateX(0) rotate(0deg)}}@keyframes rollIn{0%{opacity:0;-webkit-transform:translateX(-100%) rotate(-120deg);transform:translateX(-100%) rotate(-120deg)}to{opacity:1;-webkit-transform:translateX(0) rotate(0deg);transform:translateX(0) rotate(0deg)}}.om-animation-roll-in{-webkit-animation-duration:1s;animation-duration:1s;-webkit-animation-name:rollIn;animation-name:rollIn}@-webkit-keyframes rotateIn{0%{-webkit-transform-origin:center center;transform-origin:center center;-webkit-transform:rotate(-200deg);transform:rotate(-200deg);opacity:0}to{-webkit-transform-origin:center center;transform-origin:center center;-webkit-transform:rotate(0);transform:rotate(0);opacity:1}}@keyframes rotateIn{0%{-webkit-transform-origin:center center;transform-origin:center center;-webkit-transform:rotate(-200deg);transform:rotate(-200deg);opacity:0}to{-webkit-transform-origin:center center;transform-origin:center center;-webkit-transform:rotate(0);transform:rotate(0);opacity:1}}.om-animation-rotate{-webkit-animation-duration:1s;animation-duration:1s;-webkit-animation-name:rotateIn;animation-name:rotateIn}@-webkit-keyframes rotateInDownLeft{0%{-webkit-transform-origin:left bottom;transform-origin:left bottom;-webkit-transform:rotate(-90deg);transform:rotate(-90deg);opacity:0}to{-webkit-transform-origin:left bottom;transform-origin:left bottom;-webkit-transform:rotate(0);transform:rotate(0);opacity:1}}@keyframes rotateInDownLeft{0%{-webkit-transform-origin:left bottom;transform-origin:left bottom;-webkit-transform:rotate(-90deg);transform:rotate(-90deg);opacity:0}to{-webkit-transform-origin:left bottom;transform-origin:left bottom;-webkit-transform:rotate(0);transform:rotate(0);opacity:1}}.om-animation-rotate-down-left{-webkit-animation-duration:1s;animation-duration:1s;-webkit-animation-name:rotateInDownLeft;animation-name:rotateInDownLeft}@-webkit-keyframes rotateInDownRight{0%{-webkit-transform-origin:right bottom;transform-origin:right bottom;-webkit-transform:rotate(90deg);transform:rotate(90deg);opacity:0}to{-webkit-transform-origin:right bottom;transform-origin:right bottom;-webkit-transform:rotate(0);transform:rotate(0);opacity:1}}@keyframes rotateInDownRight{0%{-webkit-transform-origin:right bottom;transform-origin:right bottom;-webkit-transform:rotate(90deg);transform:rotate(90deg);opacity:0}to{-webkit-transform-origin:right bottom;transform-origin:right bottom;-webkit-transform:rotate(0);transform:rotate(0);opacity:1}}.om-animation-rotate-down-right{-webkit-animation-duration:1s;animation-duration:1s;-webkit-animation-name:rotateInDownRight;animation-name:rotateInDownRight}@-webkit-keyframes rotateInUpLeft{0%{-webkit-transform-origin:left bottom;transform-origin:left bottom;-webkit-transform:rotate(90deg);transform:rotate(90deg);opacity:0}to{-webkit-transform-origin:left bottom;transform-origin:left bottom;-webkit-transform:rotate(0);transform:rotate(0);opacity:1}}@keyframes rotateInUpLeft{0%{-webkit-transform-origin:left bottom;transform-origin:left bottom;-webkit-transform:rotate(90deg);transform:rotate(90deg);opacity:0}to{-webkit-transform-origin:left bottom;transform-origin:left bottom;-webkit-transform:rotate(0);transform:rotate(0);opacity:1}}.om-animation-rotate-up-left{-webkit-animation-duration:1s;animation-duration:1s;-webkit-animation-name:rotateInUpLeft;animation-name:rotateInUpLeft}@-webkit-keyframes rotateInUpRight{0%{-webkit-transform-origin:right bottom;transform-origin:right bottom;-webkit-transform:rotate(-90deg);transform:rotate(-90deg);opacity:0}to{-webkit-transform-origin:right bottom;transform-origin:right bottom;-webkit-transform:rotate(0);transform:rotate(0);opacity:1}}@keyframes rotateInUpRight{0%{-webkit-transform-origin:right bottom;transform-origin:right bottom;-webkit-transform:rotate(-90deg);transform:rotate(-90deg);opacity:0}to{-webkit-transform-origin:right bottom;transform-origin:right bottom;-webkit-transform:rotate(0);transform:rotate(0);opacity:1}}.om-animation-rotate-up-right{-webkit-animation-duration:1s;animation-duration:1s;-webkit-animation-name:rotateInUpRight;animation-name:rotateInUpRight}@-webkit-keyframes rubberBand{0%{-webkit-transform:scale(1);transform:scale(1)}30%{-webkit-transform:scaleX(1.25) scaleY(.75);transform:scaleX(1.25) scaleY(.75)}40%{-webkit-transform:scaleX(.75) scaleY(1.25);transform:scaleX(.75) scaleY(1.25)}60%{-webkit-transform:scaleX(1.15) scaleY(.85);transform:scaleX(1.15) scaleY(.85)}to{-webkit-transform:scale(1);transform:scale(1)}}@keyframes rubberBand{0%{-webkit-transform:scale(1);transform:scale(1)}30%{-webkit-transform:scaleX(1.25) scaleY(.75);transform:scaleX(1.25) scaleY(.75)}40%{-webkit-transform:scaleX(.75) scaleY(1.25);transform:scaleX(.75) scaleY(1.25)}60%{-webkit-transform:scaleX(1.15) scaleY(.85);transform:scaleX(1.15) scaleY(.85)}to{-webkit-transform:scale(1);transform:scale(1)}}.om-animation-rubber-band{-webkit-animation-duration:1s;animation-duration:1s;-webkit-animation-fill-mode:both;animation-fill-mode:both;-webkit-animation-name:rubberBand;animation-name:rubberBand}@-webkit-keyframes shake{0%,to{-webkit-transform:translateX(0);transform:translateX(0)}10%,30%,50%,70%,90%{-webkit-transform:translateX(-10px);transform:translateX(-10px)}20%,40%,60%,80%{-webkit-transform:translateX(10px);transform:translateX(10px)}}@keyframes shake{0%,to{-webkit-transform:translateX(0);transform:translateX(0)}10%,30%,50%,70%,90%{-webkit-transform:translateX(-10px);transform:translateX(-10px)}20%,40%,60%,80%{-webkit-transform:translateX(10px);transform:translateX(10px)}}.om-animation-shake{-webkit-animation-duration:1s;animation-duration:1s;-webkit-animation-fill-mode:both;animation-fill-mode:both;-webkit-animation-name:shake;animation-name:shake}@-webkit-keyframes slideInDown{0%{opacity:0;-webkit-transform:translateY(-2000px);transform:translateY(-2000px)}to{-webkit-transform:translateY(0);transform:translateY(0)}}@keyframes slideInDown{0%{opacity:0;-webkit-transform:translateY(-2000px);transform:translateY(-2000px)}to{-webkit-transform:translateY(0);transform:translateY(0)}}.om-animation-slide-in-down{-webkit-animation-duration:1s;animation-duration:1s;-webkit-animation-name:slideInDown;animation-name:slideInDown}@-webkit-keyframes slideInLeft{0%{opacity:0;-webkit-transform:translateX(-2000px);transform:translateX(-2000px)}to{-webkit-transform:translateX(0);transform:translateX(0)}}@keyframes slideInLeft{0%{opacity:0;-webkit-transform:translateX(-2000px);transform:translateX(-2000px)}to{-webkit-transform:translateX(0);transform:translateX(0)}}.om-animation-slide-in-left{-webkit-animation-duration:1s;animation-duration:1s;-webkit-animation-name:slideInLeft;animation-name:slideInLeft}@-webkit-keyframes slideInRight{0%{opacity:0;-webkit-transform:translateX(2000px);transform:translateX(2000px)}to{-webkit-transform:translateX(0);transform:translateX(0)}}@keyframes slideInRight{0%{opacity:0;-webkit-transform:translateX(2000px);transform:translateX(2000px)}to{-webkit-transform:translateX(0);transform:translateX(0)}}.om-animation-slide-in-right{-webkit-animation-duration:1s;animation-duration:1s;-webkit-animation-name:slideInRight;animation-name:slideInRight}@-webkit-keyframes swing{20%{-webkit-transform:rotate(15deg);transform:rotate(15deg)}40%{-webkit-transform:rotate(-10deg);transform:rotate(-10deg)}60%{-webkit-transform:rotate(5deg);transform:rotate(5deg)}80%{-webkit-transform:rotate(-5deg);transform:rotate(-5deg)}to{-webkit-transform:rotate(0deg);transform:rotate(0deg)}}@keyframes swing{20%{-webkit-transform:rotate(15deg);transform:rotate(15deg)}40%{-webkit-transform:rotate(-10deg);transform:rotate(-10deg)}60%{-webkit-transform:rotate(5deg);transform:rotate(5deg)}80%{-webkit-transform:rotate(-5deg);transform:rotate(-5deg)}to{-webkit-transform:rotate(0deg);transform:rotate(0deg)}}.om-animation-swing{-webkit-animation-duration:1s;animation-duration:1s;-webkit-transform-origin:top center;transform-origin:top center;-webkit-animation-name:swing;animation-name:swing}@-webkit-keyframes tada{0%{-webkit-transform:scale(1);transform:scale(1)}10%,20%{-webkit-transform:scale(.9) rotate(-3deg);transform:scale(.9) rotate(-3deg)}30%,50%,70%,90%{-webkit-transform:scale(1.1) rotate(3deg);transform:scale(1.1) rotate(3deg)}40%,60%,80%{-webkit-transform:scale(1.1) rotate(-3deg);transform:scale(1.1) rotate(-3deg)}to{-webkit-transform:scale(1) rotate(0);transform:scale(1) rotate(0)}}@keyframes tada{0%{-webkit-transform:scale(1);transform:scale(1)}10%,20%{-webkit-transform:scale(.9) rotate(-3deg);transform:scale(.9) rotate(-3deg)}30%,50%,70%,90%{-webkit-transform:scale(1.1) rotate(3deg);transform:scale(1.1) rotate(3deg)}40%,60%,80%{-webkit-transform:scale(1.1) rotate(-3deg);transform:scale(1.1) rotate(-3deg)}to{-webkit-transform:scale(1) rotate(0);transform:scale(1) rotate(0)}}.om-animation-tada{-webkit-animation-duration:1s;animation-duration:1s;-webkit-animation-name:tada;animation-name:tada}@-webkit-keyframes wobble{0%{-webkit-transform:translateX(0);transform:translateX(0)}15%{-webkit-transform:translateX(-25%) rotate(-5deg);transform:translateX(-25%) rotate(-5deg)}30%{-webkit-transform:translateX(20%) rotate(3deg);transform:translateX(20%) rotate(3deg)}45%{-webkit-transform:translateX(-15%) rotate(-3deg);transform:translateX(-15%) rotate(-3deg)}60%{-webkit-transform:translateX(10%) rotate(2deg);transform:translateX(10%) rotate(2deg)}75%{-webkit-transform:translateX(-5%) rotate(-1deg);transform:translateX(-5%) rotate(-1deg)}to{-webkit-transform:translateX(0);transform:translateX(0)}}@keyframes wobble{0%{-webkit-transform:translateX(0);transform:translateX(0)}15%{-webkit-transform:translateX(-25%) rotate(-5deg);transform:translateX(-25%) rotate(-5deg)}30%{-webkit-transform:translateX(20%) rotate(3deg);transform:translateX(20%) rotate(3deg)}45%{-webkit-transform:translateX(-15%) rotate(-3deg);transform:translateX(-15%) rotate(-3deg)}60%{-webkit-transform:translateX(10%) rotate(2deg);transform:translateX(10%) rotate(2deg)}75%{-webkit-transform:translateX(-5%) rotate(-1deg);transform:translateX(-5%) rotate(-1deg)}to{-webkit-transform:translateX(0);transform:translateX(0)}}.om-animation-wobble{-webkit-animation-duration:1s;animation-duration:1s;-webkit-animation-name:wobble;animation-name:wobble}.om-content-lock{color:transparent!important;text-shadow:rgba(0,0,0,.5) 0 0 10px;-webkit-user-select:none;-moz-user-select:none;-ms-user-select:none;user-select:none;pointer-events:none;filter:url(\"data:image/svg+xml;utf9,<svg%20version=\\'1.1\\'%20xmlns=\\'http://www.w3.org/2000/svg\\'><filter%20id=\\'blur\\'><feGaussianBlur%20stdDeviation=\\'10\\'%20/></filter></svg>#blur\");-webkit-filter:blur(10px);-ms-filter:blur(10px);-o-filter:blur(10px);filter:blur(10px)}html.om-mobile-position,html.om-mobile-position body{position:fixed!important}html.om-ios-form,html.om-ios-form body{-webkit-transform:translateZ(0)!important;transform:translateZ(0)!important;-webkit-overflow-scrolling:touch!important;height:100%!important;overflow:auto!important}html.om-position-popup body{overflow:hidden!important}html.om-position-floating-top{transition:padding-top .5s ease!important}html.om-position-floating-bottom{transition:padding-bottom .5s ease!important}html.om-reset-dimensions{height:100%!important;width:100%!important}.om-verification-confirmation{font-family:Lato,Arial,Helvetica,sans-serif;position:fixed;border-radius:10px;bottom:20px;left:20px;padding:10px 20px;opacity:0;transition:opacity .3s ease-in;background:#85bf31;color:#fff;font-size:18px;font-weight:700;z-index:9999}</style><link rel=\"preload\" href=\"./GameStop Revenue 2006-2020 _ GME _ MacroTrends_files/f.txt\" as=\"script\"><script type=\"text/javascript\" src=\"./GameStop Revenue 2006-2020 _ GME _ MacroTrends_files/f.txt\"></script><script src=\"./GameStop Revenue 2006-2020 _ GME _ MacroTrends_files/pubads_impl_2020080501.js.download\" async=\"\"></script></head>\\n\\t<body class=\"fuelux\" data-new-gr-c-s-check-loaded=\"14.1050.0\" data-gr-ext-installed=\"\"><!-- BEGIN WAYBACK TOOLBAR INSERT -->\\n<style type=\"text/css\">\\nbody {\\n  margin-top:0 !important;\\n  padding-top:0 !important;\\n  /*min-width:800px !important;*/\\n}\\n</style>\\n<script>__wm.rw(0);</script>\\n<div id=\"wm-ipp-base\" lang=\"en\" style=\"display: block; direction: ltr;\">\\n</div><div id=\"wm-ipp-print\">The Wayback Machine - https://web.archive.org/web/20200814131437/https://www.macrotrends.net/stocks/charts/GME/gamestop/revenue</div>\\n<script type=\"text/javascript\">\\n__wm.bt(675,27,25,2,\"web\",\"https://www.macrotrends.net/stocks/charts/GME/gamestop/revenue\",\"20200814131437\",1996,\"/_static/\",[\"/_static/css/banner-styles.css?v=fantwOh2\",\"/_static/css/iconochive.css?v=qtvMKcIJ\"], false);\\n  __wm.rw(1);\\n</script>\\n<!-- END WAYBACK TOOLBAR INSERT -->\\n        <!--[if lt IE 7]>\\n            <p class=\"browsehappy\">You are using an <strong>outdated</strong> browser. Please <a href=\"https://browsehappy.com/\">upgrade your browser</a> to improve your experience.</p>\\n        <![endif]-->\\n\\n<div class=\"header_content_container container-fluid\">\\n\\n\\n<div class=\"header_parent_container\">\\n\\n<div class=\"header_container\">\\n\\n\\t<div class=\"header_logo col-xs-2\">\\n\\t\\t<a class=\"logo\" href=\"https://web.archive.org/web/20200814131437/https://www.macrotrends.net/\" title=\"MacroTrends Home Page\"><img src=\"./GameStop Revenue 2006-2020 _ GME _ MacroTrends_files/logo_bright1.png\"></a>\\n\\t</div>\\n\\n\\n\\t  <div class=\"col-xs-1 pull-right\" style=\"padding-top:8px; margin-right:10px; margin-left:0px; padding-left:0px;\">\\n\\t  \\n\\t  \\n\\t  </div>\\n\\t  \\n\\t  \\n\\n\\t  <div class=\"col-xs-5 pull-right\" style=\"padding-top:8px;\">\\n       <form>\\n        <div class=\"typeahead__container\" style=\"z-index: 1041; position: relative;\">\\n            <div class=\"typeahead__field\">\\n\\n            <span class=\"typeahead__query\">\\n                <span class=\"typeahead__cancel-button\">Ã\\x97</span><input class=\"js-typeahead\" name=\"q\" type=\"search\" placeholder=\"Search over 200,000 charts...\" autofocus=\"\" autocomplete=\"off\">\\n            </span>\\n            <span class=\"typeahead__button\">\\n                <button type=\"submit\">\\n                    <span class=\"typeahead__search-icon\"></span>\\n                </button>\\n            </span>\\n\\n            </div>\\n        <div class=\"typeahead__result\"></div></div><div class=\"typeahead__backdrop\" style=\"opacity: 0.6; position: fixed; inset: 0px; z-index: 1040; background-color: rgb(255, 255, 255);\"></div>\\n    </form>\\n\\t\\t\\n\\t  </div>\\n\\t  \\n\\t  </div>\\n\\n\\n\\n</div>\\n\\n<div class=\"menu_parent_container\">\\n\\n<div class=\"menu_container\">\\n\\t\\t\\n\\t<a href=\"https://web.archive.org/web/20200814131437/https://www.macrotrends.net/stocks/stock-screener\"><div class=\"menu_item\">Stock Screener</div></a>\\n\\t<a href=\"https://web.archive.org/web/20200814131437/https://www.macrotrends.net/stocks/research\"><div class=\"menu_item\">Stock Research</div></a>\\n\\t<a href=\"https://web.archive.org/web/20200814131437/https://www.macrotrends.net/charts/stock-indexes\"><div class=\"menu_item\">Market Indexes</div></a>\\n\\t<a href=\"https://web.archive.org/web/20200814131437/https://www.macrotrends.net/charts/precious-metals\"><div class=\"menu_item\">Precious Metals</div></a>\\n\\t<a href=\"https://web.archive.org/web/20200814131437/https://www.macrotrends.net/charts/energy\"><div class=\"menu_item\">Energy</div></a>\\n\\t<a href=\"https://web.archive.org/web/20200814131437/https://www.macrotrends.net/charts/commodities\"><div class=\"menu_item\">Commodities</div></a>\\n\\t<a href=\"https://web.archive.org/web/20200814131437/https://www.macrotrends.net/charts/exchange-rates\"><div class=\"menu_item\">Exchange Rates</div></a>\\n\\t<a href=\"https://web.archive.org/web/20200814131437/https://www.macrotrends.net/charts/interest-rates\"><div class=\"menu_item\">Interest Rates</div></a>\\n\\t<a href=\"https://web.archive.org/web/20200814131437/https://www.macrotrends.net/futures\"><div class=\"menu_item\">Futures</div></a>\\n\\t<a href=\"https://web.archive.org/web/20200814131437/https://www.macrotrends.net/charts/economy\"><div class=\"menu_item\">Economy</div></a>\\n\\t<a href=\"https://web.archive.org/web/20200814131437/https://www.macrotrends.net/countries/topic-overview\"><div class=\"menu_item\">Global Metrics</div></a>\\n\\n\\t\\t\\n</div>\\n\\n</div>\\n\\n</div>\\n\\n<div id=\"main_content_container\" class=\"main_content_container container-fluid\">\\n\\n\\n\\t<div id=\"ic_leaderboard\" class=\"adx_top_ad col-xs-12\" style=\"margin: 20px 20px 30px 20px; min-height:265px; text-align:center;\">\\n\\n\\t\\t<!--Smartad # 4058: Macrotrends - 970x250 Image - Placement 2-->\\n\\t\\t<iframe id=\"dianomi_leaderboard\" width=\"970\" height=\"250\" scrolling=\"NO\" src=\"./GameStop Revenue 2006-2020 _ GME _ MacroTrends_files/smartads.html\" style=\"height: 250px; border: none; overflow: hidden;\"></iframe>\\n\\t\\t\\t\\t \\t\\t\\n\\t</div>\\n\\t\\t\\t\\n\\t\\t\\t<div style=\"margin:20px;\">\\n\\t\\t\\t\\n\\t\\t\\t\\t<h2 style=\"margin-left:180px; font-weight:600; color:#444;\">GameStop Revenue 2006-2020 | GME</h2>\\n\\t\\t\\t\\n\\t\\t\\t</div>\\n\\t\\t\\t\\n\\t\\t\\t\\n\\t<div class=\"sub_main_content_container\">\\n\\t\\t\\n\\n\\t\\t\\t<div id=\"left_sidebar\">\\n\\t\\t\\t\\t\\t\\n\\t\\t\\t\\t<div id=\"sticky_ad_left\">\\n\\n\\t\\t\\t\\t\\t<div id=\"ic_160_600\">\\n\\n\\n\\t\\t\\t\\t\\t</div>\\n\\n\\n\\t\\t\\t\\t</div>\\t\\t\\t\\t\\t\\n\\n\\n\\t\\t\\t</div>\\n\\t\\t\\n\\n\\t\\t\\t<div id=\"main_content\">\\n\\t\\t\\t\\n\\t\\t\\t\\n\\t\\t\\t\\n<div class=\"navigation_tabs\" style=\"margin-bottom:20px;\">\\n\\t\\t\\t\\n\\t<ul class=\"nav nav-tabs\" id=\"myTabs\" style=\"font-size:15px;\">\\n\\n\\t\\t\\n\\t\\t\\t\\n\\t\\t\\t\\n\\t\\t\\t\\t<li><a href=\"https://web.archive.org/web/20200814131437/https://www.macrotrends.net/stocks/charts/GME/gamestop/stock-price-history\">Prices</a></li>\\n\\n\\t\\t\\t\\n\\t\\t\\n\\t\\t\\t\\n\\t\\t\\t\\n\\t\\t\\t\\t<li><a href=\"https://web.archive.org/web/20200814131437/https://www.macrotrends.net/stocks/charts/GME/gamestop/financial-statements\">Financials</a></li>\\n\\n\\t\\t\\t\\n\\t\\t\\n\\t\\t\\t\\n\\t\\t\\t\\n\\t\\t\\t\\t<li class=\"active\"><a href=\"https://web.archive.org/web/20200814131437/https://www.macrotrends.net/stocks/charts/GME/gamestop/revenue\">Revenue &amp; Profit</a></li>\\n\\n\\t\\t\\t\\n\\t\\t\\n\\t\\t\\t\\n\\t\\t\\t\\n\\t\\t\\t\\t<li><a href=\"https://web.archive.org/web/20200814131437/https://www.macrotrends.net/stocks/charts/GME/gamestop/total-assets\">Assets &amp; Liabilities</a></li>\\n\\n\\t\\t\\t\\n\\t\\t\\n\\t\\t\\t\\n\\t\\t\\t\\n\\t\\t\\t\\t<li><a href=\"https://web.archive.org/web/20200814131437/https://www.macrotrends.net/stocks/charts/GME/gamestop/profit-margins\">Margins</a></li>\\n\\n\\t\\t\\t\\n\\t\\t\\n\\t\\t\\t\\n\\t\\t\\t\\n\\t\\t\\t\\t<li><a href=\"https://web.archive.org/web/20200814131437/https://www.macrotrends.net/stocks/charts/GME/gamestop/pe-ratio\">Price Ratios</a></li>\\n\\n\\t\\t\\t\\n\\t\\t\\n\\t\\t\\t\\n\\t\\t\\t\\n\\t\\t\\t\\t<li><a href=\"https://web.archive.org/web/20200814131437/https://www.macrotrends.net/stocks/charts/GME/gamestop/current-ratio\">Other Ratios</a></li>\\n\\n\\t\\t\\t\\n\\t\\t\\n\\t\\t\\t\\n\\t\\t\\t\\n\\t\\t\\t\\t<li><a href=\"https://web.archive.org/web/20200814131437/https://www.macrotrends.net/stocks/charts/GME/gamestop/dividend-yield-history\">Other Metrics</a></li>\\n\\n\\t\\t\\t\\n\\t\\t\\n\\t</ul>\\n\\n\\n\\t<ul class=\"nav nav-tabs\" id=\"myTabs\" style=\"font-size:15px;\">\\n\\n\\t\\t\\n\\t\\t\\t\\n\\t\\t\\t\\n\\t\\t\\t\\t<li class=\"active\"><a href=\"https://web.archive.org/web/20200814131437/https://www.macrotrends.net/stocks/charts/GME/gamestop/revenue\">Revenue</a></li>\\n\\n\\n\\t\\t\\t\\t\\t\\t\\n\\t\\t\\n\\t\\t\\t\\n\\t\\t\\t\\t\\t\\t\\n\\t\\t\\t\\t<li><a href=\"https://web.archive.org/web/20200814131437/https://www.macrotrends.net/stocks/charts/GME/gamestop/gross-profit\">Gross Profit</a></li>\\t\\t\\t\\n\\n\\t\\t\\t\\t\\t\\t\\n\\t\\t\\n\\t\\t\\t\\n\\t\\t\\t\\t\\t\\t\\n\\t\\t\\t\\t<li><a href=\"https://web.archive.org/web/20200814131437/https://www.macrotrends.net/stocks/charts/GME/gamestop/operating-income\">Operating Income</a></li>\\t\\t\\t\\n\\n\\t\\t\\t\\t\\t\\t\\n\\t\\t\\n\\t\\t\\t\\n\\t\\t\\t\\t\\t\\t\\n\\t\\t\\t\\t<li><a href=\"https://web.archive.org/web/20200814131437/https://www.macrotrends.net/stocks/charts/GME/gamestop/ebitda\">EBITDA</a></li>\\t\\t\\t\\n\\n\\t\\t\\t\\t\\t\\t\\n\\t\\t\\n\\t\\t\\t\\n\\t\\t\\t\\t\\t\\t\\n\\t\\t\\t\\t<li><a href=\"https://web.archive.org/web/20200814131437/https://www.macrotrends.net/stocks/charts/GME/gamestop/net-income\">Net Income</a></li>\\t\\t\\t\\n\\n\\t\\t\\t\\t\\t\\t\\n\\t\\t\\n\\t\\t\\t\\n\\t\\t\\t\\t\\t\\t\\n\\t\\t\\t\\t<li><a href=\"https://web.archive.org/web/20200814131437/https://www.macrotrends.net/stocks/charts/GME/gamestop/eps-earnings-per-share-diluted\">EPS</a></li>\\t\\t\\t\\n\\n\\t\\t\\t\\t\\t\\t\\n\\t\\t\\n\\t\\t\\t\\n\\t\\t\\t\\t\\t\\t\\n\\t\\t\\t\\t<li><a href=\"https://web.archive.org/web/20200814131437/https://www.macrotrends.net/stocks/charts/GME/gamestop/shares-outstanding\">Shares Outstanding</a></li>\\t\\t\\t\\n\\n\\t\\t\\t\\t\\t\\t\\n\\t\\t\\n\\n\\t</ul>\\n\\t\\n\\t\\t\\t\\n</div>\\n\\t\\t\\t\\n\\n\\t\\t\\n\\n\\t\\t\\t<div style=\"background-color:#fff; margin: 0px 0px 20px 0px; padding:20px 30px; border:1px solid #dfdfdf;\">\\n\\t\\t\\t\\n\\t\\t\\t\\t<span style=\"color:#444; line-height: 1.8;\">GameStop revenue from 2006 to 2020. Revenue can be defined as the amount of money a company receives from its customers in exchange for the sales of goods or services.  Revenue is the top line item on an income statement from which all costs and expenses are subtracted to arrive at net income.</span>\\n\\t\\t\\t\\n\\t\\t\\t</div>\\n\\n\\t\\t\\n\\t\\t\\t\\n\\t\\t\\t<div style=\"background-color:#fff; margin: 30px 0px 30px 0px; text-align:center; min-height:90px;\">\\n\\n\\n\\t\\t\\t\\t<div id=\"ic_728_90\" style=\"margin:10px 20px;\">\\n\\n\\n\\t\\t\\t\\t</div>\\n\\t\\t\\t\\n\\t\\t\\t</div>\\t\\t\\n\\t\\t\\t\\n\\t\\t\\t\\n\\n\\t\\t\\t<div class=\"ticker_search_box\" style=\"text-align:center;\">\\t\\t\\t\\n\\n\\t\\t<div style=\"width:400px; margin-left:20px; border-bottom:none;\">\\n\\t\\t\\n\\t\\t\\n\\n\\t\\t\\n        <script type=\"text/javascript\">\\n            $(document).ready(function () {\\n\\t\\t\\t\\t                \\n\\t\\t\\t\\t\\tvar url = \"https://web.archive.org/web/20200814131437/https://www.macrotrends.net/assets/php/ticker_search_list.php\";\\n\\t\\t\\t\\t\\n                // prepare the data\\n                var source =\\n                {\\n                    datatype: \"json\",\\n                    datafields: [\\n                        { name: \\'n\\' },\\n\\t\\t\\t\\t\\t\\t{ name: \\'s\\'}\\n                    ],\\n                    url: url\\n                };\\n                var dataAdapter = new $.jqx.dataAdapter(source);\\n                // Create a jqxInput\\n                $(\"#jqxInput\").jqxInput({ source: dataAdapter, minLength: 1, placeHolder: \"Search for ticker or company name...\", items: 20, searchMode: \\'containsignorecase\\', displayMember: \"n\", valueMember: \"s\", width: \\'100%\\', height: 22, theme: \\'bootstrap\\'});\\n                $(\"#jqxInput\").on(\\'select\\', function (event) {\\n                    if (event.args) {\\n                        var item = event.args.item;\\n\\t\\t\\t\\t\\t\\t\\n\\t\\t\\t\\t\\t\\t//Have to split the ticker and slug back out since jqxinput only seems to allow one data value\\n\\t\\t\\t\\t\\t\\tvar itemArray = item.value.split(\"\\\\/\"); \\n\\t\\t\\t\\t\\t\\tvar ticker = itemArray[0];\\n\\t\\t\\t\\t\\t\\tvar slug = itemArray[1];\\n                        if (item) {\\n\\t\\t\\t\\t\\t\\t\\t\\n\\t\\t\\t\\t\\t\\t\\t\\t\\t\\t\\t\\t\\t\\t\\n\\t\\t\\t\\t\\t\\t\\t\\twindow.location = \"https://web.archive.org/web/20200814131437/https://www.macrotrends.net/stocks/charts/\" + ticker + \"/\" + slug + \"/revenue\";\\n\\t\\t\\t\\t\\t\\t\\t\\n\\t\\t\\t\\t\\t\\t\\t                        }\\n                    }\\n                });\\n            });\\n        </script>\\n        <input id=\"jqxInput\" role=\"textbox\" aria-autocomplete=\"both\" aria-disabled=\"false\" aria-readonly=\"false\" aria-multiline=\"false\" class=\"jqx-widget-content jqx-widget-content-bootstrap jqx-input jqx-input-bootstrap jqx-widget jqx-widget-bootstrap jqx-rc-all jqx-rc-all-bootstrap\" placeholder=\"Search for ticker or company name...\" style=\"width: 100%; height: 22px;\">\\n\\n\\t\\t</div>\\n\\t\\t\\t\\t\\n\\t\\t<div style=\"width:280px; margin-top: -32px; margin-left:80px; border-bottom:none; float:right;\">\\n\\t\\t\\n\\t\\t\\n<button id=\"compareStocks\" style=\"margin-right:15px;\" class=\"chart_buttons btn btn-success btn-sm\"><span class=\"glyphicon glyphicon-stats\"></span>&nbsp;&nbsp;<strong>Compare GME With Other Stocks</strong></button>&nbsp;&nbsp;\\n\\n</div>\\t\\n\\t\\t\\n\\t\\t</div>\\n\\t\\t\\n\\t\\t<div style=\"height:690px; background-color:#fff; border:1px solid #dfdfdf;\">\\n\\t\\t\\n<iframe id=\"chart_iframe\" title=\"Interactive chart: GameStop Revenue 2006-2020 | GME\" valign=\"middle\" margin=\"0px\" width=\"800\" height=\"680\" marginheight=\"0\" marginwidth=\"0\" frameborder=\"0\" vspace=\"0\" hspace=\"0\" scrolling=\"NO\" src=\"./GameStop Revenue 2006-2020 _ GME _ MacroTrends_files/fundamental_iframe.html\"></iframe>\\t\\n\\t\\n\\t\\t\\n\\t\\t</div>\\n\\n\\n\\t\\t\\n\\t\\t\\t\\t\\n\\t\\t<div style=\"background-color:#fff; margin: 30px 0px; padding:10px 30px; border:1px solid #dfdfdf;\">\\n\\t\\t\\n\\t\\t\\t<iframe id=\"dianomi_below_chart\" valign=\"middle\" width=\"100%\" height=\"300\" marginheight=\"0\" marginwidth=\"0\" frameborder=\"0\" vspace=\"0\" hspace=\"0\" scrolling=\"NO\" src=\"./GameStop Revenue 2006-2020 _ GME _ MacroTrends_files/smartads(1).html\"></iframe>\\t\\n\\t\\t\\n\\t\\t</div>\\n\\t\\t\\t\\n\\t\\t\\n\\n\\t\\t\\t\\n \\n\\t\\t\\t\\n\\t\\t\\t<div id=\"style-1\" style=\"background-color:#fff; height:510px; overflow:auto; margin: 30px 0px 30px 0px; padding:0px 30px 20px 0px; border:1px solid #dfdfdf;\">\\n\\t\\t\\t\\n\\t\\t\\t  \\t<div class=\"col-xs-6\">\\n\\t\\t\\t\\n\\t\\t\\t\\t<table class=\"historical_data_table table\">\\n\\t\\t\\t\\t<thead>\\n\\t\\t\\t\\t  <tr>\\n\\t\\t\\t\\t\\t<th colspan=\"2\" style=\"text-align:center\">GameStop Annual Revenue<br><span style=\"font-size:14px;\">(Millions of US $)</span></th>\\n\\t\\t\\t\\t  </tr>\\n\\t\\t\\t\\t</thead>\\t\\t\\t\\t\\t\\n\\t\\t\\t\\t<tbody>\\n\\t\\t\\t\\t\\t\\t\\t\\t\\n\\t\\t\\t\\t\\t\\t\\t\\t\\t\\t\\t\\t\\n\\t\\t\\t\\t<tr>\\n\\t\\t\\t\\t\\t<td style=\"text-align:center\">2020</td>\\n\\t\\t\\t\\t\\n\\t\\t\\t\\t\\n\\t\\t\\t\\t\\n\\t\\t\\t\\t\\t\\t\\t\\t\\t\\t<td style=\"text-align:center\">$6,466</td>\\n\\t\\t\\t\\t\\n\\t\\t\\t\\t\\t\\t\\t\\t\\n\\t\\t\\t\\t</tr>\\n\\t\\t\\t\\t  \\n\\t\\t\\t\\t\\t\\t\\t\\t\\t\\t\\t\\t\\n\\t\\t\\t\\t<tr>\\n\\t\\t\\t\\t\\t<td style=\"text-align:center\">2019</td>\\n\\t\\t\\t\\t\\n\\t\\t\\t\\t\\n\\t\\t\\t\\t\\n\\t\\t\\t\\t\\t\\t\\t\\t\\t\\t<td style=\"text-align:center\">$8,285</td>\\n\\t\\t\\t\\t\\n\\t\\t\\t\\t\\t\\t\\t\\t\\n\\t\\t\\t\\t</tr>\\n\\t\\t\\t\\t  \\n\\t\\t\\t\\t\\t\\t\\t\\t\\t\\t\\t\\t\\n\\t\\t\\t\\t<tr>\\n\\t\\t\\t\\t\\t<td style=\"text-align:center\">2018</td>\\n\\t\\t\\t\\t\\n\\t\\t\\t\\t\\n\\t\\t\\t\\t\\n\\t\\t\\t\\t\\t\\t\\t\\t\\t\\t<td style=\"text-align:center\">$8,547</td>\\n\\t\\t\\t\\t\\n\\t\\t\\t\\t\\t\\t\\t\\t\\n\\t\\t\\t\\t</tr>\\n\\t\\t\\t\\t  \\n\\t\\t\\t\\t\\t\\t\\t\\t\\t\\t\\t\\t\\n\\t\\t\\t\\t<tr>\\n\\t\\t\\t\\t\\t<td style=\"text-align:center\">2017</td>\\n\\t\\t\\t\\t\\n\\t\\t\\t\\t\\n\\t\\t\\t\\t\\n\\t\\t\\t\\t\\t\\t\\t\\t\\t\\t<td style=\"text-align:center\">$7,965</td>\\n\\t\\t\\t\\t\\n\\t\\t\\t\\t\\t\\t\\t\\t\\n\\t\\t\\t\\t</tr>\\n\\t\\t\\t\\t  \\n\\t\\t\\t\\t\\t\\t\\t\\t\\t\\t\\t\\t\\n\\t\\t\\t\\t<tr>\\n\\t\\t\\t\\t\\t<td style=\"text-align:center\">2016</td>\\n\\t\\t\\t\\t\\n\\t\\t\\t\\t\\n\\t\\t\\t\\t\\n\\t\\t\\t\\t\\t\\t\\t\\t\\t\\t<td style=\"text-align:center\">$9,364</td>\\n\\t\\t\\t\\t\\n\\t\\t\\t\\t\\t\\t\\t\\t\\n\\t\\t\\t\\t</tr>\\n\\t\\t\\t\\t  \\n\\t\\t\\t\\t\\t\\t\\t\\t\\t\\t\\t\\t\\n\\t\\t\\t\\t<tr>\\n\\t\\t\\t\\t\\t<td style=\"text-align:center\">2015</td>\\n\\t\\t\\t\\t\\n\\t\\t\\t\\t\\n\\t\\t\\t\\t\\n\\t\\t\\t\\t\\t\\t\\t\\t\\t\\t<td style=\"text-align:center\">$9,296</td>\\n\\t\\t\\t\\t\\n\\t\\t\\t\\t\\t\\t\\t\\t\\n\\t\\t\\t\\t</tr>\\n\\t\\t\\t\\t  \\n\\t\\t\\t\\t\\t\\t\\t\\t\\t\\t\\t\\t\\n\\t\\t\\t\\t<tr>\\n\\t\\t\\t\\t\\t<td style=\"text-align:center\">2014</td>\\n\\t\\t\\t\\t\\n\\t\\t\\t\\t\\n\\t\\t\\t\\t\\n\\t\\t\\t\\t\\t\\t\\t\\t\\t\\t<td style=\"text-align:center\">$9,040</td>\\n\\t\\t\\t\\t\\n\\t\\t\\t\\t\\t\\t\\t\\t\\n\\t\\t\\t\\t</tr>\\n\\t\\t\\t\\t  \\n\\t\\t\\t\\t\\t\\t\\t\\t\\t\\t\\t\\t\\n\\t\\t\\t\\t<tr>\\n\\t\\t\\t\\t\\t<td style=\"text-align:center\">2013</td>\\n\\t\\t\\t\\t\\n\\t\\t\\t\\t\\n\\t\\t\\t\\t\\n\\t\\t\\t\\t\\t\\t\\t\\t\\t\\t<td style=\"text-align:center\">$8,887</td>\\n\\t\\t\\t\\t\\n\\t\\t\\t\\t\\t\\t\\t\\t\\n\\t\\t\\t\\t</tr>\\n\\t\\t\\t\\t  \\n\\t\\t\\t\\t\\t\\t\\t\\t\\t\\t\\t\\t\\n\\t\\t\\t\\t<tr>\\n\\t\\t\\t\\t\\t<td style=\"text-align:center\">2012</td>\\n\\t\\t\\t\\t\\n\\t\\t\\t\\t\\n\\t\\t\\t\\t\\n\\t\\t\\t\\t\\t\\t\\t\\t\\t\\t<td style=\"text-align:center\">$9,551</td>\\n\\t\\t\\t\\t\\n\\t\\t\\t\\t\\t\\t\\t\\t\\n\\t\\t\\t\\t</tr>\\n\\t\\t\\t\\t  \\n\\t\\t\\t\\t\\t\\t\\t\\t\\t\\t\\t\\t\\n\\t\\t\\t\\t<tr>\\n\\t\\t\\t\\t\\t<td style=\"text-align:center\">2011</td>\\n\\t\\t\\t\\t\\n\\t\\t\\t\\t\\n\\t\\t\\t\\t\\n\\t\\t\\t\\t\\t\\t\\t\\t\\t\\t<td style=\"text-align:center\">$9,474</td>\\n\\t\\t\\t\\t\\n\\t\\t\\t\\t\\t\\t\\t\\t\\n\\t\\t\\t\\t</tr>\\n\\t\\t\\t\\t  \\n\\t\\t\\t\\t\\t\\t\\t\\t\\t\\t\\t\\t\\n\\t\\t\\t\\t<tr>\\n\\t\\t\\t\\t\\t<td style=\"text-align:center\">2010</td>\\n\\t\\t\\t\\t\\n\\t\\t\\t\\t\\n\\t\\t\\t\\t\\n\\t\\t\\t\\t\\t\\t\\t\\t\\t\\t<td style=\"text-align:center\">$9,078</td>\\n\\t\\t\\t\\t\\n\\t\\t\\t\\t\\t\\t\\t\\t\\n\\t\\t\\t\\t</tr>\\n\\t\\t\\t\\t  \\n\\t\\t\\t\\t\\t\\t\\t\\t\\t\\t\\t\\t\\n\\t\\t\\t\\t<tr>\\n\\t\\t\\t\\t\\t<td style=\"text-align:center\">2009</td>\\n\\t\\t\\t\\t\\n\\t\\t\\t\\t\\n\\t\\t\\t\\t\\n\\t\\t\\t\\t\\t\\t\\t\\t\\t\\t<td style=\"text-align:center\">$8,806</td>\\n\\t\\t\\t\\t\\n\\t\\t\\t\\t\\t\\t\\t\\t\\n\\t\\t\\t\\t</tr>\\n\\t\\t\\t\\t  \\n\\t\\t\\t\\t\\t\\t\\t\\t\\t\\t\\t\\t\\n\\t\\t\\t\\t<tr>\\n\\t\\t\\t\\t\\t<td style=\"text-align:center\">2008</td>\\n\\t\\t\\t\\t\\n\\t\\t\\t\\t\\n\\t\\t\\t\\t\\n\\t\\t\\t\\t\\t\\t\\t\\t\\t\\t<td style=\"text-align:center\">$7,094</td>\\n\\t\\t\\t\\t\\n\\t\\t\\t\\t\\t\\t\\t\\t\\n\\t\\t\\t\\t</tr>\\n\\t\\t\\t\\t  \\n\\t\\t\\t\\t\\t\\t\\t\\t\\t\\t\\t\\t\\n\\t\\t\\t\\t<tr>\\n\\t\\t\\t\\t\\t<td style=\"text-align:center\">2007</td>\\n\\t\\t\\t\\t\\n\\t\\t\\t\\t\\n\\t\\t\\t\\t\\n\\t\\t\\t\\t\\t\\t\\t\\t\\t\\t<td style=\"text-align:center\">$5,319</td>\\n\\t\\t\\t\\t\\n\\t\\t\\t\\t\\t\\t\\t\\t\\n\\t\\t\\t\\t</tr>\\n\\t\\t\\t\\t  \\n\\t\\t\\t\\t\\t\\t\\t\\t\\t\\t\\t\\t\\n\\t\\t\\t\\t<tr>\\n\\t\\t\\t\\t\\t<td style=\"text-align:center\">2006</td>\\n\\t\\t\\t\\t\\n\\t\\t\\t\\t\\n\\t\\t\\t\\t\\n\\t\\t\\t\\t\\t\\t\\t\\t\\t\\t<td style=\"text-align:center\">$3,092</td>\\n\\t\\t\\t\\t\\n\\t\\t\\t\\t\\t\\t\\t\\t\\n\\t\\t\\t\\t</tr>\\n\\t\\t\\t\\t  \\n\\t\\t\\t\\t\\t\\t\\t\\t\\t\\t\\t\\t\\n\\t\\t\\t\\t<tr>\\n\\t\\t\\t\\t\\t<td style=\"text-align:center\">2005</td>\\n\\t\\t\\t\\t\\n\\t\\t\\t\\t\\n\\t\\t\\t\\t\\n\\t\\t\\t\\t\\t\\t\\t\\t\\t\\t<td style=\"text-align:center\">$1,843</td>\\n\\t\\t\\t\\t\\n\\t\\t\\t\\t\\t\\t\\t\\t\\n\\t\\t\\t\\t</tr>\\n\\t\\t\\t\\t  \\n\\t\\t\\t\\t  \\n\\t\\t\\t\\t</tbody>\\n\\t\\t\\t  </table>\\n\\t\\t\\t  \\n\\t\\t\\t  </div>\\n\\n\\t\\t\\t  <div class=\"col-xs-6\">\\n\\t\\t\\t\\n\\t\\t\\t\\t<table class=\"historical_data_table table\">\\n\\t\\t\\t\\t<thead>\\n\\t\\t\\t\\t  <tr>\\n\\t\\t\\t\\t\\t<th colspan=\"2\" style=\"text-align:center\">GameStop Quarterly Revenue<br><span style=\"font-size:14px;\">(Millions of US $)</span></th>\\n\\t\\t\\t\\t  </tr>\\n\\t\\t\\t\\t</thead>\\t\\t\\t\\t\\n\\t\\t\\t\\t<tbody>\\n\\t\\t\\t\\t\\n\\t\\t\\t\\t\\t\\t\\t\\t\\t\\t\\t\\t\\n\\t\\t\\t\\t<tr>\\n\\t\\t\\t\\t\\t<td style=\"text-align:center\">2020-04-30</td>\\n\\t\\t\\t\\t\\n\\t\\t\\t\\t\\n\\t\\t\\t\\t\\n\\t\\t\\t\\t\\t\\t\\t\\t\\t\\t\\n\\t\\t\\t\\t\\t\\t\\t\\t\\t\\t\\n\\t\\t\\t\\t\\t\\t<td style=\"text-align:center\">$1,021</td>\\n\\t\\t\\t\\t\\t\\t\\n\\t\\t\\t\\t\\t\\t\\t\\t\\t\\n\\t\\t\\t\\t\\t\\t\\t\\t\\n\\t\\t\\t\\t  </tr>\\n\\t\\t\\t\\t  \\n\\t\\t\\t\\t\\t\\t\\t\\t\\t\\t\\t\\t\\n\\t\\t\\t\\t<tr>\\n\\t\\t\\t\\t\\t<td style=\"text-align:center\">2020-01-31</td>\\n\\t\\t\\t\\t\\n\\t\\t\\t\\t\\n\\t\\t\\t\\t\\n\\t\\t\\t\\t\\t\\t\\t\\t\\t\\t\\n\\t\\t\\t\\t\\t\\t\\t\\t\\t\\t\\n\\t\\t\\t\\t\\t\\t<td style=\"text-align:center\">$2,194</td>\\n\\t\\t\\t\\t\\t\\t\\n\\t\\t\\t\\t\\t\\t\\t\\t\\t\\n\\t\\t\\t\\t\\t\\t\\t\\t\\n\\t\\t\\t\\t  </tr>\\n\\t\\t\\t\\t  \\n\\t\\t\\t\\t\\t\\t\\t\\t\\t\\t\\t\\t\\n\\t\\t\\t\\t<tr>\\n\\t\\t\\t\\t\\t<td style=\"text-align:center\">2019-10-31</td>\\n\\t\\t\\t\\t\\n\\t\\t\\t\\t\\n\\t\\t\\t\\t\\n\\t\\t\\t\\t\\t\\t\\t\\t\\t\\t\\n\\t\\t\\t\\t\\t\\t\\t\\t\\t\\t\\n\\t\\t\\t\\t\\t\\t<td style=\"text-align:center\">$1,439</td>\\n\\t\\t\\t\\t\\t\\t\\n\\t\\t\\t\\t\\t\\t\\t\\t\\t\\n\\t\\t\\t\\t\\t\\t\\t\\t\\n\\t\\t\\t\\t  </tr>\\n\\t\\t\\t\\t  \\n\\t\\t\\t\\t\\t\\t\\t\\t\\t\\t\\t\\t\\n\\t\\t\\t\\t<tr>\\n\\t\\t\\t\\t\\t<td style=\"text-align:center\">2019-07-31</td>\\n\\t\\t\\t\\t\\n\\t\\t\\t\\t\\n\\t\\t\\t\\t\\n\\t\\t\\t\\t\\t\\t\\t\\t\\t\\t\\n\\t\\t\\t\\t\\t\\t\\t\\t\\t\\t\\n\\t\\t\\t\\t\\t\\t<td style=\"text-align:center\">$1,286</td>\\n\\t\\t\\t\\t\\t\\t\\n\\t\\t\\t\\t\\t\\t\\t\\t\\t\\n\\t\\t\\t\\t\\t\\t\\t\\t\\n\\t\\t\\t\\t  </tr>\\n\\t\\t\\t\\t  \\n\\t\\t\\t\\t\\t\\t\\t\\t\\t\\t\\t\\t\\n\\t\\t\\t\\t<tr>\\n\\t\\t\\t\\t\\t<td style=\"text-align:center\">2019-04-30</td>\\n\\t\\t\\t\\t\\n\\t\\t\\t\\t\\n\\t\\t\\t\\t\\n\\t\\t\\t\\t\\t\\t\\t\\t\\t\\t\\n\\t\\t\\t\\t\\t\\t\\t\\t\\t\\t\\n\\t\\t\\t\\t\\t\\t<td style=\"text-align:center\">$1,548</td>\\n\\t\\t\\t\\t\\t\\t\\n\\t\\t\\t\\t\\t\\t\\t\\t\\t\\n\\t\\t\\t\\t\\t\\t\\t\\t\\n\\t\\t\\t\\t  </tr>\\n\\t\\t\\t\\t  \\n\\t\\t\\t\\t\\t\\t\\t\\t\\t\\t\\t\\t\\n\\t\\t\\t\\t<tr>\\n\\t\\t\\t\\t\\t<td style=\"text-align:center\">2019-01-31</td>\\n\\t\\t\\t\\t\\n\\t\\t\\t\\t\\n\\t\\t\\t\\t\\n\\t\\t\\t\\t\\t\\t\\t\\t\\t\\t\\n\\t\\t\\t\\t\\t\\t\\t\\t\\t\\t\\n\\t\\t\\t\\t\\t\\t<td style=\"text-align:center\">$3,063</td>\\n\\t\\t\\t\\t\\t\\t\\n\\t\\t\\t\\t\\t\\t\\t\\t\\t\\n\\t\\t\\t\\t\\t\\t\\t\\t\\n\\t\\t\\t\\t  </tr>\\n\\t\\t\\t\\t  \\n\\t\\t\\t\\t\\t\\t\\t\\t\\t\\t\\t\\t\\n\\t\\t\\t\\t<tr>\\n\\t\\t\\t\\t\\t<td style=\"text-align:center\">2018-10-31</td>\\n\\t\\t\\t\\t\\n\\t\\t\\t\\t\\n\\t\\t\\t\\t\\n\\t\\t\\t\\t\\t\\t\\t\\t\\t\\t\\n\\t\\t\\t\\t\\t\\t\\t\\t\\t\\t\\n\\t\\t\\t\\t\\t\\t<td style=\"text-align:center\">$1,935</td>\\n\\t\\t\\t\\t\\t\\t\\n\\t\\t\\t\\t\\t\\t\\t\\t\\t\\n\\t\\t\\t\\t\\t\\t\\t\\t\\n\\t\\t\\t\\t  </tr>\\n\\t\\t\\t\\t  \\n\\t\\t\\t\\t\\t\\t\\t\\t\\t\\t\\t\\t\\n\\t\\t\\t\\t<tr>\\n\\t\\t\\t\\t\\t<td style=\"text-align:center\">2018-07-31</td>\\n\\t\\t\\t\\t\\n\\t\\t\\t\\t\\n\\t\\t\\t\\t\\n\\t\\t\\t\\t\\t\\t\\t\\t\\t\\t\\n\\t\\t\\t\\t\\t\\t\\t\\t\\t\\t\\n\\t\\t\\t\\t\\t\\t<td style=\"text-align:center\">$1,501</td>\\n\\t\\t\\t\\t\\t\\t\\n\\t\\t\\t\\t\\t\\t\\t\\t\\t\\n\\t\\t\\t\\t\\t\\t\\t\\t\\n\\t\\t\\t\\t  </tr>\\n\\t\\t\\t\\t  \\n\\t\\t\\t\\t\\t\\t\\t\\t\\t\\t\\t\\t\\n\\t\\t\\t\\t<tr>\\n\\t\\t\\t\\t\\t<td style=\"text-align:center\">2018-04-30</td>\\n\\t\\t\\t\\t\\n\\t\\t\\t\\t\\n\\t\\t\\t\\t\\n\\t\\t\\t\\t\\t\\t\\t\\t\\t\\t\\n\\t\\t\\t\\t\\t\\t\\t\\t\\t\\t\\n\\t\\t\\t\\t\\t\\t<td style=\"text-align:center\">$1,786</td>\\n\\t\\t\\t\\t\\t\\t\\n\\t\\t\\t\\t\\t\\t\\t\\t\\t\\n\\t\\t\\t\\t\\t\\t\\t\\t\\n\\t\\t\\t\\t  </tr>\\n\\t\\t\\t\\t  \\n\\t\\t\\t\\t\\t\\t\\t\\t\\t\\t\\t\\t\\n\\t\\t\\t\\t<tr>\\n\\t\\t\\t\\t\\t<td style=\"text-align:center\">2018-01-31</td>\\n\\t\\t\\t\\t\\n\\t\\t\\t\\t\\n\\t\\t\\t\\t\\n\\t\\t\\t\\t\\t\\t\\t\\t\\t\\t\\n\\t\\t\\t\\t\\t\\t\\t\\t\\t\\t\\n\\t\\t\\t\\t\\t\\t<td style=\"text-align:center\">$2,825</td>\\n\\t\\t\\t\\t\\t\\t\\n\\t\\t\\t\\t\\t\\t\\t\\t\\t\\n\\t\\t\\t\\t\\t\\t\\t\\t\\n\\t\\t\\t\\t  </tr>\\n\\t\\t\\t\\t  \\n\\t\\t\\t\\t\\t\\t\\t\\t\\t\\t\\t\\t\\n\\t\\t\\t\\t<tr>\\n\\t\\t\\t\\t\\t<td style=\"text-align:center\">2017-10-31</td>\\n\\t\\t\\t\\t\\n\\t\\t\\t\\t\\n\\t\\t\\t\\t\\n\\t\\t\\t\\t\\t\\t\\t\\t\\t\\t\\n\\t\\t\\t\\t\\t\\t\\t\\t\\t\\t\\n\\t\\t\\t\\t\\t\\t<td style=\"text-align:center\">$1,989</td>\\n\\t\\t\\t\\t\\t\\t\\n\\t\\t\\t\\t\\t\\t\\t\\t\\t\\n\\t\\t\\t\\t\\t\\t\\t\\t\\n\\t\\t\\t\\t  </tr>\\n\\t\\t\\t\\t  \\n\\t\\t\\t\\t\\t\\t\\t\\t\\t\\t\\t\\t\\n\\t\\t\\t\\t<tr>\\n\\t\\t\\t\\t\\t<td style=\"text-align:center\">2017-07-31</td>\\n\\t\\t\\t\\t\\n\\t\\t\\t\\t\\n\\t\\t\\t\\t\\n\\t\\t\\t\\t\\t\\t\\t\\t\\t\\t\\n\\t\\t\\t\\t\\t\\t\\t\\t\\t\\t\\n\\t\\t\\t\\t\\t\\t<td style=\"text-align:center\">$1,688</td>\\n\\t\\t\\t\\t\\t\\t\\n\\t\\t\\t\\t\\t\\t\\t\\t\\t\\n\\t\\t\\t\\t\\t\\t\\t\\t\\n\\t\\t\\t\\t  </tr>\\n\\t\\t\\t\\t  \\n\\t\\t\\t\\t\\t\\t\\t\\t\\t\\t\\t\\t\\n\\t\\t\\t\\t<tr>\\n\\t\\t\\t\\t\\t<td style=\"text-align:center\">2017-04-30</td>\\n\\t\\t\\t\\t\\n\\t\\t\\t\\t\\n\\t\\t\\t\\t\\n\\t\\t\\t\\t\\t\\t\\t\\t\\t\\t\\n\\t\\t\\t\\t\\t\\t\\t\\t\\t\\t\\n\\t\\t\\t\\t\\t\\t<td style=\"text-align:center\">$2,046</td>\\n\\t\\t\\t\\t\\t\\t\\n\\t\\t\\t\\t\\t\\t\\t\\t\\t\\n\\t\\t\\t\\t\\t\\t\\t\\t\\n\\t\\t\\t\\t  </tr>\\n\\t\\t\\t\\t  \\n\\t\\t\\t\\t\\t\\t\\t\\t\\t\\t\\t\\t\\n\\t\\t\\t\\t<tr>\\n\\t\\t\\t\\t\\t<td style=\"text-align:center\">2017-01-31</td>\\n\\t\\t\\t\\t\\n\\t\\t\\t\\t\\n\\t\\t\\t\\t\\n\\t\\t\\t\\t\\t\\t\\t\\t\\t\\t\\n\\t\\t\\t\\t\\t\\t\\t\\t\\t\\t\\n\\t\\t\\t\\t\\t\\t<td style=\"text-align:center\">$2,403</td>\\n\\t\\t\\t\\t\\t\\t\\n\\t\\t\\t\\t\\t\\t\\t\\t\\t\\n\\t\\t\\t\\t\\t\\t\\t\\t\\n\\t\\t\\t\\t  </tr>\\n\\t\\t\\t\\t  \\n\\t\\t\\t\\t\\t\\t\\t\\t\\t\\t\\t\\t\\n\\t\\t\\t\\t<tr>\\n\\t\\t\\t\\t\\t<td style=\"text-align:center\">2016-10-31</td>\\n\\t\\t\\t\\t\\n\\t\\t\\t\\t\\n\\t\\t\\t\\t\\n\\t\\t\\t\\t\\t\\t\\t\\t\\t\\t\\n\\t\\t\\t\\t\\t\\t\\t\\t\\t\\t\\n\\t\\t\\t\\t\\t\\t<td style=\"text-align:center\">$1,959</td>\\n\\t\\t\\t\\t\\t\\t\\n\\t\\t\\t\\t\\t\\t\\t\\t\\t\\n\\t\\t\\t\\t\\t\\t\\t\\t\\n\\t\\t\\t\\t  </tr>\\n\\t\\t\\t\\t  \\n\\t\\t\\t\\t\\t\\t\\t\\t\\t\\t\\t\\t\\n\\t\\t\\t\\t<tr>\\n\\t\\t\\t\\t\\t<td style=\"text-align:center\">2016-07-31</td>\\n\\t\\t\\t\\t\\n\\t\\t\\t\\t\\n\\t\\t\\t\\t\\n\\t\\t\\t\\t\\t\\t\\t\\t\\t\\t\\n\\t\\t\\t\\t\\t\\t\\t\\t\\t\\t\\n\\t\\t\\t\\t\\t\\t<td style=\"text-align:center\">$1,632</td>\\n\\t\\t\\t\\t\\t\\t\\n\\t\\t\\t\\t\\t\\t\\t\\t\\t\\n\\t\\t\\t\\t\\t\\t\\t\\t\\n\\t\\t\\t\\t  </tr>\\n\\t\\t\\t\\t  \\n\\t\\t\\t\\t\\t\\t\\t\\t\\t\\t\\t\\t\\n\\t\\t\\t\\t<tr>\\n\\t\\t\\t\\t\\t<td style=\"text-align:center\">2016-04-30</td>\\n\\t\\t\\t\\t\\n\\t\\t\\t\\t\\n\\t\\t\\t\\t\\n\\t\\t\\t\\t\\t\\t\\t\\t\\t\\t\\n\\t\\t\\t\\t\\t\\t\\t\\t\\t\\t\\n\\t\\t\\t\\t\\t\\t<td style=\"text-align:center\">$1,972</td>\\n\\t\\t\\t\\t\\t\\t\\n\\t\\t\\t\\t\\t\\t\\t\\t\\t\\n\\t\\t\\t\\t\\t\\t\\t\\t\\n\\t\\t\\t\\t  </tr>\\n\\t\\t\\t\\t  \\n\\t\\t\\t\\t\\t\\t\\t\\t\\t\\t\\t\\t\\n\\t\\t\\t\\t<tr>\\n\\t\\t\\t\\t\\t<td style=\"text-align:center\">2016-01-31</td>\\n\\t\\t\\t\\t\\n\\t\\t\\t\\t\\n\\t\\t\\t\\t\\n\\t\\t\\t\\t\\t\\t\\t\\t\\t\\t\\n\\t\\t\\t\\t\\t\\t\\t\\t\\t\\t\\n\\t\\t\\t\\t\\t\\t<td style=\"text-align:center\">$3,525</td>\\n\\t\\t\\t\\t\\t\\t\\n\\t\\t\\t\\t\\t\\t\\t\\t\\t\\n\\t\\t\\t\\t\\t\\t\\t\\t\\n\\t\\t\\t\\t  </tr>\\n\\t\\t\\t\\t  \\n\\t\\t\\t\\t\\t\\t\\t\\t\\t\\t\\t\\t\\n\\t\\t\\t\\t<tr>\\n\\t\\t\\t\\t\\t<td style=\"text-align:center\">2015-10-31</td>\\n\\t\\t\\t\\t\\n\\t\\t\\t\\t\\n\\t\\t\\t\\t\\n\\t\\t\\t\\t\\t\\t\\t\\t\\t\\t\\n\\t\\t\\t\\t\\t\\t\\t\\t\\t\\t\\n\\t\\t\\t\\t\\t\\t<td style=\"text-align:center\">$2,016</td>\\n\\t\\t\\t\\t\\t\\t\\n\\t\\t\\t\\t\\t\\t\\t\\t\\t\\n\\t\\t\\t\\t\\t\\t\\t\\t\\n\\t\\t\\t\\t  </tr>\\n\\t\\t\\t\\t  \\n\\t\\t\\t\\t\\t\\t\\t\\t\\t\\t\\t\\t\\n\\t\\t\\t\\t<tr>\\n\\t\\t\\t\\t\\t<td style=\"text-align:center\">2015-07-31</td>\\n\\t\\t\\t\\t\\n\\t\\t\\t\\t\\n\\t\\t\\t\\t\\n\\t\\t\\t\\t\\t\\t\\t\\t\\t\\t\\n\\t\\t\\t\\t\\t\\t\\t\\t\\t\\t\\n\\t\\t\\t\\t\\t\\t<td style=\"text-align:center\">$1,762</td>\\n\\t\\t\\t\\t\\t\\t\\n\\t\\t\\t\\t\\t\\t\\t\\t\\t\\n\\t\\t\\t\\t\\t\\t\\t\\t\\n\\t\\t\\t\\t  </tr>\\n\\t\\t\\t\\t  \\n\\t\\t\\t\\t\\t\\t\\t\\t\\t\\t\\t\\t\\n\\t\\t\\t\\t<tr>\\n\\t\\t\\t\\t\\t<td style=\"text-align:center\">2015-04-30</td>\\n\\t\\t\\t\\t\\n\\t\\t\\t\\t\\n\\t\\t\\t\\t\\n\\t\\t\\t\\t\\t\\t\\t\\t\\t\\t\\n\\t\\t\\t\\t\\t\\t\\t\\t\\t\\t\\n\\t\\t\\t\\t\\t\\t<td style=\"text-align:center\">$2,061</td>\\n\\t\\t\\t\\t\\t\\t\\n\\t\\t\\t\\t\\t\\t\\t\\t\\t\\n\\t\\t\\t\\t\\t\\t\\t\\t\\n\\t\\t\\t\\t  </tr>\\n\\t\\t\\t\\t  \\n\\t\\t\\t\\t\\t\\t\\t\\t\\t\\t\\t\\t\\n\\t\\t\\t\\t<tr>\\n\\t\\t\\t\\t\\t<td style=\"text-align:center\">2015-01-31</td>\\n\\t\\t\\t\\t\\n\\t\\t\\t\\t\\n\\t\\t\\t\\t\\n\\t\\t\\t\\t\\t\\t\\t\\t\\t\\t\\n\\t\\t\\t\\t\\t\\t\\t\\t\\t\\t\\n\\t\\t\\t\\t\\t\\t<td style=\"text-align:center\">$3,476</td>\\n\\t\\t\\t\\t\\t\\t\\n\\t\\t\\t\\t\\t\\t\\t\\t\\t\\n\\t\\t\\t\\t\\t\\t\\t\\t\\n\\t\\t\\t\\t  </tr>\\n\\t\\t\\t\\t  \\n\\t\\t\\t\\t\\t\\t\\t\\t\\t\\t\\t\\t\\n\\t\\t\\t\\t<tr>\\n\\t\\t\\t\\t\\t<td style=\"text-align:center\">2014-10-31</td>\\n\\t\\t\\t\\t\\n\\t\\t\\t\\t\\n\\t\\t\\t\\t\\n\\t\\t\\t\\t\\t\\t\\t\\t\\t\\t\\n\\t\\t\\t\\t\\t\\t\\t\\t\\t\\t\\n\\t\\t\\t\\t\\t\\t<td style=\"text-align:center\">$2,092</td>\\n\\t\\t\\t\\t\\t\\t\\n\\t\\t\\t\\t\\t\\t\\t\\t\\t\\n\\t\\t\\t\\t\\t\\t\\t\\t\\n\\t\\t\\t\\t  </tr>\\n\\t\\t\\t\\t  \\n\\t\\t\\t\\t\\t\\t\\t\\t\\t\\t\\t\\t\\n\\t\\t\\t\\t<tr>\\n\\t\\t\\t\\t\\t<td style=\"text-align:center\">2014-07-31</td>\\n\\t\\t\\t\\t\\n\\t\\t\\t\\t\\n\\t\\t\\t\\t\\n\\t\\t\\t\\t\\t\\t\\t\\t\\t\\t\\n\\t\\t\\t\\t\\t\\t\\t\\t\\t\\t\\n\\t\\t\\t\\t\\t\\t<td style=\"text-align:center\">$1,731</td>\\n\\t\\t\\t\\t\\t\\t\\n\\t\\t\\t\\t\\t\\t\\t\\t\\t\\n\\t\\t\\t\\t\\t\\t\\t\\t\\n\\t\\t\\t\\t  </tr>\\n\\t\\t\\t\\t  \\n\\t\\t\\t\\t\\t\\t\\t\\t\\t\\t\\t\\t\\n\\t\\t\\t\\t<tr>\\n\\t\\t\\t\\t\\t<td style=\"text-align:center\">2014-04-30</td>\\n\\t\\t\\t\\t\\n\\t\\t\\t\\t\\n\\t\\t\\t\\t\\n\\t\\t\\t\\t\\t\\t\\t\\t\\t\\t\\n\\t\\t\\t\\t\\t\\t\\t\\t\\t\\t\\n\\t\\t\\t\\t\\t\\t<td style=\"text-align:center\">$1,996</td>\\n\\t\\t\\t\\t\\t\\t\\n\\t\\t\\t\\t\\t\\t\\t\\t\\t\\n\\t\\t\\t\\t\\t\\t\\t\\t\\n\\t\\t\\t\\t  </tr>\\n\\t\\t\\t\\t  \\n\\t\\t\\t\\t\\t\\t\\t\\t\\t\\t\\t\\t\\n\\t\\t\\t\\t<tr>\\n\\t\\t\\t\\t\\t<td style=\"text-align:center\">2014-01-31</td>\\n\\t\\t\\t\\t\\n\\t\\t\\t\\t\\n\\t\\t\\t\\t\\n\\t\\t\\t\\t\\t\\t\\t\\t\\t\\t\\n\\t\\t\\t\\t\\t\\t\\t\\t\\t\\t\\n\\t\\t\\t\\t\\t\\t<td style=\"text-align:center\">$3,684</td>\\n\\t\\t\\t\\t\\t\\t\\n\\t\\t\\t\\t\\t\\t\\t\\t\\t\\n\\t\\t\\t\\t\\t\\t\\t\\t\\n\\t\\t\\t\\t  </tr>\\n\\t\\t\\t\\t  \\n\\t\\t\\t\\t\\t\\t\\t\\t\\t\\t\\t\\t\\n\\t\\t\\t\\t<tr>\\n\\t\\t\\t\\t\\t<td style=\"text-align:center\">2013-10-31</td>\\n\\t\\t\\t\\t\\n\\t\\t\\t\\t\\n\\t\\t\\t\\t\\n\\t\\t\\t\\t\\t\\t\\t\\t\\t\\t\\n\\t\\t\\t\\t\\t\\t\\t\\t\\t\\t\\n\\t\\t\\t\\t\\t\\t<td style=\"text-align:center\">$2,107</td>\\n\\t\\t\\t\\t\\t\\t\\n\\t\\t\\t\\t\\t\\t\\t\\t\\t\\n\\t\\t\\t\\t\\t\\t\\t\\t\\n\\t\\t\\t\\t  </tr>\\n\\t\\t\\t\\t  \\n\\t\\t\\t\\t\\t\\t\\t\\t\\t\\t\\t\\t\\n\\t\\t\\t\\t<tr>\\n\\t\\t\\t\\t\\t<td style=\"text-align:center\">2013-07-31</td>\\n\\t\\t\\t\\t\\n\\t\\t\\t\\t\\n\\t\\t\\t\\t\\n\\t\\t\\t\\t\\t\\t\\t\\t\\t\\t\\n\\t\\t\\t\\t\\t\\t\\t\\t\\t\\t\\n\\t\\t\\t\\t\\t\\t<td style=\"text-align:center\">$1,384</td>\\n\\t\\t\\t\\t\\t\\t\\n\\t\\t\\t\\t\\t\\t\\t\\t\\t\\n\\t\\t\\t\\t\\t\\t\\t\\t\\n\\t\\t\\t\\t  </tr>\\n\\t\\t\\t\\t  \\n\\t\\t\\t\\t\\t\\t\\t\\t\\t\\t\\t\\t\\n\\t\\t\\t\\t<tr>\\n\\t\\t\\t\\t\\t<td style=\"text-align:center\">2013-04-30</td>\\n\\t\\t\\t\\t\\n\\t\\t\\t\\t\\n\\t\\t\\t\\t\\n\\t\\t\\t\\t\\t\\t\\t\\t\\t\\t\\n\\t\\t\\t\\t\\t\\t\\t\\t\\t\\t\\n\\t\\t\\t\\t\\t\\t<td style=\"text-align:center\">$1,865</td>\\n\\t\\t\\t\\t\\t\\t\\n\\t\\t\\t\\t\\t\\t\\t\\t\\t\\n\\t\\t\\t\\t\\t\\t\\t\\t\\n\\t\\t\\t\\t  </tr>\\n\\t\\t\\t\\t  \\n\\t\\t\\t\\t\\t\\t\\t\\t\\t\\t\\t\\t\\n\\t\\t\\t\\t<tr>\\n\\t\\t\\t\\t\\t<td style=\"text-align:center\">2013-01-31</td>\\n\\t\\t\\t\\t\\n\\t\\t\\t\\t\\n\\t\\t\\t\\t\\n\\t\\t\\t\\t\\t\\t\\t\\t\\t\\t\\n\\t\\t\\t\\t\\t\\t\\t\\t\\t\\t\\n\\t\\t\\t\\t\\t\\t<td style=\"text-align:center\">$3,562</td>\\n\\t\\t\\t\\t\\t\\t\\n\\t\\t\\t\\t\\t\\t\\t\\t\\t\\n\\t\\t\\t\\t\\t\\t\\t\\t\\n\\t\\t\\t\\t  </tr>\\n\\t\\t\\t\\t  \\n\\t\\t\\t\\t\\t\\t\\t\\t\\t\\t\\t\\t\\n\\t\\t\\t\\t<tr>\\n\\t\\t\\t\\t\\t<td style=\"text-align:center\">2012-10-31</td>\\n\\t\\t\\t\\t\\n\\t\\t\\t\\t\\n\\t\\t\\t\\t\\n\\t\\t\\t\\t\\t\\t\\t\\t\\t\\t\\n\\t\\t\\t\\t\\t\\t\\t\\t\\t\\t\\n\\t\\t\\t\\t\\t\\t<td style=\"text-align:center\">$1,773</td>\\n\\t\\t\\t\\t\\t\\t\\n\\t\\t\\t\\t\\t\\t\\t\\t\\t\\n\\t\\t\\t\\t\\t\\t\\t\\t\\n\\t\\t\\t\\t  </tr>\\n\\t\\t\\t\\t  \\n\\t\\t\\t\\t\\t\\t\\t\\t\\t\\t\\t\\t\\n\\t\\t\\t\\t<tr>\\n\\t\\t\\t\\t\\t<td style=\"text-align:center\">2012-07-31</td>\\n\\t\\t\\t\\t\\n\\t\\t\\t\\t\\n\\t\\t\\t\\t\\n\\t\\t\\t\\t\\t\\t\\t\\t\\t\\t\\n\\t\\t\\t\\t\\t\\t\\t\\t\\t\\t\\n\\t\\t\\t\\t\\t\\t<td style=\"text-align:center\">$1,550</td>\\n\\t\\t\\t\\t\\t\\t\\n\\t\\t\\t\\t\\t\\t\\t\\t\\t\\n\\t\\t\\t\\t\\t\\t\\t\\t\\n\\t\\t\\t\\t  </tr>\\n\\t\\t\\t\\t  \\n\\t\\t\\t\\t\\t\\t\\t\\t\\t\\t\\t\\t\\n\\t\\t\\t\\t<tr>\\n\\t\\t\\t\\t\\t<td style=\"text-align:center\">2012-04-30</td>\\n\\t\\t\\t\\t\\n\\t\\t\\t\\t\\n\\t\\t\\t\\t\\n\\t\\t\\t\\t\\t\\t\\t\\t\\t\\t\\n\\t\\t\\t\\t\\t\\t\\t\\t\\t\\t\\n\\t\\t\\t\\t\\t\\t<td style=\"text-align:center\">$2,002</td>\\n\\t\\t\\t\\t\\t\\t\\n\\t\\t\\t\\t\\t\\t\\t\\t\\t\\n\\t\\t\\t\\t\\t\\t\\t\\t\\n\\t\\t\\t\\t  </tr>\\n\\t\\t\\t\\t  \\n\\t\\t\\t\\t\\t\\t\\t\\t\\t\\t\\t\\t\\n\\t\\t\\t\\t<tr>\\n\\t\\t\\t\\t\\t<td style=\"text-align:center\">2012-01-31</td>\\n\\t\\t\\t\\t\\n\\t\\t\\t\\t\\n\\t\\t\\t\\t\\n\\t\\t\\t\\t\\t\\t\\t\\t\\t\\t\\n\\t\\t\\t\\t\\t\\t\\t\\t\\t\\t\\n\\t\\t\\t\\t\\t\\t<td style=\"text-align:center\">$3,579</td>\\n\\t\\t\\t\\t\\t\\t\\n\\t\\t\\t\\t\\t\\t\\t\\t\\t\\n\\t\\t\\t\\t\\t\\t\\t\\t\\n\\t\\t\\t\\t  </tr>\\n\\t\\t\\t\\t  \\n\\t\\t\\t\\t\\t\\t\\t\\t\\t\\t\\t\\t\\n\\t\\t\\t\\t<tr>\\n\\t\\t\\t\\t\\t<td style=\"text-align:center\">2011-10-31</td>\\n\\t\\t\\t\\t\\n\\t\\t\\t\\t\\n\\t\\t\\t\\t\\n\\t\\t\\t\\t\\t\\t\\t\\t\\t\\t\\n\\t\\t\\t\\t\\t\\t\\t\\t\\t\\t\\n\\t\\t\\t\\t\\t\\t<td style=\"text-align:center\">$1,947</td>\\n\\t\\t\\t\\t\\t\\t\\n\\t\\t\\t\\t\\t\\t\\t\\t\\t\\n\\t\\t\\t\\t\\t\\t\\t\\t\\n\\t\\t\\t\\t  </tr>\\n\\t\\t\\t\\t  \\n\\t\\t\\t\\t\\t\\t\\t\\t\\t\\t\\t\\t\\n\\t\\t\\t\\t<tr>\\n\\t\\t\\t\\t\\t<td style=\"text-align:center\">2011-07-31</td>\\n\\t\\t\\t\\t\\n\\t\\t\\t\\t\\n\\t\\t\\t\\t\\n\\t\\t\\t\\t\\t\\t\\t\\t\\t\\t\\n\\t\\t\\t\\t\\t\\t\\t\\t\\t\\t\\n\\t\\t\\t\\t\\t\\t<td style=\"text-align:center\">$1,744</td>\\n\\t\\t\\t\\t\\t\\t\\n\\t\\t\\t\\t\\t\\t\\t\\t\\t\\n\\t\\t\\t\\t\\t\\t\\t\\t\\n\\t\\t\\t\\t  </tr>\\n\\t\\t\\t\\t  \\n\\t\\t\\t\\t\\t\\t\\t\\t\\t\\t\\t\\t\\n\\t\\t\\t\\t<tr>\\n\\t\\t\\t\\t\\t<td style=\"text-align:center\">2011-04-30</td>\\n\\t\\t\\t\\t\\n\\t\\t\\t\\t\\n\\t\\t\\t\\t\\n\\t\\t\\t\\t\\t\\t\\t\\t\\t\\t\\n\\t\\t\\t\\t\\t\\t\\t\\t\\t\\t\\n\\t\\t\\t\\t\\t\\t<td style=\"text-align:center\">$2,281</td>\\n\\t\\t\\t\\t\\t\\t\\n\\t\\t\\t\\t\\t\\t\\t\\t\\t\\n\\t\\t\\t\\t\\t\\t\\t\\t\\n\\t\\t\\t\\t  </tr>\\n\\t\\t\\t\\t  \\n\\t\\t\\t\\t\\t\\t\\t\\t\\t\\t\\t\\t\\n\\t\\t\\t\\t<tr>\\n\\t\\t\\t\\t\\t<td style=\"text-align:center\">2011-01-31</td>\\n\\t\\t\\t\\t\\n\\t\\t\\t\\t\\n\\t\\t\\t\\t\\n\\t\\t\\t\\t\\t\\t\\t\\t\\t\\t\\n\\t\\t\\t\\t\\t\\t\\t\\t\\t\\t\\n\\t\\t\\t\\t\\t\\t<td style=\"text-align:center\">$3,693</td>\\n\\t\\t\\t\\t\\t\\t\\n\\t\\t\\t\\t\\t\\t\\t\\t\\t\\n\\t\\t\\t\\t\\t\\t\\t\\t\\n\\t\\t\\t\\t  </tr>\\n\\t\\t\\t\\t  \\n\\t\\t\\t\\t\\t\\t\\t\\t\\t\\t\\t\\t\\n\\t\\t\\t\\t<tr>\\n\\t\\t\\t\\t\\t<td style=\"text-align:center\">2010-10-31</td>\\n\\t\\t\\t\\t\\n\\t\\t\\t\\t\\n\\t\\t\\t\\t\\n\\t\\t\\t\\t\\t\\t\\t\\t\\t\\t\\n\\t\\t\\t\\t\\t\\t\\t\\t\\t\\t\\n\\t\\t\\t\\t\\t\\t<td style=\"text-align:center\">$1,899</td>\\n\\t\\t\\t\\t\\t\\t\\n\\t\\t\\t\\t\\t\\t\\t\\t\\t\\n\\t\\t\\t\\t\\t\\t\\t\\t\\n\\t\\t\\t\\t  </tr>\\n\\t\\t\\t\\t  \\n\\t\\t\\t\\t\\t\\t\\t\\t\\t\\t\\t\\t\\n\\t\\t\\t\\t<tr>\\n\\t\\t\\t\\t\\t<td style=\"text-align:center\">2010-07-31</td>\\n\\t\\t\\t\\t\\n\\t\\t\\t\\t\\n\\t\\t\\t\\t\\n\\t\\t\\t\\t\\t\\t\\t\\t\\t\\t\\n\\t\\t\\t\\t\\t\\t\\t\\t\\t\\t\\n\\t\\t\\t\\t\\t\\t<td style=\"text-align:center\">$1,799</td>\\n\\t\\t\\t\\t\\t\\t\\n\\t\\t\\t\\t\\t\\t\\t\\t\\t\\n\\t\\t\\t\\t\\t\\t\\t\\t\\n\\t\\t\\t\\t  </tr>\\n\\t\\t\\t\\t  \\n\\t\\t\\t\\t\\t\\t\\t\\t\\t\\t\\t\\t\\n\\t\\t\\t\\t<tr>\\n\\t\\t\\t\\t\\t<td style=\"text-align:center\">2010-04-30</td>\\n\\t\\t\\t\\t\\n\\t\\t\\t\\t\\n\\t\\t\\t\\t\\n\\t\\t\\t\\t\\t\\t\\t\\t\\t\\t\\n\\t\\t\\t\\t\\t\\t\\t\\t\\t\\t\\n\\t\\t\\t\\t\\t\\t<td style=\"text-align:center\">$2,083</td>\\n\\t\\t\\t\\t\\t\\t\\n\\t\\t\\t\\t\\t\\t\\t\\t\\t\\n\\t\\t\\t\\t\\t\\t\\t\\t\\n\\t\\t\\t\\t  </tr>\\n\\t\\t\\t\\t  \\n\\t\\t\\t\\t\\t\\t\\t\\t\\t\\t\\t\\t\\n\\t\\t\\t\\t<tr>\\n\\t\\t\\t\\t\\t<td style=\"text-align:center\">2010-01-31</td>\\n\\t\\t\\t\\t\\n\\t\\t\\t\\t\\n\\t\\t\\t\\t\\n\\t\\t\\t\\t\\t\\t\\t\\t\\t\\t\\n\\t\\t\\t\\t\\t\\t\\t\\t\\t\\t\\n\\t\\t\\t\\t\\t\\t<td style=\"text-align:center\">$3,524</td>\\n\\t\\t\\t\\t\\t\\t\\n\\t\\t\\t\\t\\t\\t\\t\\t\\t\\n\\t\\t\\t\\t\\t\\t\\t\\t\\n\\t\\t\\t\\t  </tr>\\n\\t\\t\\t\\t  \\n\\t\\t\\t\\t\\t\\t\\t\\t\\t\\t\\t\\t\\n\\t\\t\\t\\t<tr>\\n\\t\\t\\t\\t\\t<td style=\"text-align:center\">2009-10-31</td>\\n\\t\\t\\t\\t\\n\\t\\t\\t\\t\\n\\t\\t\\t\\t\\n\\t\\t\\t\\t\\t\\t\\t\\t\\t\\t\\n\\t\\t\\t\\t\\t\\t\\t\\t\\t\\t\\n\\t\\t\\t\\t\\t\\t<td style=\"text-align:center\">$1,835</td>\\n\\t\\t\\t\\t\\t\\t\\n\\t\\t\\t\\t\\t\\t\\t\\t\\t\\n\\t\\t\\t\\t\\t\\t\\t\\t\\n\\t\\t\\t\\t  </tr>\\n\\t\\t\\t\\t  \\n\\t\\t\\t\\t\\t\\t\\t\\t\\t\\t\\t\\t\\n\\t\\t\\t\\t<tr>\\n\\t\\t\\t\\t\\t<td style=\"text-align:center\">2009-07-31</td>\\n\\t\\t\\t\\t\\n\\t\\t\\t\\t\\n\\t\\t\\t\\t\\n\\t\\t\\t\\t\\t\\t\\t\\t\\t\\t\\n\\t\\t\\t\\t\\t\\t\\t\\t\\t\\t\\n\\t\\t\\t\\t\\t\\t<td style=\"text-align:center\">$1,739</td>\\n\\t\\t\\t\\t\\t\\t\\n\\t\\t\\t\\t\\t\\t\\t\\t\\t\\n\\t\\t\\t\\t\\t\\t\\t\\t\\n\\t\\t\\t\\t  </tr>\\n\\t\\t\\t\\t  \\n\\t\\t\\t\\t\\t\\t\\t\\t\\t\\t\\t\\t\\n\\t\\t\\t\\t<tr>\\n\\t\\t\\t\\t\\t<td style=\"text-align:center\">2009-04-30</td>\\n\\t\\t\\t\\t\\n\\t\\t\\t\\t\\n\\t\\t\\t\\t\\n\\t\\t\\t\\t\\t\\t\\t\\t\\t\\t\\n\\t\\t\\t\\t\\t\\t\\t\\t\\t\\t\\n\\t\\t\\t\\t\\t\\t<td style=\"text-align:center\">$1,981</td>\\n\\t\\t\\t\\t\\t\\t\\n\\t\\t\\t\\t\\t\\t\\t\\t\\t\\n\\t\\t\\t\\t\\t\\t\\t\\t\\n\\t\\t\\t\\t  </tr>\\n\\t\\t\\t\\t  \\n\\t\\t\\t\\t\\t\\t\\t\\t\\t\\t\\t\\t\\n\\t\\t\\t\\t<tr>\\n\\t\\t\\t\\t\\t<td style=\"text-align:center\">2009-01-31</td>\\n\\t\\t\\t\\t\\n\\t\\t\\t\\t\\n\\t\\t\\t\\t\\n\\t\\t\\t\\t\\t\\t\\t\\t\\t\\t\\n\\t\\t\\t\\t\\t\\t\\t\\t\\t\\t\\n\\t\\t\\t\\t\\t\\t<td style=\"text-align:center\">$3,492</td>\\n\\t\\t\\t\\t\\t\\t\\n\\t\\t\\t\\t\\t\\t\\t\\t\\t\\n\\t\\t\\t\\t\\t\\t\\t\\t\\n\\t\\t\\t\\t  </tr>\\n\\t\\t\\t\\t  \\n\\t\\t\\t\\t\\t\\t\\t\\t\\t\\t\\t\\t\\n\\t\\t\\t\\t<tr>\\n\\t\\t\\t\\t\\t<td style=\"text-align:center\">2008-10-31</td>\\n\\t\\t\\t\\t\\n\\t\\t\\t\\t\\n\\t\\t\\t\\t\\n\\t\\t\\t\\t\\t\\t\\t\\t\\t\\t\\n\\t\\t\\t\\t\\t\\t\\t\\t\\t\\t\\n\\t\\t\\t\\t\\t\\t<td style=\"text-align:center\">$1,696</td>\\n\\t\\t\\t\\t\\t\\t\\n\\t\\t\\t\\t\\t\\t\\t\\t\\t\\n\\t\\t\\t\\t\\t\\t\\t\\t\\n\\t\\t\\t\\t  </tr>\\n\\t\\t\\t\\t  \\n\\t\\t\\t\\t\\t\\t\\t\\t\\t\\t\\t\\t\\n\\t\\t\\t\\t<tr>\\n\\t\\t\\t\\t\\t<td style=\"text-align:center\">2008-07-31</td>\\n\\t\\t\\t\\t\\n\\t\\t\\t\\t\\n\\t\\t\\t\\t\\n\\t\\t\\t\\t\\t\\t\\t\\t\\t\\t\\n\\t\\t\\t\\t\\t\\t\\t\\t\\t\\t\\n\\t\\t\\t\\t\\t\\t<td style=\"text-align:center\">$1,804</td>\\n\\t\\t\\t\\t\\t\\t\\n\\t\\t\\t\\t\\t\\t\\t\\t\\t\\n\\t\\t\\t\\t\\t\\t\\t\\t\\n\\t\\t\\t\\t  </tr>\\n\\t\\t\\t\\t  \\n\\t\\t\\t\\t\\t\\t\\t\\t\\t\\t\\t\\t\\n\\t\\t\\t\\t<tr>\\n\\t\\t\\t\\t\\t<td style=\"text-align:center\">2008-04-30</td>\\n\\t\\t\\t\\t\\n\\t\\t\\t\\t\\n\\t\\t\\t\\t\\n\\t\\t\\t\\t\\t\\t\\t\\t\\t\\t\\n\\t\\t\\t\\t\\t\\t\\t\\t\\t\\t\\n\\t\\t\\t\\t\\t\\t<td style=\"text-align:center\">$1,814</td>\\n\\t\\t\\t\\t\\t\\t\\n\\t\\t\\t\\t\\t\\t\\t\\t\\t\\n\\t\\t\\t\\t\\t\\t\\t\\t\\n\\t\\t\\t\\t  </tr>\\n\\t\\t\\t\\t  \\n\\t\\t\\t\\t\\t\\t\\t\\t\\t\\t\\t\\t\\n\\t\\t\\t\\t<tr>\\n\\t\\t\\t\\t\\t<td style=\"text-align:center\">2008-01-31</td>\\n\\t\\t\\t\\t\\n\\t\\t\\t\\t\\n\\t\\t\\t\\t\\n\\t\\t\\t\\t\\t\\t\\t\\t\\t\\t\\n\\t\\t\\t\\t\\t\\t\\t\\t\\t\\t\\n\\t\\t\\t\\t\\t\\t<td style=\"text-align:center\">$2,866</td>\\n\\t\\t\\t\\t\\t\\t\\n\\t\\t\\t\\t\\t\\t\\t\\t\\t\\n\\t\\t\\t\\t\\t\\t\\t\\t\\n\\t\\t\\t\\t  </tr>\\n\\t\\t\\t\\t  \\n\\t\\t\\t\\t\\t\\t\\t\\t\\t\\t\\t\\t\\n\\t\\t\\t\\t<tr>\\n\\t\\t\\t\\t\\t<td style=\"text-align:center\">2007-10-31</td>\\n\\t\\t\\t\\t\\n\\t\\t\\t\\t\\n\\t\\t\\t\\t\\n\\t\\t\\t\\t\\t\\t\\t\\t\\t\\t\\n\\t\\t\\t\\t\\t\\t\\t\\t\\t\\t\\n\\t\\t\\t\\t\\t\\t<td style=\"text-align:center\">$1,611</td>\\n\\t\\t\\t\\t\\t\\t\\n\\t\\t\\t\\t\\t\\t\\t\\t\\t\\n\\t\\t\\t\\t\\t\\t\\t\\t\\n\\t\\t\\t\\t  </tr>\\n\\t\\t\\t\\t  \\n\\t\\t\\t\\t\\t\\t\\t\\t\\t\\t\\t\\t\\n\\t\\t\\t\\t<tr>\\n\\t\\t\\t\\t\\t<td style=\"text-align:center\">2007-07-31</td>\\n\\t\\t\\t\\t\\n\\t\\t\\t\\t\\n\\t\\t\\t\\t\\n\\t\\t\\t\\t\\t\\t\\t\\t\\t\\t\\n\\t\\t\\t\\t\\t\\t\\t\\t\\t\\t\\n\\t\\t\\t\\t\\t\\t<td style=\"text-align:center\">$1,338</td>\\n\\t\\t\\t\\t\\t\\t\\n\\t\\t\\t\\t\\t\\t\\t\\t\\t\\n\\t\\t\\t\\t\\t\\t\\t\\t\\n\\t\\t\\t\\t  </tr>\\n\\t\\t\\t\\t  \\n\\t\\t\\t\\t\\t\\t\\t\\t\\t\\t\\t\\t\\n\\t\\t\\t\\t<tr>\\n\\t\\t\\t\\t\\t<td style=\"text-align:center\">2007-04-30</td>\\n\\t\\t\\t\\t\\n\\t\\t\\t\\t\\n\\t\\t\\t\\t\\n\\t\\t\\t\\t\\t\\t\\t\\t\\t\\t\\n\\t\\t\\t\\t\\t\\t\\t\\t\\t\\t\\n\\t\\t\\t\\t\\t\\t<td style=\"text-align:center\">$1,279</td>\\n\\t\\t\\t\\t\\t\\t\\n\\t\\t\\t\\t\\t\\t\\t\\t\\t\\n\\t\\t\\t\\t\\t\\t\\t\\t\\n\\t\\t\\t\\t  </tr>\\n\\t\\t\\t\\t  \\n\\t\\t\\t\\t\\t\\t\\t\\t\\t\\t\\t\\t\\n\\t\\t\\t\\t<tr>\\n\\t\\t\\t\\t\\t<td style=\"text-align:center\">2007-01-31</td>\\n\\t\\t\\t\\t\\n\\t\\t\\t\\t\\n\\t\\t\\t\\t\\n\\t\\t\\t\\t\\t\\t\\t\\t\\t\\t\\n\\t\\t\\t\\t\\t\\t\\t\\t\\t\\t\\n\\t\\t\\t\\t\\t\\t<td style=\"text-align:center\">$2,304</td>\\n\\t\\t\\t\\t\\t\\t\\n\\t\\t\\t\\t\\t\\t\\t\\t\\t\\n\\t\\t\\t\\t\\t\\t\\t\\t\\n\\t\\t\\t\\t  </tr>\\n\\t\\t\\t\\t  \\n\\t\\t\\t\\t\\t\\t\\t\\t\\t\\t\\t\\t\\n\\t\\t\\t\\t<tr>\\n\\t\\t\\t\\t\\t<td style=\"text-align:center\">2006-10-31</td>\\n\\t\\t\\t\\t\\n\\t\\t\\t\\t\\n\\t\\t\\t\\t\\n\\t\\t\\t\\t\\t\\t\\t\\t\\t\\t\\n\\t\\t\\t\\t\\t\\t\\t\\t\\t\\t\\n\\t\\t\\t\\t\\t\\t<td style=\"text-align:center\">$1,012</td>\\n\\t\\t\\t\\t\\t\\t\\n\\t\\t\\t\\t\\t\\t\\t\\t\\t\\n\\t\\t\\t\\t\\t\\t\\t\\t\\n\\t\\t\\t\\t  </tr>\\n\\t\\t\\t\\t  \\n\\t\\t\\t\\t\\t\\t\\t\\t\\t\\t\\t\\t\\n\\t\\t\\t\\t<tr>\\n\\t\\t\\t\\t\\t<td style=\"text-align:center\">2006-07-31</td>\\n\\t\\t\\t\\t\\n\\t\\t\\t\\t\\n\\t\\t\\t\\t\\n\\t\\t\\t\\t\\t\\t\\t\\t\\t\\t\\n\\t\\t\\t\\t\\t\\t\\t\\t\\t\\t\\n\\t\\t\\t\\t\\t\\t<td style=\"text-align:center\">$963</td>\\n\\t\\t\\t\\t\\t\\t\\n\\t\\t\\t\\t\\t\\t\\t\\t\\t\\n\\t\\t\\t\\t\\t\\t\\t\\t\\n\\t\\t\\t\\t  </tr>\\n\\t\\t\\t\\t  \\n\\t\\t\\t\\t\\t\\t\\t\\t\\t\\t\\t\\t\\n\\t\\t\\t\\t<tr>\\n\\t\\t\\t\\t\\t<td style=\"text-align:center\">2006-04-30</td>\\n\\t\\t\\t\\t\\n\\t\\t\\t\\t\\n\\t\\t\\t\\t\\n\\t\\t\\t\\t\\t\\t\\t\\t\\t\\t\\n\\t\\t\\t\\t\\t\\t\\t\\t\\t\\t\\n\\t\\t\\t\\t\\t\\t<td style=\"text-align:center\">$1,040</td>\\n\\t\\t\\t\\t\\t\\t\\n\\t\\t\\t\\t\\t\\t\\t\\t\\t\\n\\t\\t\\t\\t\\t\\t\\t\\t\\n\\t\\t\\t\\t  </tr>\\n\\t\\t\\t\\t  \\n\\t\\t\\t\\t\\t\\t\\t\\t\\t\\t\\t\\t\\n\\t\\t\\t\\t<tr>\\n\\t\\t\\t\\t\\t<td style=\"text-align:center\">2006-01-31</td>\\n\\t\\t\\t\\t\\n\\t\\t\\t\\t\\n\\t\\t\\t\\t\\n\\t\\t\\t\\t\\t\\t\\t\\t\\t\\t\\n\\t\\t\\t\\t\\t\\t\\t\\t\\t\\t\\n\\t\\t\\t\\t\\t\\t<td style=\"text-align:center\">$1,667</td>\\n\\t\\t\\t\\t\\t\\t\\n\\t\\t\\t\\t\\t\\t\\t\\t\\t\\n\\t\\t\\t\\t\\t\\t\\t\\t\\n\\t\\t\\t\\t  </tr>\\n\\t\\t\\t\\t  \\n\\t\\t\\t\\t\\t\\t\\t\\t\\t\\t\\t\\t\\n\\t\\t\\t\\t<tr>\\n\\t\\t\\t\\t\\t<td style=\"text-align:center\">2005-10-31</td>\\n\\t\\t\\t\\t\\n\\t\\t\\t\\t\\n\\t\\t\\t\\t\\n\\t\\t\\t\\t\\t\\t\\t\\t\\t\\t\\n\\t\\t\\t\\t\\t\\t\\t\\t\\t\\t\\n\\t\\t\\t\\t\\t\\t<td style=\"text-align:center\">$534</td>\\n\\t\\t\\t\\t\\t\\t\\n\\t\\t\\t\\t\\t\\t\\t\\t\\t\\n\\t\\t\\t\\t\\t\\t\\t\\t\\n\\t\\t\\t\\t  </tr>\\n\\t\\t\\t\\t  \\n\\t\\t\\t\\t\\t\\t\\t\\t\\t\\t\\t\\t\\n\\t\\t\\t\\t<tr>\\n\\t\\t\\t\\t\\t<td style=\"text-align:center\">2005-07-31</td>\\n\\t\\t\\t\\t\\n\\t\\t\\t\\t\\n\\t\\t\\t\\t\\n\\t\\t\\t\\t\\t\\t\\t\\t\\t\\t\\n\\t\\t\\t\\t\\t\\t\\t\\t\\t\\t\\n\\t\\t\\t\\t\\t\\t<td style=\"text-align:center\">$416</td>\\n\\t\\t\\t\\t\\t\\t\\n\\t\\t\\t\\t\\t\\t\\t\\t\\t\\n\\t\\t\\t\\t\\t\\t\\t\\t\\n\\t\\t\\t\\t  </tr>\\n\\t\\t\\t\\t  \\n\\t\\t\\t\\t\\t\\t\\t\\t\\t\\t\\t\\t\\n\\t\\t\\t\\t<tr>\\n\\t\\t\\t\\t\\t<td style=\"text-align:center\">2005-04-30</td>\\n\\t\\t\\t\\t\\n\\t\\t\\t\\t\\n\\t\\t\\t\\t\\n\\t\\t\\t\\t\\t\\t\\t\\t\\t\\t\\n\\t\\t\\t\\t\\t\\t\\t\\t\\t\\t\\n\\t\\t\\t\\t\\t\\t<td style=\"text-align:center\">$475</td>\\n\\t\\t\\t\\t\\t\\t\\n\\t\\t\\t\\t\\t\\t\\t\\t\\t\\n\\t\\t\\t\\t\\t\\t\\t\\t\\n\\t\\t\\t\\t  </tr>\\n\\t\\t\\t\\t  \\n\\t\\t\\t\\t\\t\\t\\t\\t\\t\\t\\t\\t\\n\\t\\t\\t\\t<tr>\\n\\t\\t\\t\\t\\t<td style=\"text-align:center\">2005-01-31</td>\\n\\t\\t\\t\\t\\n\\t\\t\\t\\t\\n\\t\\t\\t\\t\\n\\t\\t\\t\\t\\t\\t\\t\\t\\t\\t\\n\\t\\t\\t\\t\\t\\t\\t\\t\\t\\t\\n\\t\\t\\t\\t\\t\\t<td style=\"text-align:center\">$709</td>\\n\\t\\t\\t\\t\\t\\t\\n\\t\\t\\t\\t\\t\\t\\t\\t\\t\\n\\t\\t\\t\\t\\t\\t\\t\\t\\n\\t\\t\\t\\t  </tr>\\n\\t\\t\\t\\t  \\n\\t\\t\\t\\t  \\n\\t\\t\\t\\t</tbody>\\n\\t\\t\\t  </table>\\n\\t\\t\\t  \\n\\t\\t\\t  </div>\\n\\t\\t\\t  \\n\\n\\t\\t\\t\\n</div>\\t\\t\\t\\n\\t\\t\\t\\n\\t\\t\\t\\n\\t\\t\\n\\t\\t<div style=\"background-color:#fff; margin: 0px 0px 20px 0px; padding:5px 50px 5px 10px; border:1px solid #dfdfdf;\">\\n\\n\\t\\t\\t  <table class=\"historical_data_table table\">\\n\\t\\t\\t\\t<thead>\\n\\t\\t\\t\\t  <tr>\\n\\t\\t\\t\\t\\t<th style=\"text-align:center\">Sector</th>\\n\\t\\t\\t\\t\\t<th style=\"text-align:center\">Industry</th>\\n\\t\\t\\t\\t\\t<th style=\"text-align:center\">Market Cap</th>\\n\\t\\t\\t\\t\\t<th style=\"text-align:center\">Revenue</th>\\n\\t\\t\\t\\t  </tr>\\n\\t\\t\\t\\t</thead>\\n\\t\\t\\t\\t<tbody>\\n\\t\\t\\t\\t  <tr>\\n\\t\\t\\t\\t\\t<td style=\"text-align:center\"><a href=\"https://web.archive.org/web/20200814131437/https://www.macrotrends.net/stocks/sector/3/retail-wholesale\">Retail/Wholesale</a></td>\\n\\t\\t\\t\\t\\t<td style=\"text-align:center\"><a href=\"https://web.archive.org/web/20200814131437/https://www.macrotrends.net/stocks/industry/156/\">Retail - Consumer Electronics</a></td>\\n\\t\\t\\t\\t\\t<td style=\"text-align:center\">$0.293B</td>\\n\\t\\t\\t\\t\\t<td style=\"text-align:center\">$6.466B</td>\\n\\t\\t\\t\\t  </tr>\\n\\t\\t\\t\\t  <tr>\\n\\t\\t\\t\\t\\t  <td colspan=\"4\" style=\"padding:15px;\">\\n\\t\\t\\t\\t\\t\\t<span>GameStop Corp. is the world\\'s largest video game and entertainment software retailer. The company operates 4,816 retail stores across the United States and in fifteen countries worldwide. The company also operates two e-commerce sites, GameStop.com and EBgames.com, and publishes Game Informer? magazine, a leading multi-platform video game publication. GameStop Corp. sells new and used video game software, hardware and accessories for next generation video game systems from Sony, Nintendo, and Microsoft. In addition, the company sells PC entertainment software, related accessories and other merchandise.</span>\\n\\t\\t\\t\\t\\t  </td>\\n\\t\\t\\t\\t  </tr>\\n\\t\\t\\t\\t</tbody>\\n\\t\\t\\t  </table>\\t\\t\\t\\n\\t\\t\\t</div>\\t\\n\\t\\n\\t\\t\\n\\t\\t<div style=\"background-color:#fff; margin: 20px 0px 30px 0px; padding:5px 50px 5px 10px; border:1px solid #dfdfdf;\">\\n\\t\\t\\t\\n\\n\\t\\t\\t\\t<table class=\"historical_data_table table\">\\n\\t\\t\\t\\t<thead>\\n\\t\\t\\t\\t  <tr>\\n\\t\\t\\t\\t\\t<th style=\"text-align:center; width:40%;\">Stock Name</th>\\n\\t\\t\\t\\t\\t<th style=\"text-align:center; width:20%;\">Country</th>\\n\\t\\t\\t\\t\\t<th style=\"text-align:center; width:20%;\">Market Cap</th>\\n\\t\\t\\t\\t\\t<th style=\"text-align:center; width:20%;\">PE Ratio</th>\\n\\t\\t\\t\\t  </tr>\\n\\t\\t\\t\\t</thead>\\n\\t\\t\\t\\t<tbody>\\t\\t\\t\\n\\n\\t\\t\\t\\t\\t\\t\\n\\t\\t\\t\\t\\t\\t\\n\\t\\t\\t\\t<tr>\\n\\t\\t\\t\\t\\t<td style=\"text-align:left\"><a href=\"https://web.archive.org/web/20200814131437/https://www.macrotrends.net/stocks/charts/BBY/best-buy/revenue\">Best Buy (BBY)</a></td>\\n\\t\\t\\t\\t\\t<td style=\"text-align:center\">United States</td>\\n\\t\\t\\t\\t\\t<td style=\"text-align:center\">$27.033B</td>\\n\\t\\t\\t\\t\\t<td style=\"text-align:center\">18.16</td>\\n\\t\\t\\t\\t </tr>\\n\\n\\t\\t\\t\\t\\t\\t\\n\\t\\t\\t\\t\\t\\t\\n\\t\\t\\t\\t<tr>\\n\\t\\t\\t\\t\\t<td style=\"text-align:left\"><a href=\"https://web.archive.org/web/20200814131437/https://www.macrotrends.net/stocks/charts/AAN/aarons,-/revenue\">Aaron\\'s,  (AAN)</a></td>\\n\\t\\t\\t\\t\\t<td style=\"text-align:center\">United States</td>\\n\\t\\t\\t\\t\\t<td style=\"text-align:center\">$3.975B</td>\\n\\t\\t\\t\\t\\t<td style=\"text-align:center\">15.14</td>\\n\\t\\t\\t\\t </tr>\\n\\n\\t\\t\\t\\t\\t\\t\\n\\t\\t\\t\\t\\t\\t\\n\\t\\t\\t\\t<tr>\\n\\t\\t\\t\\t\\t<td style=\"text-align:left\"><a href=\"https://web.archive.org/web/20200814131437/https://www.macrotrends.net/stocks/charts/GMELY/gome-retail-holdings/revenue\">GOME Retail Holdings (GMELY)</a></td>\\n\\t\\t\\t\\t\\t<td style=\"text-align:center\">China</td>\\n\\t\\t\\t\\t\\t<td style=\"text-align:center\">$1.684B</td>\\n\\t\\t\\t\\t\\t<td style=\"text-align:center\">0.00</td>\\n\\t\\t\\t\\t </tr>\\n\\n\\t\\t\\t\\t\\t\\t\\n\\t\\t\\t\\t\\t\\t\\n\\t\\t\\t\\t<tr>\\n\\t\\t\\t\\t\\t<td style=\"text-align:left\"><a href=\"https://web.archive.org/web/20200814131437/https://www.macrotrends.net/stocks/charts/SYX/systemax/revenue\">Systemax (SYX)</a></td>\\n\\t\\t\\t\\t\\t<td style=\"text-align:center\">United States</td>\\n\\t\\t\\t\\t\\t<td style=\"text-align:center\">$0.873B</td>\\n\\t\\t\\t\\t\\t<td style=\"text-align:center\">18.34</td>\\n\\t\\t\\t\\t </tr>\\n\\n\\t\\t\\t\\t\\t\\t\\n\\t\\t\\t\\t\\t\\t\\n\\t\\t\\t\\t<tr>\\n\\t\\t\\t\\t\\t<td style=\"text-align:left\"><a href=\"https://web.archive.org/web/20200814131437/https://www.macrotrends.net/stocks/charts/CONN/conns/revenue\">Conn\\'s (CONN)</a></td>\\n\\t\\t\\t\\t\\t<td style=\"text-align:center\">United States</td>\\n\\t\\t\\t\\t\\t<td style=\"text-align:center\">$0.325B</td>\\n\\t\\t\\t\\t\\t<td style=\"text-align:center\">0.00</td>\\n\\t\\t\\t\\t </tr>\\n\\n\\t\\t\\t\\t\\t\\t\\n\\t\\t\\t\\t\\t\\t\\n\\t\\t\\t\\t<tr>\\n\\t\\t\\t\\t\\t<td style=\"text-align:left\"><a href=\"https://web.archive.org/web/20200814131437/https://www.macrotrends.net/stocks/charts/TAIT/taitron-components/revenue\">Taitron Components (TAIT)</a></td>\\n\\t\\t\\t\\t\\t<td style=\"text-align:center\">United States</td>\\n\\t\\t\\t\\t\\t<td style=\"text-align:center\">$0.016B</td>\\n\\t\\t\\t\\t\\t<td style=\"text-align:center\">10.50</td>\\n\\t\\t\\t\\t </tr>\\n\\n\\t\\t\\t\\t\\t\\t\\n\\t\\t\\t\\t</tbody>\\n\\t\\t\\t  </table>\\t\\t\\t\\n\\t\\t\\t\\n\\t\\t\\t</div>\\n\\t\\t\\t\\n\\t\\t\\t\\n\\n\\t\\t\\t</div>\\n\\t\\t\\t\\n\\n\\t\\t\\t<div id=\"right_sidebar\" \"=\"\">\\n\\n\\t\\t\\t\\t<!--<a href=\"/stocks/stock-screener\" style=\"text-decoration:none; color: #fff; \">\\n\\t\\t\\t\\t\\t<div style=\"margin:0px; padding: 20px; width:300px; background-color: #01579b; min-height:150px; text-align:center;\">\\n\\n\\t\\t\\t\\t\\t\\t<h2 style=\"font-weight:600;\">Try our new<br />stock screener!</h2></a>\\n\\n\\t\\t\\t\\t\\t</div>\\n\\t\\t\\t\\t</a>-->\\n\\n\\t\\t\\t\\t<!--<div style=\"margin-top:0px; min-height:250px;\">\\n\\n\\t\\t\\t\\t\\t<script src=\\'//ads.investingchannel.com/adtags/Macrotrends/fundamentalanalysis/300x600.js?zhpos=300_2&multi_size=false\\' type=\\'text/javascript\\' charset=\\'utf-8\\'></script>\\n\\n\\t\\t\\t\\t</div>-->\\n\\t\\t\\t\\t\\n\\t\\t\\t\\t\\t\\t\\t\\n\\t\\t\\t\\t\\n\\t\\t\\t\\t\\n\\t\\t\\t\\t\\n\\t\\t\\t\\t\\t\\t\\n\\n\\n\\n\\t\\t\\t<div style=\"margin-top:0px; min-height:250px;\">\\n\\n\\t\\t\\t\\t\\t<div id=\"ic_300_250\">\\n\\n\\t\\t\\t\\t\\t\\n\\t\\t\\t\\t\\t</div>\\n\\n\\t\\t\\t\\t</div>\\n\\t\\t\\t\\n\\t\\t\\t<div id=\"sticky_ad_right\">\\n\\t\\t\\t\\n\\t\\t\\t\\t<div style=\"margin-top:30px; min-height:250px;\">\\n\\n\\t\\t\\t\\t\\t<div id=\"ic_300_600\">\\n\\n\\n\\t\\t\\t\\t\\t</div>\\n\\n\\t\\t\\t\\t</div>\\n\\n\\t\\t\\t\\t</div>\\n\\n\\n\\t\\t\\t\\t\\t\\n\\t\\t\\t\\t\\n\\n\\t\\t\\t\\t\\n\\t\\t\\t</div>\\n\\t\\t\\t\\n\\t\\t\\t\\n\\t\\t\\t\\n\\t\\t\\t\\t\\t\\t\\n\\t\\t</div>\\n\\t\\t</div>\\n\\n<footer class=\"footer\">\\n\\n\\t\\t<span>Â© 2010-2020 Macrotrends LLC</span>&nbsp;&nbsp;|&nbsp;&nbsp;\\n\\t\\t  <a href=\"https://web.archive.org/web/20200814131437/https://www.macrotrends.net/terms\">Terms of Service</a>\\n\\t\\t  &nbsp;&nbsp;|&nbsp;&nbsp;\\n\\t\\t  <a href=\"https://web.archive.org/web/20200814131437/https://www.macrotrends.net/privacy\">Privacy Policy</a>&nbsp;&nbsp;|&nbsp;&nbsp;\\n\\t\\t  <a href=\"https://web.archive.org/web/20200814131437/mailto:info@macrotrends.net\">Contact Us</a>&nbsp;&nbsp;|&nbsp;&nbsp;\\n\\t\\t  <a href=\"https://web.archive.org/web/20200814131437/https://www.macrotrends.net/ccpa\">Do Not Sell My Personal Information</a>\\n\\t\\t  <br>\\n\\t\\t  <span>Fundamental data from </span><a target=\"_blank\" rel=\"nofollow\" href=\"https://web.archive.org/web/20200814131437/https://www.zacksdata.com/\">Zacks Investment Research, Inc.</a>\\n\\n\\n</footer>\\n\\n<div class=\"modal\" id=\"smallWidthModal1\" tabindex=\"-1\" role=\"dialog\" aria-labelledby=\"exampleModalLabel\" aria-hidden=\"true\">\\n  <div class=\"modal-dialog modal-lg\">\\n    <div class=\"modal-content\">\\n      <div class=\"modal-body\">\\n\\t  \\t  \\n\\t\\t<div class=\"modal_title\"><h2><strong>We Need Your Support!</strong></h2></div>\\n\\n\\t\\t<p>Backlinks from other websites are the lifeblood of our site and a primary source of new traffic.</p><p>\\n\\t\\t\\n</p><p>If you use our chart images on your site or blog, we ask that you provide attribution via a \"dofollow\" link back to this page.  We have provided a few examples below that you can copy and paste to your site:</p>\\n\\n<br>\\n\\n<table class=\"table\">\\n<thead>\\n<tr>\\n<th>Link Preview</th>\\n<th>HTML Code (Click to Copy)</th>\\n</tr>\\n</thead>\\n<tbody>\\n<tr>\\n<td><a>GameStop Revenue 2006-2020 | GME</a></td>\\n<td><input type=\"text\" class=\"modal_link\" size=\"60\" value=\"&lt;a href=&#39;https://www.macrotrends.net/stocks/charts/GME/gamestop/revenue&#39;&gt;GameStop Revenue 2006-2020 | GME&lt;/a&gt;\"></td>\\n</tr>\\n<tr>\\n<td><a>Macrotrends</a></td>\\n<td><input type=\"text\" class=\"modal_link\" size=\"60\" value=\"&lt;a href=&#39;https://www.macrotrends.net/stocks/charts/GME/gamestop/revenue&#39;&gt;Macrotrends&lt;/a&gt;\"></td>\\n</tr>\\n<tr>\\n<td><a>Source</a></td>\\n<td><input type=\"text\" class=\"modal_link\" size=\"60\" value=\"&lt;a href=&#39;https://www.macrotrends.net/stocks/charts/GME/gamestop/revenue&#39;&gt;Source&lt;/a&gt;\"></td>\\n</tr>\\n\\n\\n\\n</tbody>\\n</table>\\n\\n<br>\\n\\n<p style=\"text-align:center\">Your image export is now complete.  Please check your download folder. </p>\\n\\n      </div>\\n      <div class=\"modal-footer\">\\n        <button type=\"button\" class=\"btn btn-primary\" data-dismiss=\"modal\">Close Window</button>\\n      </div>\\n    </div>\\n  </div>\\n</div>\\n\\n\\n<div class=\"modal\" id=\"smallWidthModal2\" tabindex=\"-1\" role=\"dialog\" aria-labelledby=\"exampleModalLabel\" aria-hidden=\"true\">\\n  <div class=\"modal-dialog modal-lg\">\\n    <div class=\"modal-content\">\\n      <div class=\"modal-body\">\\n\\t  \\t  \\n\\t\\t<div class=\"modal_title\"><h2><strong>We Need Your Support!</strong></h2></div>\\n\\n\\t\\t<p>Backlinks from other websites are the lifeblood of our site and a primary source of new traffic.</p><p>\\n\\t\\t\\n</p><p>If you use our datasets on your site or blog, we ask that you provide attribution via a \"dofollow\" link back to this page.  We have provided a few examples below that you can copy and paste to your site:</p>\\n\\n<br>\\n\\n<table class=\"table\">\\n<thead>\\n<tr>\\n<th>Link Preview</th>\\n<th>HTML Code (Click to Copy)</th>\\n</tr>\\n</thead>\\n<tbody>\\n<tr>\\n<td><a>GameStop Revenue 2006-2020 | GME</a></td>\\n<td><input type=\"text\" class=\"modal_link\" size=\"50\" value=\"&lt;a href=&#39;https://www.macrotrends.net/stocks/charts/GME/gamestop/revenue&#39;&gt;GameStop Revenue 2006-2020 | GME&lt;/a&gt;\"></td>\\n</tr>\\n<tr>\\n<td><a>Macrotrends</a></td>\\n<td><input type=\"text\" class=\"modal_link\" size=\"50\" value=\"&lt;a href=&#39;https://www.macrotrends.net/stocks/charts/GME/gamestop/revenue&#39;&gt;Macrotrends&lt;/a&gt;\"></td>\\n</tr>\\n<tr>\\n<td><a>Source</a></td>\\n<td><input type=\"text\" class=\"modal_link\" size=\"50\" value=\"&lt;a href=&#39;https://www.macrotrends.net/stocks/charts/GME/gamestop/revenue&#39;&gt;Source&lt;/a&gt;\"></td>\\n</tr>\\n\\n\\n\\n</tbody>\\n</table>\\n\\n<br>\\n\\n<p style=\"text-align:center\">Your data export is now complete.  Please check your download folder. </p>\\n\\n      </div>\\n      <div class=\"modal-footer\">\\n        <button type=\"button\" class=\"btn btn-primary\" data-dismiss=\"modal\">Close Window</button>\\n      </div>\\n    </div>\\n  </div>\\n</div>\\t\\n\\n\\n<script type=\"text/javascript\">\\n\\t$.typeahead({\\n\\t\\tinput: \\'.js-typeahead\\',\\n\\t\\tminLength: 1,\\n\\t\\tfilter: false,  //Disables typahead filter to just show everything in the results from the database\\n\\t\\tdebug: false,\\n\\t\\thighlight: true,\\n\\t\\tmaxItem: 10,\\n\\t\\tdynamic: true,\\n\\t\\tdelay: 200,\\n\\t\\tsearchOnFocus: true,\\n\\t\\tbackdrop: {\\n\\t\\t\\t\"background-color\": \"#fff\"\\n\\t\\t},\\n\\t\\thref: \"{{url}}\",\\n\\t\\temptyTemplate: \"no result for {{query}}\",\\n\\t\\tdisplay: [\"name\"],\\n\\t\\tsource: {\\n\\t\\t\\tusers: {\\n\\t\\t\\t\\tajax: {\\n\\t\\t\\t\\t\\turl: \\'/assets/php/all_pages_query.php\\',\\n\\t\\t\\t\\t\\tdata: {\\n\\t\\t\\t\\t\\t\\tq: \\'{{query}}\\'\\n\\t\\t\\t\\t\\t}\\n\\t\\t\\t\\t}\\n\\t\\t\\t}\\n\\t\\t}\\n\\t});\\n</script>\\t\\t\\t\\t\\t\\t\\n\\n\\n<script>\\n\\n$(document).ready(function() {\\n\\t\\n\\t// Selects all of the text in the chart export window when clicked\\n\\t$(\".modal_link\").focus(function() {\\n\\t\\tvar $this = $(this);\\n\\t\\t$this.select();\\n\\n\\t\\t// Work around Chrome\\'s little problem\\n\\t\\t$this.mouseup(function() {\\n\\t\\t\\t// Prevent further mouseup intervention\\n\\t\\t\\t$this.unbind(\"mouseup\");\\n\\t\\t\\treturn false;\\n\\t\\t});\\n\\t});\\t\\n\\t\\n\\t\\n\\t$(\\'[data-toggle=\"tooltip\"]\\').tooltip();\\n\\t\\n    $(\\'.statement_type_select\\').select2({\\n\\t\\n\\ttheme: \"classic\",\\n\\tminimumResultsForSearch: 20\\n\\t\\n\\t});\\n\\n    $(\\'.frequency_select\\').select2({\\n\\t\\n\\ttheme: \"classic\",\\n\\tminimumResultsForSearch: 20\\n\\t\\n\\t});\\n\\t\\n\\t\\n});\\n\\n$( \"#compareStocks\" ).click(function() {\\n\\t\\n\\t\\n\\twindow.location.href = \\'/stocks/stock-comparison?s=revenue&axis=single&comp=GME\\';\\n\\t\\n\\t\\n});\\n\\n$( \"#chartExport\" ).click(function() {\\n\\t\\n\\t\\twindow.$(\\'#smallWidthModal1\\').modal();\\n\\n\\t\\t//Turn off scroll bar for image export\\n\\t\\tchart.chartScrollbarSettings.enabled = false;\\n\\t\\tchart.validateNow(); \\n\\t\\t\\n\\t\\t\\n\\t\\tchart.export.capture({},function() {\\n\\t\\t\\tthis.toPNG({},function(data) {\\n\\t\\t\\t\\t// Download the image to the browser\\n\\t\\t\\t\\tthis.download( data, \"image/png\", \"GME-revenue-2020-08-14-macrotrends.png\" );\\n\\t\\t\\t\\t\\n\\t\\t\\t\\t});\\n\\n\\t\\t//Turn scroll bar back on again\\n\\t\\tchart.chartScrollbarSettings.enabled = true;\\n\\t\\tchart.validateNow(); \\n\\t\\t\\t\\t\\n\\t});\\n\\n});\\n\\n$( \".statement_type_select\" ).change(function() {\\n  \\n  window.location.href = \\'https://web.archive.org/web/20200814131437/https://testing.macrotrends.net/assets/php/income_statement_testing.php?t=TAIT&type=\\' + this.value + \\'&freq=Q\\';\\n\\n});\\n\\n$( \".frequency_select\" ).change(function() {\\n  \\n  window.location.href = \\'/assets/php/new_chart_page.php?t=TAIT&type=revenue&freq=\\' + this.value;\\n\\n});\\n\\n</script>\\n\\n<!--<div class=\"modal\" id=\"contribute_modal\" tabindex=\"-1\" role=\"dialog\" aria-labelledby=\"exampleModalLabel\" aria-hidden=\"false\">\\n  <div class=\"modal-dialog modal-lg\">\\n    <div class=\"modal-content\">\\n      <div class=\"modal-body\" style=\"margin:20px 40px 20px 40px; text-align:left;font-size:18px;\">\\n\\t  \\t  \\n\\n\\n<div class=\"row\">\\n\\n<div class=\"col-xs-6\">\\n\\n<script src=\"https://donorbox.org/widget.js\" paypalExpress=\"true\"></script><iframe src=\"https://donorbox.org/embed/macrotrends-donations?hide_donation_meter=true\" height=\"685px\" width=\"100%\" style=\"max-width:500px; min-width:310px; max-height:none!important\" seamless=\"seamless\" name=\"donorbox\" frameborder=\"0\" scrolling=\"no\" allowpaymentrequest></iframe>\\n\\n</div>\\n\\n<div class=\"col-xs-6\">\\n\\n\\t\\t<div class=\"modal_title\"><h1><strong>We Need Your Support!</strong></h1></div>\\n\\n\\t\\t<p><strong>Macrotrends has been subscription-free since 2010 and we want to keep it that way.</strong></p>\\n\\n<p>Our goal has always been to serve as an easily accessible, high quality source of investment research for both professionals and amateurs alike.</p>\\n\\n<p>Any amount that you can contribute will help ensure we can keep the site completely free for many years to come.</p>\\n\\n<p style=\"margin-top:20px;\">Regards,</p>\\n<p>The Macrotrends Team</p>\\n\\n</div>\\n\\n</div>\\n\\n</div>\\n\\n      <div class=\"modal-footer\" style=\"text-align:center;\">\\n        <button type=\"button\" class=\"btn btn-success\" data-dismiss=\"modal\">Maybe Next Time...</button>\\n      </div>\\n    </div>\\n  </div>\\n</div>\\t\\n\\n\\n<script src=\"/ads.js\" type=\"text/javascript\"></script>\\n\\n<script>\\n\\n$(document).ready(function() {\\n\\t\\n\\tvar botPattern = \"(googlebot\\\\/|Googlebot-Mobile|Googlebot-Image|Google favicon|Mediapartners-Google|bingbot|slurp|java|wget|curl|Commons-HttpClient|Python-urllib|libwww|httpunit|nutch|phpcrawl|msnbot|jyxobot|FAST-WebCrawler|FAST Enterprise Crawler|biglotron|teoma|convera|seekbot|gigablast|exabot|ngbot|ia_archiver|GingerCrawler|webmon |httrack|webcrawler|grub.org|UsineNouvelleCrawler|antibot|netresearchserver|speedy|fluffy|bibnum.bnf|findlink|msrbot|panscient|yacybot|AISearchBot|IOI|ips-agent|tagoobot|MJ12bot|dotbot|woriobot|yanga|buzzbot|mlbot|yandexbot|purebot|Linguee Bot|Voyager|CyberPatrol|voilabot|baiduspider|citeseerxbot|spbot|twengabot|postrank|turnitinbot|scribdbot|page2rss|sitebot|linkdex|Adidxbot|blekkobot|ezooms|dotbot|Mail.RU_Bot|discobot|heritrix|findthatfile|europarchive.org|NerdByNature.Bot|sistrix crawler|ahrefsbot|Aboundex|domaincrawler|wbsearchbot|summify|ccbot|edisterbot|seznambot|ec2linkfinder|gslfbot|aihitbot|intelium_bot|facebookexternalhit|yeti|RetrevoPageAnalyzer|lb-spider|sogou|lssbot|careerbot|wotbox|wocbot|ichiro|DuckDuckBot|lssrocketcrawler|drupact|webcompanycrawler|acoonbot|openindexspider|gnam gnam spider|web-archive-net.com.bot|backlinkcrawler|coccoc|integromedb|content crawler spider|toplistbot|seokicks-robot|it2media-domain-crawler|ip-web-crawler.com|siteexplorer.info|elisabot|proximic|changedetection|blexbot|arabot|WeSEE:Search|niki-bot|CrystalSemanticsBot|rogerbot|360Spider|psbot|InterfaxScanBot|Lipperhey SEO Service|CC Metadata Scaper|g00g1e.net|GrapeshotCrawler|urlappendbot|brainobot|fr-crawler|binlar|SimpleCrawler|Livelapbot|Twitterbot|cXensebot|smtbot|bnf.fr_bot|A6-Indexer|ADmantX|Facebot|Twitterbot|OrangeBot|memorybot|AdvBot|MegaIndex|SemanticScholarBot|ltx71|nerdybot|xovibot|BUbiNG|Qwantify|archive.org_bot|Applebot|TweetmemeBot|crawler4j|findxbot|SemrushBot|yoozBot|lipperhey|y!j-asr|Domain Re-Animator Bot|AddThis)\";\\n\\n\\tvar re = new RegExp(botPattern, \\'i\\');\\n\\n\\tif (re.test(navigator.userAgent)) {\\n\\t\\t\\n\\t} else {\\n\\t\\t\\n\\t\\t//Check to see whether they are running an ad blocker\\n\\t\\tif(document.getElementById(\\'12mORwMnaEkJXlxz\\')){\\n\\t\\t  var ad_blocker = \\'N\\';\\n\\t\\t} else {\\n\\t\\t  var ad_blocker = \\'Y\\';\\n\\t\\t}\\n\\n\\t\\t$.post(\\'https://api.ipstack.com/check?access_key=14fe63e83d5cfefa0b3d4cec498479ba&output=json&fields=ip,continent_name,country_name,region_name,city\\', \\n\\t\\tfunction(ip_data){\\n\\t\\t\\t\\n\\t\\t\\t$.post(\\'https://www.macrotrends.net/assets/php/page_view_tracking.php\\', {ip: ip_data.ip,continent: ip_data.continent_name, country: ip_data.country_name, state: ip_data.region_name, city: ip_data.city, screen_width: screen.width, ads: ad_blocker, page_type: \\'stock\\'}, \\n\\t\\t\\t\\tfunction(data){\\n\\t\\t\\t\\t\\t/*\\t\\t\\t\\t\\t\\n\\t\\t\\t\\t\\tif(data % 20 === 0) {\\n\\t\\t\\t\\t\\t\\t\\n\\t\\t\\t\\t\\t\\t//$(\\'#contribute_modal\\').modal();\\n\\t\\t\\t\\t\\t\\t\\n\\t\\t\\t\\t\\t}\\n\\t\\t\\t\\t\\t*/\\n\\t\\t\\t\\t});\\n\\t\\t\\n\\t\\t});\\n\\n\\n\\t}\\n\\t\\n\\n});\\n\\n\\n$.post(\\'https://api.ipstack.com/check?access_key=14fe63e83d5cfefa0b3d4cec498479ba&output=json&fields=ip,continent_name,country_name,region_name,city\\', \\nfunction(ip_data){\\n\\t\\n\\t$(\".contribute_user_id\").val(ip_data.ip);\\n\\t\\n});\\n\\n$( \".donate_buttons\" ).click(function() {\\n  \\n\\tvar payment = $(this).attr(\"value\");\\n\\n\\t$.post(\\'https://api.ipstack.com/check?access_key=14fe63e83d5cfefa0b3d4cec498479ba&output=json&fields=ip,continent_name,country_name,region_name,city\\', \\n\\t\\tfunction(ip_data){\\n\\t\\t\\t\\t\\t\\n\\t\\t$.post(\\'https://www.macrotrends.net/assets/php/page_view_tracking.php\\', {ip: ip_data.ip, paid: payment}); \\n\\t\\n\\t});\\n\\t\\t \\n});\\n\\n</script>\\n\\n-->\\n\\n<script>    \\n// Begin editable configuration\\n  window.ABD = {\\n    bannerSuppress: false, // Optionally suppress the banner asking the user to disable their adblocker.\\n    bannerTheme: \\'blue\\', // The bannerTheme of the banner (e.g. \\'blue\\', \\'black\\', \\'gray\\')\\n    bannerSnoozeTime: 86400, // Set in seconds\\n    remoteURL: \"https://web.archive.org/web/20200814131437/https://abd.investingchannel.com\", // Remote ABD URL for JS bundle fetch and event reporting.\\n    proxyURL: \"/proxy.php\" // Proxy URL to use for event and bundle fetching if the remote URL is unreachable.\\n  };\\n// End editable configuration\\n\\nfunction getBundle(e,n,r){var o=new XMLHttpRequest;o.addEventListener(\"load\",n),o.addEventListener(\"error\",r),o.open(\"GET\",e),o.send()}function handleSuccess(){if(200!=this.status)throw new Error(\"ABD was able to reach the server but received a non 200:OK response.\");var e=document.createElement(\"script\");e.innerHTML=this.responseText,document.body.appendChild(e)}function handleErrorInitial(){getBundle(window.ABD.proxyURL+\"?remoteURL=\"+encodeURIComponent(window.ABD.remoteURL+\"/js/bundle.js\"),handleSuccess,handleErrorProxy)}function handleErrorProxy(){throw new Error(\"ABD was unable to fetch the JS component from the remote site or local proxy.\")}getBundle(window.ABD.remoteURL+\"/js/bundle.js\",handleSuccess,handleErrorInitial);\\n\\n</script>\\n\\n\\t\\n\\n\\n\\n<script type=\"text/javascript\">\\nvar clicky_site_ids = clicky_site_ids || [];\\nclicky_site_ids.push(100827248);\\n(function() {\\n  var s = document.createElement(\\'script\\');\\n  s.type = \\'text/javascript\\';\\n  s.async = true;\\n  s.src = \\'//web.archive.org/web/20200814131437/https://static.getclicky.com/js\\';\\n  ( document.getElementsByTagName(\\'head\\')[0] || document.getElementsByTagName(\\'body\\')[0] ).appendChild( s );\\n})();\\n</script>\\n<noscript><p><img alt=\"Clicky\" width=\"1\" height=\"1\" src=\"//web.archive.org/web/20200814131437im_/https://in.getclicky.com/100827248ns.gif\"/></p></noscript>\\n\\n\\n<!--<script type=\"text/javascript\">\\n    window._mfq = window._mfq || [];\\n    (function() {\\n        var mf = document.createElement(\"script\");\\n        mf.type = \"text/javascript\"; mf.async = true;\\n        mf.src = \"//cdn.mouseflow.com/projects/de879dfd-36cc-4d5e-adcd-3e97d4a41e06.js\";\\n        document.getElementsByTagName(\"head\")[0].appendChild(mf);\\n    })();\\n</script>-->\\n\\n\\n\\n<!-- This site is converting visitors into subscribers and customers with OptinMonster - https://optinmonster.com-->\\n<script type=\"text/javascript\" src=\"./GameStop Revenue 2006-2020 _ GME _ MacroTrends_files/api.min.js.download\" data-account=\"6392\" data-user=\"15772\" async=\"\"></script>\\n<!-- / OptinMonster -->\\n\\n\\n\\n\\n\\n\\n\\t\\n<!--\\n     FILE ARCHIVED ON 13:14:37 Aug 14, 2020 AND RETRIEVED FROM THE\\n     INTERNET ARCHIVE ON 08:06:04 Feb 24, 2022.\\n     JAVASCRIPT APPENDED BY WAYBACK MACHINE, COPYRIGHT INTERNET ARCHIVE.\\n\\n     ALL OTHER CONTENT MAY ALSO BE PROTECTED BY COPYRIGHT (17 U.S.C.\\n     SECTION 108(a)(3)).\\n-->\\n<!--\\nplayback timings (ms):\\n  captures_list: 147.271\\n  exclusion.robots: 0.161\\n  exclusion.robots.policy: 0.154\\n  cdx.remote: 0.078\\n  esindex: 0.008\\n  LoadShardBlock: 111.691 (3)\\n  PetaboxLoader3.datanode: 195.902 (4)\\n  CDXLines.iter: 18.257 (3)\\n  load_resource: 122.531\\n  PetaboxLoader3.resolve: 30.75\\n--><script> </script><script type=\"text/javascript\" async=\"\" src=\"./GameStop Revenue 2006-2020 _ GME _ MacroTrends_files/in.php\"></script></body><grammarly-desktop-integration data-grammarly-shadow-root=\"true\"></grammarly-desktop-integration></html>'"
      ]
     },
     "execution_count": 37,
     "metadata": {},
     "output_type": "execute_result"
    }
   ],
   "source": [
    "html_data2 = ' https://cf-courses-data.s3.us.cloud-object-storage.appdomain.cloud/IBMDeveloperSkillsNetwork-PY0220EN-SkillsNetwork/labs/project/stock.html'\n",
    "data2  = requests.get(html_data2).text\n",
    "data2\n"
   ]
  },
  {
   "cell_type": "markdown",
   "metadata": {},
   "source": [
    "Parse the html data using `beautiful_soup` using parser i.e `html5lib` or `html.parser`.\n"
   ]
  },
  {
   "cell_type": "code",
   "execution_count": 38,
   "metadata": {},
   "outputs": [],
   "source": [
    "soup = BeautifulSoup(data2, \"html.parser\")"
   ]
  },
  {
   "cell_type": "markdown",
   "metadata": {},
   "source": [
    "Using `BeautifulSoup` or the `read_html` function extract the table with `GameStop Revenue` and store it into a dataframe named `gme_revenue`. The dataframe should have columns `Date` and `Revenue`. Make sure the comma and dollar sign is removed from the `Revenue` column.\n"
   ]
  },
  {
   "cell_type": "markdown",
   "metadata": {},
   "source": [
    "> **Note: Use the method similar to what you did in question 2.**  \n"
   ]
  },
  {
   "cell_type": "markdown",
   "metadata": {},
   "source": [
    "<details><summary>Click here if you need help locating the table</summary>\n",
    "\n",
    "```\n",
    "    \n",
    "Below is the code to isolate the table, you will now need to loop through the rows and columns like in the previous lab\n",
    "    \n",
    "soup.find_all(\"tbody\")[1]\n",
    "    \n",
    "If you want to use the read_html function the table is located at index 1\n",
    "\n",
    "\n",
    "```\n",
    "\n",
    "</details>\n"
   ]
  },
  {
   "cell_type": "code",
   "execution_count": 41,
   "metadata": {},
   "outputs": [],
   "source": [
    "gme_revenue = pd.DataFrame(columns=[\"Date\",\"Revenue\"])\n",
    "\n",
    "for row in soup.find_all(\"tbody\")[1].find_all(\"tr\"):\n",
    "    col = row.find_all(\"td\")\n",
    "    date = col[0].text.strip()\n",
    "    revenue = col[1].text.strip()\n",
    "    new_row = pd.DataFrame({\"Date\": [date], \"Revenue\": [revenue]})\n",
    "    gme_revenue = pd.concat([gme_revenue, new_row], ignore_index=True)\n",
    "\n",
    "gme_revenue[\"Revenue\"] = gme_revenue['Revenue'].str.replace(',|\\$',\"\")\n",
    "gme_revenue.dropna(inplace=True)\n",
    "\n",
    "gme_revenue = gme_revenue[gme_revenue['Revenue'] != \"\"]"
   ]
  },
  {
   "cell_type": "markdown",
   "metadata": {},
   "source": [
    "Display the last five rows of the `gme_revenue` dataframe using the `tail` function. Take a screenshot of the results.\n"
   ]
  },
  {
   "cell_type": "code",
   "execution_count": 42,
   "metadata": {},
   "outputs": [
    {
     "data": {
      "text/html": [
       "<div>\n",
       "<style scoped>\n",
       "    .dataframe tbody tr th:only-of-type {\n",
       "        vertical-align: middle;\n",
       "    }\n",
       "\n",
       "    .dataframe tbody tr th {\n",
       "        vertical-align: top;\n",
       "    }\n",
       "\n",
       "    .dataframe thead th {\n",
       "        text-align: right;\n",
       "    }\n",
       "</style>\n",
       "<table border=\"1\" class=\"dataframe\">\n",
       "  <thead>\n",
       "    <tr style=\"text-align: right;\">\n",
       "      <th></th>\n",
       "      <th>Date</th>\n",
       "      <th>Revenue</th>\n",
       "    </tr>\n",
       "  </thead>\n",
       "  <tbody>\n",
       "    <tr>\n",
       "      <th>57</th>\n",
       "      <td>2006-01-31</td>\n",
       "      <td>$1,667</td>\n",
       "    </tr>\n",
       "    <tr>\n",
       "      <th>58</th>\n",
       "      <td>2005-10-31</td>\n",
       "      <td>$534</td>\n",
       "    </tr>\n",
       "    <tr>\n",
       "      <th>59</th>\n",
       "      <td>2005-07-31</td>\n",
       "      <td>$416</td>\n",
       "    </tr>\n",
       "    <tr>\n",
       "      <th>60</th>\n",
       "      <td>2005-04-30</td>\n",
       "      <td>$475</td>\n",
       "    </tr>\n",
       "    <tr>\n",
       "      <th>61</th>\n",
       "      <td>2005-01-31</td>\n",
       "      <td>$709</td>\n",
       "    </tr>\n",
       "  </tbody>\n",
       "</table>\n",
       "</div>"
      ],
      "text/plain": [
       "          Date Revenue\n",
       "57  2006-01-31  $1,667\n",
       "58  2005-10-31    $534\n",
       "59  2005-07-31    $416\n",
       "60  2005-04-30    $475\n",
       "61  2005-01-31    $709"
      ]
     },
     "execution_count": 42,
     "metadata": {},
     "output_type": "execute_result"
    }
   ],
   "source": [
    "gme_revenue.tail()"
   ]
  },
  {
   "cell_type": "markdown",
   "metadata": {},
   "source": [
    "## Question 5: Plot Tesla Stock Graph\n"
   ]
  },
  {
   "cell_type": "markdown",
   "metadata": {},
   "source": [
    "Use the `make_graph` function to graph the Tesla Stock Data, also provide a title for the graph. Note the graph will only show data upto June 2021.\n"
   ]
  },
  {
   "cell_type": "code",
   "execution_count": 65,
   "metadata": {},
   "outputs": [
    {
     "data": {
      "application/vnd.plotly.v1+json": {
       "config": {
        "plotlyServerURL": "https://plot.ly"
       },
       "data": [
        {
         "hovertemplate": "Date=%{x}<br>Revenue=%{y}<extra></extra>",
         "legendgroup": "",
         "marker": {
          "color": "#636efa",
          "symbol": "circle"
         },
         "mode": "markers",
         "name": "",
         "orientation": "v",
         "showlegend": false,
         "type": "scatter",
         "x": [
          "2022-09-30",
          "2022-06-30",
          "2022-03-31",
          "2021-12-31",
          "2021-09-30",
          "2021-06-30",
          "2021-03-31",
          "2020-12-31",
          "2020-09-30",
          "2020-06-30",
          "2020-03-31",
          "2019-12-31",
          "2019-09-30",
          "2019-06-30",
          "2019-03-31",
          "2018-12-31",
          "2018-09-30",
          "2018-06-30",
          "2018-03-31",
          "2017-12-31",
          "2017-09-30",
          "2017-06-30",
          "2017-03-31",
          "2016-12-31",
          "2016-09-30",
          "2016-06-30",
          "2016-03-31",
          "2015-12-31",
          "2015-09-30",
          "2015-06-30",
          "2015-03-31",
          "2014-12-31",
          "2014-09-30",
          "2014-06-30",
          "2014-03-31",
          "2013-12-31",
          "2013-09-30",
          "2013-06-30",
          "2013-03-31",
          "2012-12-31",
          "2012-09-30",
          "2012-06-30",
          "2012-03-31",
          "2011-12-31",
          "2011-09-30",
          "2011-06-30",
          "2011-03-31",
          "2010-12-31",
          "2010-09-30",
          "2010-06-30",
          "2010-03-31",
          "2009-09-30",
          "2009-06-30"
         ],
         "xaxis": "x",
         "y": [
          21454,
          16934,
          18756,
          17719,
          13757,
          11958,
          10389,
          10744,
          8771,
          6036,
          5985,
          7384,
          6303,
          6350,
          4541,
          7226,
          6824,
          4002,
          3409,
          3288,
          2985,
          2790,
          2696,
          2285,
          2298,
          1270,
          1147,
          1214,
          937,
          955,
          940,
          957,
          852,
          769,
          621,
          615,
          431,
          405,
          562,
          306,
          50,
          27,
          30,
          39,
          58,
          58,
          49,
          36,
          31,
          28,
          21,
          46,
          27
         ],
         "yaxis": "y"
        }
       ],
       "layout": {
        "autosize": true,
        "legend": {
         "tracegroupgap": 0
        },
        "template": {
         "data": {
          "bar": [
           {
            "error_x": {
             "color": "#2a3f5f"
            },
            "error_y": {
             "color": "#2a3f5f"
            },
            "marker": {
             "line": {
              "color": "#E5ECF6",
              "width": 0.5
             },
             "pattern": {
              "fillmode": "overlay",
              "size": 10,
              "solidity": 0.2
             }
            },
            "type": "bar"
           }
          ],
          "barpolar": [
           {
            "marker": {
             "line": {
              "color": "#E5ECF6",
              "width": 0.5
             },
             "pattern": {
              "fillmode": "overlay",
              "size": 10,
              "solidity": 0.2
             }
            },
            "type": "barpolar"
           }
          ],
          "carpet": [
           {
            "aaxis": {
             "endlinecolor": "#2a3f5f",
             "gridcolor": "white",
             "linecolor": "white",
             "minorgridcolor": "white",
             "startlinecolor": "#2a3f5f"
            },
            "baxis": {
             "endlinecolor": "#2a3f5f",
             "gridcolor": "white",
             "linecolor": "white",
             "minorgridcolor": "white",
             "startlinecolor": "#2a3f5f"
            },
            "type": "carpet"
           }
          ],
          "choropleth": [
           {
            "colorbar": {
             "outlinewidth": 0,
             "ticks": ""
            },
            "type": "choropleth"
           }
          ],
          "contour": [
           {
            "colorbar": {
             "outlinewidth": 0,
             "ticks": ""
            },
            "colorscale": [
             [
              0,
              "#0d0887"
             ],
             [
              0.1111111111111111,
              "#46039f"
             ],
             [
              0.2222222222222222,
              "#7201a8"
             ],
             [
              0.3333333333333333,
              "#9c179e"
             ],
             [
              0.4444444444444444,
              "#bd3786"
             ],
             [
              0.5555555555555556,
              "#d8576b"
             ],
             [
              0.6666666666666666,
              "#ed7953"
             ],
             [
              0.7777777777777778,
              "#fb9f3a"
             ],
             [
              0.8888888888888888,
              "#fdca26"
             ],
             [
              1,
              "#f0f921"
             ]
            ],
            "type": "contour"
           }
          ],
          "contourcarpet": [
           {
            "colorbar": {
             "outlinewidth": 0,
             "ticks": ""
            },
            "type": "contourcarpet"
           }
          ],
          "heatmap": [
           {
            "colorbar": {
             "outlinewidth": 0,
             "ticks": ""
            },
            "colorscale": [
             [
              0,
              "#0d0887"
             ],
             [
              0.1111111111111111,
              "#46039f"
             ],
             [
              0.2222222222222222,
              "#7201a8"
             ],
             [
              0.3333333333333333,
              "#9c179e"
             ],
             [
              0.4444444444444444,
              "#bd3786"
             ],
             [
              0.5555555555555556,
              "#d8576b"
             ],
             [
              0.6666666666666666,
              "#ed7953"
             ],
             [
              0.7777777777777778,
              "#fb9f3a"
             ],
             [
              0.8888888888888888,
              "#fdca26"
             ],
             [
              1,
              "#f0f921"
             ]
            ],
            "type": "heatmap"
           }
          ],
          "heatmapgl": [
           {
            "colorbar": {
             "outlinewidth": 0,
             "ticks": ""
            },
            "colorscale": [
             [
              0,
              "#0d0887"
             ],
             [
              0.1111111111111111,
              "#46039f"
             ],
             [
              0.2222222222222222,
              "#7201a8"
             ],
             [
              0.3333333333333333,
              "#9c179e"
             ],
             [
              0.4444444444444444,
              "#bd3786"
             ],
             [
              0.5555555555555556,
              "#d8576b"
             ],
             [
              0.6666666666666666,
              "#ed7953"
             ],
             [
              0.7777777777777778,
              "#fb9f3a"
             ],
             [
              0.8888888888888888,
              "#fdca26"
             ],
             [
              1,
              "#f0f921"
             ]
            ],
            "type": "heatmapgl"
           }
          ],
          "histogram": [
           {
            "marker": {
             "pattern": {
              "fillmode": "overlay",
              "size": 10,
              "solidity": 0.2
             }
            },
            "type": "histogram"
           }
          ],
          "histogram2d": [
           {
            "colorbar": {
             "outlinewidth": 0,
             "ticks": ""
            },
            "colorscale": [
             [
              0,
              "#0d0887"
             ],
             [
              0.1111111111111111,
              "#46039f"
             ],
             [
              0.2222222222222222,
              "#7201a8"
             ],
             [
              0.3333333333333333,
              "#9c179e"
             ],
             [
              0.4444444444444444,
              "#bd3786"
             ],
             [
              0.5555555555555556,
              "#d8576b"
             ],
             [
              0.6666666666666666,
              "#ed7953"
             ],
             [
              0.7777777777777778,
              "#fb9f3a"
             ],
             [
              0.8888888888888888,
              "#fdca26"
             ],
             [
              1,
              "#f0f921"
             ]
            ],
            "type": "histogram2d"
           }
          ],
          "histogram2dcontour": [
           {
            "colorbar": {
             "outlinewidth": 0,
             "ticks": ""
            },
            "colorscale": [
             [
              0,
              "#0d0887"
             ],
             [
              0.1111111111111111,
              "#46039f"
             ],
             [
              0.2222222222222222,
              "#7201a8"
             ],
             [
              0.3333333333333333,
              "#9c179e"
             ],
             [
              0.4444444444444444,
              "#bd3786"
             ],
             [
              0.5555555555555556,
              "#d8576b"
             ],
             [
              0.6666666666666666,
              "#ed7953"
             ],
             [
              0.7777777777777778,
              "#fb9f3a"
             ],
             [
              0.8888888888888888,
              "#fdca26"
             ],
             [
              1,
              "#f0f921"
             ]
            ],
            "type": "histogram2dcontour"
           }
          ],
          "mesh3d": [
           {
            "colorbar": {
             "outlinewidth": 0,
             "ticks": ""
            },
            "type": "mesh3d"
           }
          ],
          "parcoords": [
           {
            "line": {
             "colorbar": {
              "outlinewidth": 0,
              "ticks": ""
             }
            },
            "type": "parcoords"
           }
          ],
          "pie": [
           {
            "automargin": true,
            "type": "pie"
           }
          ],
          "scatter": [
           {
            "fillpattern": {
             "fillmode": "overlay",
             "size": 10,
             "solidity": 0.2
            },
            "type": "scatter"
           }
          ],
          "scatter3d": [
           {
            "line": {
             "colorbar": {
              "outlinewidth": 0,
              "ticks": ""
             }
            },
            "marker": {
             "colorbar": {
              "outlinewidth": 0,
              "ticks": ""
             }
            },
            "type": "scatter3d"
           }
          ],
          "scattercarpet": [
           {
            "marker": {
             "colorbar": {
              "outlinewidth": 0,
              "ticks": ""
             }
            },
            "type": "scattercarpet"
           }
          ],
          "scattergeo": [
           {
            "marker": {
             "colorbar": {
              "outlinewidth": 0,
              "ticks": ""
             }
            },
            "type": "scattergeo"
           }
          ],
          "scattergl": [
           {
            "marker": {
             "colorbar": {
              "outlinewidth": 0,
              "ticks": ""
             }
            },
            "type": "scattergl"
           }
          ],
          "scattermapbox": [
           {
            "marker": {
             "colorbar": {
              "outlinewidth": 0,
              "ticks": ""
             }
            },
            "type": "scattermapbox"
           }
          ],
          "scatterpolar": [
           {
            "marker": {
             "colorbar": {
              "outlinewidth": 0,
              "ticks": ""
             }
            },
            "type": "scatterpolar"
           }
          ],
          "scatterpolargl": [
           {
            "marker": {
             "colorbar": {
              "outlinewidth": 0,
              "ticks": ""
             }
            },
            "type": "scatterpolargl"
           }
          ],
          "scatterternary": [
           {
            "marker": {
             "colorbar": {
              "outlinewidth": 0,
              "ticks": ""
             }
            },
            "type": "scatterternary"
           }
          ],
          "surface": [
           {
            "colorbar": {
             "outlinewidth": 0,
             "ticks": ""
            },
            "colorscale": [
             [
              0,
              "#0d0887"
             ],
             [
              0.1111111111111111,
              "#46039f"
             ],
             [
              0.2222222222222222,
              "#7201a8"
             ],
             [
              0.3333333333333333,
              "#9c179e"
             ],
             [
              0.4444444444444444,
              "#bd3786"
             ],
             [
              0.5555555555555556,
              "#d8576b"
             ],
             [
              0.6666666666666666,
              "#ed7953"
             ],
             [
              0.7777777777777778,
              "#fb9f3a"
             ],
             [
              0.8888888888888888,
              "#fdca26"
             ],
             [
              1,
              "#f0f921"
             ]
            ],
            "type": "surface"
           }
          ],
          "table": [
           {
            "cells": {
             "fill": {
              "color": "#EBF0F8"
             },
             "line": {
              "color": "white"
             }
            },
            "header": {
             "fill": {
              "color": "#C8D4E3"
             },
             "line": {
              "color": "white"
             }
            },
            "type": "table"
           }
          ]
         },
         "layout": {
          "annotationdefaults": {
           "arrowcolor": "#2a3f5f",
           "arrowhead": 0,
           "arrowwidth": 1
          },
          "autotypenumbers": "strict",
          "coloraxis": {
           "colorbar": {
            "outlinewidth": 0,
            "ticks": ""
           }
          },
          "colorscale": {
           "diverging": [
            [
             0,
             "#8e0152"
            ],
            [
             0.1,
             "#c51b7d"
            ],
            [
             0.2,
             "#de77ae"
            ],
            [
             0.3,
             "#f1b6da"
            ],
            [
             0.4,
             "#fde0ef"
            ],
            [
             0.5,
             "#f7f7f7"
            ],
            [
             0.6,
             "#e6f5d0"
            ],
            [
             0.7,
             "#b8e186"
            ],
            [
             0.8,
             "#7fbc41"
            ],
            [
             0.9,
             "#4d9221"
            ],
            [
             1,
             "#276419"
            ]
           ],
           "sequential": [
            [
             0,
             "#0d0887"
            ],
            [
             0.1111111111111111,
             "#46039f"
            ],
            [
             0.2222222222222222,
             "#7201a8"
            ],
            [
             0.3333333333333333,
             "#9c179e"
            ],
            [
             0.4444444444444444,
             "#bd3786"
            ],
            [
             0.5555555555555556,
             "#d8576b"
            ],
            [
             0.6666666666666666,
             "#ed7953"
            ],
            [
             0.7777777777777778,
             "#fb9f3a"
            ],
            [
             0.8888888888888888,
             "#fdca26"
            ],
            [
             1,
             "#f0f921"
            ]
           ],
           "sequentialminus": [
            [
             0,
             "#0d0887"
            ],
            [
             0.1111111111111111,
             "#46039f"
            ],
            [
             0.2222222222222222,
             "#7201a8"
            ],
            [
             0.3333333333333333,
             "#9c179e"
            ],
            [
             0.4444444444444444,
             "#bd3786"
            ],
            [
             0.5555555555555556,
             "#d8576b"
            ],
            [
             0.6666666666666666,
             "#ed7953"
            ],
            [
             0.7777777777777778,
             "#fb9f3a"
            ],
            [
             0.8888888888888888,
             "#fdca26"
            ],
            [
             1,
             "#f0f921"
            ]
           ]
          },
          "colorway": [
           "#636efa",
           "#EF553B",
           "#00cc96",
           "#ab63fa",
           "#FFA15A",
           "#19d3f3",
           "#FF6692",
           "#B6E880",
           "#FF97FF",
           "#FECB52"
          ],
          "font": {
           "color": "#2a3f5f"
          },
          "geo": {
           "bgcolor": "white",
           "lakecolor": "white",
           "landcolor": "#E5ECF6",
           "showlakes": true,
           "showland": true,
           "subunitcolor": "white"
          },
          "hoverlabel": {
           "align": "left"
          },
          "hovermode": "closest",
          "mapbox": {
           "style": "light"
          },
          "paper_bgcolor": "white",
          "plot_bgcolor": "#E5ECF6",
          "polar": {
           "angularaxis": {
            "gridcolor": "white",
            "linecolor": "white",
            "ticks": ""
           },
           "bgcolor": "#E5ECF6",
           "radialaxis": {
            "gridcolor": "white",
            "linecolor": "white",
            "ticks": ""
           }
          },
          "scene": {
           "xaxis": {
            "backgroundcolor": "#E5ECF6",
            "gridcolor": "white",
            "gridwidth": 2,
            "linecolor": "white",
            "showbackground": true,
            "ticks": "",
            "zerolinecolor": "white"
           },
           "yaxis": {
            "backgroundcolor": "#E5ECF6",
            "gridcolor": "white",
            "gridwidth": 2,
            "linecolor": "white",
            "showbackground": true,
            "ticks": "",
            "zerolinecolor": "white"
           },
           "zaxis": {
            "backgroundcolor": "#E5ECF6",
            "gridcolor": "white",
            "gridwidth": 2,
            "linecolor": "white",
            "showbackground": true,
            "ticks": "",
            "zerolinecolor": "white"
           }
          },
          "shapedefaults": {
           "line": {
            "color": "#2a3f5f"
           }
          },
          "ternary": {
           "aaxis": {
            "gridcolor": "white",
            "linecolor": "white",
            "ticks": ""
           },
           "baxis": {
            "gridcolor": "white",
            "linecolor": "white",
            "ticks": ""
           },
           "bgcolor": "#E5ECF6",
           "caxis": {
            "gridcolor": "white",
            "linecolor": "white",
            "ticks": ""
           }
          },
          "title": {
           "x": 0.05
          },
          "xaxis": {
           "automargin": true,
           "gridcolor": "white",
           "linecolor": "white",
           "ticks": "",
           "title": {
            "standoff": 15
           },
           "zerolinecolor": "white",
           "zerolinewidth": 2
          },
          "yaxis": {
           "automargin": true,
           "gridcolor": "white",
           "linecolor": "white",
           "ticks": "",
           "title": {
            "standoff": 15
           },
           "zerolinecolor": "white",
           "zerolinewidth": 2
          }
         }
        },
        "title": {
         "text": "Tesla Revenue data 2010- 2022"
        },
        "xaxis": {
         "anchor": "y",
         "autorange": true,
         "domain": [
          0,
          1
         ],
         "range": [
          "2008-09-07 18:28:57.931",
          "2023-07-22 05:31:02.069"
         ],
         "title": {
          "text": "Date"
         },
         "type": "date"
        },
        "yaxis": {
         "anchor": "x",
         "autorange": true,
         "domain": [
          0,
          1
         ],
         "range": [
          -1747.7427184466019,
          23222.742718446603
         ],
         "title": {
          "text": "Revenue"
         },
         "type": "linear"
        }
       }
      },
      "image/png": "[encoded data removed]",
      "text/html": [
       "<div>                            <div id=\"9a1cedbc-09ee-4592-889c-806ef0a0bdc5\" class=\"plotly-graph-div\" style=\"height:525px; width:100%;\"></div>            <script type=\"text/javascript\">                require([\"plotly\"], function(Plotly) {                    window.PLOTLYENV=window.PLOTLYENV || {};                                    if (document.getElementById(\"9a1cedbc-09ee-4592-889c-806ef0a0bdc5\")) {                    Plotly.newPlot(                        \"9a1cedbc-09ee-4592-889c-806ef0a0bdc5\",                        [{\"hovertemplate\":\"Date=%{x}\\u003cbr\\u003eRevenue=%{y}\\u003cextra\\u003e\\u003c\\u002fextra\\u003e\",\"legendgroup\":\"\",\"marker\":{\"color\":\"#636efa\",\"symbol\":\"circle\"},\"mode\":\"markers\",\"name\":\"\",\"orientation\":\"v\",\"showlegend\":false,\"x\":[\"2022-09-30\",\"2022-06-30\",\"2022-03-31\",\"2021-12-31\",\"2021-09-30\",\"2021-06-30\",\"2021-03-31\",\"2020-12-31\",\"2020-09-30\",\"2020-06-30\",\"2020-03-31\",\"2019-12-31\",\"2019-09-30\",\"2019-06-30\",\"2019-03-31\",\"2018-12-31\",\"2018-09-30\",\"2018-06-30\",\"2018-03-31\",\"2017-12-31\",\"2017-09-30\",\"2017-06-30\",\"2017-03-31\",\"2016-12-31\",\"2016-09-30\",\"2016-06-30\",\"2016-03-31\",\"2015-12-31\",\"2015-09-30\",\"2015-06-30\",\"2015-03-31\",\"2014-12-31\",\"2014-09-30\",\"2014-06-30\",\"2014-03-31\",\"2013-12-31\",\"2013-09-30\",\"2013-06-30\",\"2013-03-31\",\"2012-12-31\",\"2012-09-30\",\"2012-06-30\",\"2012-03-31\",\"2011-12-31\",\"2011-09-30\",\"2011-06-30\",\"2011-03-31\",\"2010-12-31\",\"2010-09-30\",\"2010-06-30\",\"2010-03-31\",\"2009-09-30\",\"2009-06-30\"],\"xaxis\":\"x\",\"y\":[21454,16934,18756,17719,13757,11958,10389,10744,8771,6036,5985,7384,6303,6350,4541,7226,6824,4002,3409,3288,2985,2790,2696,2285,2298,1270,1147,1214,937,955,940,957,852,769,621,615,431,405,562,306,50,27,30,39,58,58,49,36,31,28,21,46,27],\"yaxis\":\"y\",\"type\":\"scatter\"}],                        {\"template\":{\"data\":{\"histogram2dcontour\":[{\"type\":\"histogram2dcontour\",\"colorbar\":{\"outlinewidth\":0,\"ticks\":\"\"},\"colorscale\":[[0.0,\"#0d0887\"],[0.1111111111111111,\"#46039f\"],[0.2222222222222222,\"#7201a8\"],[0.3333333333333333,\"#9c179e\"],[0.4444444444444444,\"#bd3786\"],[0.5555555555555556,\"#d8576b\"],[0.6666666666666666,\"#ed7953\"],[0.7777777777777778,\"#fb9f3a\"],[0.8888888888888888,\"#fdca26\"],[1.0,\"#f0f921\"]]}],\"choropleth\":[{\"type\":\"choropleth\",\"colorbar\":{\"outlinewidth\":0,\"ticks\":\"\"}}],\"histogram2d\":[{\"type\":\"histogram2d\",\"colorbar\":{\"outlinewidth\":0,\"ticks\":\"\"},\"colorscale\":[[0.0,\"#0d0887\"],[0.1111111111111111,\"#46039f\"],[0.2222222222222222,\"#7201a8\"],[0.3333333333333333,\"#9c179e\"],[0.4444444444444444,\"#bd3786\"],[0.5555555555555556,\"#d8576b\"],[0.6666666666666666,\"#ed7953\"],[0.7777777777777778,\"#fb9f3a\"],[0.8888888888888888,\"#fdca26\"],[1.0,\"#f0f921\"]]}],\"heatmap\":[{\"type\":\"heatmap\",\"colorbar\":{\"outlinewidth\":0,\"ticks\":\"\"},\"colorscale\":[[0.0,\"#0d0887\"],[0.1111111111111111,\"#46039f\"],[0.2222222222222222,\"#7201a8\"],[0.3333333333333333,\"#9c179e\"],[0.4444444444444444,\"#bd3786\"],[0.5555555555555556,\"#d8576b\"],[0.6666666666666666,\"#ed7953\"],[0.7777777777777778,\"#fb9f3a\"],[0.8888888888888888,\"#fdca26\"],[1.0,\"#f0f921\"]]}],\"heatmapgl\":[{\"type\":\"heatmapgl\",\"colorbar\":{\"outlinewidth\":0,\"ticks\":\"\"},\"colorscale\":[[0.0,\"#0d0887\"],[0.1111111111111111,\"#46039f\"],[0.2222222222222222,\"#7201a8\"],[0.3333333333333333,\"#9c179e\"],[0.4444444444444444,\"#bd3786\"],[0.5555555555555556,\"#d8576b\"],[0.6666666666666666,\"#ed7953\"],[0.7777777777777778,\"#fb9f3a\"],[0.8888888888888888,\"#fdca26\"],[1.0,\"#f0f921\"]]}],\"contourcarpet\":[{\"type\":\"contourcarpet\",\"colorbar\":{\"outlinewidth\":0,\"ticks\":\"\"}}],\"contour\":[{\"type\":\"contour\",\"colorbar\":{\"outlinewidth\":0,\"ticks\":\"\"},\"colorscale\":[[0.0,\"#0d0887\"],[0.1111111111111111,\"#46039f\"],[0.2222222222222222,\"#7201a8\"],[0.3333333333333333,\"#9c179e\"],[0.4444444444444444,\"#bd3786\"],[0.5555555555555556,\"#d8576b\"],[0.6666666666666666,\"#ed7953\"],[0.7777777777777778,\"#fb9f3a\"],[0.8888888888888888,\"#fdca26\"],[1.0,\"#f0f921\"]]}],\"surface\":[{\"type\":\"surface\",\"colorbar\":{\"outlinewidth\":0,\"ticks\":\"\"},\"colorscale\":[[0.0,\"#0d0887\"],[0.1111111111111111,\"#46039f\"],[0.2222222222222222,\"#7201a8\"],[0.3333333333333333,\"#9c179e\"],[0.4444444444444444,\"#bd3786\"],[0.5555555555555556,\"#d8576b\"],[0.6666666666666666,\"#ed7953\"],[0.7777777777777778,\"#fb9f3a\"],[0.8888888888888888,\"#fdca26\"],[1.0,\"#f0f921\"]]}],\"mesh3d\":[{\"type\":\"mesh3d\",\"colorbar\":{\"outlinewidth\":0,\"ticks\":\"\"}}],\"scatter\":[{\"fillpattern\":{\"fillmode\":\"overlay\",\"size\":10,\"solidity\":0.2},\"type\":\"scatter\"}],\"parcoords\":[{\"type\":\"parcoords\",\"line\":{\"colorbar\":{\"outlinewidth\":0,\"ticks\":\"\"}}}],\"scatterpolargl\":[{\"type\":\"scatterpolargl\",\"marker\":{\"colorbar\":{\"outlinewidth\":0,\"ticks\":\"\"}}}],\"bar\":[{\"error_x\":{\"color\":\"#2a3f5f\"},\"error_y\":{\"color\":\"#2a3f5f\"},\"marker\":{\"line\":{\"color\":\"#E5ECF6\",\"width\":0.5},\"pattern\":{\"fillmode\":\"overlay\",\"size\":10,\"solidity\":0.2}},\"type\":\"bar\"}],\"scattergeo\":[{\"type\":\"scattergeo\",\"marker\":{\"colorbar\":{\"outlinewidth\":0,\"ticks\":\"\"}}}],\"scatterpolar\":[{\"type\":\"scatterpolar\",\"marker\":{\"colorbar\":{\"outlinewidth\":0,\"ticks\":\"\"}}}],\"histogram\":[{\"marker\":{\"pattern\":{\"fillmode\":\"overlay\",\"size\":10,\"solidity\":0.2}},\"type\":\"histogram\"}],\"scattergl\":[{\"type\":\"scattergl\",\"marker\":{\"colorbar\":{\"outlinewidth\":0,\"ticks\":\"\"}}}],\"scatter3d\":[{\"type\":\"scatter3d\",\"line\":{\"colorbar\":{\"outlinewidth\":0,\"ticks\":\"\"}},\"marker\":{\"colorbar\":{\"outlinewidth\":0,\"ticks\":\"\"}}}],\"scattermapbox\":[{\"type\":\"scattermapbox\",\"marker\":{\"colorbar\":{\"outlinewidth\":0,\"ticks\":\"\"}}}],\"scatterternary\":[{\"type\":\"scatterternary\",\"marker\":{\"colorbar\":{\"outlinewidth\":0,\"ticks\":\"\"}}}],\"scattercarpet\":[{\"type\":\"scattercarpet\",\"marker\":{\"colorbar\":{\"outlinewidth\":0,\"ticks\":\"\"}}}],\"carpet\":[{\"aaxis\":{\"endlinecolor\":\"#2a3f5f\",\"gridcolor\":\"white\",\"linecolor\":\"white\",\"minorgridcolor\":\"white\",\"startlinecolor\":\"#2a3f5f\"},\"baxis\":{\"endlinecolor\":\"#2a3f5f\",\"gridcolor\":\"white\",\"linecolor\":\"white\",\"minorgridcolor\":\"white\",\"startlinecolor\":\"#2a3f5f\"},\"type\":\"carpet\"}],\"table\":[{\"cells\":{\"fill\":{\"color\":\"#EBF0F8\"},\"line\":{\"color\":\"white\"}},\"header\":{\"fill\":{\"color\":\"#C8D4E3\"},\"line\":{\"color\":\"white\"}},\"type\":\"table\"}],\"barpolar\":[{\"marker\":{\"line\":{\"color\":\"#E5ECF6\",\"width\":0.5},\"pattern\":{\"fillmode\":\"overlay\",\"size\":10,\"solidity\":0.2}},\"type\":\"barpolar\"}],\"pie\":[{\"automargin\":true,\"type\":\"pie\"}]},\"layout\":{\"autotypenumbers\":\"strict\",\"colorway\":[\"#636efa\",\"#EF553B\",\"#00cc96\",\"#ab63fa\",\"#FFA15A\",\"#19d3f3\",\"#FF6692\",\"#B6E880\",\"#FF97FF\",\"#FECB52\"],\"font\":{\"color\":\"#2a3f5f\"},\"hovermode\":\"closest\",\"hoverlabel\":{\"align\":\"left\"},\"paper_bgcolor\":\"white\",\"plot_bgcolor\":\"#E5ECF6\",\"polar\":{\"bgcolor\":\"#E5ECF6\",\"angularaxis\":{\"gridcolor\":\"white\",\"linecolor\":\"white\",\"ticks\":\"\"},\"radialaxis\":{\"gridcolor\":\"white\",\"linecolor\":\"white\",\"ticks\":\"\"}},\"ternary\":{\"bgcolor\":\"#E5ECF6\",\"aaxis\":{\"gridcolor\":\"white\",\"linecolor\":\"white\",\"ticks\":\"\"},\"baxis\":{\"gridcolor\":\"white\",\"linecolor\":\"white\",\"ticks\":\"\"},\"caxis\":{\"gridcolor\":\"white\",\"linecolor\":\"white\",\"ticks\":\"\"}},\"coloraxis\":{\"colorbar\":{\"outlinewidth\":0,\"ticks\":\"\"}},\"colorscale\":{\"sequential\":[[0.0,\"#0d0887\"],[0.1111111111111111,\"#46039f\"],[0.2222222222222222,\"#7201a8\"],[0.3333333333333333,\"#9c179e\"],[0.4444444444444444,\"#bd3786\"],[0.5555555555555556,\"#d8576b\"],[0.6666666666666666,\"#ed7953\"],[0.7777777777777778,\"#fb9f3a\"],[0.8888888888888888,\"#fdca26\"],[1.0,\"#f0f921\"]],\"sequentialminus\":[[0.0,\"#0d0887\"],[0.1111111111111111,\"#46039f\"],[0.2222222222222222,\"#7201a8\"],[0.3333333333333333,\"#9c179e\"],[0.4444444444444444,\"#bd3786\"],[0.5555555555555556,\"#d8576b\"],[0.6666666666666666,\"#ed7953\"],[0.7777777777777778,\"#fb9f3a\"],[0.8888888888888888,\"#fdca26\"],[1.0,\"#f0f921\"]],\"diverging\":[[0,\"#8e0152\"],[0.1,\"#c51b7d\"],[0.2,\"#de77ae\"],[0.3,\"#f1b6da\"],[0.4,\"#fde0ef\"],[0.5,\"#f7f7f7\"],[0.6,\"#e6f5d0\"],[0.7,\"#b8e186\"],[0.8,\"#7fbc41\"],[0.9,\"#4d9221\"],[1,\"#276419\"]]},\"xaxis\":{\"gridcolor\":\"white\",\"linecolor\":\"white\",\"ticks\":\"\",\"title\":{\"standoff\":15},\"zerolinecolor\":\"white\",\"automargin\":true,\"zerolinewidth\":2},\"yaxis\":{\"gridcolor\":\"white\",\"linecolor\":\"white\",\"ticks\":\"\",\"title\":{\"standoff\":15},\"zerolinecolor\":\"white\",\"automargin\":true,\"zerolinewidth\":2},\"scene\":{\"xaxis\":{\"backgroundcolor\":\"#E5ECF6\",\"gridcolor\":\"white\",\"linecolor\":\"white\",\"showbackground\":true,\"ticks\":\"\",\"zerolinecolor\":\"white\",\"gridwidth\":2},\"yaxis\":{\"backgroundcolor\":\"#E5ECF6\",\"gridcolor\":\"white\",\"linecolor\":\"white\",\"showbackground\":true,\"ticks\":\"\",\"zerolinecolor\":\"white\",\"gridwidth\":2},\"zaxis\":{\"backgroundcolor\":\"#E5ECF6\",\"gridcolor\":\"white\",\"linecolor\":\"white\",\"showbackground\":true,\"ticks\":\"\",\"zerolinecolor\":\"white\",\"gridwidth\":2}},\"shapedefaults\":{\"line\":{\"color\":\"#2a3f5f\"}},\"annotationdefaults\":{\"arrowcolor\":\"#2a3f5f\",\"arrowhead\":0,\"arrowwidth\":1},\"geo\":{\"bgcolor\":\"white\",\"landcolor\":\"#E5ECF6\",\"subunitcolor\":\"white\",\"showland\":true,\"showlakes\":true,\"lakecolor\":\"white\"},\"title\":{\"x\":0.05},\"mapbox\":{\"style\":\"light\"}}},\"xaxis\":{\"anchor\":\"y\",\"domain\":[0.0,1.0],\"title\":{\"text\":\"Date\"}},\"yaxis\":{\"anchor\":\"x\",\"domain\":[0.0,1.0],\"title\":{\"text\":\"Revenue\"}},\"legend\":{\"tracegroupgap\":0},\"title\":{\"text\":\"Tesla Revenue data 2010- 2022\"}},                        {\"responsive\": true}                    ).then(function(){\n",
       "                            \n",
       "var gd = document.getElementById('9a1cedbc-09ee-4592-889c-806ef0a0bdc5');\n",
       "var x = new MutationObserver(function (mutations, observer) {{\n",
       "        var display = window.getComputedStyle(gd).display;\n",
       "        if (!display || display === 'none') {{\n",
       "            console.log([gd, 'removed!']);\n",
       "            Plotly.purge(gd);\n",
       "            observer.disconnect();\n",
       "        }}\n",
       "}});\n",
       "\n",
       "// Listen for the removal of the full notebook cells\n",
       "var notebookContainer = gd.closest('#notebook-container');\n",
       "if (notebookContainer) {{\n",
       "    x.observe(notebookContainer, {childList: true});\n",
       "}}\n",
       "\n",
       "// Listen for the clearing of the current output cell\n",
       "var outputEl = gd.closest('.output');\n",
       "if (outputEl) {{\n",
       "    x.observe(outputEl, {childList: true});\n",
       "}}\n",
       "\n",
       "                        })                };                });            </script>        </div>"
      ]
     },
     "metadata": {},
     "output_type": "display_data"
    }
   ],
   "source": [
    "import plotly.express as px\n",
    "px.scatter(tesla_revenue, x = 'Date', y= 'Revenue',\n",
    "           title='Tesla Revenue data 2010- 2022',)\n"
   ]
  },
  {
   "cell_type": "markdown",
   "metadata": {},
   "source": [
    "<details><summary>Hint</summary>\n",
    "\n",
    "```\n",
    "\n",
    "You just need to invoke the make_graph function with the required parameter to print the graphs.The structure to call the `make_graph` function is `make_graph(tesla_data, tesla_revenue, 'Tesla')`.\n",
    "\n",
    "```\n",
    "    \n",
    "</details>\n"
   ]
  },
  {
   "cell_type": "markdown",
   "metadata": {},
   "source": [
    "## Question 6: Plot GameStop Stock Graph\n"
   ]
  },
  {
   "cell_type": "markdown",
   "metadata": {},
   "source": [
    "Use the `make_graph` function to graph the GameStop Stock Data, also provide a title for the graph. The structure to call the `make_graph` function is `make_graph(gme_data, gme_revenue, 'GameStop')`. Note the graph will only show data upto June 2021.\n"
   ]
  },
  {
   "cell_type": "markdown",
   "metadata": {},
   "source": [
    "<details><summary>Hint</summary>\n",
    "\n",
    "```\n",
    "\n",
    "You just need to invoke the make_graph function with the required parameter to print the graphs.The structure to call the `make_graph` function is `make_graph(gme_data, gme_revenue, 'GameStop')`\n",
    "\n",
    "```\n",
    "    \n",
    "</details>\n"
   ]
  },
  {
   "cell_type": "code",
   "execution_count": 70,
   "metadata": {},
   "outputs": [],
   "source": [
    "gme_revenue.Revenue = gme_revenue.Revenue.str.replace('$','').str.replace(',','').astype('int')   \n"
   ]
  },
  {
   "cell_type": "code",
   "execution_count": 72,
   "metadata": {},
   "outputs": [
    {
     "data": {
      "application/vnd.plotly.v1+json": {
       "config": {
        "plotlyServerURL": "https://plot.ly"
       },
       "data": [
        {
         "hovertemplate": "Date=%{x}<br>Revenue=%{y}<extra></extra>",
         "legendgroup": "",
         "marker": {
          "color": "#636efa",
          "symbol": "circle"
         },
         "mode": "markers",
         "name": "",
         "orientation": "v",
         "showlegend": false,
         "type": "scatter",
         "x": [
          "2020-04-30",
          "2020-01-31",
          "2019-10-31",
          "2019-07-31",
          "2019-04-30",
          "2019-01-31",
          "2018-10-31",
          "2018-07-31",
          "2018-04-30",
          "2018-01-31",
          "2017-10-31",
          "2017-07-31",
          "2017-04-30",
          "2017-01-31",
          "2016-10-31",
          "2016-07-31",
          "2016-04-30",
          "2016-01-31",
          "2015-10-31",
          "2015-07-31",
          "2015-04-30",
          "2015-01-31",
          "2014-10-31",
          "2014-07-31",
          "2014-04-30",
          "2014-01-31",
          "2013-10-31",
          "2013-07-31",
          "2013-04-30",
          "2013-01-31",
          "2012-10-31",
          "2012-07-31",
          "2012-04-30",
          "2012-01-31",
          "2011-10-31",
          "2011-07-31",
          "2011-04-30",
          "2011-01-31",
          "2010-10-31",
          "2010-07-31",
          "2010-04-30",
          "2010-01-31",
          "2009-10-31",
          "2009-07-31",
          "2009-04-30",
          "2009-01-31",
          "2008-10-31",
          "2008-07-31",
          "2008-04-30",
          "2008-01-31",
          "2007-10-31",
          "2007-07-31",
          "2007-04-30",
          "2007-01-31",
          "2006-10-31",
          "2006-07-31",
          "2006-04-30",
          "2006-01-31",
          "2005-10-31",
          "2005-07-31",
          "2005-04-30",
          "2005-01-31"
         ],
         "xaxis": "x",
         "y": [
          1021,
          2194,
          1439,
          1286,
          1548,
          3063,
          1935,
          1501,
          1786,
          2825,
          1989,
          1688,
          2046,
          2403,
          1959,
          1632,
          1972,
          3525,
          2016,
          1762,
          2061,
          3476,
          2092,
          1731,
          1996,
          3684,
          2107,
          1384,
          1865,
          3562,
          1773,
          1550,
          2002,
          3579,
          1947,
          1744,
          2281,
          3693,
          1899,
          1799,
          2083,
          3524,
          1835,
          1739,
          1981,
          3492,
          1696,
          1804,
          1814,
          2866,
          1611,
          1338,
          1279,
          2304,
          1012,
          963,
          1040,
          1667,
          534,
          416,
          475,
          709
         ],
         "yaxis": "y"
        }
       ],
       "layout": {
        "autosize": true,
        "legend": {
         "tracegroupgap": 0
        },
        "template": {
         "data": {
          "bar": [
           {
            "error_x": {
             "color": "#2a3f5f"
            },
            "error_y": {
             "color": "#2a3f5f"
            },
            "marker": {
             "line": {
              "color": "#E5ECF6",
              "width": 0.5
             },
             "pattern": {
              "fillmode": "overlay",
              "size": 10,
              "solidity": 0.2
             }
            },
            "type": "bar"
           }
          ],
          "barpolar": [
           {
            "marker": {
             "line": {
              "color": "#E5ECF6",
              "width": 0.5
             },
             "pattern": {
              "fillmode": "overlay",
              "size": 10,
              "solidity": 0.2
             }
            },
            "type": "barpolar"
           }
          ],
          "carpet": [
           {
            "aaxis": {
             "endlinecolor": "#2a3f5f",
             "gridcolor": "white",
             "linecolor": "white",
             "minorgridcolor": "white",
             "startlinecolor": "#2a3f5f"
            },
            "baxis": {
             "endlinecolor": "#2a3f5f",
             "gridcolor": "white",
             "linecolor": "white",
             "minorgridcolor": "white",
             "startlinecolor": "#2a3f5f"
            },
            "type": "carpet"
           }
          ],
          "choropleth": [
           {
            "colorbar": {
             "outlinewidth": 0,
             "ticks": ""
            },
            "type": "choropleth"
           }
          ],
          "contour": [
           {
            "colorbar": {
             "outlinewidth": 0,
             "ticks": ""
            },
            "colorscale": [
             [
              0,
              "#0d0887"
             ],
             [
              0.1111111111111111,
              "#46039f"
             ],
             [
              0.2222222222222222,
              "#7201a8"
             ],
             [
              0.3333333333333333,
              "#9c179e"
             ],
             [
              0.4444444444444444,
              "#bd3786"
             ],
             [
              0.5555555555555556,
              "#d8576b"
             ],
             [
              0.6666666666666666,
              "#ed7953"
             ],
             [
              0.7777777777777778,
              "#fb9f3a"
             ],
             [
              0.8888888888888888,
              "#fdca26"
             ],
             [
              1,
              "#f0f921"
             ]
            ],
            "type": "contour"
           }
          ],
          "contourcarpet": [
           {
            "colorbar": {
             "outlinewidth": 0,
             "ticks": ""
            },
            "type": "contourcarpet"
           }
          ],
          "heatmap": [
           {
            "colorbar": {
             "outlinewidth": 0,
             "ticks": ""
            },
            "colorscale": [
             [
              0,
              "#0d0887"
             ],
             [
              0.1111111111111111,
              "#46039f"
             ],
             [
              0.2222222222222222,
              "#7201a8"
             ],
             [
              0.3333333333333333,
              "#9c179e"
             ],
             [
              0.4444444444444444,
              "#bd3786"
             ],
             [
              0.5555555555555556,
              "#d8576b"
             ],
             [
              0.6666666666666666,
              "#ed7953"
             ],
             [
              0.7777777777777778,
              "#fb9f3a"
             ],
             [
              0.8888888888888888,
              "#fdca26"
             ],
             [
              1,
              "#f0f921"
             ]
            ],
            "type": "heatmap"
           }
          ],
          "heatmapgl": [
           {
            "colorbar": {
             "outlinewidth": 0,
             "ticks": ""
            },
            "colorscale": [
             [
              0,
              "#0d0887"
             ],
             [
              0.1111111111111111,
              "#46039f"
             ],
             [
              0.2222222222222222,
              "#7201a8"
             ],
             [
              0.3333333333333333,
              "#9c179e"
             ],
             [
              0.4444444444444444,
              "#bd3786"
             ],
             [
              0.5555555555555556,
              "#d8576b"
             ],
             [
              0.6666666666666666,
              "#ed7953"
             ],
             [
              0.7777777777777778,
              "#fb9f3a"
             ],
             [
              0.8888888888888888,
              "#fdca26"
             ],
             [
              1,
              "#f0f921"
             ]
            ],
            "type": "heatmapgl"
           }
          ],
          "histogram": [
           {
            "marker": {
             "pattern": {
              "fillmode": "overlay",
              "size": 10,
              "solidity": 0.2
             }
            },
            "type": "histogram"
           }
          ],
          "histogram2d": [
           {
            "colorbar": {
             "outlinewidth": 0,
             "ticks": ""
            },
            "colorscale": [
             [
              0,
              "#0d0887"
             ],
             [
              0.1111111111111111,
              "#46039f"
             ],
             [
              0.2222222222222222,
              "#7201a8"
             ],
             [
              0.3333333333333333,
              "#9c179e"
             ],
             [
              0.4444444444444444,
              "#bd3786"
             ],
             [
              0.5555555555555556,
              "#d8576b"
             ],
             [
              0.6666666666666666,
              "#ed7953"
             ],
             [
              0.7777777777777778,
              "#fb9f3a"
             ],
             [
              0.8888888888888888,
              "#fdca26"
             ],
             [
              1,
              "#f0f921"
             ]
            ],
            "type": "histogram2d"
           }
          ],
          "histogram2dcontour": [
           {
            "colorbar": {
             "outlinewidth": 0,
             "ticks": ""
            },
            "colorscale": [
             [
              0,
              "#0d0887"
             ],
             [
              0.1111111111111111,
              "#46039f"
             ],
             [
              0.2222222222222222,
              "#7201a8"
             ],
             [
              0.3333333333333333,
              "#9c179e"
             ],
             [
              0.4444444444444444,
              "#bd3786"
             ],
             [
              0.5555555555555556,
              "#d8576b"
             ],
             [
              0.6666666666666666,
              "#ed7953"
             ],
             [
              0.7777777777777778,
              "#fb9f3a"
             ],
             [
              0.8888888888888888,
              "#fdca26"
             ],
             [
              1,
              "#f0f921"
             ]
            ],
            "type": "histogram2dcontour"
           }
          ],
          "mesh3d": [
           {
            "colorbar": {
             "outlinewidth": 0,
             "ticks": ""
            },
            "type": "mesh3d"
           }
          ],
          "parcoords": [
           {
            "line": {
             "colorbar": {
              "outlinewidth": 0,
              "ticks": ""
             }
            },
            "type": "parcoords"
           }
          ],
          "pie": [
           {
            "automargin": true,
            "type": "pie"
           }
          ],
          "scatter": [
           {
            "fillpattern": {
             "fillmode": "overlay",
             "size": 10,
             "solidity": 0.2
            },
            "type": "scatter"
           }
          ],
          "scatter3d": [
           {
            "line": {
             "colorbar": {
              "outlinewidth": 0,
              "ticks": ""
             }
            },
            "marker": {
             "colorbar": {
              "outlinewidth": 0,
              "ticks": ""
             }
            },
            "type": "scatter3d"
           }
          ],
          "scattercarpet": [
           {
            "marker": {
             "colorbar": {
              "outlinewidth": 0,
              "ticks": ""
             }
            },
            "type": "scattercarpet"
           }
          ],
          "scattergeo": [
           {
            "marker": {
             "colorbar": {
              "outlinewidth": 0,
              "ticks": ""
             }
            },
            "type": "scattergeo"
           }
          ],
          "scattergl": [
           {
            "marker": {
             "colorbar": {
              "outlinewidth": 0,
              "ticks": ""
             }
            },
            "type": "scattergl"
           }
          ],
          "scattermapbox": [
           {
            "marker": {
             "colorbar": {
              "outlinewidth": 0,
              "ticks": ""
             }
            },
            "type": "scattermapbox"
           }
          ],
          "scatterpolar": [
           {
            "marker": {
             "colorbar": {
              "outlinewidth": 0,
              "ticks": ""
             }
            },
            "type": "scatterpolar"
           }
          ],
          "scatterpolargl": [
           {
            "marker": {
             "colorbar": {
              "outlinewidth": 0,
              "ticks": ""
             }
            },
            "type": "scatterpolargl"
           }
          ],
          "scatterternary": [
           {
            "marker": {
             "colorbar": {
              "outlinewidth": 0,
              "ticks": ""
             }
            },
            "type": "scatterternary"
           }
          ],
          "surface": [
           {
            "colorbar": {
             "outlinewidth": 0,
             "ticks": ""
            },
            "colorscale": [
             [
              0,
              "#0d0887"
             ],
             [
              0.1111111111111111,
              "#46039f"
             ],
             [
              0.2222222222222222,
              "#7201a8"
             ],
             [
              0.3333333333333333,
              "#9c179e"
             ],
             [
              0.4444444444444444,
              "#bd3786"
             ],
             [
              0.5555555555555556,
              "#d8576b"
             ],
             [
              0.6666666666666666,
              "#ed7953"
             ],
             [
              0.7777777777777778,
              "#fb9f3a"
             ],
             [
              0.8888888888888888,
              "#fdca26"
             ],
             [
              1,
              "#f0f921"
             ]
            ],
            "type": "surface"
           }
          ],
          "table": [
           {
            "cells": {
             "fill": {
              "color": "#EBF0F8"
             },
             "line": {
              "color": "white"
             }
            },
            "header": {
             "fill": {
              "color": "#C8D4E3"
             },
             "line": {
              "color": "white"
             }
            },
            "type": "table"
           }
          ]
         },
         "layout": {
          "annotationdefaults": {
           "arrowcolor": "#2a3f5f",
           "arrowhead": 0,
           "arrowwidth": 1
          },
          "autotypenumbers": "strict",
          "coloraxis": {
           "colorbar": {
            "outlinewidth": 0,
            "ticks": ""
           }
          },
          "colorscale": {
           "diverging": [
            [
             0,
             "#8e0152"
            ],
            [
             0.1,
             "#c51b7d"
            ],
            [
             0.2,
             "#de77ae"
            ],
            [
             0.3,
             "#f1b6da"
            ],
            [
             0.4,
             "#fde0ef"
            ],
            [
             0.5,
             "#f7f7f7"
            ],
            [
             0.6,
             "#e6f5d0"
            ],
            [
             0.7,
             "#b8e186"
            ],
            [
             0.8,
             "#7fbc41"
            ],
            [
             0.9,
             "#4d9221"
            ],
            [
             1,
             "#276419"
            ]
           ],
           "sequential": [
            [
             0,
             "#0d0887"
            ],
            [
             0.1111111111111111,
             "#46039f"
            ],
            [
             0.2222222222222222,
             "#7201a8"
            ],
            [
             0.3333333333333333,
             "#9c179e"
            ],
            [
             0.4444444444444444,
             "#bd3786"
            ],
            [
             0.5555555555555556,
             "#d8576b"
            ],
            [
             0.6666666666666666,
             "#ed7953"
            ],
            [
             0.7777777777777778,
             "#fb9f3a"
            ],
            [
             0.8888888888888888,
             "#fdca26"
            ],
            [
             1,
             "#f0f921"
            ]
           ],
           "sequentialminus": [
            [
             0,
             "#0d0887"
            ],
            [
             0.1111111111111111,
             "#46039f"
            ],
            [
             0.2222222222222222,
             "#7201a8"
            ],
            [
             0.3333333333333333,
             "#9c179e"
            ],
            [
             0.4444444444444444,
             "#bd3786"
            ],
            [
             0.5555555555555556,
             "#d8576b"
            ],
            [
             0.6666666666666666,
             "#ed7953"
            ],
            [
             0.7777777777777778,
             "#fb9f3a"
            ],
            [
             0.8888888888888888,
             "#fdca26"
            ],
            [
             1,
             "#f0f921"
            ]
           ]
          },
          "colorway": [
           "#636efa",
           "#EF553B",
           "#00cc96",
           "#ab63fa",
           "#FFA15A",
           "#19d3f3",
           "#FF6692",
           "#B6E880",
           "#FF97FF",
           "#FECB52"
          ],
          "font": {
           "color": "#2a3f5f"
          },
          "geo": {
           "bgcolor": "white",
           "lakecolor": "white",
           "landcolor": "#E5ECF6",
           "showlakes": true,
           "showland": true,
           "subunitcolor": "white"
          },
          "hoverlabel": {
           "align": "left"
          },
          "hovermode": "closest",
          "mapbox": {
           "style": "light"
          },
          "paper_bgcolor": "white",
          "plot_bgcolor": "#E5ECF6",
          "polar": {
           "angularaxis": {
            "gridcolor": "white",
            "linecolor": "white",
            "ticks": ""
           },
           "bgcolor": "#E5ECF6",
           "radialaxis": {
            "gridcolor": "white",
            "linecolor": "white",
            "ticks": ""
           }
          },
          "scene": {
           "xaxis": {
            "backgroundcolor": "#E5ECF6",
            "gridcolor": "white",
            "gridwidth": 2,
            "linecolor": "white",
            "showbackground": true,
            "ticks": "",
            "zerolinecolor": "white"
           },
           "yaxis": {
            "backgroundcolor": "#E5ECF6",
            "gridcolor": "white",
            "gridwidth": 2,
            "linecolor": "white",
            "showbackground": true,
            "ticks": "",
            "zerolinecolor": "white"
           },
           "zaxis": {
            "backgroundcolor": "#E5ECF6",
            "gridcolor": "white",
            "gridwidth": 2,
            "linecolor": "white",
            "showbackground": true,
            "ticks": "",
            "zerolinecolor": "white"
           }
          },
          "shapedefaults": {
           "line": {
            "color": "#2a3f5f"
           }
          },
          "ternary": {
           "aaxis": {
            "gridcolor": "white",
            "linecolor": "white",
            "ticks": ""
           },
           "baxis": {
            "gridcolor": "white",
            "linecolor": "white",
            "ticks": ""
           },
           "bgcolor": "#E5ECF6",
           "caxis": {
            "gridcolor": "white",
            "linecolor": "white",
            "ticks": ""
           }
          },
          "title": {
           "x": 0.05
          },
          "xaxis": {
           "automargin": true,
           "gridcolor": "white",
           "linecolor": "white",
           "ticks": "",
           "title": {
            "standoff": 15
           },
           "zerolinecolor": "white",
           "zerolinewidth": 2
          },
          "yaxis": {
           "automargin": true,
           "gridcolor": "white",
           "linecolor": "white",
           "ticks": "",
           "title": {
            "standoff": 15
           },
           "zerolinecolor": "white",
           "zerolinewidth": 2
          }
         }
        },
        "title": {
         "text": "GME Revenue data 2006- 2020"
        },
        "xaxis": {
         "anchor": "y",
         "autorange": true,
         "domain": [
          0,
          1
         ],
         "range": [
          "2004-02-26 08:43:38.1818",
          "2021-04-04 15:16:21.8182"
         ],
         "title": {
          "text": "Date"
         },
         "type": "date"
        },
        "yaxis": {
         "anchor": "x",
         "autorange": true,
         "domain": [
          0,
          1
         ],
         "range": [
          145.56796116504853,
          3963.4320388349515
         ],
         "title": {
          "text": "Revenue"
         },
         "type": "linear"
        }
       }
      },
      "image/png": "[encoded data removed]",
      "text/html": [
       "<div>                            <div id=\"a5af0c36-0306-420f-9aeb-de04fad731ec\" class=\"plotly-graph-div\" style=\"height:525px; width:100%;\"></div>            <script type=\"text/javascript\">                require([\"plotly\"], function(Plotly) {                    window.PLOTLYENV=window.PLOTLYENV || {};                                    if (document.getElementById(\"a5af0c36-0306-420f-9aeb-de04fad731ec\")) {                    Plotly.newPlot(                        \"a5af0c36-0306-420f-9aeb-de04fad731ec\",                        [{\"hovertemplate\":\"Date=%{x}\\u003cbr\\u003eRevenue=%{y}\\u003cextra\\u003e\\u003c\\u002fextra\\u003e\",\"legendgroup\":\"\",\"marker\":{\"color\":\"#636efa\",\"symbol\":\"circle\"},\"mode\":\"markers\",\"name\":\"\",\"orientation\":\"v\",\"showlegend\":false,\"x\":[\"2020-04-30\",\"2020-01-31\",\"2019-10-31\",\"2019-07-31\",\"2019-04-30\",\"2019-01-31\",\"2018-10-31\",\"2018-07-31\",\"2018-04-30\",\"2018-01-31\",\"2017-10-31\",\"2017-07-31\",\"2017-04-30\",\"2017-01-31\",\"2016-10-31\",\"2016-07-31\",\"2016-04-30\",\"2016-01-31\",\"2015-10-31\",\"2015-07-31\",\"2015-04-30\",\"2015-01-31\",\"2014-10-31\",\"2014-07-31\",\"2014-04-30\",\"2014-01-31\",\"2013-10-31\",\"2013-07-31\",\"2013-04-30\",\"2013-01-31\",\"2012-10-31\",\"2012-07-31\",\"2012-04-30\",\"2012-01-31\",\"2011-10-31\",\"2011-07-31\",\"2011-04-30\",\"2011-01-31\",\"2010-10-31\",\"2010-07-31\",\"2010-04-30\",\"2010-01-31\",\"2009-10-31\",\"2009-07-31\",\"2009-04-30\",\"2009-01-31\",\"2008-10-31\",\"2008-07-31\",\"2008-04-30\",\"2008-01-31\",\"2007-10-31\",\"2007-07-31\",\"2007-04-30\",\"2007-01-31\",\"2006-10-31\",\"2006-07-31\",\"2006-04-30\",\"2006-01-31\",\"2005-10-31\",\"2005-07-31\",\"2005-04-30\",\"2005-01-31\"],\"xaxis\":\"x\",\"y\":[1021,2194,1439,1286,1548,3063,1935,1501,1786,2825,1989,1688,2046,2403,1959,1632,1972,3525,2016,1762,2061,3476,2092,1731,1996,3684,2107,1384,1865,3562,1773,1550,2002,3579,1947,1744,2281,3693,1899,1799,2083,3524,1835,1739,1981,3492,1696,1804,1814,2866,1611,1338,1279,2304,1012,963,1040,1667,534,416,475,709],\"yaxis\":\"y\",\"type\":\"scatter\"}],                        {\"template\":{\"data\":{\"histogram2dcontour\":[{\"type\":\"histogram2dcontour\",\"colorbar\":{\"outlinewidth\":0,\"ticks\":\"\"},\"colorscale\":[[0.0,\"#0d0887\"],[0.1111111111111111,\"#46039f\"],[0.2222222222222222,\"#7201a8\"],[0.3333333333333333,\"#9c179e\"],[0.4444444444444444,\"#bd3786\"],[0.5555555555555556,\"#d8576b\"],[0.6666666666666666,\"#ed7953\"],[0.7777777777777778,\"#fb9f3a\"],[0.8888888888888888,\"#fdca26\"],[1.0,\"#f0f921\"]]}],\"choropleth\":[{\"type\":\"choropleth\",\"colorbar\":{\"outlinewidth\":0,\"ticks\":\"\"}}],\"histogram2d\":[{\"type\":\"histogram2d\",\"colorbar\":{\"outlinewidth\":0,\"ticks\":\"\"},\"colorscale\":[[0.0,\"#0d0887\"],[0.1111111111111111,\"#46039f\"],[0.2222222222222222,\"#7201a8\"],[0.3333333333333333,\"#9c179e\"],[0.4444444444444444,\"#bd3786\"],[0.5555555555555556,\"#d8576b\"],[0.6666666666666666,\"#ed7953\"],[0.7777777777777778,\"#fb9f3a\"],[0.8888888888888888,\"#fdca26\"],[1.0,\"#f0f921\"]]}],\"heatmap\":[{\"type\":\"heatmap\",\"colorbar\":{\"outlinewidth\":0,\"ticks\":\"\"},\"colorscale\":[[0.0,\"#0d0887\"],[0.1111111111111111,\"#46039f\"],[0.2222222222222222,\"#7201a8\"],[0.3333333333333333,\"#9c179e\"],[0.4444444444444444,\"#bd3786\"],[0.5555555555555556,\"#d8576b\"],[0.6666666666666666,\"#ed7953\"],[0.7777777777777778,\"#fb9f3a\"],[0.8888888888888888,\"#fdca26\"],[1.0,\"#f0f921\"]]}],\"heatmapgl\":[{\"type\":\"heatmapgl\",\"colorbar\":{\"outlinewidth\":0,\"ticks\":\"\"},\"colorscale\":[[0.0,\"#0d0887\"],[0.1111111111111111,\"#46039f\"],[0.2222222222222222,\"#7201a8\"],[0.3333333333333333,\"#9c179e\"],[0.4444444444444444,\"#bd3786\"],[0.5555555555555556,\"#d8576b\"],[0.6666666666666666,\"#ed7953\"],[0.7777777777777778,\"#fb9f3a\"],[0.8888888888888888,\"#fdca26\"],[1.0,\"#f0f921\"]]}],\"contourcarpet\":[{\"type\":\"contourcarpet\",\"colorbar\":{\"outlinewidth\":0,\"ticks\":\"\"}}],\"contour\":[{\"type\":\"contour\",\"colorbar\":{\"outlinewidth\":0,\"ticks\":\"\"},\"colorscale\":[[0.0,\"#0d0887\"],[0.1111111111111111,\"#46039f\"],[0.2222222222222222,\"#7201a8\"],[0.3333333333333333,\"#9c179e\"],[0.4444444444444444,\"#bd3786\"],[0.5555555555555556,\"#d8576b\"],[0.6666666666666666,\"#ed7953\"],[0.7777777777777778,\"#fb9f3a\"],[0.8888888888888888,\"#fdca26\"],[1.0,\"#f0f921\"]]}],\"surface\":[{\"type\":\"surface\",\"colorbar\":{\"outlinewidth\":0,\"ticks\":\"\"},\"colorscale\":[[0.0,\"#0d0887\"],[0.1111111111111111,\"#46039f\"],[0.2222222222222222,\"#7201a8\"],[0.3333333333333333,\"#9c179e\"],[0.4444444444444444,\"#bd3786\"],[0.5555555555555556,\"#d8576b\"],[0.6666666666666666,\"#ed7953\"],[0.7777777777777778,\"#fb9f3a\"],[0.8888888888888888,\"#fdca26\"],[1.0,\"#f0f921\"]]}],\"mesh3d\":[{\"type\":\"mesh3d\",\"colorbar\":{\"outlinewidth\":0,\"ticks\":\"\"}}],\"scatter\":[{\"fillpattern\":{\"fillmode\":\"overlay\",\"size\":10,\"solidity\":0.2},\"type\":\"scatter\"}],\"parcoords\":[{\"type\":\"parcoords\",\"line\":{\"colorbar\":{\"outlinewidth\":0,\"ticks\":\"\"}}}],\"scatterpolargl\":[{\"type\":\"scatterpolargl\",\"marker\":{\"colorbar\":{\"outlinewidth\":0,\"ticks\":\"\"}}}],\"bar\":[{\"error_x\":{\"color\":\"#2a3f5f\"},\"error_y\":{\"color\":\"#2a3f5f\"},\"marker\":{\"line\":{\"color\":\"#E5ECF6\",\"width\":0.5},\"pattern\":{\"fillmode\":\"overlay\",\"size\":10,\"solidity\":0.2}},\"type\":\"bar\"}],\"scattergeo\":[{\"type\":\"scattergeo\",\"marker\":{\"colorbar\":{\"outlinewidth\":0,\"ticks\":\"\"}}}],\"scatterpolar\":[{\"type\":\"scatterpolar\",\"marker\":{\"colorbar\":{\"outlinewidth\":0,\"ticks\":\"\"}}}],\"histogram\":[{\"marker\":{\"pattern\":{\"fillmode\":\"overlay\",\"size\":10,\"solidity\":0.2}},\"type\":\"histogram\"}],\"scattergl\":[{\"type\":\"scattergl\",\"marker\":{\"colorbar\":{\"outlinewidth\":0,\"ticks\":\"\"}}}],\"scatter3d\":[{\"type\":\"scatter3d\",\"line\":{\"colorbar\":{\"outlinewidth\":0,\"ticks\":\"\"}},\"marker\":{\"colorbar\":{\"outlinewidth\":0,\"ticks\":\"\"}}}],\"scattermapbox\":[{\"type\":\"scattermapbox\",\"marker\":{\"colorbar\":{\"outlinewidth\":0,\"ticks\":\"\"}}}],\"scatterternary\":[{\"type\":\"scatterternary\",\"marker\":{\"colorbar\":{\"outlinewidth\":0,\"ticks\":\"\"}}}],\"scattercarpet\":[{\"type\":\"scattercarpet\",\"marker\":{\"colorbar\":{\"outlinewidth\":0,\"ticks\":\"\"}}}],\"carpet\":[{\"aaxis\":{\"endlinecolor\":\"#2a3f5f\",\"gridcolor\":\"white\",\"linecolor\":\"white\",\"minorgridcolor\":\"white\",\"startlinecolor\":\"#2a3f5f\"},\"baxis\":{\"endlinecolor\":\"#2a3f5f\",\"gridcolor\":\"white\",\"linecolor\":\"white\",\"minorgridcolor\":\"white\",\"startlinecolor\":\"#2a3f5f\"},\"type\":\"carpet\"}],\"table\":[{\"cells\":{\"fill\":{\"color\":\"#EBF0F8\"},\"line\":{\"color\":\"white\"}},\"header\":{\"fill\":{\"color\":\"#C8D4E3\"},\"line\":{\"color\":\"white\"}},\"type\":\"table\"}],\"barpolar\":[{\"marker\":{\"line\":{\"color\":\"#E5ECF6\",\"width\":0.5},\"pattern\":{\"fillmode\":\"overlay\",\"size\":10,\"solidity\":0.2}},\"type\":\"barpolar\"}],\"pie\":[{\"automargin\":true,\"type\":\"pie\"}]},\"layout\":{\"autotypenumbers\":\"strict\",\"colorway\":[\"#636efa\",\"#EF553B\",\"#00cc96\",\"#ab63fa\",\"#FFA15A\",\"#19d3f3\",\"#FF6692\",\"#B6E880\",\"#FF97FF\",\"#FECB52\"],\"font\":{\"color\":\"#2a3f5f\"},\"hovermode\":\"closest\",\"hoverlabel\":{\"align\":\"left\"},\"paper_bgcolor\":\"white\",\"plot_bgcolor\":\"#E5ECF6\",\"polar\":{\"bgcolor\":\"#E5ECF6\",\"angularaxis\":{\"gridcolor\":\"white\",\"linecolor\":\"white\",\"ticks\":\"\"},\"radialaxis\":{\"gridcolor\":\"white\",\"linecolor\":\"white\",\"ticks\":\"\"}},\"ternary\":{\"bgcolor\":\"#E5ECF6\",\"aaxis\":{\"gridcolor\":\"white\",\"linecolor\":\"white\",\"ticks\":\"\"},\"baxis\":{\"gridcolor\":\"white\",\"linecolor\":\"white\",\"ticks\":\"\"},\"caxis\":{\"gridcolor\":\"white\",\"linecolor\":\"white\",\"ticks\":\"\"}},\"coloraxis\":{\"colorbar\":{\"outlinewidth\":0,\"ticks\":\"\"}},\"colorscale\":{\"sequential\":[[0.0,\"#0d0887\"],[0.1111111111111111,\"#46039f\"],[0.2222222222222222,\"#7201a8\"],[0.3333333333333333,\"#9c179e\"],[0.4444444444444444,\"#bd3786\"],[0.5555555555555556,\"#d8576b\"],[0.6666666666666666,\"#ed7953\"],[0.7777777777777778,\"#fb9f3a\"],[0.8888888888888888,\"#fdca26\"],[1.0,\"#f0f921\"]],\"sequentialminus\":[[0.0,\"#0d0887\"],[0.1111111111111111,\"#46039f\"],[0.2222222222222222,\"#7201a8\"],[0.3333333333333333,\"#9c179e\"],[0.4444444444444444,\"#bd3786\"],[0.5555555555555556,\"#d8576b\"],[0.6666666666666666,\"#ed7953\"],[0.7777777777777778,\"#fb9f3a\"],[0.8888888888888888,\"#fdca26\"],[1.0,\"#f0f921\"]],\"diverging\":[[0,\"#8e0152\"],[0.1,\"#c51b7d\"],[0.2,\"#de77ae\"],[0.3,\"#f1b6da\"],[0.4,\"#fde0ef\"],[0.5,\"#f7f7f7\"],[0.6,\"#e6f5d0\"],[0.7,\"#b8e186\"],[0.8,\"#7fbc41\"],[0.9,\"#4d9221\"],[1,\"#276419\"]]},\"xaxis\":{\"gridcolor\":\"white\",\"linecolor\":\"white\",\"ticks\":\"\",\"title\":{\"standoff\":15},\"zerolinecolor\":\"white\",\"automargin\":true,\"zerolinewidth\":2},\"yaxis\":{\"gridcolor\":\"white\",\"linecolor\":\"white\",\"ticks\":\"\",\"title\":{\"standoff\":15},\"zerolinecolor\":\"white\",\"automargin\":true,\"zerolinewidth\":2},\"scene\":{\"xaxis\":{\"backgroundcolor\":\"#E5ECF6\",\"gridcolor\":\"white\",\"linecolor\":\"white\",\"showbackground\":true,\"ticks\":\"\",\"zerolinecolor\":\"white\",\"gridwidth\":2},\"yaxis\":{\"backgroundcolor\":\"#E5ECF6\",\"gridcolor\":\"white\",\"linecolor\":\"white\",\"showbackground\":true,\"ticks\":\"\",\"zerolinecolor\":\"white\",\"gridwidth\":2},\"zaxis\":{\"backgroundcolor\":\"#E5ECF6\",\"gridcolor\":\"white\",\"linecolor\":\"white\",\"showbackground\":true,\"ticks\":\"\",\"zerolinecolor\":\"white\",\"gridwidth\":2}},\"shapedefaults\":{\"line\":{\"color\":\"#2a3f5f\"}},\"annotationdefaults\":{\"arrowcolor\":\"#2a3f5f\",\"arrowhead\":0,\"arrowwidth\":1},\"geo\":{\"bgcolor\":\"white\",\"landcolor\":\"#E5ECF6\",\"subunitcolor\":\"white\",\"showland\":true,\"showlakes\":true,\"lakecolor\":\"white\"},\"title\":{\"x\":0.05},\"mapbox\":{\"style\":\"light\"}}},\"xaxis\":{\"anchor\":\"y\",\"domain\":[0.0,1.0],\"title\":{\"text\":\"Date\"}},\"yaxis\":{\"anchor\":\"x\",\"domain\":[0.0,1.0],\"title\":{\"text\":\"Revenue\"}},\"legend\":{\"tracegroupgap\":0},\"title\":{\"text\":\"GME Revenue data 2006- 2020\"}},                        {\"responsive\": true}                    ).then(function(){\n",
       "                            \n",
       "var gd = document.getElementById('a5af0c36-0306-420f-9aeb-de04fad731ec');\n",
       "var x = new MutationObserver(function (mutations, observer) {{\n",
       "        var display = window.getComputedStyle(gd).display;\n",
       "        if (!display || display === 'none') {{\n",
       "            console.log([gd, 'removed!']);\n",
       "            Plotly.purge(gd);\n",
       "            observer.disconnect();\n",
       "        }}\n",
       "}});\n",
       "\n",
       "// Listen for the removal of the full notebook cells\n",
       "var notebookContainer = gd.closest('#notebook-container');\n",
       "if (notebookContainer) {{\n",
       "    x.observe(notebookContainer, {childList: true});\n",
       "}}\n",
       "\n",
       "// Listen for the clearing of the current output cell\n",
       "var outputEl = gd.closest('.output');\n",
       "if (outputEl) {{\n",
       "    x.observe(outputEl, {childList: true});\n",
       "}}\n",
       "\n",
       "                        })                };                });            </script>        </div>"
      ]
     },
     "metadata": {},
     "output_type": "display_data"
    }
   ],
   "source": [
    "import plotly.express as px\n",
    "px.scatter(gme_revenue, x = 'Date', y= 'Revenue',\n",
    "           title='GME Revenue data 2006- 2020',)"
   ]
  },
  {
   "cell_type": "markdown",
   "metadata": {},
   "source": [
    "<h2>About the Authors:</h2> \n",
    "\n",
    "<a href=\"https://www.linkedin.com/in/joseph-s-50398b136/\">Joseph Santarcangelo</a> has a PhD in Electrical Engineering, his research focused on using machine learning, signal processing, and computer vision to determine how videos impact human cognition. Joseph has been working for IBM since he completed his PhD.\n",
    "\n",
    "Azim Hirjani\n"
   ]
  },
  {
   "cell_type": "markdown",
   "metadata": {},
   "source": [
    "## Change Log\n",
    "\n",
    "| Date (YYYY-MM-DD) | Version | Changed By    | Change Description        |\n",
    "| ----------------- | ------- | ------------- | ------------------------- |\n",
    "| 2022-02-28        | 1.2     | Lakshmi Holla | Changed the URL of GameStop |\n",
    "| 2020-11-10        | 1.1     | Malika Singla | Deleted the Optional part |\n",
    "| 2020-08-27        | 1.0     | Malika Singla | Added lab to GitLab       |\n",
    "\n",
    "<hr>\n",
    "\n",
    "## <h3 align=\"center\"> © IBM Corporation 2020. All rights reserved. <h3/>\n",
    "\n",
    "<p>\n"
   ]
  }
 ],
 "metadata": {
  "kernelspec": {
   "display_name": "Python 3 (ipykernel)",
   "language": "python",
   "name": "python3"
  },
  "language_info": {
   "codemirror_mode": {
    "name": "ipython",
    "version": 3
   },
   "file_extension": ".py",
   "mimetype": "text/x-python",
   "name": "python",
   "nbconvert_exporter": "python",
   "pygments_lexer": "ipython3",
   "version": "3.11.9"
  },
  "prev_pub_hash": "2394e43de8043319cad418d17eee53a62befece05145764d1d80fe8937a818b2"
 },
 "nbformat": 4,
 "nbformat_minor": 4
}
